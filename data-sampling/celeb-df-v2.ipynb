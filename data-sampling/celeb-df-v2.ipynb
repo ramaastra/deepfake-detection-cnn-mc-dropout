{
 "cells": [
  {
   "cell_type": "markdown",
   "id": "6559823b",
   "metadata": {},
   "source": [
    "# Celeb-DF-v2 Dataset Sampling\n"
   ]
  },
  {
   "cell_type": "markdown",
   "id": "84053b7c",
   "metadata": {},
   "source": [
    "This notebook is used to sample the full [Celeb-DF-v2](https://github.com/yuezunli/celeb-deepfakeforensics) dataset for deepfake detection research purposes. 100 deepfakes are randomly sampled with its corresponding original videos, resulting in a total of 200 videos (100 videos for each label).\n"
   ]
  },
  {
   "cell_type": "code",
   "execution_count": 1,
   "id": "16c16338-b562-4438-8146-9552a421f19a",
   "metadata": {},
   "outputs": [],
   "source": [
    "import os\n",
    "import csv\n",
    "import random\n",
    "import shutil"
   ]
  },
  {
   "cell_type": "code",
   "execution_count": 12,
   "id": "eedac2f2",
   "metadata": {},
   "outputs": [],
   "source": [
    "DATASET_DIR = \"/mnt/e/datasets/Celeb-DF-v2\"\n",
    "CELEB_REAL_DIR = os.path.join(DATASET_DIR, \"Celeb-real\")\n",
    "CELEB_SYNTHESIS_DIR = os.path.join(DATASET_DIR, \"Celeb-synthesis\")\n",
    "\n",
    "SAMPLE_DIR = \"/mnt/e/samples/videos/Celeb-DF-v2\"\n",
    "SAMPLE_DEEPFAKE_DIR = os.path.join(SAMPLE_DIR, \"Deepfake\")\n",
    "SAMPLE_ORIGINAL_VID_DIR = os.path.join(SAMPLE_DIR, \"Original\")\n",
    "\n",
    "SAMPLE_SIZE = 100\n",
    "SAMPLE_LIST_PATH = \"celeb-df-v2-list.csv\""
   ]
  },
  {
   "cell_type": "markdown",
   "id": "521a4ffb",
   "metadata": {},
   "source": [
    "## Sample Real Videos\n",
    "\n",
    "Real videos are sampled based on deepfakes' original videos. The original video file for each deepfake are retrieved from the deepfake filename.\n"
   ]
  },
  {
   "cell_type": "markdown",
   "id": "2e5c841d",
   "metadata": {},
   "source": [
    "#### Extract Original Vids Filename for Each Deepfake\n"
   ]
  },
  {
   "cell_type": "code",
   "execution_count": 5,
   "id": "089fa15e",
   "metadata": {},
   "outputs": [],
   "source": [
    "def extract_original_deepfake_filename(deepfake_filename):\n",
    "    splitted = deepfake_filename.split(\"_\")\n",
    "    return f\"{splitted[0]}_{splitted[-1]}\""
   ]
  },
  {
   "cell_type": "code",
   "execution_count": 6,
   "id": "d8a2e037",
   "metadata": {},
   "outputs": [
    {
     "name": "stdout",
     "output_type": "stream",
     "text": [
      "Deepfake: id0_id16_0000.mp4 => Original: id0_0000.mp4\n",
      "Deepfake: id0_id16_0001.mp4 => Original: id0_0001.mp4\n",
      "Deepfake: id0_id16_0002.mp4 => Original: id0_0002.mp4\n",
      "Deepfake: id0_id16_0003.mp4 => Original: id0_0003.mp4\n",
      "Deepfake: id0_id16_0004.mp4 => Original: id0_0004.mp4\n",
      "...\n"
     ]
    }
   ],
   "source": [
    "deepfakes = os.listdir(CELEB_SYNTHESIS_DIR)\n",
    "deepfake_original_vids = list(map(extract_original_deepfake_filename, deepfakes))\n",
    "\n",
    "for i in range(0, 5):\n",
    "    print(f\"Deepfake: {deepfakes[i]} => Original: {deepfake_original_vids[i]}\")\n",
    "print(\"...\")"
   ]
  },
  {
   "cell_type": "markdown",
   "id": "479c497d",
   "metadata": {},
   "source": [
    "### Get Unique Deepfake Original Vids\n"
   ]
  },
  {
   "cell_type": "code",
   "execution_count": 7,
   "id": "b1a8687e",
   "metadata": {},
   "outputs": [
    {
     "name": "stdout",
     "output_type": "stream",
     "text": [
      "Found 542 unique original videos for each deepfakes\n"
     ]
    }
   ],
   "source": [
    "unique_deepfake_original_vids = list(set(deepfake_original_vids))\n",
    "print(\n",
    "    f\"Found {len(unique_deepfake_original_vids)} unique original videos for each deepfakes\"\n",
    ")"
   ]
  },
  {
   "cell_type": "markdown",
   "id": "16b4ddfe",
   "metadata": {},
   "source": [
    "### Sample Unique Deepfake Original Vids\n"
   ]
  },
  {
   "cell_type": "code",
   "execution_count": 8,
   "id": "9a95f960",
   "metadata": {},
   "outputs": [
    {
     "name": "stdout",
     "output_type": "stream",
     "text": [
      "Sampled 100 original video files\n"
     ]
    }
   ],
   "source": [
    "sample_original_vids = random.sample(unique_deepfake_original_vids, SAMPLE_SIZE)\n",
    "print(f\"Sampled {len(sample_original_vids)} original video files\")"
   ]
  },
  {
   "cell_type": "markdown",
   "id": "0967ba89",
   "metadata": {},
   "source": [
    "## Sample Deepfakes\n",
    "\n",
    "Each deepfake sample is chosen by a random choice of some deepfakes generated based on the original video samples.\n"
   ]
  },
  {
   "cell_type": "code",
   "execution_count": 9,
   "id": "95acfdb3",
   "metadata": {},
   "outputs": [],
   "source": [
    "def match_deepfake_original_vid_filename(deepfake_filename, original_vid_filename):\n",
    "    if extract_original_deepfake_filename(deepfake_filename) == original_vid_filename:\n",
    "        return deepfake_filename"
   ]
  },
  {
   "cell_type": "code",
   "execution_count": 10,
   "id": "058f0bc9",
   "metadata": {},
   "outputs": [
    {
     "name": "stdout",
     "output_type": "stream",
     "text": [
      "Sampled 100 deepfake files based on the sample original videos\n"
     ]
    }
   ],
   "source": [
    "sample_deepfakes = []\n",
    "for original_vid_filename in sample_original_vids:\n",
    "    original_vid_deepfakes = list(\n",
    "        filter(\n",
    "            lambda deepfake_filename: match_deepfake_original_vid_filename(\n",
    "                deepfake_filename, original_vid_filename\n",
    "            ),\n",
    "            deepfakes,\n",
    "        )\n",
    "    )\n",
    "    sample_deepfakes.append(random.choice(original_vid_deepfakes))\n",
    "\n",
    "print(\n",
    "    f\"Sampled {len(sample_deepfakes)} deepfake files based on the sample original videos\"\n",
    ")"
   ]
  },
  {
   "cell_type": "markdown",
   "id": "c5f32495",
   "metadata": {},
   "source": [
    "## Define Each Sample's File Path\n"
   ]
  },
  {
   "cell_type": "code",
   "execution_count": 13,
   "id": "38c5394d",
   "metadata": {},
   "outputs": [
    {
     "name": "stdout",
     "output_type": "stream",
     "text": [
      "Sample original video:\n",
      "/mnt/e/datasets/Celeb-DF-v2/Celeb-real/id23_0003.mp4\n",
      "\n",
      "Sample deepfake:\n",
      "/mnt/e/datasets/Celeb-DF-v2/Celeb-synthesis/id23_id3_0003.mp4\n"
     ]
    }
   ],
   "source": [
    "sample_original_vid_files = list(\n",
    "    map(lambda filename: os.path.join(CELEB_REAL_DIR, filename), sample_original_vids)\n",
    ")\n",
    "sample_deepfake_files = list(\n",
    "    map(lambda filename: os.path.join(CELEB_SYNTHESIS_DIR, filename), sample_deepfakes)\n",
    ")\n",
    "\n",
    "print(\"Sample original video:\")\n",
    "print(sample_original_vid_files[0])\n",
    "print(\"\\nSample deepfake:\")\n",
    "print(sample_deepfake_files[0])"
   ]
  },
  {
   "cell_type": "code",
   "execution_count": 15,
   "id": "5b7e0900",
   "metadata": {},
   "outputs": [],
   "source": [
    "sample_original_vid_files = list(\n",
    "    map(lambda filename: os.path.join(CELEB_REAL_DIR, filename), sample_original_vids)\n",
    ")\n",
    "sample_deepfake_files = list(\n",
    "    map(lambda filename: os.path.join(CELEB_SYNTHESIS_DIR, filename), sample_deepfakes)\n",
    ")"
   ]
  },
  {
   "cell_type": "markdown",
   "id": "3557da00",
   "metadata": {},
   "source": [
    "## Copy Sample to a Separate Directory\n"
   ]
  },
  {
   "cell_type": "code",
   "execution_count": 17,
   "id": "27e15843",
   "metadata": {},
   "outputs": [],
   "source": [
    "for file_path in sample_original_vid_files:\n",
    "    if os.path.isfile(file_path):\n",
    "        shutil.copy(file_path, SAMPLE_ORIGINAL_VID_DIR)"
   ]
  },
  {
   "cell_type": "code",
   "execution_count": 18,
   "id": "530f547f",
   "metadata": {},
   "outputs": [],
   "source": [
    "for file_path in sample_deepfake_files:\n",
    "    if os.path.isfile(file_path):\n",
    "        shutil.copy(file_path, SAMPLE_DEEPFAKE_DIR)"
   ]
  },
  {
   "cell_type": "markdown",
   "id": "60eaa89d",
   "metadata": {},
   "source": [
    "## Create CSV File to List Sample Video Files\n"
   ]
  },
  {
   "cell_type": "code",
   "execution_count": 19,
   "id": "ba3683c7",
   "metadata": {},
   "outputs": [
    {
     "name": "stdout",
     "output_type": "stream",
     "text": [
      "Sample videos filepath list generated in celeb-df-v2-list.csv\n"
     ]
    }
   ],
   "source": [
    "with open(SAMPLE_LIST_PATH, \"w\", newline=\"\") as sample_list_file:\n",
    "    header = [\"file\", \"label\"]\n",
    "    writer = csv.writer(sample_list_file)\n",
    "    writer.writerow(header)\n",
    "\n",
    "    for filename in sample_deepfake_files:\n",
    "        dataset_path = filename.split(\"/\")[-3:]\n",
    "        writer.writerow([\"/\".join(dataset_path), \"deepfake\"])\n",
    "\n",
    "    for filename in sample_original_vid_files:\n",
    "        dataset_path = filename.split(\"/\")[-3:]\n",
    "        writer.writerow([\"/\".join(dataset_path), \"real\"])\n",
    "\n",
    "    print(f\"Sample videos filepath list generated in {SAMPLE_LIST_PATH}\")"
   ]
  }
 ],
 "metadata": {
  "kernelspec": {
   "display_name": "mlops-tfx",
   "language": "python",
   "name": "python3"
  },
  "language_info": {
   "codemirror_mode": {
    "name": "ipython",
    "version": 3
   },
   "file_extension": ".py",
   "mimetype": "text/x-python",
   "name": "python",
   "nbconvert_exporter": "python",
   "pygments_lexer": "ipython3",
   "version": "3.10.14"
  }
 },
 "nbformat": 4,
 "nbformat_minor": 5
}
