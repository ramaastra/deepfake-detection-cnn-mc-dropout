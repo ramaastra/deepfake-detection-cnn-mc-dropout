{
 "cells": [
  {
   "cell_type": "markdown",
   "id": "6559823b",
   "metadata": {},
   "source": [
    "# Celeb-DF-v2 Dataset Sampling\n"
   ]
  },
  {
   "cell_type": "markdown",
   "id": "84053b7c",
   "metadata": {},
   "source": [
    "This notebook is used to sample the full [Celeb-DF-v2](https://github.com/yuezunli/celeb-deepfakeforensics) dataset for deepfake detection research purposes. Sample data of 100 deepfakes and 100 real videos are extracted to be 100 frames for each video, resulting in a total of 20,000 frames of image.\n"
   ]
  },
  {
   "cell_type": "code",
   "execution_count": 38,
   "id": "16c16338-b562-4438-8146-9552a421f19a",
   "metadata": {},
   "outputs": [],
   "source": [
    "import os\n",
    "import re\n",
    "import csv\n",
    "import random\n",
    "import shutil"
   ]
  },
  {
   "cell_type": "code",
   "execution_count": 57,
   "id": "acace2b4",
   "metadata": {},
   "outputs": [],
   "source": [
    "DATASET_DIR = \"/mnt/e/datasets/Celeb-DF-v2\"\n",
    "YOUTUBE_REAL_DIR = os.path.join(DATASET_DIR, \"YouTube-real\")\n",
    "CELEB_REAL_DIR = os.path.join(DATASET_DIR, \"Celeb-real\")\n",
    "CELEB_SYNTHESIS_DIR = os.path.join(DATASET_DIR, \"Celeb-synthesis\")\n",
    "\n",
    "SAMPLE_DIR = \"/mnt/e/samples/vids/Celeb-DF-v2\"\n",
    "SAMPLE_DEEPFAKE_DIR = os.path.join(SAMPLE_DIR, \"Deepfake\")\n",
    "SAMPLE_REAL_VID_DIR = os.path.join(SAMPLE_DIR, \"Real\")\n",
    "\n",
    "SAMPLE_LIST_PATH = \"celeb-df-v2-list.csv\"\n",
    "\n",
    "SAMPLE_SIZE = 100"
   ]
  },
  {
   "cell_type": "code",
   "execution_count": 24,
   "id": "8510d063",
   "metadata": {},
   "outputs": [],
   "source": [
    "sample_deepfake_files = []\n",
    "sample_real_vid_files = []"
   ]
  },
  {
   "cell_type": "markdown",
   "id": "50ec1988",
   "metadata": {},
   "source": [
    "## Sample Deepfakes Proportionally\n"
   ]
  },
  {
   "cell_type": "code",
   "execution_count": 25,
   "id": "37118126",
   "metadata": {},
   "outputs": [],
   "source": [
    "deepfake_files = os.listdir(CELEB_SYNTHESIS_DIR)\n",
    "sample_deepfake_files_gap = round(len(deepfake_files) / SAMPLE_SIZE)"
   ]
  },
  {
   "cell_type": "code",
   "execution_count": 26,
   "id": "69673393",
   "metadata": {},
   "outputs": [
    {
     "name": "stdout",
     "output_type": "stream",
     "text": [
      "Sampled 100 deepfakes\n"
     ]
    }
   ],
   "source": [
    "for i, filename in enumerate(deepfake_files):\n",
    "    if (i != 0) and (i % sample_deepfake_files_gap == 0):\n",
    "        sample_deepfake_files.append(f\"{CELEB_SYNTHESIS_DIR}/{filename}\")\n",
    "\n",
    "print(f\"Sampled {len(sample_deepfake_files)} deepfakes\")"
   ]
  },
  {
   "cell_type": "markdown",
   "id": "3f7b744d",
   "metadata": {},
   "source": [
    "## Sample Real Vids (Each for Celeb Id)\n"
   ]
  },
  {
   "cell_type": "code",
   "execution_count": 30,
   "id": "38535499",
   "metadata": {},
   "outputs": [],
   "source": [
    "celeb_real_vid_files = os.listdir(CELEB_REAL_DIR)\n",
    "celeb_ids = set([filename.split(\"_\")[0] for filename in celeb_real_vid_files])"
   ]
  },
  {
   "cell_type": "code",
   "execution_count": 31,
   "id": "2d259248",
   "metadata": {},
   "outputs": [
    {
     "name": "stdout",
     "output_type": "stream",
     "text": [
      "Sampled 59 real vids\n"
     ]
    }
   ],
   "source": [
    "for celeb_id in celeb_ids:\n",
    "    regex_pattern = f\"{celeb_id}_\"\n",
    "    celeb_id_real_vid_files = [\n",
    "        filename\n",
    "        for filename in celeb_real_vid_files\n",
    "        if re.match(regex_pattern, filename)\n",
    "    ]\n",
    "    random_vid_index = random.randint(0, len(celeb_id_real_vid_files) - 1)\n",
    "    sample_real_vid_files.append(\n",
    "        f\"{CELEB_REAL_DIR}/{celeb_id_real_vid_files[random_vid_index]}\"\n",
    "    )\n",
    "\n",
    "print(f\"Sampled {len(sample_real_vid_files)} real vids\")"
   ]
  },
  {
   "cell_type": "markdown",
   "id": "31f9b4f9",
   "metadata": {},
   "source": [
    "## Add Additional YouTube Real Vids\n"
   ]
  },
  {
   "cell_type": "code",
   "execution_count": 32,
   "id": "c7863536",
   "metadata": {},
   "outputs": [],
   "source": [
    "youtube_real_vid_files = os.listdir(YOUTUBE_REAL_DIR)\n",
    "num_additional_real_vids = SAMPLE_SIZE - len(sample_real_vid_files)"
   ]
  },
  {
   "cell_type": "code",
   "execution_count": 33,
   "id": "6c429d3b",
   "metadata": {},
   "outputs": [
    {
     "name": "stdout",
     "output_type": "stream",
     "text": [
      "Added 41 additional real vids to sample\n",
      "Sampled 100 real vids in total\n"
     ]
    }
   ],
   "source": [
    "additional_real_vids = random.sample(youtube_real_vid_files, num_additional_real_vids)\n",
    "sample_real_vid_files.extend(\n",
    "    [f\"{YOUTUBE_REAL_DIR}/{filename}\" for filename in additional_real_vids]\n",
    ")\n",
    "\n",
    "print(f\"Added {num_additional_real_vids} additional real vids to sample\")\n",
    "print(f\"Sampled {len(sample_real_vid_files)} real vids in total\")"
   ]
  },
  {
   "cell_type": "markdown",
   "id": "3557da00",
   "metadata": {},
   "source": [
    "## Copy Sample to a Separate Directory\n"
   ]
  },
  {
   "cell_type": "code",
   "execution_count": 34,
   "id": "530f547f",
   "metadata": {},
   "outputs": [],
   "source": [
    "for file_path in sample_deepfake_files:\n",
    "    if os.path.isfile(file_path):\n",
    "        shutil.copy(file_path, SAMPLE_DEEPFAKE_DIR)"
   ]
  },
  {
   "cell_type": "code",
   "execution_count": 35,
   "id": "27e15843",
   "metadata": {},
   "outputs": [],
   "source": [
    "for file_path in sample_real_vid_files:\n",
    "    if os.path.isfile(file_path):\n",
    "        shutil.copy(file_path, SAMPLE_REAL_VID_DIR)"
   ]
  },
  {
   "cell_type": "markdown",
   "id": "60eaa89d",
   "metadata": {},
   "source": [
    "## Create CSV File to List Sample Files\n"
   ]
  },
  {
   "cell_type": "code",
   "execution_count": 55,
   "id": "ba3683c7",
   "metadata": {},
   "outputs": [],
   "source": [
    "with open(SAMPLE_LIST_PATH, \"w\", newline=\"\") as sample_list_file:\n",
    "    header = [\"file\", \"label\"]\n",
    "    writer = csv.writer(sample_list_file)\n",
    "    writer.writerow(header)\n",
    "\n",
    "    for filename in sample_deepfake_files:\n",
    "        dataset_path = filename.split(\"/\")[-3:]\n",
    "        writer.writerow([\"/\".join(dataset_path), \"deepfake\"])\n",
    "\n",
    "    for filename in sample_real_vid_files:\n",
    "        dataset_path = filename.split(\"/\")[-3:]\n",
    "        writer.writerow([\"/\".join(dataset_path), \"real\"])"
   ]
  }
 ],
 "metadata": {
  "kernelspec": {
   "display_name": "Python 3 (ipykernel)",
   "language": "python",
   "name": "python3"
  },
  "language_info": {
   "codemirror_mode": {
    "name": "ipython",
    "version": 3
   },
   "file_extension": ".py",
   "mimetype": "text/x-python",
   "name": "python",
   "nbconvert_exporter": "python",
   "pygments_lexer": "ipython3",
   "version": "3.10.14"
  }
 },
 "nbformat": 4,
 "nbformat_minor": 5
}
