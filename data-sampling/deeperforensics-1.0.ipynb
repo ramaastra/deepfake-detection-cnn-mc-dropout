{
 "cells": [
  {
   "cell_type": "markdown",
   "id": "6559823b",
   "metadata": {},
   "source": [
    "# DeeperForensics-1.0 Dataset Sampling\n"
   ]
  },
  {
   "cell_type": "markdown",
   "id": "84053b7c",
   "metadata": {},
   "source": [
    "This notebook is used to sample the full [DeeperForensics-1.0](https://github.com/EndlessSora/DeeperForensics-1.0) dataset for deepfake detection research purposes. 100 deepfakes are randomly sampled with its corresponding original videos, resulting in a total of 200 videos (100 videos for each label).\n",
    "\n",
    "The real videos are retrieved from [FaceForensics++](https://github.com/ondyari/FaceForensics) dataset since DeeperForensics use the refined YouTube videos collected by [FaceForensics++](https://github.com/ondyari/FaceForensics) as mentioned in their [GitHub document page](https://github.com/EndlessSora/DeeperForensics-1.0/tree/master/dataset#target-videos).\n"
   ]
  },
  {
   "cell_type": "code",
   "execution_count": 1,
   "id": "16c16338-b562-4438-8146-9552a421f19a",
   "metadata": {},
   "outputs": [],
   "source": [
    "import os\n",
    "import csv\n",
    "import random\n",
    "import shutil"
   ]
  },
  {
   "cell_type": "code",
   "execution_count": 3,
   "id": "eedac2f2",
   "metadata": {},
   "outputs": [],
   "source": [
    "DEEPFAKE_DIR = (\n",
    "    \"/mnt/e/datasets/DeeperForensics-1.0/manipulated_videos/reenact_postprocess\"\n",
    ")\n",
    "ORIGINAL_VID_DIR = (\n",
    "    \"/mnt/e/datasets/FaceForensics++/original_sequences/youtube/c23/videos\"\n",
    ")\n",
    "\n",
    "SAMPLE_DIR = \"/mnt/e/samples/videos/DeeperForensics-1.0\"\n",
    "SAMPLE_DEEPFAKE_DIR = os.path.join(SAMPLE_DIR, \"Deepfake\")\n",
    "SAMPLE_ORIGINAL_VID_DIR = os.path.join(SAMPLE_DIR, \"Original\")\n",
    "\n",
    "SAMPLE_SIZE = 100\n",
    "SAMPLE_LIST_PATH = \"deeperforensics-1.0-list.csv\""
   ]
  },
  {
   "cell_type": "markdown",
   "id": "521a4ffb",
   "metadata": {},
   "source": [
    "## Sample Real Videos\n"
   ]
  },
  {
   "cell_type": "code",
   "execution_count": 19,
   "id": "9a95f960",
   "metadata": {},
   "outputs": [
    {
     "name": "stdout",
     "output_type": "stream",
     "text": [
      "Sampled 100 original video files\n"
     ]
    }
   ],
   "source": [
    "sample_original_vids = random.sample(os.listdir(ORIGINAL_VID_DIR), SAMPLE_SIZE)\n",
    "print(f\"Sampled {len(sample_original_vids)} original video files\")"
   ]
  },
  {
   "cell_type": "markdown",
   "id": "0967ba89",
   "metadata": {},
   "source": [
    "## Sample Deepfakes\n",
    "\n",
    "Each deepfake sample is chosen by taking manipulated videos based on the original video samples.\n"
   ]
  },
  {
   "cell_type": "code",
   "execution_count": 27,
   "id": "2cc437ff",
   "metadata": {},
   "outputs": [],
   "source": [
    "def extract_original_deepfake_filename(deepfake_filename):\n",
    "    splitted = deepfake_filename.split(\"_\")\n",
    "    file_extension = os.path.splitext(deepfake_filename)[-1]\n",
    "    return splitted[0] + file_extension"
   ]
  },
  {
   "cell_type": "code",
   "execution_count": 36,
   "id": "058f0bc9",
   "metadata": {},
   "outputs": [
    {
     "name": "stdout",
     "output_type": "stream",
     "text": [
      "Sampled 100 deepfake files based on the sample original videos\n"
     ]
    }
   ],
   "source": [
    "deepfakes = os.listdir(DEEPFAKE_DIR)\n",
    "sample_deepfakes = []\n",
    "\n",
    "for original_filename in sample_original_vids:\n",
    "    for deepfake_filename in deepfakes:\n",
    "        extracted_original_filename = extract_original_deepfake_filename(\n",
    "            deepfake_filename\n",
    "        )\n",
    "        if extracted_original_filename == original_filename:\n",
    "            sample_deepfakes.append(deepfake_filename)\n",
    "            break\n",
    "\n",
    "print(\n",
    "    f\"Sampled {len(sample_deepfakes)} deepfake files based on the sample original videos\"\n",
    ")"
   ]
  },
  {
   "cell_type": "markdown",
   "id": "c5f32495",
   "metadata": {},
   "source": [
    "## Define Each Sample's File Path\n"
   ]
  },
  {
   "cell_type": "code",
   "execution_count": 47,
   "id": "38c5394d",
   "metadata": {},
   "outputs": [
    {
     "name": "stdout",
     "output_type": "stream",
     "text": [
      "Sample original video:\n",
      "/mnt/e/datasets/FaceForensics++/original_sequences/youtube/c23/videos/651.mp4\n",
      "\n",
      "Sample deepfake:\n",
      "/mnt/e/datasets/DeeperForensics-1.0/manipulated_videos/reenact_postprocess/651_W010.mp4\n"
     ]
    }
   ],
   "source": [
    "sample_original_vid_files = list(\n",
    "    map(lambda filename: os.path.join(ORIGINAL_VID_DIR, filename), sample_original_vids)\n",
    ")\n",
    "sample_deepfake_files = list(\n",
    "    map(lambda filename: os.path.join(DEEPFAKE_DIR, filename), sample_deepfakes)\n",
    ")\n",
    "\n",
    "print(\"Sample original video:\")\n",
    "print(sample_original_vid_files[0])\n",
    "print(\"\\nSample deepfake:\")\n",
    "print(sample_deepfake_files[0])"
   ]
  },
  {
   "cell_type": "markdown",
   "id": "3557da00",
   "metadata": {},
   "source": [
    "## Copy Sample to a Separate Directory\n"
   ]
  },
  {
   "cell_type": "code",
   "execution_count": 45,
   "id": "27e15843",
   "metadata": {},
   "outputs": [],
   "source": [
    "for file_path in sample_original_vid_files:\n",
    "    if os.path.isfile(file_path):\n",
    "        shutil.copy(file_path, SAMPLE_ORIGINAL_VID_DIR)"
   ]
  },
  {
   "cell_type": "code",
   "execution_count": 46,
   "id": "530f547f",
   "metadata": {},
   "outputs": [],
   "source": [
    "for file_path in sample_deepfake_files:\n",
    "    if os.path.isfile(file_path):\n",
    "        shutil.copy(file_path, SAMPLE_DEEPFAKE_DIR)"
   ]
  },
  {
   "cell_type": "markdown",
   "id": "60eaa89d",
   "metadata": {},
   "source": [
    "## Create CSV File to List Sample Video Files\n"
   ]
  },
  {
   "cell_type": "code",
   "execution_count": 55,
   "id": "ba3683c7",
   "metadata": {},
   "outputs": [
    {
     "name": "stdout",
     "output_type": "stream",
     "text": [
      "Sample videos filepath list generated in deeperforensics-1.0-list.csv\n"
     ]
    }
   ],
   "source": [
    "with open(SAMPLE_LIST_PATH, \"w\", newline=\"\") as sample_list_file:\n",
    "    header = [\"file\", \"label\"]\n",
    "    writer = csv.writer(sample_list_file)\n",
    "    writer.writerow(header)\n",
    "\n",
    "    for filename in sample_deepfake_files:\n",
    "        dataset_path = filename.split(\"/\")[-4:]\n",
    "        writer.writerow([\"/\".join(dataset_path), \"deepfake\"])\n",
    "\n",
    "    for filename in sample_original_vid_files:\n",
    "        dataset_path = filename.split(\"/\")[-6:]\n",
    "        writer.writerow([\"/\".join(dataset_path), \"real\"])\n",
    "\n",
    "    print(f\"Sample videos filepath list generated in {SAMPLE_LIST_PATH}\")"
   ]
  }
 ],
 "metadata": {
  "kernelspec": {
   "display_name": "mlops-tfx",
   "language": "python",
   "name": "python3"
  },
  "language_info": {
   "codemirror_mode": {
    "name": "ipython",
    "version": 3
   },
   "file_extension": ".py",
   "mimetype": "text/x-python",
   "name": "python",
   "nbconvert_exporter": "python",
   "pygments_lexer": "ipython3",
   "version": "3.10.14"
  }
 },
 "nbformat": 4,
 "nbformat_minor": 5
}
