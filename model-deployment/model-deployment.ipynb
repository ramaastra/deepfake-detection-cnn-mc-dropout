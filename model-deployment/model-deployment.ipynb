{
 "cells": [
  {
   "cell_type": "markdown",
   "id": "250fa047",
   "metadata": {},
   "source": [
    "## Model Deployment\n"
   ]
  },
  {
   "cell_type": "markdown",
   "id": "acea05db",
   "metadata": {},
   "source": [
    "In this experiment, deployment is a phase to simulate the model application in the real case. This notebook contains processes to get an output label of a raw video, whether it is predicted as a deepfake or not. The process in this notebook describes how the model could be applied in the real deployed environment as a deepfake detection system.\n"
   ]
  },
  {
   "cell_type": "code",
   "execution_count": 1,
   "id": "b6748682",
   "metadata": {
    "execution": {
     "iopub.execute_input": "2024-11-19T20:24:22.892095Z",
     "iopub.status.busy": "2024-11-19T20:24:22.891758Z",
     "iopub.status.idle": "2024-11-19T20:24:33.979632Z",
     "shell.execute_reply": "2024-11-19T20:24:33.978901Z"
    },
    "papermill": {
     "duration": 11.094926,
     "end_time": "2024-11-19T20:24:33.981503",
     "exception": false,
     "start_time": "2024-11-19T20:24:22.886577",
     "status": "completed"
    },
    "tags": []
   },
   "outputs": [],
   "source": [
    "import tensorflow as tf\n",
    "import numpy as np\n",
    "import cv2\n",
    "import os"
   ]
  },
  {
   "cell_type": "code",
   "execution_count": 2,
   "id": "ba9ae674",
   "metadata": {
    "execution": {
     "iopub.execute_input": "2024-11-19T20:24:33.987121Z",
     "iopub.status.busy": "2024-11-19T20:24:33.986657Z",
     "iopub.status.idle": "2024-11-19T20:24:33.990818Z",
     "shell.execute_reply": "2024-11-19T20:24:33.990172Z"
    },
    "papermill": {
     "duration": 0.008436,
     "end_time": "2024-11-19T20:24:33.992362",
     "exception": false,
     "start_time": "2024-11-19T20:24:33.983926",
     "status": "completed"
    },
    "tags": []
   },
   "outputs": [],
   "source": [
    "def preprocess_image(image):\n",
    "    preprocessed_image = image = tf.image.resize(image, size=[128, 128])\n",
    "    preprocessed_image /= 255\n",
    "    return preprocessed_image"
   ]
  },
  {
   "cell_type": "code",
   "execution_count": 3,
   "id": "cc8200b5",
   "metadata": {
    "execution": {
     "iopub.execute_input": "2024-11-19T20:24:33.997390Z",
     "iopub.status.busy": "2024-11-19T20:24:33.996919Z",
     "iopub.status.idle": "2024-11-19T20:24:34.001914Z",
     "shell.execute_reply": "2024-11-19T20:24:34.001065Z"
    },
    "papermill": {
     "duration": 0.009217,
     "end_time": "2024-11-19T20:24:34.003530",
     "exception": false,
     "start_time": "2024-11-19T20:24:33.994313",
     "status": "completed"
    },
    "tags": []
   },
   "outputs": [],
   "source": [
    "def crop_face(frame):\n",
    "    face_cascade = cv2.CascadeClassifier(\n",
    "        cv2.data.haarcascades + \"haarcascade_frontalface_alt2.xml\"\n",
    "    )\n",
    "\n",
    "    grayscale_frame = cv2.cvtColor(frame, cv2.COLOR_BGR2GRAY)\n",
    "    detected_faces = face_cascade.detectMultiScale(\n",
    "        grayscale_frame, scaleFactor=1.1, minNeighbors=6\n",
    "    )\n",
    "\n",
    "    for x, y, w, h in detected_faces:\n",
    "        cropped_face = frame[y : y + h, x : x + w]\n",
    "        return cropped_face"
   ]
  },
  {
   "cell_type": "code",
   "execution_count": 4,
   "id": "361a29b9",
   "metadata": {
    "execution": {
     "iopub.execute_input": "2024-11-19T20:24:34.008627Z",
     "iopub.status.busy": "2024-11-19T20:24:34.008033Z",
     "iopub.status.idle": "2024-11-19T20:24:34.014313Z",
     "shell.execute_reply": "2024-11-19T20:24:34.013493Z"
    },
    "papermill": {
     "duration": 0.010499,
     "end_time": "2024-11-19T20:24:34.015961",
     "exception": false,
     "start_time": "2024-11-19T20:24:34.005462",
     "status": "completed"
    },
    "tags": []
   },
   "outputs": [],
   "source": [
    "def extract_and_preprocess_frames(video_path, num_output_frames=None):\n",
    "    extracted_frames = []\n",
    "\n",
    "    # Extract face frames from the video file\n",
    "    cap = cv2.VideoCapture(video_path)\n",
    "    while cap.isOpened():\n",
    "        ret, frame = cap.read()\n",
    "\n",
    "        if not ret:\n",
    "            break\n",
    "\n",
    "        cropped_face = crop_face(frame)\n",
    "        if cropped_face is None:\n",
    "            continue\n",
    "\n",
    "        extracted_frames.append(cropped_face)\n",
    "\n",
    "    cap.release()\n",
    "\n",
    "    if len(extracted_frames) < 1:\n",
    "        return []\n",
    "\n",
    "    # Write num_output_frames extracted frames to output_dir\n",
    "    saved_frames_count = 0\n",
    "    if num_output_frames:\n",
    "        frame_interval = (\n",
    "            len(extracted_frames) // num_output_frames\n",
    "            if len(extracted_frames) > num_output_frames\n",
    "            else 1\n",
    "        )\n",
    "    else:\n",
    "        frame_interval = 1\n",
    "\n",
    "    preprocessed_data = []\n",
    "    for i in range(0, len(extracted_frames), frame_interval):\n",
    "        preprocessed_image = preprocess_image(extracted_frames[i])\n",
    "        preprocessed_data.append(preprocessed_image)\n",
    "\n",
    "        if num_output_frames and len(preprocessed_data) >= num_output_frames:\n",
    "            break\n",
    "\n",
    "    return np.array(preprocessed_data), len(extracted_frames)"
   ]
  },
  {
   "cell_type": "code",
   "execution_count": 5,
   "id": "93848fa0",
   "metadata": {
    "execution": {
     "iopub.execute_input": "2024-11-19T20:24:34.020740Z",
     "iopub.status.busy": "2024-11-19T20:24:34.020492Z",
     "iopub.status.idle": "2024-11-19T20:24:34.027463Z",
     "shell.execute_reply": "2024-11-19T20:24:34.026643Z"
    },
    "papermill": {
     "duration": 0.010982,
     "end_time": "2024-11-19T20:24:34.028912",
     "exception": false,
     "start_time": "2024-11-19T20:24:34.017930",
     "status": "completed"
    },
    "tags": []
   },
   "outputs": [],
   "source": [
    "def predict(model, filepath, num_frames=None, mc_dropout=False, mc_sample_size=50):\n",
    "    filename = os.path.basename(filepath)\n",
    "    print(f\"\\nProcessing {filename}...\")\n",
    "\n",
    "    if not os.path.isfile(filepath):\n",
    "        print(f'Error predicting file. \"{filepath}\" is not a valid file.')\n",
    "        return\n",
    "\n",
    "    frame_data, total_cropped_face = extract_and_preprocess_frames(filepath, num_frames)\n",
    "    if len(frame_data) < 1:\n",
    "        print(\"Error predicting file. No faces detected.\")\n",
    "        return\n",
    "\n",
    "    if mc_dropout:\n",
    "        frame_mc_prediction_score = np.stack(\n",
    "            [model(frame_data, training=True) for _ in range(mc_sample_size)]\n",
    "        )\n",
    "        frame_prediction_scores = np.mean(frame_mc_prediction_score, axis=0)\n",
    "    else:\n",
    "        frame_prediction_scores = model(frame_data)\n",
    "\n",
    "    THRESHOLD = 0.5\n",
    "    video_prediction_score = np.mean(frame_prediction_scores)\n",
    "    video_prediction_label = (\n",
    "        \"Deepfake\" if video_prediction_score < THRESHOLD else \"Real\"\n",
    "    )\n",
    "    video_prediction_probability = (\n",
    "        1 - video_prediction_score\n",
    "        if video_prediction_score < THRESHOLD\n",
    "        else video_prediction_score\n",
    "    )\n",
    "\n",
    "    print(\"\\nPrediction Result\")\n",
    "    print(f\"Filename         : {filename}\")\n",
    "    print(f\"Face Frames      : {total_cropped_face}\")\n",
    "    print(f\"Evaluated Frames : {num_frames or total_cropped_face}\")\n",
    "    print(f\"Prediction       : {video_prediction_label}\")\n",
    "    print(f\"Probability      : {round(video_prediction_probability * 100, 3)}%\")\n",
    "    if mc_dropout:\n",
    "        print(f\"Technique        : MC Dropout Forward Pass\")\n",
    "        print(f\"MC Sample Size   : {mc_sample_size}\")\n",
    "    else:\n",
    "        print(f\"Technique        : Regular Forward Pass\")"
   ]
  },
  {
   "cell_type": "code",
   "execution_count": 6,
   "id": "07da28aa",
   "metadata": {
    "execution": {
     "iopub.execute_input": "2024-11-19T20:24:34.033646Z",
     "iopub.status.busy": "2024-11-19T20:24:34.033403Z",
     "iopub.status.idle": "2024-11-19T20:24:35.895490Z",
     "shell.execute_reply": "2024-11-19T20:24:35.894722Z"
    },
    "papermill": {
     "duration": 1.866188,
     "end_time": "2024-11-19T20:24:35.897043",
     "exception": false,
     "start_time": "2024-11-19T20:24:34.030855",
     "status": "completed"
    },
    "tags": []
   },
   "outputs": [
    {
     "data": {
      "text/html": [
       "<pre style=\"white-space:pre;overflow-x:auto;line-height:normal;font-family:Menlo,'DejaVu Sans Mono',consolas,'Courier New',monospace\"><span style=\"font-weight: bold\">Model: \"dropout_cnn_cdf\"</span>\n",
       "</pre>\n"
      ],
      "text/plain": [
       "\u001b[1mModel: \"dropout_cnn_cdf\"\u001b[0m\n"
      ]
     },
     "metadata": {},
     "output_type": "display_data"
    },
    {
     "data": {
      "text/html": [
       "<pre style=\"white-space:pre;overflow-x:auto;line-height:normal;font-family:Menlo,'DejaVu Sans Mono',consolas,'Courier New',monospace\">┏━━━━━━━━━━━━━━━━━━━━━━━━━━━━━━━━━┳━━━━━━━━━━━━━━━━━━━━━━━━┳━━━━━━━━━━━━━━━┓\n",
       "┃<span style=\"font-weight: bold\"> Layer (type)                    </span>┃<span style=\"font-weight: bold\"> Output Shape           </span>┃<span style=\"font-weight: bold\">       Param # </span>┃\n",
       "┡━━━━━━━━━━━━━━━━━━━━━━━━━━━━━━━━━╇━━━━━━━━━━━━━━━━━━━━━━━━╇━━━━━━━━━━━━━━━┩\n",
       "│ conv_1 (<span style=\"color: #0087ff; text-decoration-color: #0087ff\">Conv2D</span>)                 │ (<span style=\"color: #00d7ff; text-decoration-color: #00d7ff\">None</span>, <span style=\"color: #00af00; text-decoration-color: #00af00\">128</span>, <span style=\"color: #00af00; text-decoration-color: #00af00\">128</span>, <span style=\"color: #00af00; text-decoration-color: #00af00\">256</span>)  │         <span style=\"color: #00af00; text-decoration-color: #00af00\">7,168</span> │\n",
       "├─────────────────────────────────┼────────────────────────┼───────────────┤\n",
       "│ max_pooling_1 (<span style=\"color: #0087ff; text-decoration-color: #0087ff\">MaxPooling2D</span>)    │ (<span style=\"color: #00d7ff; text-decoration-color: #00d7ff\">None</span>, <span style=\"color: #00af00; text-decoration-color: #00af00\">64</span>, <span style=\"color: #00af00; text-decoration-color: #00af00\">64</span>, <span style=\"color: #00af00; text-decoration-color: #00af00\">256</span>)    │             <span style=\"color: #00af00; text-decoration-color: #00af00\">0</span> │\n",
       "├─────────────────────────────────┼────────────────────────┼───────────────┤\n",
       "│ conv_2 (<span style=\"color: #0087ff; text-decoration-color: #0087ff\">Conv2D</span>)                 │ (<span style=\"color: #00d7ff; text-decoration-color: #00d7ff\">None</span>, <span style=\"color: #00af00; text-decoration-color: #00af00\">64</span>, <span style=\"color: #00af00; text-decoration-color: #00af00\">64</span>, <span style=\"color: #00af00; text-decoration-color: #00af00\">32</span>)     │       <span style=\"color: #00af00; text-decoration-color: #00af00\">204,832</span> │\n",
       "├─────────────────────────────────┼────────────────────────┼───────────────┤\n",
       "│ max_pooling_2 (<span style=\"color: #0087ff; text-decoration-color: #0087ff\">MaxPooling2D</span>)    │ (<span style=\"color: #00d7ff; text-decoration-color: #00d7ff\">None</span>, <span style=\"color: #00af00; text-decoration-color: #00af00\">32</span>, <span style=\"color: #00af00; text-decoration-color: #00af00\">32</span>, <span style=\"color: #00af00; text-decoration-color: #00af00\">32</span>)     │             <span style=\"color: #00af00; text-decoration-color: #00af00\">0</span> │\n",
       "├─────────────────────────────────┼────────────────────────┼───────────────┤\n",
       "│ conv_3 (<span style=\"color: #0087ff; text-decoration-color: #0087ff\">Conv2D</span>)                 │ (<span style=\"color: #00d7ff; text-decoration-color: #00d7ff\">None</span>, <span style=\"color: #00af00; text-decoration-color: #00af00\">32</span>, <span style=\"color: #00af00; text-decoration-color: #00af00\">32</span>, <span style=\"color: #00af00; text-decoration-color: #00af00\">160</span>)    │       <span style=\"color: #00af00; text-decoration-color: #00af00\">128,160</span> │\n",
       "├─────────────────────────────────┼────────────────────────┼───────────────┤\n",
       "│ max_pooling_3 (<span style=\"color: #0087ff; text-decoration-color: #0087ff\">MaxPooling2D</span>)    │ (<span style=\"color: #00d7ff; text-decoration-color: #00d7ff\">None</span>, <span style=\"color: #00af00; text-decoration-color: #00af00\">16</span>, <span style=\"color: #00af00; text-decoration-color: #00af00\">16</span>, <span style=\"color: #00af00; text-decoration-color: #00af00\">160</span>)    │             <span style=\"color: #00af00; text-decoration-color: #00af00\">0</span> │\n",
       "├─────────────────────────────────┼────────────────────────┼───────────────┤\n",
       "│ conv_4 (<span style=\"color: #0087ff; text-decoration-color: #0087ff\">Conv2D</span>)                 │ (<span style=\"color: #00d7ff; text-decoration-color: #00d7ff\">None</span>, <span style=\"color: #00af00; text-decoration-color: #00af00\">16</span>, <span style=\"color: #00af00; text-decoration-color: #00af00\">16</span>, <span style=\"color: #00af00; text-decoration-color: #00af00\">128</span>)    │       <span style=\"color: #00af00; text-decoration-color: #00af00\">512,128</span> │\n",
       "├─────────────────────────────────┼────────────────────────┼───────────────┤\n",
       "│ max_pooling_4 (<span style=\"color: #0087ff; text-decoration-color: #0087ff\">MaxPooling2D</span>)    │ (<span style=\"color: #00d7ff; text-decoration-color: #00d7ff\">None</span>, <span style=\"color: #00af00; text-decoration-color: #00af00\">8</span>, <span style=\"color: #00af00; text-decoration-color: #00af00\">8</span>, <span style=\"color: #00af00; text-decoration-color: #00af00\">128</span>)      │             <span style=\"color: #00af00; text-decoration-color: #00af00\">0</span> │\n",
       "├─────────────────────────────────┼────────────────────────┼───────────────┤\n",
       "│ conv_5 (<span style=\"color: #0087ff; text-decoration-color: #0087ff\">Conv2D</span>)                 │ (<span style=\"color: #00d7ff; text-decoration-color: #00d7ff\">None</span>, <span style=\"color: #00af00; text-decoration-color: #00af00\">8</span>, <span style=\"color: #00af00; text-decoration-color: #00af00\">8</span>, <span style=\"color: #00af00; text-decoration-color: #00af00\">192</span>)      │       <span style=\"color: #00af00; text-decoration-color: #00af00\">614,592</span> │\n",
       "├─────────────────────────────────┼────────────────────────┼───────────────┤\n",
       "│ max_pooling_5 (<span style=\"color: #0087ff; text-decoration-color: #0087ff\">MaxPooling2D</span>)    │ (<span style=\"color: #00d7ff; text-decoration-color: #00d7ff\">None</span>, <span style=\"color: #00af00; text-decoration-color: #00af00\">4</span>, <span style=\"color: #00af00; text-decoration-color: #00af00\">4</span>, <span style=\"color: #00af00; text-decoration-color: #00af00\">192</span>)      │             <span style=\"color: #00af00; text-decoration-color: #00af00\">0</span> │\n",
       "├─────────────────────────────────┼────────────────────────┼───────────────┤\n",
       "│ conv_6 (<span style=\"color: #0087ff; text-decoration-color: #0087ff\">Conv2D</span>)                 │ (<span style=\"color: #00d7ff; text-decoration-color: #00d7ff\">None</span>, <span style=\"color: #00af00; text-decoration-color: #00af00\">4</span>, <span style=\"color: #00af00; text-decoration-color: #00af00\">4</span>, <span style=\"color: #00af00; text-decoration-color: #00af00\">128</span>)      │       <span style=\"color: #00af00; text-decoration-color: #00af00\">614,528</span> │\n",
       "├─────────────────────────────────┼────────────────────────┼───────────────┤\n",
       "│ max_pooling_6 (<span style=\"color: #0087ff; text-decoration-color: #0087ff\">MaxPooling2D</span>)    │ (<span style=\"color: #00d7ff; text-decoration-color: #00d7ff\">None</span>, <span style=\"color: #00af00; text-decoration-color: #00af00\">2</span>, <span style=\"color: #00af00; text-decoration-color: #00af00\">2</span>, <span style=\"color: #00af00; text-decoration-color: #00af00\">128</span>)      │             <span style=\"color: #00af00; text-decoration-color: #00af00\">0</span> │\n",
       "├─────────────────────────────────┼────────────────────────┼───────────────┤\n",
       "│ flatten (<span style=\"color: #0087ff; text-decoration-color: #0087ff\">Flatten</span>)               │ (<span style=\"color: #00d7ff; text-decoration-color: #00d7ff\">None</span>, <span style=\"color: #00af00; text-decoration-color: #00af00\">512</span>)            │             <span style=\"color: #00af00; text-decoration-color: #00af00\">0</span> │\n",
       "├─────────────────────────────────┼────────────────────────┼───────────────┤\n",
       "│ dense_1 (<span style=\"color: #0087ff; text-decoration-color: #0087ff\">Dense</span>)                 │ (<span style=\"color: #00d7ff; text-decoration-color: #00d7ff\">None</span>, <span style=\"color: #00af00; text-decoration-color: #00af00\">128</span>)            │        <span style=\"color: #00af00; text-decoration-color: #00af00\">65,664</span> │\n",
       "├─────────────────────────────────┼────────────────────────┼───────────────┤\n",
       "│ dense_2 (<span style=\"color: #0087ff; text-decoration-color: #0087ff\">Dense</span>)                 │ (<span style=\"color: #00d7ff; text-decoration-color: #00d7ff\">None</span>, <span style=\"color: #00af00; text-decoration-color: #00af00\">96</span>)             │        <span style=\"color: #00af00; text-decoration-color: #00af00\">12,384</span> │\n",
       "├─────────────────────────────────┼────────────────────────┼───────────────┤\n",
       "│ dense_3 (<span style=\"color: #0087ff; text-decoration-color: #0087ff\">Dense</span>)                 │ (<span style=\"color: #00d7ff; text-decoration-color: #00d7ff\">None</span>, <span style=\"color: #00af00; text-decoration-color: #00af00\">96</span>)             │         <span style=\"color: #00af00; text-decoration-color: #00af00\">9,312</span> │\n",
       "├─────────────────────────────────┼────────────────────────┼───────────────┤\n",
       "│ dense_4 (<span style=\"color: #0087ff; text-decoration-color: #0087ff\">Dense</span>)                 │ (<span style=\"color: #00d7ff; text-decoration-color: #00d7ff\">None</span>, <span style=\"color: #00af00; text-decoration-color: #00af00\">96</span>)             │         <span style=\"color: #00af00; text-decoration-color: #00af00\">9,312</span> │\n",
       "├─────────────────────────────────┼────────────────────────┼───────────────┤\n",
       "│ dense_5 (<span style=\"color: #0087ff; text-decoration-color: #0087ff\">Dense</span>)                 │ (<span style=\"color: #00d7ff; text-decoration-color: #00d7ff\">None</span>, <span style=\"color: #00af00; text-decoration-color: #00af00\">64</span>)             │         <span style=\"color: #00af00; text-decoration-color: #00af00\">6,208</span> │\n",
       "├─────────────────────────────────┼────────────────────────┼───────────────┤\n",
       "│ dense_6 (<span style=\"color: #0087ff; text-decoration-color: #0087ff\">Dense</span>)                 │ (<span style=\"color: #00d7ff; text-decoration-color: #00d7ff\">None</span>, <span style=\"color: #00af00; text-decoration-color: #00af00\">128</span>)            │         <span style=\"color: #00af00; text-decoration-color: #00af00\">8,320</span> │\n",
       "├─────────────────────────────────┼────────────────────────┼───────────────┤\n",
       "│ dropout (<span style=\"color: #0087ff; text-decoration-color: #0087ff\">Dropout</span>)               │ (<span style=\"color: #00d7ff; text-decoration-color: #00d7ff\">None</span>, <span style=\"color: #00af00; text-decoration-color: #00af00\">128</span>)            │             <span style=\"color: #00af00; text-decoration-color: #00af00\">0</span> │\n",
       "├─────────────────────────────────┼────────────────────────┼───────────────┤\n",
       "│ output (<span style=\"color: #0087ff; text-decoration-color: #0087ff\">Dense</span>)                  │ (<span style=\"color: #00d7ff; text-decoration-color: #00d7ff\">None</span>, <span style=\"color: #00af00; text-decoration-color: #00af00\">1</span>)              │           <span style=\"color: #00af00; text-decoration-color: #00af00\">129</span> │\n",
       "└─────────────────────────────────┴────────────────────────┴───────────────┘\n",
       "</pre>\n"
      ],
      "text/plain": [
       "┏━━━━━━━━━━━━━━━━━━━━━━━━━━━━━━━━━┳━━━━━━━━━━━━━━━━━━━━━━━━┳━━━━━━━━━━━━━━━┓\n",
       "┃\u001b[1m \u001b[0m\u001b[1mLayer (type)                   \u001b[0m\u001b[1m \u001b[0m┃\u001b[1m \u001b[0m\u001b[1mOutput Shape          \u001b[0m\u001b[1m \u001b[0m┃\u001b[1m \u001b[0m\u001b[1m      Param #\u001b[0m\u001b[1m \u001b[0m┃\n",
       "┡━━━━━━━━━━━━━━━━━━━━━━━━━━━━━━━━━╇━━━━━━━━━━━━━━━━━━━━━━━━╇━━━━━━━━━━━━━━━┩\n",
       "│ conv_1 (\u001b[38;5;33mConv2D\u001b[0m)                 │ (\u001b[38;5;45mNone\u001b[0m, \u001b[38;5;34m128\u001b[0m, \u001b[38;5;34m128\u001b[0m, \u001b[38;5;34m256\u001b[0m)  │         \u001b[38;5;34m7,168\u001b[0m │\n",
       "├─────────────────────────────────┼────────────────────────┼───────────────┤\n",
       "│ max_pooling_1 (\u001b[38;5;33mMaxPooling2D\u001b[0m)    │ (\u001b[38;5;45mNone\u001b[0m, \u001b[38;5;34m64\u001b[0m, \u001b[38;5;34m64\u001b[0m, \u001b[38;5;34m256\u001b[0m)    │             \u001b[38;5;34m0\u001b[0m │\n",
       "├─────────────────────────────────┼────────────────────────┼───────────────┤\n",
       "│ conv_2 (\u001b[38;5;33mConv2D\u001b[0m)                 │ (\u001b[38;5;45mNone\u001b[0m, \u001b[38;5;34m64\u001b[0m, \u001b[38;5;34m64\u001b[0m, \u001b[38;5;34m32\u001b[0m)     │       \u001b[38;5;34m204,832\u001b[0m │\n",
       "├─────────────────────────────────┼────────────────────────┼───────────────┤\n",
       "│ max_pooling_2 (\u001b[38;5;33mMaxPooling2D\u001b[0m)    │ (\u001b[38;5;45mNone\u001b[0m, \u001b[38;5;34m32\u001b[0m, \u001b[38;5;34m32\u001b[0m, \u001b[38;5;34m32\u001b[0m)     │             \u001b[38;5;34m0\u001b[0m │\n",
       "├─────────────────────────────────┼────────────────────────┼───────────────┤\n",
       "│ conv_3 (\u001b[38;5;33mConv2D\u001b[0m)                 │ (\u001b[38;5;45mNone\u001b[0m, \u001b[38;5;34m32\u001b[0m, \u001b[38;5;34m32\u001b[0m, \u001b[38;5;34m160\u001b[0m)    │       \u001b[38;5;34m128,160\u001b[0m │\n",
       "├─────────────────────────────────┼────────────────────────┼───────────────┤\n",
       "│ max_pooling_3 (\u001b[38;5;33mMaxPooling2D\u001b[0m)    │ (\u001b[38;5;45mNone\u001b[0m, \u001b[38;5;34m16\u001b[0m, \u001b[38;5;34m16\u001b[0m, \u001b[38;5;34m160\u001b[0m)    │             \u001b[38;5;34m0\u001b[0m │\n",
       "├─────────────────────────────────┼────────────────────────┼───────────────┤\n",
       "│ conv_4 (\u001b[38;5;33mConv2D\u001b[0m)                 │ (\u001b[38;5;45mNone\u001b[0m, \u001b[38;5;34m16\u001b[0m, \u001b[38;5;34m16\u001b[0m, \u001b[38;5;34m128\u001b[0m)    │       \u001b[38;5;34m512,128\u001b[0m │\n",
       "├─────────────────────────────────┼────────────────────────┼───────────────┤\n",
       "│ max_pooling_4 (\u001b[38;5;33mMaxPooling2D\u001b[0m)    │ (\u001b[38;5;45mNone\u001b[0m, \u001b[38;5;34m8\u001b[0m, \u001b[38;5;34m8\u001b[0m, \u001b[38;5;34m128\u001b[0m)      │             \u001b[38;5;34m0\u001b[0m │\n",
       "├─────────────────────────────────┼────────────────────────┼───────────────┤\n",
       "│ conv_5 (\u001b[38;5;33mConv2D\u001b[0m)                 │ (\u001b[38;5;45mNone\u001b[0m, \u001b[38;5;34m8\u001b[0m, \u001b[38;5;34m8\u001b[0m, \u001b[38;5;34m192\u001b[0m)      │       \u001b[38;5;34m614,592\u001b[0m │\n",
       "├─────────────────────────────────┼────────────────────────┼───────────────┤\n",
       "│ max_pooling_5 (\u001b[38;5;33mMaxPooling2D\u001b[0m)    │ (\u001b[38;5;45mNone\u001b[0m, \u001b[38;5;34m4\u001b[0m, \u001b[38;5;34m4\u001b[0m, \u001b[38;5;34m192\u001b[0m)      │             \u001b[38;5;34m0\u001b[0m │\n",
       "├─────────────────────────────────┼────────────────────────┼───────────────┤\n",
       "│ conv_6 (\u001b[38;5;33mConv2D\u001b[0m)                 │ (\u001b[38;5;45mNone\u001b[0m, \u001b[38;5;34m4\u001b[0m, \u001b[38;5;34m4\u001b[0m, \u001b[38;5;34m128\u001b[0m)      │       \u001b[38;5;34m614,528\u001b[0m │\n",
       "├─────────────────────────────────┼────────────────────────┼───────────────┤\n",
       "│ max_pooling_6 (\u001b[38;5;33mMaxPooling2D\u001b[0m)    │ (\u001b[38;5;45mNone\u001b[0m, \u001b[38;5;34m2\u001b[0m, \u001b[38;5;34m2\u001b[0m, \u001b[38;5;34m128\u001b[0m)      │             \u001b[38;5;34m0\u001b[0m │\n",
       "├─────────────────────────────────┼────────────────────────┼───────────────┤\n",
       "│ flatten (\u001b[38;5;33mFlatten\u001b[0m)               │ (\u001b[38;5;45mNone\u001b[0m, \u001b[38;5;34m512\u001b[0m)            │             \u001b[38;5;34m0\u001b[0m │\n",
       "├─────────────────────────────────┼────────────────────────┼───────────────┤\n",
       "│ dense_1 (\u001b[38;5;33mDense\u001b[0m)                 │ (\u001b[38;5;45mNone\u001b[0m, \u001b[38;5;34m128\u001b[0m)            │        \u001b[38;5;34m65,664\u001b[0m │\n",
       "├─────────────────────────────────┼────────────────────────┼───────────────┤\n",
       "│ dense_2 (\u001b[38;5;33mDense\u001b[0m)                 │ (\u001b[38;5;45mNone\u001b[0m, \u001b[38;5;34m96\u001b[0m)             │        \u001b[38;5;34m12,384\u001b[0m │\n",
       "├─────────────────────────────────┼────────────────────────┼───────────────┤\n",
       "│ dense_3 (\u001b[38;5;33mDense\u001b[0m)                 │ (\u001b[38;5;45mNone\u001b[0m, \u001b[38;5;34m96\u001b[0m)             │         \u001b[38;5;34m9,312\u001b[0m │\n",
       "├─────────────────────────────────┼────────────────────────┼───────────────┤\n",
       "│ dense_4 (\u001b[38;5;33mDense\u001b[0m)                 │ (\u001b[38;5;45mNone\u001b[0m, \u001b[38;5;34m96\u001b[0m)             │         \u001b[38;5;34m9,312\u001b[0m │\n",
       "├─────────────────────────────────┼────────────────────────┼───────────────┤\n",
       "│ dense_5 (\u001b[38;5;33mDense\u001b[0m)                 │ (\u001b[38;5;45mNone\u001b[0m, \u001b[38;5;34m64\u001b[0m)             │         \u001b[38;5;34m6,208\u001b[0m │\n",
       "├─────────────────────────────────┼────────────────────────┼───────────────┤\n",
       "│ dense_6 (\u001b[38;5;33mDense\u001b[0m)                 │ (\u001b[38;5;45mNone\u001b[0m, \u001b[38;5;34m128\u001b[0m)            │         \u001b[38;5;34m8,320\u001b[0m │\n",
       "├─────────────────────────────────┼────────────────────────┼───────────────┤\n",
       "│ dropout (\u001b[38;5;33mDropout\u001b[0m)               │ (\u001b[38;5;45mNone\u001b[0m, \u001b[38;5;34m128\u001b[0m)            │             \u001b[38;5;34m0\u001b[0m │\n",
       "├─────────────────────────────────┼────────────────────────┼───────────────┤\n",
       "│ output (\u001b[38;5;33mDense\u001b[0m)                  │ (\u001b[38;5;45mNone\u001b[0m, \u001b[38;5;34m1\u001b[0m)              │           \u001b[38;5;34m129\u001b[0m │\n",
       "└─────────────────────────────────┴────────────────────────┴───────────────┘\n"
      ]
     },
     "metadata": {},
     "output_type": "display_data"
    },
    {
     "data": {
      "text/html": [
       "<pre style=\"white-space:pre;overflow-x:auto;line-height:normal;font-family:Menlo,'DejaVu Sans Mono',consolas,'Courier New',monospace\"><span style=\"font-weight: bold\"> Total params: </span><span style=\"color: #00af00; text-decoration-color: #00af00\">6,578,213</span> (25.09 MB)\n",
       "</pre>\n"
      ],
      "text/plain": [
       "\u001b[1m Total params: \u001b[0m\u001b[38;5;34m6,578,213\u001b[0m (25.09 MB)\n"
      ]
     },
     "metadata": {},
     "output_type": "display_data"
    },
    {
     "data": {
      "text/html": [
       "<pre style=\"white-space:pre;overflow-x:auto;line-height:normal;font-family:Menlo,'DejaVu Sans Mono',consolas,'Courier New',monospace\"><span style=\"font-weight: bold\"> Trainable params: </span><span style=\"color: #00af00; text-decoration-color: #00af00\">2,192,737</span> (8.36 MB)\n",
       "</pre>\n"
      ],
      "text/plain": [
       "\u001b[1m Trainable params: \u001b[0m\u001b[38;5;34m2,192,737\u001b[0m (8.36 MB)\n"
      ]
     },
     "metadata": {},
     "output_type": "display_data"
    },
    {
     "data": {
      "text/html": [
       "<pre style=\"white-space:pre;overflow-x:auto;line-height:normal;font-family:Menlo,'DejaVu Sans Mono',consolas,'Courier New',monospace\"><span style=\"font-weight: bold\"> Non-trainable params: </span><span style=\"color: #00af00; text-decoration-color: #00af00\">0</span> (0.00 B)\n",
       "</pre>\n"
      ],
      "text/plain": [
       "\u001b[1m Non-trainable params: \u001b[0m\u001b[38;5;34m0\u001b[0m (0.00 B)\n"
      ]
     },
     "metadata": {},
     "output_type": "display_data"
    },
    {
     "data": {
      "text/html": [
       "<pre style=\"white-space:pre;overflow-x:auto;line-height:normal;font-family:Menlo,'DejaVu Sans Mono',consolas,'Courier New',monospace\"><span style=\"font-weight: bold\"> Optimizer params: </span><span style=\"color: #00af00; text-decoration-color: #00af00\">4,385,476</span> (16.73 MB)\n",
       "</pre>\n"
      ],
      "text/plain": [
       "\u001b[1m Optimizer params: \u001b[0m\u001b[38;5;34m4,385,476\u001b[0m (16.73 MB)\n"
      ]
     },
     "metadata": {},
     "output_type": "display_data"
    }
   ],
   "source": [
    "model_path = \"/kaggle/input/cnn-model-training/dropout_cnn_cdf_model.keras\"\n",
    "model = tf.keras.models.load_model(model_path)\n",
    "model.summary()"
   ]
  },
  {
   "cell_type": "code",
   "execution_count": 7,
   "id": "068ed4a0",
   "metadata": {
    "execution": {
     "iopub.execute_input": "2024-11-19T20:24:35.905572Z",
     "iopub.status.busy": "2024-11-19T20:24:35.904969Z",
     "iopub.status.idle": "2024-11-19T20:26:00.785219Z",
     "shell.execute_reply": "2024-11-19T20:26:00.784271Z"
    },
    "papermill": {
     "duration": 84.890445,
     "end_time": "2024-11-19T20:26:00.790583",
     "exception": false,
     "start_time": "2024-11-19T20:24:35.900138",
     "status": "completed"
    },
    "tags": []
   },
   "outputs": [
    {
     "name": "stdout",
     "output_type": "stream",
     "text": [
      "\n",
      "Processing deepfake-2.mp4...\n",
      "\n",
      "Prediction Result\n",
      "Filename         : deepfake-2.mp4\n",
      "Face Frames      : 333\n",
      "Evaluated Frames : 333\n",
      "Prediction       : Deepfake\n",
      "Probability      : 60.573%\n",
      "Technique        : Regular Forward Pass\n",
      "\n",
      "CPU times: user 3min 50s, sys: 28.5 s, total: 4min 19s\n",
      "Wall time: 1min 24s\n"
     ]
    }
   ],
   "source": [
    "%%time\n",
    "filepath = \"/kaggle/input/deepfake-detection-test-vids/deepfake-2.mp4\"\n",
    "predict(model, filepath)\n",
    "print()"
   ]
  },
  {
   "cell_type": "code",
   "execution_count": 8,
   "id": "1bb90dc9",
   "metadata": {
    "execution": {
     "iopub.execute_input": "2024-11-19T20:26:00.797887Z",
     "iopub.status.busy": "2024-11-19T20:26:00.797632Z",
     "iopub.status.idle": "2024-11-19T20:27:31.889053Z",
     "shell.execute_reply": "2024-11-19T20:27:31.888138Z"
    },
    "papermill": {
     "duration": 91.099748,
     "end_time": "2024-11-19T20:27:31.893485",
     "exception": false,
     "start_time": "2024-11-19T20:26:00.793737",
     "status": "completed"
    },
    "tags": []
   },
   "outputs": [
    {
     "name": "stdout",
     "output_type": "stream",
     "text": [
      "\n",
      "Processing deepfake-2.mp4...\n",
      "\n",
      "Prediction Result\n",
      "Filename         : deepfake-2.mp4\n",
      "Face Frames      : 333\n",
      "Evaluated Frames : 333\n",
      "Prediction       : Deepfake\n",
      "Probability      : 60.437%\n",
      "Technique        : MC Dropout Forward Pass\n",
      "MC Sample Size   : 50\n",
      "\n",
      "CPU times: user 3min 51s, sys: 28.7 s, total: 4min 20s\n",
      "Wall time: 1min 31s\n"
     ]
    }
   ],
   "source": [
    "%%time\n",
    "filepath = \"/kaggle/input/deepfake-detection-test-vids/deepfake-2.mp4\"\n",
    "predict(model, filepath, mc_dropout=True, mc_sample_size=50)\n",
    "print()"
   ]
  },
  {
   "cell_type": "code",
   "execution_count": 9,
   "id": "923a0c6d",
   "metadata": {
    "execution": {
     "iopub.execute_input": "2024-11-19T20:27:31.900708Z",
     "iopub.status.busy": "2024-11-19T20:27:31.900440Z",
     "iopub.status.idle": "2024-11-19T20:29:41.387801Z",
     "shell.execute_reply": "2024-11-19T20:29:41.386881Z"
    },
    "papermill": {
     "duration": 129.496491,
     "end_time": "2024-11-19T20:29:41.393056",
     "exception": false,
     "start_time": "2024-11-19T20:27:31.896565",
     "status": "completed"
    },
    "tags": []
   },
   "outputs": [
    {
     "name": "stdout",
     "output_type": "stream",
     "text": [
      "\n",
      "Processing real-2.mp4...\n",
      "\n",
      "Prediction Result\n",
      "Filename         : real-2.mp4\n",
      "Face Frames      : 300\n",
      "Evaluated Frames : 300\n",
      "Prediction       : Real\n",
      "Probability      : 63.344%\n",
      "Technique        : Regular Forward Pass\n",
      "\n",
      "CPU times: user 5min 52s, sys: 44 s, total: 6min 36s\n",
      "Wall time: 2min 9s\n"
     ]
    }
   ],
   "source": [
    "%%time\n",
    "filepath = \"/kaggle/input/deepfake-detection-test-vids/real-2.mp4\"\n",
    "predict(model, filepath)\n",
    "print()"
   ]
  },
  {
   "cell_type": "code",
   "execution_count": 10,
   "id": "bb4dea9b",
   "metadata": {
    "execution": {
     "iopub.execute_input": "2024-11-19T20:29:41.400692Z",
     "iopub.status.busy": "2024-11-19T20:29:41.400404Z",
     "iopub.status.idle": "2024-11-19T20:31:27.945556Z",
     "shell.execute_reply": "2024-11-19T20:31:27.944573Z"
    },
    "papermill": {
     "duration": 106.555008,
     "end_time": "2024-11-19T20:31:27.951389",
     "exception": false,
     "start_time": "2024-11-19T20:29:41.396381",
     "status": "completed"
    },
    "tags": []
   },
   "outputs": [
    {
     "name": "stdout",
     "output_type": "stream",
     "text": [
      "\n",
      "Processing real-2.mp4...\n",
      "\n",
      "Prediction Result\n",
      "Filename         : real-2.mp4\n",
      "Face Frames      : 300\n",
      "Evaluated Frames : 300\n",
      "Prediction       : Real\n",
      "Probability      : 62.916%\n",
      "Technique        : MC Dropout Forward Pass\n",
      "MC Sample Size   : 50\n",
      "\n",
      "CPU times: user 5min 46s, sys: 15.8 s, total: 6min 1s\n",
      "Wall time: 1min 46s\n"
     ]
    }
   ],
   "source": [
    "%%time\n",
    "filepath = \"/kaggle/input/deepfake-detection-test-vids/real-2.mp4\"\n",
    "predict(model, filepath, mc_dropout=True, mc_sample_size=50)\n",
    "print()"
   ]
  }
 ],
 "metadata": {
  "kaggle": {
   "accelerator": "gpu",
   "dataSources": [
    {
     "datasetId": 6122551,
     "sourceId": 9955536,
     "sourceType": "datasetVersion"
    },
    {
     "sourceId": 207187449,
     "sourceType": "kernelVersion"
    }
   ],
   "dockerImageVersionId": 30787,
   "isGpuEnabled": true,
   "isInternetEnabled": true,
   "language": "python",
   "sourceType": "notebook"
  },
  "kernelspec": {
   "display_name": "Python 3",
   "language": "python",
   "name": "python3"
  },
  "language_info": {
   "codemirror_mode": {
    "name": "ipython",
    "version": 3
   },
   "file_extension": ".py",
   "mimetype": "text/x-python",
   "name": "python",
   "nbconvert_exporter": "python",
   "pygments_lexer": "ipython3",
   "version": "3.10.14"
  },
  "papermill": {
   "default_parameters": {},
   "duration": 429.997648,
   "end_time": "2024-11-19T20:31:30.572176",
   "environment_variables": {},
   "exception": null,
   "input_path": "__notebook__.ipynb",
   "output_path": "__notebook__.ipynb",
   "parameters": {},
   "start_time": "2024-11-19T20:24:20.574528",
   "version": "2.6.0"
  }
 },
 "nbformat": 4,
 "nbformat_minor": 5
}
