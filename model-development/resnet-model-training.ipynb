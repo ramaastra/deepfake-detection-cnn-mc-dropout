{
 "cells": [
  {
   "cell_type": "markdown",
   "id": "3656c1a7",
   "metadata": {
    "papermill": {
     "duration": 0.011543,
     "end_time": "2024-11-04T18:28:31.336612",
     "exception": false,
     "start_time": "2024-11-04T18:28:31.325069",
     "status": "completed"
    },
    "tags": []
   },
   "source": [
    "# ResNet Model Training"
   ]
  },
  {
   "cell_type": "markdown",
   "id": "fb32a948",
   "metadata": {
    "papermill": {
     "duration": 0.010385,
     "end_time": "2024-11-04T18:28:31.359160",
     "exception": false,
     "start_time": "2024-11-04T18:28:31.348775",
     "status": "completed"
    },
    "tags": []
   },
   "source": [
    "This notebook contains model training process for ResNet model on three different deepfake detection datasets. The model training splitted into two parts, which are baseline model (base model without dropout) and the dropout model itself."
   ]
  },
  {
   "cell_type": "code",
   "execution_count": 1,
   "id": "6c656808",
   "metadata": {
    "execution": {
     "iopub.execute_input": "2024-11-04T18:28:31.381462Z",
     "iopub.status.busy": "2024-11-04T18:28:31.381110Z",
     "iopub.status.idle": "2024-11-04T18:28:44.907259Z",
     "shell.execute_reply": "2024-11-04T18:28:44.906460Z"
    },
    "papermill": {
     "duration": 13.53988,
     "end_time": "2024-11-04T18:28:44.909646",
     "exception": false,
     "start_time": "2024-11-04T18:28:31.369766",
     "status": "completed"
    },
    "tags": []
   },
   "outputs": [],
   "source": [
    "from tensorflow.keras.preprocessing.image import ImageDataGenerator\n",
    "from tensorflow.keras.applications import ResNet152, resnet\n",
    "import tensorflow as tf\n",
    "import keras_tuner as kt\n",
    "import matplotlib.pyplot as plt\n",
    "import pickle\n",
    "import os"
   ]
  },
  {
   "cell_type": "markdown",
   "id": "67815faa",
   "metadata": {
    "papermill": {
     "duration": 0.010525,
     "end_time": "2024-11-04T18:28:44.931524",
     "exception": false,
     "start_time": "2024-11-04T18:28:44.920999",
     "status": "completed"
    },
    "tags": []
   },
   "source": [
    "## Define Dataset Directory"
   ]
  },
  {
   "cell_type": "code",
   "execution_count": 2,
   "id": "07d801e3",
   "metadata": {
    "execution": {
     "iopub.execute_input": "2024-11-04T18:28:44.954324Z",
     "iopub.status.busy": "2024-11-04T18:28:44.953777Z",
     "iopub.status.idle": "2024-11-04T18:28:44.958297Z",
     "shell.execute_reply": "2024-11-04T18:28:44.957444Z"
    },
    "papermill": {
     "duration": 0.018468,
     "end_time": "2024-11-04T18:28:44.960606",
     "exception": false,
     "start_time": "2024-11-04T18:28:44.942138",
     "status": "completed"
    },
    "tags": []
   },
   "outputs": [],
   "source": [
    "CDF_DATASET_DIR = \"/kaggle/input/deepfake-detection-datasets/Celeb-DF-v2\"\n",
    "DF_DATASET_DIR = \"/kaggle/input/deepfake-detection-datasets/DeeperForensics-1.0\"\n",
    "DFDC_DATASET_DIR = \"/kaggle/input/deepfake-detection-datasets/DFDC\""
   ]
  },
  {
   "cell_type": "code",
   "execution_count": 3,
   "id": "9f3d970c",
   "metadata": {
    "execution": {
     "iopub.execute_input": "2024-11-04T18:28:44.983715Z",
     "iopub.status.busy": "2024-11-04T18:28:44.983046Z",
     "iopub.status.idle": "2024-11-04T18:28:44.988569Z",
     "shell.execute_reply": "2024-11-04T18:28:44.987727Z"
    },
    "papermill": {
     "duration": 0.018997,
     "end_time": "2024-11-04T18:28:44.990499",
     "exception": false,
     "start_time": "2024-11-04T18:28:44.971502",
     "status": "completed"
    },
    "tags": []
   },
   "outputs": [],
   "source": [
    "cdf_train_dir = os.path.join(CDF_DATASET_DIR, \"Train\")\n",
    "cdf_val_dir = os.path.join(CDF_DATASET_DIR, \"Val\")\n",
    "\n",
    "df_train_dir = os.path.join(DF_DATASET_DIR, \"Train\")\n",
    "df_val_dir = os.path.join(DF_DATASET_DIR, \"Val\")\n",
    "\n",
    "dfdc_train_dir = os.path.join(DFDC_DATASET_DIR, \"Train\")\n",
    "dfdc_val_dir = os.path.join(DFDC_DATASET_DIR, \"Val\")"
   ]
  },
  {
   "cell_type": "markdown",
   "id": "09f14f68",
   "metadata": {
    "papermill": {
     "duration": 0.010516,
     "end_time": "2024-11-04T18:28:45.011726",
     "exception": false,
     "start_time": "2024-11-04T18:28:45.001210",
     "status": "completed"
    },
    "tags": []
   },
   "source": [
    "## Image Data Generator for Each Dataset"
   ]
  },
  {
   "cell_type": "code",
   "execution_count": 4,
   "id": "7868a3d2",
   "metadata": {
    "execution": {
     "iopub.execute_input": "2024-11-04T18:28:45.034275Z",
     "iopub.status.busy": "2024-11-04T18:28:45.033974Z",
     "iopub.status.idle": "2024-11-04T18:28:45.038769Z",
     "shell.execute_reply": "2024-11-04T18:28:45.037935Z"
    },
    "papermill": {
     "duration": 0.01828,
     "end_time": "2024-11-04T18:28:45.040727",
     "exception": false,
     "start_time": "2024-11-04T18:28:45.022447",
     "status": "completed"
    },
    "tags": []
   },
   "outputs": [],
   "source": [
    "def create_image_generator(dataset_dir):\n",
    "    datagen = ImageDataGenerator(preprocessing_function=resnet.preprocess_input)\n",
    "    image_generator = datagen.flow_from_directory(\n",
    "        dataset_dir,\n",
    "        target_size=(128, 128),\n",
    "        batch_size=32,\n",
    "        color_mode=\"rgb\",\n",
    "        class_mode=\"binary\",\n",
    "        shuffle=True,\n",
    "        seed=42\n",
    "    )\n",
    "\n",
    "    return image_generator"
   ]
  },
  {
   "cell_type": "code",
   "execution_count": 5,
   "id": "df0e5a08",
   "metadata": {
    "execution": {
     "iopub.execute_input": "2024-11-04T18:28:45.063911Z",
     "iopub.status.busy": "2024-11-04T18:28:45.063423Z",
     "iopub.status.idle": "2024-11-04T18:29:34.959315Z",
     "shell.execute_reply": "2024-11-04T18:29:34.958538Z"
    },
    "papermill": {
     "duration": 49.909534,
     "end_time": "2024-11-04T18:29:34.961480",
     "exception": false,
     "start_time": "2024-11-04T18:28:45.051946",
     "status": "completed"
    },
    "tags": []
   },
   "outputs": [
    {
     "name": "stdout",
     "output_type": "stream",
     "text": [
      "Celeb-DF-v2 Dataset\n",
      "Found 14000 images belonging to 2 classes.\n",
      "Found 2000 images belonging to 2 classes.\n",
      "\n",
      "DeeperForensics-1.0 Dataset\n",
      "Found 14000 images belonging to 2 classes.\n",
      "Found 2000 images belonging to 2 classes.\n",
      "\n",
      "Deepfake Detection Challenge Dataset\n",
      "Found 14000 images belonging to 2 classes.\n",
      "Found 2000 images belonging to 2 classes.\n"
     ]
    }
   ],
   "source": [
    "print(\"Celeb-DF-v2 Dataset\")\n",
    "cdf_train_generator = create_image_generator(cdf_train_dir)\n",
    "cdf_val_generator = create_image_generator(cdf_val_dir)\n",
    "\n",
    "print(\"\\nDeeperForensics-1.0 Dataset\")\n",
    "df_train_generator = create_image_generator(df_train_dir)\n",
    "df_val_generator = create_image_generator(df_val_dir)\n",
    "\n",
    "print(\"\\nDeepfake Detection Challenge Dataset\")\n",
    "dfdc_train_generator = create_image_generator(dfdc_train_dir)\n",
    "dfdc_val_generator = create_image_generator(dfdc_val_dir)"
   ]
  },
  {
   "cell_type": "markdown",
   "id": "7338f755",
   "metadata": {
    "papermill": {
     "duration": 0.011305,
     "end_time": "2024-11-04T18:29:34.984674",
     "exception": false,
     "start_time": "2024-11-04T18:29:34.973369",
     "status": "completed"
    },
    "tags": []
   },
   "source": [
    "## Get the Best Hyperparameters from Tuner"
   ]
  },
  {
   "cell_type": "code",
   "execution_count": 6,
   "id": "5f58fe29",
   "metadata": {
    "execution": {
     "iopub.execute_input": "2024-11-04T18:29:35.008891Z",
     "iopub.status.busy": "2024-11-04T18:29:35.008569Z",
     "iopub.status.idle": "2024-11-04T18:29:35.012725Z",
     "shell.execute_reply": "2024-11-04T18:29:35.011972Z"
    },
    "papermill": {
     "duration": 0.018369,
     "end_time": "2024-11-04T18:29:35.014498",
     "exception": false,
     "start_time": "2024-11-04T18:29:34.996129",
     "status": "completed"
    },
    "tags": []
   },
   "outputs": [],
   "source": [
    "TUNER_RESULT_DIR = \"/kaggle/input/hyperparameter-tuning/tuner_result\"\n",
    "BASE_HP_TUNER_PROJECT_NAME = \"base_hp\"\n",
    "DROPOUT_TUNER_PROJECT_NAME = \"dropout_rate\""
   ]
  },
  {
   "cell_type": "code",
   "execution_count": 7,
   "id": "4c9831f0",
   "metadata": {
    "execution": {
     "iopub.execute_input": "2024-11-04T18:29:35.038782Z",
     "iopub.status.busy": "2024-11-04T18:29:35.038505Z",
     "iopub.status.idle": "2024-11-04T18:29:35.043110Z",
     "shell.execute_reply": "2024-11-04T18:29:35.042298Z"
    },
    "papermill": {
     "duration": 0.018728,
     "end_time": "2024-11-04T18:29:35.044933",
     "exception": false,
     "start_time": "2024-11-04T18:29:35.026205",
     "status": "completed"
    },
    "tags": []
   },
   "outputs": [],
   "source": [
    "def get_best_hp_from_tuner(tuner_dir, project_name):\n",
    "    tuner = kt.Hyperband(directory=tuner_dir,\n",
    "                         project_name=project_name,\n",
    "                         overwrite=False)\n",
    "\n",
    "    best_hp = tuner.get_best_hyperparameters()[0].values\n",
    "    return best_hp"
   ]
  },
  {
   "cell_type": "markdown",
   "id": "6a5c6572",
   "metadata": {
    "papermill": {
     "duration": 0.011475,
     "end_time": "2024-11-04T18:29:35.067951",
     "exception": false,
     "start_time": "2024-11-04T18:29:35.056476",
     "status": "completed"
    },
    "tags": []
   },
   "source": [
    "### Base Hyperparameters"
   ]
  },
  {
   "cell_type": "code",
   "execution_count": 8,
   "id": "a4a7eb5d",
   "metadata": {
    "execution": {
     "iopub.execute_input": "2024-11-04T18:29:35.092160Z",
     "iopub.status.busy": "2024-11-04T18:29:35.091877Z",
     "iopub.status.idle": "2024-11-04T18:29:35.422939Z",
     "shell.execute_reply": "2024-11-04T18:29:35.422024Z"
    },
    "papermill": {
     "duration": 0.345633,
     "end_time": "2024-11-04T18:29:35.425144",
     "exception": false,
     "start_time": "2024-11-04T18:29:35.079511",
     "status": "completed"
    },
    "tags": []
   },
   "outputs": [
    {
     "name": "stdout",
     "output_type": "stream",
     "text": [
      "Reloading Tuner from /kaggle/input/hyperparameter-tuning/tuner_result/base_hp/tuner0.json\n"
     ]
    },
    {
     "data": {
      "text/plain": [
       "{'conv_layers': 4,\n",
       " 'conv_1_filters': 256,\n",
       " 'conv_2_filters': 224,\n",
       " 'conv_3_filters': 256,\n",
       " 'conv_1_kernel_size': 3,\n",
       " 'conv_2_kernel_size': 3,\n",
       " 'conv_3_kernel_size': 3,\n",
       " 'dense_layers': 4,\n",
       " 'dense_1_layer_units': 64,\n",
       " 'dense_2_layer_units': 224,\n",
       " 'learning_rate': 1e-05,\n",
       " 'conv_4_filters': 256,\n",
       " 'conv_4_kernel_size': 7,\n",
       " 'dense_3_layer_units': 224,\n",
       " 'dense_4_layer_units': 224,\n",
       " 'dense_5_layer_units': 224,\n",
       " 'conv_5_filters': 192,\n",
       " 'conv_5_kernel_size': 3,\n",
       " 'tuner/epochs': 20,\n",
       " 'tuner/initial_epoch': 0,\n",
       " 'tuner/bracket': 0,\n",
       " 'tuner/round': 0}"
      ]
     },
     "execution_count": 8,
     "metadata": {},
     "output_type": "execute_result"
    }
   ],
   "source": [
    "best_base_hp = get_best_hp_from_tuner(TUNER_RESULT_DIR, BASE_HP_TUNER_PROJECT_NAME)\n",
    "best_base_hp"
   ]
  },
  {
   "cell_type": "markdown",
   "id": "c9a476cf",
   "metadata": {
    "papermill": {
     "duration": 0.01185,
     "end_time": "2024-11-04T18:29:35.449410",
     "exception": false,
     "start_time": "2024-11-04T18:29:35.437560",
     "status": "completed"
    },
    "tags": []
   },
   "source": [
    "### Dropout Hyperparameter"
   ]
  },
  {
   "cell_type": "code",
   "execution_count": 9,
   "id": "19e0f64e",
   "metadata": {
    "execution": {
     "iopub.execute_input": "2024-11-04T18:29:35.475256Z",
     "iopub.status.busy": "2024-11-04T18:29:35.474565Z",
     "iopub.status.idle": "2024-11-04T18:29:35.551419Z",
     "shell.execute_reply": "2024-11-04T18:29:35.550440Z"
    },
    "papermill": {
     "duration": 0.092017,
     "end_time": "2024-11-04T18:29:35.553456",
     "exception": false,
     "start_time": "2024-11-04T18:29:35.461439",
     "status": "completed"
    },
    "tags": []
   },
   "outputs": [
    {
     "name": "stdout",
     "output_type": "stream",
     "text": [
      "Reloading Tuner from /kaggle/input/hyperparameter-tuning/tuner_result/dropout_rate/tuner0.json\n"
     ]
    },
    {
     "data": {
      "text/plain": [
       "{'dropout_rate': 0.65,\n",
       " 'tuner/epochs': 3,\n",
       " 'tuner/initial_epoch': 0,\n",
       " 'tuner/bracket': 2,\n",
       " 'tuner/round': 0}"
      ]
     },
     "execution_count": 9,
     "metadata": {},
     "output_type": "execute_result"
    }
   ],
   "source": [
    "best_dropout_hp = get_best_hp_from_tuner(TUNER_RESULT_DIR, DROPOUT_TUNER_PROJECT_NAME)\n",
    "best_dropout_hp"
   ]
  },
  {
   "cell_type": "markdown",
   "id": "354134bd",
   "metadata": {
    "papermill": {
     "duration": 0.011981,
     "end_time": "2024-11-04T18:29:35.577936",
     "exception": false,
     "start_time": "2024-11-04T18:29:35.565955",
     "status": "completed"
    },
    "tags": []
   },
   "source": [
    "### Combine All Hyperparameters into a Dict"
   ]
  },
  {
   "cell_type": "code",
   "execution_count": 10,
   "id": "e9cadead",
   "metadata": {
    "execution": {
     "iopub.execute_input": "2024-11-04T18:29:35.603671Z",
     "iopub.status.busy": "2024-11-04T18:29:35.603345Z",
     "iopub.status.idle": "2024-11-04T18:29:35.611397Z",
     "shell.execute_reply": "2024-11-04T18:29:35.610482Z"
    },
    "papermill": {
     "duration": 0.023291,
     "end_time": "2024-11-04T18:29:35.613444",
     "exception": false,
     "start_time": "2024-11-04T18:29:35.590153",
     "status": "completed"
    },
    "tags": []
   },
   "outputs": [
    {
     "name": "stdout",
     "output_type": "stream",
     "text": [
      "Best hyperparameters loaded\n",
      "\n",
      "conv_layers: 4\n",
      "conv_1_filters: 256\n",
      "conv_1_kernel_size: 3\n",
      "conv_2_filters: 224\n",
      "conv_2_kernel_size: 3\n",
      "conv_3_filters: 256\n",
      "conv_3_kernel_size: 3\n",
      "conv_4_filters: 256\n",
      "conv_4_kernel_size: 7\n",
      "dense_layers: 4\n",
      "dense_1_layer_units: 64\n",
      "dense_2_layer_units: 224\n",
      "dense_3_layer_units: 224\n",
      "dense_4_layer_units: 224\n",
      "dropout_rate: 0.65\n",
      "learning_rate: 1e-05\n"
     ]
    }
   ],
   "source": [
    "best_hp = {}\n",
    "\n",
    "best_hp[\"conv_layers\"] = best_base_hp.get(\"conv_layers\")\n",
    "for i in range(best_base_hp.get(\"conv_layers\")):\n",
    "    conv_filter_hp_name = f\"conv_{i+1}_filters\"\n",
    "    conv_kernel_size_hp_name = f\"conv_{i+1}_kernel_size\"\n",
    "    best_hp[conv_filter_hp_name] = best_base_hp.get(conv_filter_hp_name)\n",
    "    best_hp[conv_kernel_size_hp_name] = best_base_hp.get(conv_kernel_size_hp_name)\n",
    "\n",
    "best_hp[\"dense_layers\"] = best_base_hp.get(\"dense_layers\")\n",
    "for i in range(best_base_hp.get(\"dense_layers\")):\n",
    "    dense_unit_hp_name = f\"dense_{i+1}_layer_units\"\n",
    "    best_hp[dense_unit_hp_name] = best_base_hp.get(dense_unit_hp_name)\n",
    "\n",
    "best_hp[\"dropout_rate\"] = best_dropout_hp.get(\"dropout_rate\")\n",
    "best_hp[\"learning_rate\"] = best_base_hp.get(\"learning_rate\")\n",
    "\n",
    "print(\"Best hyperparameters loaded\\n\")\n",
    "for key in best_hp:\n",
    "    print(f\"{key}: {best_hp[key]}\")"
   ]
  },
  {
   "cell_type": "markdown",
   "id": "7460fc65",
   "metadata": {
    "papermill": {
     "duration": 0.012021,
     "end_time": "2024-11-04T18:29:35.637744",
     "exception": false,
     "start_time": "2024-11-04T18:29:35.625723",
     "status": "completed"
    },
    "tags": []
   },
   "source": [
    "## Function to Create a ResNet Model"
   ]
  },
  {
   "cell_type": "code",
   "execution_count": 11,
   "id": "3592505f",
   "metadata": {
    "execution": {
     "iopub.execute_input": "2024-11-04T18:29:35.663743Z",
     "iopub.status.busy": "2024-11-04T18:29:35.663129Z",
     "iopub.status.idle": "2024-11-04T18:29:35.671067Z",
     "shell.execute_reply": "2024-11-04T18:29:35.670206Z"
    },
    "papermill": {
     "duration": 0.023128,
     "end_time": "2024-11-04T18:29:35.673048",
     "exception": false,
     "start_time": "2024-11-04T18:29:35.649920",
     "status": "completed"
    },
    "scrolled": true,
    "tags": []
   },
   "outputs": [],
   "source": [
    "def create_resnet_model(hp, dropout=False):\n",
    "    base_model = ResNet152(include_top=False, weights=\"imagenet\", input_shape=(128, 128, 3))\n",
    "    for layer in base_model.layers:\n",
    "        layer.trainable = False\n",
    "\n",
    "    model = tf.keras.Sequential()\n",
    "    model.add(base_model)\n",
    "\n",
    "    model.add(tf.keras.layers.Flatten())\n",
    "\n",
    "    for i in range(hp.get(\"dense_layers\")):\n",
    "        dense_units = hp.get(f\"dense_{i+1}_layer_units\")\n",
    "        model.add(tf.keras.layers.Dense(dense_units, activation=\"relu\"))\n",
    "\n",
    "    if dropout:\n",
    "        model.add(tf.keras.layers.Dropout(hp.get(\"dropout_rate\")))\n",
    "\n",
    "    model.add(tf.keras.layers.Dense(1, activation=\"sigmoid\"))\n",
    "\n",
    "    model.compile(\n",
    "        optimizer=tf.keras.optimizers.Adam(learning_rate=hp.get(\"learning_rate\")),\n",
    "        loss=tf.keras.losses.BinaryCrossentropy(),\n",
    "        metrics=[\"accuracy\"]\n",
    "    )\n",
    "\n",
    "    return model"
   ]
  },
  {
   "cell_type": "markdown",
   "id": "450862ee",
   "metadata": {
    "papermill": {
     "duration": 0.012069,
     "end_time": "2024-11-04T18:29:35.697432",
     "exception": false,
     "start_time": "2024-11-04T18:29:35.685363",
     "status": "completed"
    },
    "tags": []
   },
   "source": [
    "## Function to Plot Train Results"
   ]
  },
  {
   "cell_type": "code",
   "execution_count": 12,
   "id": "84d66574",
   "metadata": {
    "execution": {
     "iopub.execute_input": "2024-11-04T18:29:35.723628Z",
     "iopub.status.busy": "2024-11-04T18:29:35.722902Z",
     "iopub.status.idle": "2024-11-04T18:29:35.730036Z",
     "shell.execute_reply": "2024-11-04T18:29:35.729207Z"
    },
    "papermill": {
     "duration": 0.022174,
     "end_time": "2024-11-04T18:29:35.731894",
     "exception": false,
     "start_time": "2024-11-04T18:29:35.709720",
     "status": "completed"
    },
    "tags": []
   },
   "outputs": [],
   "source": [
    "def plot_train_result(history, title=\"Training Result\"):\n",
    "    plt.figure(figsize=(12, 4))\n",
    "    plt.subplots_adjust(top=0.8)\n",
    "    plt.suptitle(title)\n",
    "\n",
    "    plt.subplot(1, 2, 1)\n",
    "    plt.plot(history[\"accuracy\"], label=\"Train\")\n",
    "    plt.plot(history[\"val_accuracy\"], label=\"Val\")\n",
    "    plt.title(\"Training and Validation Accuracy\")\n",
    "    plt.xlabel(\"Epoch\")\n",
    "    plt.ylabel(\"Accuracy\")\n",
    "    plt.legend()\n",
    "\n",
    "    plt.subplot(1, 2, 2)\n",
    "    plt.plot(history[\"loss\"], label=\"Train\")\n",
    "    plt.plot(history[\"val_loss\"], label=\"Val\")\n",
    "    plt.title(\"Training and Validation Loss\")\n",
    "    plt.xlabel(\"Epoch\")\n",
    "    plt.ylabel(\"Loss\")\n",
    "    plt.legend()\n",
    "\n",
    "    plt.show()"
   ]
  },
  {
   "cell_type": "markdown",
   "id": "d90026ad",
   "metadata": {
    "papermill": {
     "duration": 0.01221,
     "end_time": "2024-11-04T18:29:35.756510",
     "exception": false,
     "start_time": "2024-11-04T18:29:35.744300",
     "status": "completed"
    },
    "tags": []
   },
   "source": [
    "## Function to Save Model Training History"
   ]
  },
  {
   "cell_type": "code",
   "execution_count": 13,
   "id": "b6ead468",
   "metadata": {
    "execution": {
     "iopub.execute_input": "2024-11-04T18:29:35.783228Z",
     "iopub.status.busy": "2024-11-04T18:29:35.782680Z",
     "iopub.status.idle": "2024-11-04T18:29:35.788060Z",
     "shell.execute_reply": "2024-11-04T18:29:35.787218Z"
    },
    "papermill": {
     "duration": 0.020963,
     "end_time": "2024-11-04T18:29:35.790032",
     "exception": false,
     "start_time": "2024-11-04T18:29:35.769069",
     "status": "completed"
    },
    "tags": []
   },
   "outputs": [],
   "source": [
    "def save_model_and_history(model, history, model_name):\n",
    "    model_filename = f\"{model_name}_model.keras\"\n",
    "    history_filename = f\"{model_name}_history.pkl\"\n",
    "\n",
    "    model.save(model_filename)\n",
    "    print(f\"Model saved at {model_filename}\")    \n",
    "\n",
    "    with open(history_filename, \"wb\") as f:\n",
    "        pickle.dump(history.history, f)\n",
    "        print(f\"Training history saved at {history_filename}\")"
   ]
  },
  {
   "cell_type": "markdown",
   "id": "5062350a",
   "metadata": {
    "papermill": {
     "duration": 0.012267,
     "end_time": "2024-11-04T18:29:35.814896",
     "exception": false,
     "start_time": "2024-11-04T18:29:35.802629",
     "status": "completed"
    },
    "tags": []
   },
   "source": [
    "## Model Training"
   ]
  },
  {
   "cell_type": "code",
   "execution_count": 14,
   "id": "a3f012c8",
   "metadata": {
    "execution": {
     "iopub.execute_input": "2024-11-04T18:29:35.841236Z",
     "iopub.status.busy": "2024-11-04T18:29:35.840894Z",
     "iopub.status.idle": "2024-11-04T18:29:35.845033Z",
     "shell.execute_reply": "2024-11-04T18:29:35.844202Z"
    },
    "papermill": {
     "duration": 0.019698,
     "end_time": "2024-11-04T18:29:35.847080",
     "exception": false,
     "start_time": "2024-11-04T18:29:35.827382",
     "status": "completed"
    },
    "tags": []
   },
   "outputs": [],
   "source": [
    "NUM_EPOCHS = 50"
   ]
  },
  {
   "cell_type": "markdown",
   "id": "3ca9ecf3",
   "metadata": {
    "papermill": {
     "duration": 0.013605,
     "end_time": "2024-11-04T18:29:35.873334",
     "exception": false,
     "start_time": "2024-11-04T18:29:35.859729",
     "status": "completed"
    },
    "tags": []
   },
   "source": [
    "### Baseline ResNet"
   ]
  },
  {
   "cell_type": "markdown",
   "id": "4a8c3481",
   "metadata": {
    "papermill": {
     "duration": 0.012275,
     "end_time": "2024-11-04T18:29:35.898083",
     "exception": false,
     "start_time": "2024-11-04T18:29:35.885808",
     "status": "completed"
    },
    "tags": []
   },
   "source": [
    "#### Celeb-DF-v2 Dataset"
   ]
  },
  {
   "cell_type": "code",
   "execution_count": 15,
   "id": "b68bb2b7",
   "metadata": {
    "execution": {
     "iopub.execute_input": "2024-11-04T18:29:35.924647Z",
     "iopub.status.busy": "2024-11-04T18:29:35.924094Z",
     "iopub.status.idle": "2024-11-04T18:29:47.040762Z",
     "shell.execute_reply": "2024-11-04T18:29:47.039909Z"
    },
    "papermill": {
     "duration": 11.132029,
     "end_time": "2024-11-04T18:29:47.042653",
     "exception": false,
     "start_time": "2024-11-04T18:29:35.910624",
     "status": "completed"
    },
    "tags": []
   },
   "outputs": [
    {
     "name": "stdout",
     "output_type": "stream",
     "text": [
      "Downloading data from https://storage.googleapis.com/tensorflow/keras-applications/resnet/resnet152_weights_tf_dim_ordering_tf_kernels_notop.h5\n",
      "\u001b[1m234698864/234698864\u001b[0m \u001b[32m━━━━━━━━━━━━━━━━━━━━\u001b[0m\u001b[37m\u001b[0m \u001b[1m6s\u001b[0m 0us/step\n"
     ]
    },
    {
     "data": {
      "text/html": [
       "<pre style=\"white-space:pre;overflow-x:auto;line-height:normal;font-family:Menlo,'DejaVu Sans Mono',consolas,'Courier New',monospace\"><span style=\"font-weight: bold\">Model: \"sequential\"</span>\n",
       "</pre>\n"
      ],
      "text/plain": [
       "\u001b[1mModel: \"sequential\"\u001b[0m\n"
      ]
     },
     "metadata": {},
     "output_type": "display_data"
    },
    {
     "data": {
      "text/html": [
       "<pre style=\"white-space:pre;overflow-x:auto;line-height:normal;font-family:Menlo,'DejaVu Sans Mono',consolas,'Courier New',monospace\">┏━━━━━━━━━━━━━━━━━━━━━━━━━━━━━━━━━┳━━━━━━━━━━━━━━━━━━━━━━━━┳━━━━━━━━━━━━━━━┓\n",
       "┃<span style=\"font-weight: bold\"> Layer (type)                    </span>┃<span style=\"font-weight: bold\"> Output Shape           </span>┃<span style=\"font-weight: bold\">       Param # </span>┃\n",
       "┡━━━━━━━━━━━━━━━━━━━━━━━━━━━━━━━━━╇━━━━━━━━━━━━━━━━━━━━━━━━╇━━━━━━━━━━━━━━━┩\n",
       "│ resnet152 (<span style=\"color: #0087ff; text-decoration-color: #0087ff\">Functional</span>)          │ ?                      │    <span style=\"color: #00af00; text-decoration-color: #00af00\">58,370,944</span> │\n",
       "├─────────────────────────────────┼────────────────────────┼───────────────┤\n",
       "│ flatten (<span style=\"color: #0087ff; text-decoration-color: #0087ff\">Flatten</span>)               │ ?                      │   <span style=\"color: #00af00; text-decoration-color: #00af00\">0</span> (unbuilt) │\n",
       "├─────────────────────────────────┼────────────────────────┼───────────────┤\n",
       "│ dense (<span style=\"color: #0087ff; text-decoration-color: #0087ff\">Dense</span>)                   │ ?                      │   <span style=\"color: #00af00; text-decoration-color: #00af00\">0</span> (unbuilt) │\n",
       "├─────────────────────────────────┼────────────────────────┼───────────────┤\n",
       "│ dense_1 (<span style=\"color: #0087ff; text-decoration-color: #0087ff\">Dense</span>)                 │ ?                      │   <span style=\"color: #00af00; text-decoration-color: #00af00\">0</span> (unbuilt) │\n",
       "├─────────────────────────────────┼────────────────────────┼───────────────┤\n",
       "│ dense_2 (<span style=\"color: #0087ff; text-decoration-color: #0087ff\">Dense</span>)                 │ ?                      │   <span style=\"color: #00af00; text-decoration-color: #00af00\">0</span> (unbuilt) │\n",
       "├─────────────────────────────────┼────────────────────────┼───────────────┤\n",
       "│ dense_3 (<span style=\"color: #0087ff; text-decoration-color: #0087ff\">Dense</span>)                 │ ?                      │   <span style=\"color: #00af00; text-decoration-color: #00af00\">0</span> (unbuilt) │\n",
       "├─────────────────────────────────┼────────────────────────┼───────────────┤\n",
       "│ dense_4 (<span style=\"color: #0087ff; text-decoration-color: #0087ff\">Dense</span>)                 │ ?                      │   <span style=\"color: #00af00; text-decoration-color: #00af00\">0</span> (unbuilt) │\n",
       "└─────────────────────────────────┴────────────────────────┴───────────────┘\n",
       "</pre>\n"
      ],
      "text/plain": [
       "┏━━━━━━━━━━━━━━━━━━━━━━━━━━━━━━━━━┳━━━━━━━━━━━━━━━━━━━━━━━━┳━━━━━━━━━━━━━━━┓\n",
       "┃\u001b[1m \u001b[0m\u001b[1mLayer (type)                   \u001b[0m\u001b[1m \u001b[0m┃\u001b[1m \u001b[0m\u001b[1mOutput Shape          \u001b[0m\u001b[1m \u001b[0m┃\u001b[1m \u001b[0m\u001b[1m      Param #\u001b[0m\u001b[1m \u001b[0m┃\n",
       "┡━━━━━━━━━━━━━━━━━━━━━━━━━━━━━━━━━╇━━━━━━━━━━━━━━━━━━━━━━━━╇━━━━━━━━━━━━━━━┩\n",
       "│ resnet152 (\u001b[38;5;33mFunctional\u001b[0m)          │ ?                      │    \u001b[38;5;34m58,370,944\u001b[0m │\n",
       "├─────────────────────────────────┼────────────────────────┼───────────────┤\n",
       "│ flatten (\u001b[38;5;33mFlatten\u001b[0m)               │ ?                      │   \u001b[38;5;34m0\u001b[0m (unbuilt) │\n",
       "├─────────────────────────────────┼────────────────────────┼───────────────┤\n",
       "│ dense (\u001b[38;5;33mDense\u001b[0m)                   │ ?                      │   \u001b[38;5;34m0\u001b[0m (unbuilt) │\n",
       "├─────────────────────────────────┼────────────────────────┼───────────────┤\n",
       "│ dense_1 (\u001b[38;5;33mDense\u001b[0m)                 │ ?                      │   \u001b[38;5;34m0\u001b[0m (unbuilt) │\n",
       "├─────────────────────────────────┼────────────────────────┼───────────────┤\n",
       "│ dense_2 (\u001b[38;5;33mDense\u001b[0m)                 │ ?                      │   \u001b[38;5;34m0\u001b[0m (unbuilt) │\n",
       "├─────────────────────────────────┼────────────────────────┼───────────────┤\n",
       "│ dense_3 (\u001b[38;5;33mDense\u001b[0m)                 │ ?                      │   \u001b[38;5;34m0\u001b[0m (unbuilt) │\n",
       "├─────────────────────────────────┼────────────────────────┼───────────────┤\n",
       "│ dense_4 (\u001b[38;5;33mDense\u001b[0m)                 │ ?                      │   \u001b[38;5;34m0\u001b[0m (unbuilt) │\n",
       "└─────────────────────────────────┴────────────────────────┴───────────────┘\n"
      ]
     },
     "metadata": {},
     "output_type": "display_data"
    },
    {
     "data": {
      "text/html": [
       "<pre style=\"white-space:pre;overflow-x:auto;line-height:normal;font-family:Menlo,'DejaVu Sans Mono',consolas,'Courier New',monospace\"><span style=\"font-weight: bold\"> Total params: </span><span style=\"color: #00af00; text-decoration-color: #00af00\">58,370,944</span> (222.67 MB)\n",
       "</pre>\n"
      ],
      "text/plain": [
       "\u001b[1m Total params: \u001b[0m\u001b[38;5;34m58,370,944\u001b[0m (222.67 MB)\n"
      ]
     },
     "metadata": {},
     "output_type": "display_data"
    },
    {
     "data": {
      "text/html": [
       "<pre style=\"white-space:pre;overflow-x:auto;line-height:normal;font-family:Menlo,'DejaVu Sans Mono',consolas,'Courier New',monospace\"><span style=\"font-weight: bold\"> Trainable params: </span><span style=\"color: #00af00; text-decoration-color: #00af00\">0</span> (0.00 B)\n",
       "</pre>\n"
      ],
      "text/plain": [
       "\u001b[1m Trainable params: \u001b[0m\u001b[38;5;34m0\u001b[0m (0.00 B)\n"
      ]
     },
     "metadata": {},
     "output_type": "display_data"
    },
    {
     "data": {
      "text/html": [
       "<pre style=\"white-space:pre;overflow-x:auto;line-height:normal;font-family:Menlo,'DejaVu Sans Mono',consolas,'Courier New',monospace\"><span style=\"font-weight: bold\"> Non-trainable params: </span><span style=\"color: #00af00; text-decoration-color: #00af00\">58,370,944</span> (222.67 MB)\n",
       "</pre>\n"
      ],
      "text/plain": [
       "\u001b[1m Non-trainable params: \u001b[0m\u001b[38;5;34m58,370,944\u001b[0m (222.67 MB)\n"
      ]
     },
     "metadata": {},
     "output_type": "display_data"
    }
   ],
   "source": [
    "baseline_resnet_cdf_model = create_resnet_model(best_hp)\n",
    "baseline_resnet_cdf_model.summary()"
   ]
  },
  {
   "cell_type": "code",
   "execution_count": 16,
   "id": "387949a8",
   "metadata": {
    "execution": {
     "iopub.execute_input": "2024-11-04T18:29:47.085639Z",
     "iopub.status.busy": "2024-11-04T18:29:47.085309Z",
     "iopub.status.idle": "2024-11-04T18:55:48.644245Z",
     "shell.execute_reply": "2024-11-04T18:55:48.643105Z"
    },
    "papermill": {
     "duration": 1561.582822,
     "end_time": "2024-11-04T18:55:48.646558",
     "exception": false,
     "start_time": "2024-11-04T18:29:47.063736",
     "status": "completed"
    },
    "tags": []
   },
   "outputs": [
    {
     "name": "stdout",
     "output_type": "stream",
     "text": [
      "Epoch 1/50\n"
     ]
    },
    {
     "name": "stderr",
     "output_type": "stream",
     "text": [
      "/opt/conda/lib/python3.10/site-packages/keras/src/trainers/data_adapters/py_dataset_adapter.py:121: UserWarning: Your `PyDataset` class should call `super().__init__(**kwargs)` in its constructor. `**kwargs` can include `workers`, `use_multiprocessing`, `max_queue_size`. Do not pass these arguments to `fit()`, as they will be ignored.\n",
      "  self._warn_if_super_not_called()\n",
      "WARNING: All log messages before absl::InitializeLog() is called are written to STDERR\n",
      "I0000 00:00:1730745008.404562     255 service.cc:145] XLA service 0x7caf88002770 initialized for platform CUDA (this does not guarantee that XLA will be used). Devices:\n",
      "I0000 00:00:1730745008.404609     255 service.cc:153]   StreamExecutor device (0): Tesla P100-PCIE-16GB, Compute Capability 6.0\n"
     ]
    },
    {
     "name": "stdout",
     "output_type": "stream",
     "text": [
      "\u001b[1m  2/438\u001b[0m \u001b[37m━━━━━━━━━━━━━━━━━━━━\u001b[0m \u001b[1m25s\u001b[0m 58ms/step - accuracy: 0.4844 - loss: 0.7796   "
     ]
    },
    {
     "name": "stderr",
     "output_type": "stream",
     "text": [
      "I0000 00:00:1730745016.193521     255 device_compiler.h:188] Compiled cluster using XLA!  This line is logged at most once for the lifetime of the process.\n"
     ]
    },
    {
     "name": "stdout",
     "output_type": "stream",
     "text": [
      "\u001b[1m438/438\u001b[0m \u001b[32m━━━━━━━━━━━━━━━━━━━━\u001b[0m\u001b[37m\u001b[0m \u001b[1m147s\u001b[0m 270ms/step - accuracy: 0.6409 - loss: 0.6392 - val_accuracy: 0.6190 - val_loss: 0.6455\n",
      "Epoch 2/50\n",
      "\u001b[1m438/438\u001b[0m \u001b[32m━━━━━━━━━━━━━━━━━━━━\u001b[0m\u001b[37m\u001b[0m \u001b[1m27s\u001b[0m 61ms/step - accuracy: 0.8923 - loss: 0.3242 - val_accuracy: 0.6640 - val_loss: 0.6907\n",
      "Epoch 3/50\n",
      "\u001b[1m438/438\u001b[0m \u001b[32m━━━━━━━━━━━━━━━━━━━━\u001b[0m\u001b[37m\u001b[0m \u001b[1m27s\u001b[0m 62ms/step - accuracy: 0.9555 - loss: 0.1586 - val_accuracy: 0.6750 - val_loss: 0.7667\n",
      "Epoch 4/50\n",
      "\u001b[1m438/438\u001b[0m \u001b[32m━━━━━━━━━━━━━━━━━━━━\u001b[0m\u001b[37m\u001b[0m \u001b[1m27s\u001b[0m 62ms/step - accuracy: 0.9800 - loss: 0.0831 - val_accuracy: 0.6535 - val_loss: 0.9624\n",
      "Epoch 5/50\n",
      "\u001b[1m438/438\u001b[0m \u001b[32m━━━━━━━━━━━━━━━━━━━━\u001b[0m\u001b[37m\u001b[0m \u001b[1m28s\u001b[0m 64ms/step - accuracy: 0.9919 - loss: 0.0479 - val_accuracy: 0.6865 - val_loss: 0.9512\n",
      "Epoch 6/50\n",
      "\u001b[1m438/438\u001b[0m \u001b[32m━━━━━━━━━━━━━━━━━━━━\u001b[0m\u001b[37m\u001b[0m \u001b[1m29s\u001b[0m 64ms/step - accuracy: 0.9962 - loss: 0.0281 - val_accuracy: 0.6695 - val_loss: 1.1364\n",
      "Epoch 7/50\n",
      "\u001b[1m438/438\u001b[0m \u001b[32m━━━━━━━━━━━━━━━━━━━━\u001b[0m\u001b[37m\u001b[0m \u001b[1m28s\u001b[0m 64ms/step - accuracy: 0.9976 - loss: 0.0179 - val_accuracy: 0.6655 - val_loss: 1.2897\n",
      "Epoch 8/50\n",
      "\u001b[1m438/438\u001b[0m \u001b[32m━━━━━━━━━━━━━━━━━━━━\u001b[0m\u001b[37m\u001b[0m \u001b[1m40s\u001b[0m 63ms/step - accuracy: 0.9978 - loss: 0.0118 - val_accuracy: 0.6595 - val_loss: 1.5001\n",
      "Epoch 9/50\n",
      "\u001b[1m438/438\u001b[0m \u001b[32m━━━━━━━━━━━━━━━━━━━━\u001b[0m\u001b[37m\u001b[0m \u001b[1m29s\u001b[0m 65ms/step - accuracy: 0.9981 - loss: 0.0111 - val_accuracy: 0.6820 - val_loss: 1.3726\n",
      "Epoch 10/50\n",
      "\u001b[1m438/438\u001b[0m \u001b[32m━━━━━━━━━━━━━━━━━━━━\u001b[0m\u001b[37m\u001b[0m \u001b[1m29s\u001b[0m 65ms/step - accuracy: 0.9991 - loss: 0.0053 - val_accuracy: 0.6925 - val_loss: 1.3973\n",
      "Epoch 11/50\n",
      "\u001b[1m438/438\u001b[0m \u001b[32m━━━━━━━━━━━━━━━━━━━━\u001b[0m\u001b[37m\u001b[0m \u001b[1m29s\u001b[0m 66ms/step - accuracy: 0.9993 - loss: 0.0039 - val_accuracy: 0.6820 - val_loss: 1.5172\n",
      "Epoch 12/50\n",
      "\u001b[1m438/438\u001b[0m \u001b[32m━━━━━━━━━━━━━━━━━━━━\u001b[0m\u001b[37m\u001b[0m \u001b[1m29s\u001b[0m 65ms/step - accuracy: 0.9991 - loss: 0.0028 - val_accuracy: 0.6790 - val_loss: 1.6247\n",
      "Epoch 13/50\n",
      "\u001b[1m438/438\u001b[0m \u001b[32m━━━━━━━━━━━━━━━━━━━━\u001b[0m\u001b[37m\u001b[0m \u001b[1m29s\u001b[0m 66ms/step - accuracy: 0.9986 - loss: 0.0030 - val_accuracy: 0.6890 - val_loss: 1.6232\n",
      "Epoch 14/50\n",
      "\u001b[1m438/438\u001b[0m \u001b[32m━━━━━━━━━━━━━━━━━━━━\u001b[0m\u001b[37m\u001b[0m \u001b[1m29s\u001b[0m 64ms/step - accuracy: 0.9986 - loss: 0.0026 - val_accuracy: 0.6800 - val_loss: 1.7609\n",
      "Epoch 15/50\n",
      "\u001b[1m438/438\u001b[0m \u001b[32m━━━━━━━━━━━━━━━━━━━━\u001b[0m\u001b[37m\u001b[0m \u001b[1m42s\u001b[0m 67ms/step - accuracy: 0.9988 - loss: 0.0023 - val_accuracy: 0.6760 - val_loss: 1.8510\n",
      "Epoch 16/50\n",
      "\u001b[1m438/438\u001b[0m \u001b[32m━━━━━━━━━━━━━━━━━━━━\u001b[0m\u001b[37m\u001b[0m \u001b[1m28s\u001b[0m 64ms/step - accuracy: 0.9992 - loss: 0.0018 - val_accuracy: 0.6900 - val_loss: 1.8084\n",
      "Epoch 17/50\n",
      "\u001b[1m438/438\u001b[0m \u001b[32m━━━━━━━━━━━━━━━━━━━━\u001b[0m\u001b[37m\u001b[0m \u001b[1m28s\u001b[0m 63ms/step - accuracy: 0.9993 - loss: 0.0013 - val_accuracy: 0.6935 - val_loss: 1.8258\n",
      "Epoch 18/50\n",
      "\u001b[1m438/438\u001b[0m \u001b[32m━━━━━━━━━━━━━━━━━━━━\u001b[0m\u001b[37m\u001b[0m \u001b[1m28s\u001b[0m 62ms/step - accuracy: 0.9990 - loss: 0.0018 - val_accuracy: 0.6815 - val_loss: 1.9571\n",
      "Epoch 19/50\n",
      "\u001b[1m438/438\u001b[0m \u001b[32m━━━━━━━━━━━━━━━━━━━━\u001b[0m\u001b[37m\u001b[0m \u001b[1m28s\u001b[0m 62ms/step - accuracy: 0.9989 - loss: 0.0016 - val_accuracy: 0.6770 - val_loss: 2.0158\n",
      "Epoch 20/50\n",
      "\u001b[1m438/438\u001b[0m \u001b[32m━━━━━━━━━━━━━━━━━━━━\u001b[0m\u001b[37m\u001b[0m \u001b[1m40s\u001b[0m 60ms/step - accuracy: 0.9996 - loss: 0.0014 - val_accuracy: 0.6845 - val_loss: 2.0248\n",
      "Epoch 21/50\n",
      "\u001b[1m438/438\u001b[0m \u001b[32m━━━━━━━━━━━━━━━━━━━━\u001b[0m\u001b[37m\u001b[0m \u001b[1m27s\u001b[0m 61ms/step - accuracy: 0.9986 - loss: 0.0020 - val_accuracy: 0.6895 - val_loss: 2.0670\n",
      "Epoch 22/50\n",
      "\u001b[1m438/438\u001b[0m \u001b[32m━━━━━━━━━━━━━━━━━━━━\u001b[0m\u001b[37m\u001b[0m \u001b[1m27s\u001b[0m 60ms/step - accuracy: 0.9984 - loss: 0.0019 - val_accuracy: 0.6870 - val_loss: 2.0711\n",
      "Epoch 23/50\n",
      "\u001b[1m438/438\u001b[0m \u001b[32m━━━━━━━━━━━━━━━━━━━━\u001b[0m\u001b[37m\u001b[0m \u001b[1m27s\u001b[0m 61ms/step - accuracy: 0.9990 - loss: 0.0014 - val_accuracy: 0.6965 - val_loss: 2.1098\n",
      "Epoch 24/50\n",
      "\u001b[1m438/438\u001b[0m \u001b[32m━━━━━━━━━━━━━━━━━━━━\u001b[0m\u001b[37m\u001b[0m \u001b[1m27s\u001b[0m 60ms/step - accuracy: 0.9982 - loss: 0.0018 - val_accuracy: 0.6920 - val_loss: 2.2034\n",
      "Epoch 25/50\n",
      "\u001b[1m438/438\u001b[0m \u001b[32m━━━━━━━━━━━━━━━━━━━━\u001b[0m\u001b[37m\u001b[0m \u001b[1m42s\u001b[0m 62ms/step - accuracy: 0.9991 - loss: 0.0013 - val_accuracy: 0.6910 - val_loss: 2.2217\n",
      "Epoch 26/50\n",
      "\u001b[1m438/438\u001b[0m \u001b[32m━━━━━━━━━━━━━━━━━━━━\u001b[0m\u001b[37m\u001b[0m \u001b[1m28s\u001b[0m 62ms/step - accuracy: 0.9992 - loss: 0.0013 - val_accuracy: 0.6875 - val_loss: 2.3163\n",
      "Epoch 27/50\n",
      "\u001b[1m438/438\u001b[0m \u001b[32m━━━━━━━━━━━━━━━━━━━━\u001b[0m\u001b[37m\u001b[0m \u001b[1m28s\u001b[0m 62ms/step - accuracy: 0.9992 - loss: 0.0011 - val_accuracy: 0.6905 - val_loss: 2.3511\n",
      "Epoch 28/50\n",
      "\u001b[1m438/438\u001b[0m \u001b[32m━━━━━━━━━━━━━━━━━━━━\u001b[0m\u001b[37m\u001b[0m \u001b[1m27s\u001b[0m 62ms/step - accuracy: 0.9990 - loss: 0.0014 - val_accuracy: 0.6935 - val_loss: 2.2819\n",
      "Epoch 29/50\n",
      "\u001b[1m438/438\u001b[0m \u001b[32m━━━━━━━━━━━━━━━━━━━━\u001b[0m\u001b[37m\u001b[0m \u001b[1m27s\u001b[0m 61ms/step - accuracy: 0.9991 - loss: 0.0011 - val_accuracy: 0.6925 - val_loss: 2.3655\n",
      "Epoch 30/50\n",
      "\u001b[1m438/438\u001b[0m \u001b[32m━━━━━━━━━━━━━━━━━━━━\u001b[0m\u001b[37m\u001b[0m \u001b[1m27s\u001b[0m 60ms/step - accuracy: 0.9989 - loss: 0.0012 - val_accuracy: 0.6910 - val_loss: 2.3998\n",
      "Epoch 31/50\n",
      "\u001b[1m438/438\u001b[0m \u001b[32m━━━━━━━━━━━━━━━━━━━━\u001b[0m\u001b[37m\u001b[0m \u001b[1m27s\u001b[0m 60ms/step - accuracy: 0.9992 - loss: 0.0011 - val_accuracy: 0.6915 - val_loss: 2.4750\n",
      "Epoch 32/50\n",
      "\u001b[1m438/438\u001b[0m \u001b[32m━━━━━━━━━━━━━━━━━━━━\u001b[0m\u001b[37m\u001b[0m \u001b[1m27s\u001b[0m 60ms/step - accuracy: 0.9926 - loss: 0.0275 - val_accuracy: 0.6965 - val_loss: 2.1853\n",
      "Epoch 33/50\n",
      "\u001b[1m438/438\u001b[0m \u001b[32m━━━━━━━━━━━━━━━━━━━━\u001b[0m\u001b[37m\u001b[0m \u001b[1m27s\u001b[0m 60ms/step - accuracy: 0.9985 - loss: 0.0024 - val_accuracy: 0.7135 - val_loss: 2.2693\n",
      "Epoch 34/50\n",
      "\u001b[1m438/438\u001b[0m \u001b[32m━━━━━━━━━━━━━━━━━━━━\u001b[0m\u001b[37m\u001b[0m \u001b[1m27s\u001b[0m 61ms/step - accuracy: 0.9985 - loss: 0.0029 - val_accuracy: 0.6925 - val_loss: 2.4642\n",
      "Epoch 35/50\n",
      "\u001b[1m438/438\u001b[0m \u001b[32m━━━━━━━━━━━━━━━━━━━━\u001b[0m\u001b[37m\u001b[0m \u001b[1m27s\u001b[0m 61ms/step - accuracy: 0.9993 - loss: 0.0018 - val_accuracy: 0.6875 - val_loss: 2.5008\n",
      "Epoch 36/50\n",
      "\u001b[1m438/438\u001b[0m \u001b[32m━━━━━━━━━━━━━━━━━━━━\u001b[0m\u001b[37m\u001b[0m \u001b[1m27s\u001b[0m 61ms/step - accuracy: 0.9986 - loss: 0.0017 - val_accuracy: 0.7025 - val_loss: 2.4357\n",
      "Epoch 37/50\n",
      "\u001b[1m438/438\u001b[0m \u001b[32m━━━━━━━━━━━━━━━━━━━━\u001b[0m\u001b[37m\u001b[0m \u001b[1m27s\u001b[0m 60ms/step - accuracy: 0.9992 - loss: 0.0011 - val_accuracy: 0.6920 - val_loss: 2.4820\n",
      "Epoch 38/50\n",
      "\u001b[1m438/438\u001b[0m \u001b[32m━━━━━━━━━━━━━━━━━━━━\u001b[0m\u001b[37m\u001b[0m \u001b[1m27s\u001b[0m 60ms/step - accuracy: 0.9991 - loss: 0.0012 - val_accuracy: 0.6900 - val_loss: 2.4926\n",
      "Epoch 39/50\n",
      "\u001b[1m438/438\u001b[0m \u001b[32m━━━━━━━━━━━━━━━━━━━━\u001b[0m\u001b[37m\u001b[0m \u001b[1m27s\u001b[0m 60ms/step - accuracy: 0.9989 - loss: 0.0014 - val_accuracy: 0.6905 - val_loss: 2.5095\n",
      "Epoch 40/50\n",
      "\u001b[1m438/438\u001b[0m \u001b[32m━━━━━━━━━━━━━━━━━━━━\u001b[0m\u001b[37m\u001b[0m \u001b[1m27s\u001b[0m 60ms/step - accuracy: 0.9993 - loss: 0.0011 - val_accuracy: 0.6915 - val_loss: 2.5113\n",
      "Epoch 41/50\n",
      "\u001b[1m438/438\u001b[0m \u001b[32m━━━━━━━━━━━━━━━━━━━━\u001b[0m\u001b[37m\u001b[0m \u001b[1m27s\u001b[0m 60ms/step - accuracy: 0.9990 - loss: 0.0012 - val_accuracy: 0.6945 - val_loss: 2.5060\n",
      "Epoch 42/50\n",
      "\u001b[1m438/438\u001b[0m \u001b[32m━━━━━━━━━━━━━━━━━━━━\u001b[0m\u001b[37m\u001b[0m \u001b[1m41s\u001b[0m 61ms/step - accuracy: 0.9991 - loss: 0.0011 - val_accuracy: 0.6910 - val_loss: 2.5480\n",
      "Epoch 43/50\n",
      "\u001b[1m438/438\u001b[0m \u001b[32m━━━━━━━━━━━━━━━━━━━━\u001b[0m\u001b[37m\u001b[0m \u001b[1m27s\u001b[0m 61ms/step - accuracy: 0.9988 - loss: 0.0013 - val_accuracy: 0.6935 - val_loss: 2.5483\n",
      "Epoch 44/50\n",
      "\u001b[1m438/438\u001b[0m \u001b[32m━━━━━━━━━━━━━━━━━━━━\u001b[0m\u001b[37m\u001b[0m \u001b[1m27s\u001b[0m 61ms/step - accuracy: 0.9992 - loss: 0.0011 - val_accuracy: 0.6865 - val_loss: 2.5705\n",
      "Epoch 45/50\n",
      "\u001b[1m438/438\u001b[0m \u001b[32m━━━━━━━━━━━━━━━━━━━━\u001b[0m\u001b[37m\u001b[0m \u001b[1m27s\u001b[0m 60ms/step - accuracy: 0.9992 - loss: 0.0012 - val_accuracy: 0.6945 - val_loss: 2.5398\n",
      "Epoch 46/50\n",
      "\u001b[1m438/438\u001b[0m \u001b[32m━━━━━━━━━━━━━━━━━━━━\u001b[0m\u001b[37m\u001b[0m \u001b[1m27s\u001b[0m 61ms/step - accuracy: 0.9991 - loss: 0.0012 - val_accuracy: 0.6930 - val_loss: 2.5769\n",
      "Epoch 47/50\n",
      "\u001b[1m438/438\u001b[0m \u001b[32m━━━━━━━━━━━━━━━━━━━━\u001b[0m\u001b[37m\u001b[0m \u001b[1m27s\u001b[0m 61ms/step - accuracy: 0.9991 - loss: 0.0012 - val_accuracy: 0.6940 - val_loss: 2.5866\n",
      "Epoch 48/50\n",
      "\u001b[1m438/438\u001b[0m \u001b[32m━━━━━━━━━━━━━━━━━━━━\u001b[0m\u001b[37m\u001b[0m \u001b[1m27s\u001b[0m 61ms/step - accuracy: 0.9986 - loss: 0.0013 - val_accuracy: 0.6890 - val_loss: 2.5908\n",
      "Epoch 49/50\n",
      "\u001b[1m438/438\u001b[0m \u001b[32m━━━━━━━━━━━━━━━━━━━━\u001b[0m\u001b[37m\u001b[0m \u001b[1m27s\u001b[0m 61ms/step - accuracy: 0.9992 - loss: 0.0011 - val_accuracy: 0.6955 - val_loss: 2.5954\n",
      "Epoch 50/50\n",
      "\u001b[1m438/438\u001b[0m \u001b[32m━━━━━━━━━━━━━━━━━━━━\u001b[0m\u001b[37m\u001b[0m \u001b[1m28s\u001b[0m 62ms/step - accuracy: 0.9995 - loss: 0.0010 - val_accuracy: 0.6850 - val_loss: 2.6476\n"
     ]
    }
   ],
   "source": [
    "baseline_resnet_cdf_history = baseline_resnet_cdf_model.fit(\n",
    "    cdf_train_generator, validation_data=cdf_val_generator, epochs=NUM_EPOCHS\n",
    ")"
   ]
  },
  {
   "cell_type": "code",
   "execution_count": 17,
   "id": "522e159f",
   "metadata": {
    "execution": {
     "iopub.execute_input": "2024-11-04T18:55:52.295500Z",
     "iopub.status.busy": "2024-11-04T18:55:52.295082Z",
     "iopub.status.idle": "2024-11-04T18:55:52.751083Z",
     "shell.execute_reply": "2024-11-04T18:55:52.750192Z"
    },
    "papermill": {
     "duration": 2.283482,
     "end_time": "2024-11-04T18:55:52.753623",
     "exception": false,
     "start_time": "2024-11-04T18:55:50.470141",
     "status": "completed"
    },
    "tags": []
   },
   "outputs": [
    {
     "data": {
      "image/png": "[encoded data removed]",
      "text/plain": [
       "<Figure size 1200x400 with 2 Axes>"
      ]
     },
     "metadata": {},
     "output_type": "display_data"
    }
   ],
   "source": [
    "plot_train_result(\n",
    "    baseline_resnet_cdf_history.history,\n",
    "    title=\"Baseline ResNet Model on Celeb-DF-v2 Dataset\"\n",
    ")"
   ]
  },
  {
   "cell_type": "code",
   "execution_count": 18,
   "id": "b26afafb",
   "metadata": {
    "execution": {
     "iopub.execute_input": "2024-11-04T18:55:56.423682Z",
     "iopub.status.busy": "2024-11-04T18:55:56.422820Z",
     "iopub.status.idle": "2024-11-04T18:55:58.273956Z",
     "shell.execute_reply": "2024-11-04T18:55:58.272982Z"
    },
    "papermill": {
     "duration": 3.687732,
     "end_time": "2024-11-04T18:55:58.276122",
     "exception": false,
     "start_time": "2024-11-04T18:55:54.588390",
     "status": "completed"
    },
    "tags": []
   },
   "outputs": [
    {
     "name": "stdout",
     "output_type": "stream",
     "text": [
      "Model saved at baseline_resnet_cdf_model.keras\n",
      "Training history saved at baseline_resnet_cdf_history.pkl\n"
     ]
    }
   ],
   "source": [
    "save_model_and_history(\n",
    "    baseline_resnet_cdf_model, baseline_resnet_cdf_history, \"baseline_resnet_cdf\"\n",
    ")"
   ]
  },
  {
   "cell_type": "markdown",
   "id": "25883bc9",
   "metadata": {
    "papermill": {
     "duration": 1.818499,
     "end_time": "2024-11-04T18:56:01.927348",
     "exception": false,
     "start_time": "2024-11-04T18:56:00.108849",
     "status": "completed"
    },
    "tags": []
   },
   "source": [
    "#### DeeperForensics-1.0 Dataset"
   ]
  },
  {
   "cell_type": "code",
   "execution_count": 19,
   "id": "f14021c3",
   "metadata": {
    "execution": {
     "iopub.execute_input": "2024-11-04T18:56:05.609382Z",
     "iopub.status.busy": "2024-11-04T18:56:05.608663Z",
     "iopub.status.idle": "2024-11-04T18:56:08.820505Z",
     "shell.execute_reply": "2024-11-04T18:56:08.819574Z"
    },
    "papermill": {
     "duration": 5.068961,
     "end_time": "2024-11-04T18:56:08.822348",
     "exception": false,
     "start_time": "2024-11-04T18:56:03.753387",
     "status": "completed"
    },
    "tags": []
   },
   "outputs": [
    {
     "data": {
      "text/html": [
       "<pre style=\"white-space:pre;overflow-x:auto;line-height:normal;font-family:Menlo,'DejaVu Sans Mono',consolas,'Courier New',monospace\"><span style=\"font-weight: bold\">Model: \"sequential_1\"</span>\n",
       "</pre>\n"
      ],
      "text/plain": [
       "\u001b[1mModel: \"sequential_1\"\u001b[0m\n"
      ]
     },
     "metadata": {},
     "output_type": "display_data"
    },
    {
     "data": {
      "text/html": [
       "<pre style=\"white-space:pre;overflow-x:auto;line-height:normal;font-family:Menlo,'DejaVu Sans Mono',consolas,'Courier New',monospace\">┏━━━━━━━━━━━━━━━━━━━━━━━━━━━━━━━━━┳━━━━━━━━━━━━━━━━━━━━━━━━┳━━━━━━━━━━━━━━━┓\n",
       "┃<span style=\"font-weight: bold\"> Layer (type)                    </span>┃<span style=\"font-weight: bold\"> Output Shape           </span>┃<span style=\"font-weight: bold\">       Param # </span>┃\n",
       "┡━━━━━━━━━━━━━━━━━━━━━━━━━━━━━━━━━╇━━━━━━━━━━━━━━━━━━━━━━━━╇━━━━━━━━━━━━━━━┩\n",
       "│ resnet152 (<span style=\"color: #0087ff; text-decoration-color: #0087ff\">Functional</span>)          │ ?                      │    <span style=\"color: #00af00; text-decoration-color: #00af00\">58,370,944</span> │\n",
       "├─────────────────────────────────┼────────────────────────┼───────────────┤\n",
       "│ flatten_1 (<span style=\"color: #0087ff; text-decoration-color: #0087ff\">Flatten</span>)             │ ?                      │   <span style=\"color: #00af00; text-decoration-color: #00af00\">0</span> (unbuilt) │\n",
       "├─────────────────────────────────┼────────────────────────┼───────────────┤\n",
       "│ dense_5 (<span style=\"color: #0087ff; text-decoration-color: #0087ff\">Dense</span>)                 │ ?                      │   <span style=\"color: #00af00; text-decoration-color: #00af00\">0</span> (unbuilt) │\n",
       "├─────────────────────────────────┼────────────────────────┼───────────────┤\n",
       "│ dense_6 (<span style=\"color: #0087ff; text-decoration-color: #0087ff\">Dense</span>)                 │ ?                      │   <span style=\"color: #00af00; text-decoration-color: #00af00\">0</span> (unbuilt) │\n",
       "├─────────────────────────────────┼────────────────────────┼───────────────┤\n",
       "│ dense_7 (<span style=\"color: #0087ff; text-decoration-color: #0087ff\">Dense</span>)                 │ ?                      │   <span style=\"color: #00af00; text-decoration-color: #00af00\">0</span> (unbuilt) │\n",
       "├─────────────────────────────────┼────────────────────────┼───────────────┤\n",
       "│ dense_8 (<span style=\"color: #0087ff; text-decoration-color: #0087ff\">Dense</span>)                 │ ?                      │   <span style=\"color: #00af00; text-decoration-color: #00af00\">0</span> (unbuilt) │\n",
       "├─────────────────────────────────┼────────────────────────┼───────────────┤\n",
       "│ dense_9 (<span style=\"color: #0087ff; text-decoration-color: #0087ff\">Dense</span>)                 │ ?                      │   <span style=\"color: #00af00; text-decoration-color: #00af00\">0</span> (unbuilt) │\n",
       "└─────────────────────────────────┴────────────────────────┴───────────────┘\n",
       "</pre>\n"
      ],
      "text/plain": [
       "┏━━━━━━━━━━━━━━━━━━━━━━━━━━━━━━━━━┳━━━━━━━━━━━━━━━━━━━━━━━━┳━━━━━━━━━━━━━━━┓\n",
       "┃\u001b[1m \u001b[0m\u001b[1mLayer (type)                   \u001b[0m\u001b[1m \u001b[0m┃\u001b[1m \u001b[0m\u001b[1mOutput Shape          \u001b[0m\u001b[1m \u001b[0m┃\u001b[1m \u001b[0m\u001b[1m      Param #\u001b[0m\u001b[1m \u001b[0m┃\n",
       "┡━━━━━━━━━━━━━━━━━━━━━━━━━━━━━━━━━╇━━━━━━━━━━━━━━━━━━━━━━━━╇━━━━━━━━━━━━━━━┩\n",
       "│ resnet152 (\u001b[38;5;33mFunctional\u001b[0m)          │ ?                      │    \u001b[38;5;34m58,370,944\u001b[0m │\n",
       "├─────────────────────────────────┼────────────────────────┼───────────────┤\n",
       "│ flatten_1 (\u001b[38;5;33mFlatten\u001b[0m)             │ ?                      │   \u001b[38;5;34m0\u001b[0m (unbuilt) │\n",
       "├─────────────────────────────────┼────────────────────────┼───────────────┤\n",
       "│ dense_5 (\u001b[38;5;33mDense\u001b[0m)                 │ ?                      │   \u001b[38;5;34m0\u001b[0m (unbuilt) │\n",
       "├─────────────────────────────────┼────────────────────────┼───────────────┤\n",
       "│ dense_6 (\u001b[38;5;33mDense\u001b[0m)                 │ ?                      │   \u001b[38;5;34m0\u001b[0m (unbuilt) │\n",
       "├─────────────────────────────────┼────────────────────────┼───────────────┤\n",
       "│ dense_7 (\u001b[38;5;33mDense\u001b[0m)                 │ ?                      │   \u001b[38;5;34m0\u001b[0m (unbuilt) │\n",
       "├─────────────────────────────────┼────────────────────────┼───────────────┤\n",
       "│ dense_8 (\u001b[38;5;33mDense\u001b[0m)                 │ ?                      │   \u001b[38;5;34m0\u001b[0m (unbuilt) │\n",
       "├─────────────────────────────────┼────────────────────────┼───────────────┤\n",
       "│ dense_9 (\u001b[38;5;33mDense\u001b[0m)                 │ ?                      │   \u001b[38;5;34m0\u001b[0m (unbuilt) │\n",
       "└─────────────────────────────────┴────────────────────────┴───────────────┘\n"
      ]
     },
     "metadata": {},
     "output_type": "display_data"
    },
    {
     "data": {
      "text/html": [
       "<pre style=\"white-space:pre;overflow-x:auto;line-height:normal;font-family:Menlo,'DejaVu Sans Mono',consolas,'Courier New',monospace\"><span style=\"font-weight: bold\"> Total params: </span><span style=\"color: #00af00; text-decoration-color: #00af00\">58,370,944</span> (222.67 MB)\n",
       "</pre>\n"
      ],
      "text/plain": [
       "\u001b[1m Total params: \u001b[0m\u001b[38;5;34m58,370,944\u001b[0m (222.67 MB)\n"
      ]
     },
     "metadata": {},
     "output_type": "display_data"
    },
    {
     "data": {
      "text/html": [
       "<pre style=\"white-space:pre;overflow-x:auto;line-height:normal;font-family:Menlo,'DejaVu Sans Mono',consolas,'Courier New',monospace\"><span style=\"font-weight: bold\"> Trainable params: </span><span style=\"color: #00af00; text-decoration-color: #00af00\">0</span> (0.00 B)\n",
       "</pre>\n"
      ],
      "text/plain": [
       "\u001b[1m Trainable params: \u001b[0m\u001b[38;5;34m0\u001b[0m (0.00 B)\n"
      ]
     },
     "metadata": {},
     "output_type": "display_data"
    },
    {
     "data": {
      "text/html": [
       "<pre style=\"white-space:pre;overflow-x:auto;line-height:normal;font-family:Menlo,'DejaVu Sans Mono',consolas,'Courier New',monospace\"><span style=\"font-weight: bold\"> Non-trainable params: </span><span style=\"color: #00af00; text-decoration-color: #00af00\">58,370,944</span> (222.67 MB)\n",
       "</pre>\n"
      ],
      "text/plain": [
       "\u001b[1m Non-trainable params: \u001b[0m\u001b[38;5;34m58,370,944\u001b[0m (222.67 MB)\n"
      ]
     },
     "metadata": {},
     "output_type": "display_data"
    }
   ],
   "source": [
    "baseline_resnet_df_model = create_resnet_model(best_hp)\n",
    "baseline_resnet_df_model.summary()"
   ]
  },
  {
   "cell_type": "code",
   "execution_count": 20,
   "id": "b3145af6",
   "metadata": {
    "execution": {
     "iopub.execute_input": "2024-11-04T18:56:12.543498Z",
     "iopub.status.busy": "2024-11-04T18:56:12.543066Z",
     "iopub.status.idle": "2024-11-04T19:24:23.843067Z",
     "shell.execute_reply": "2024-11-04T19:24:23.842189Z"
    },
    "papermill": {
     "duration": 1693.148596,
     "end_time": "2024-11-04T19:24:23.845264",
     "exception": false,
     "start_time": "2024-11-04T18:56:10.696668",
     "status": "completed"
    },
    "tags": []
   },
   "outputs": [
    {
     "name": "stdout",
     "output_type": "stream",
     "text": [
      "Epoch 1/50\n",
      "\u001b[1m438/438\u001b[0m \u001b[32m━━━━━━━━━━━━━━━━━━━━\u001b[0m\u001b[37m\u001b[0m \u001b[1m164s\u001b[0m 314ms/step - accuracy: 0.7962 - loss: 0.4396 - val_accuracy: 0.8210 - val_loss: 0.3537\n",
      "Epoch 2/50\n",
      "\u001b[1m438/438\u001b[0m \u001b[32m━━━━━━━━━━━━━━━━━━━━\u001b[0m\u001b[37m\u001b[0m \u001b[1m30s\u001b[0m 67ms/step - accuracy: 0.9932 - loss: 0.0437 - val_accuracy: 0.8605 - val_loss: 0.3246\n",
      "Epoch 3/50\n",
      "\u001b[1m438/438\u001b[0m \u001b[32m━━━━━━━━━━━━━━━━━━━━\u001b[0m\u001b[37m\u001b[0m \u001b[1m29s\u001b[0m 65ms/step - accuracy: 0.9983 - loss: 0.0133 - val_accuracy: 0.9030 - val_loss: 0.2368\n",
      "Epoch 4/50\n",
      "\u001b[1m438/438\u001b[0m \u001b[32m━━━━━━━━━━━━━━━━━━━━\u001b[0m\u001b[37m\u001b[0m \u001b[1m30s\u001b[0m 67ms/step - accuracy: 0.9993 - loss: 0.0063 - val_accuracy: 0.9140 - val_loss: 0.2084\n",
      "Epoch 5/50\n",
      "\u001b[1m438/438\u001b[0m \u001b[32m━━━━━━━━━━━━━━━━━━━━\u001b[0m\u001b[37m\u001b[0m \u001b[1m30s\u001b[0m 67ms/step - accuracy: 0.9996 - loss: 0.0035 - val_accuracy: 0.9055 - val_loss: 0.2397\n",
      "Epoch 6/50\n",
      "\u001b[1m438/438\u001b[0m \u001b[32m━━━━━━━━━━━━━━━━━━━━\u001b[0m\u001b[37m\u001b[0m \u001b[1m30s\u001b[0m 68ms/step - accuracy: 0.9995 - loss: 0.0025 - val_accuracy: 0.9135 - val_loss: 0.2131\n",
      "Epoch 7/50\n",
      "\u001b[1m438/438\u001b[0m \u001b[32m━━━━━━━━━━━━━━━━━━━━\u001b[0m\u001b[37m\u001b[0m \u001b[1m29s\u001b[0m 66ms/step - accuracy: 0.9999 - loss: 0.0014 - val_accuracy: 0.9135 - val_loss: 0.2223\n",
      "Epoch 8/50\n",
      "\u001b[1m438/438\u001b[0m \u001b[32m━━━━━━━━━━━━━━━━━━━━\u001b[0m\u001b[37m\u001b[0m \u001b[1m30s\u001b[0m 68ms/step - accuracy: 0.9999 - loss: 8.1528e-04 - val_accuracy: 0.9060 - val_loss: 0.2563\n",
      "Epoch 9/50\n",
      "\u001b[1m438/438\u001b[0m \u001b[32m━━━━━━━━━━━━━━━━━━━━\u001b[0m\u001b[37m\u001b[0m \u001b[1m29s\u001b[0m 66ms/step - accuracy: 1.0000 - loss: 5.6512e-04 - val_accuracy: 0.9105 - val_loss: 0.2482\n",
      "Epoch 10/50\n",
      "\u001b[1m438/438\u001b[0m \u001b[32m━━━━━━━━━━━━━━━━━━━━\u001b[0m\u001b[37m\u001b[0m \u001b[1m30s\u001b[0m 68ms/step - accuracy: 1.0000 - loss: 5.3313e-04 - val_accuracy: 0.9120 - val_loss: 0.2451\n",
      "Epoch 11/50\n",
      "\u001b[1m438/438\u001b[0m \u001b[32m━━━━━━━━━━━━━━━━━━━━\u001b[0m\u001b[37m\u001b[0m \u001b[1m42s\u001b[0m 70ms/step - accuracy: 1.0000 - loss: 2.6000e-04 - val_accuracy: 0.9165 - val_loss: 0.2284\n",
      "Epoch 12/50\n",
      "\u001b[1m438/438\u001b[0m \u001b[32m━━━━━━━━━━━━━━━━━━━━\u001b[0m\u001b[37m\u001b[0m \u001b[1m28s\u001b[0m 64ms/step - accuracy: 1.0000 - loss: 1.5143e-04 - val_accuracy: 0.9140 - val_loss: 0.2495\n",
      "Epoch 13/50\n",
      "\u001b[1m438/438\u001b[0m \u001b[32m━━━━━━━━━━━━━━━━━━━━\u001b[0m\u001b[37m\u001b[0m \u001b[1m42s\u001b[0m 67ms/step - accuracy: 1.0000 - loss: 1.5114e-04 - val_accuracy: 0.9155 - val_loss: 0.2513\n",
      "Epoch 14/50\n",
      "\u001b[1m438/438\u001b[0m \u001b[32m━━━━━━━━━━━━━━━━━━━━\u001b[0m\u001b[37m\u001b[0m \u001b[1m29s\u001b[0m 65ms/step - accuracy: 1.0000 - loss: 8.9857e-05 - val_accuracy: 0.9120 - val_loss: 0.2657\n",
      "Epoch 15/50\n",
      "\u001b[1m438/438\u001b[0m \u001b[32m━━━━━━━━━━━━━━━━━━━━\u001b[0m\u001b[37m\u001b[0m \u001b[1m29s\u001b[0m 66ms/step - accuracy: 1.0000 - loss: 8.0392e-05 - val_accuracy: 0.9180 - val_loss: 0.2615\n",
      "Epoch 16/50\n",
      "\u001b[1m438/438\u001b[0m \u001b[32m━━━━━━━━━━━━━━━━━━━━\u001b[0m\u001b[37m\u001b[0m \u001b[1m40s\u001b[0m 65ms/step - accuracy: 1.0000 - loss: 6.3630e-05 - val_accuracy: 0.9095 - val_loss: 0.3102\n",
      "Epoch 17/50\n",
      "\u001b[1m438/438\u001b[0m \u001b[32m━━━━━━━━━━━━━━━━━━━━\u001b[0m\u001b[37m\u001b[0m \u001b[1m30s\u001b[0m 67ms/step - accuracy: 1.0000 - loss: 5.9817e-05 - val_accuracy: 0.9185 - val_loss: 0.2573\n",
      "Epoch 18/50\n",
      "\u001b[1m438/438\u001b[0m \u001b[32m━━━━━━━━━━━━━━━━━━━━\u001b[0m\u001b[37m\u001b[0m \u001b[1m29s\u001b[0m 65ms/step - accuracy: 1.0000 - loss: 2.8227e-05 - val_accuracy: 0.9150 - val_loss: 0.2840\n",
      "Epoch 19/50\n",
      "\u001b[1m438/438\u001b[0m \u001b[32m━━━━━━━━━━━━━━━━━━━━\u001b[0m\u001b[37m\u001b[0m \u001b[1m29s\u001b[0m 65ms/step - accuracy: 1.0000 - loss: 2.2076e-05 - val_accuracy: 0.9185 - val_loss: 0.2672\n",
      "Epoch 20/50\n",
      "\u001b[1m438/438\u001b[0m \u001b[32m━━━━━━━━━━━━━━━━━━━━\u001b[0m\u001b[37m\u001b[0m \u001b[1m29s\u001b[0m 65ms/step - accuracy: 1.0000 - loss: 1.6501e-05 - val_accuracy: 0.9135 - val_loss: 0.2940\n",
      "Epoch 21/50\n",
      "\u001b[1m438/438\u001b[0m \u001b[32m━━━━━━━━━━━━━━━━━━━━\u001b[0m\u001b[37m\u001b[0m \u001b[1m29s\u001b[0m 66ms/step - accuracy: 1.0000 - loss: 1.3399e-05 - val_accuracy: 0.9135 - val_loss: 0.2942\n",
      "Epoch 22/50\n",
      "\u001b[1m438/438\u001b[0m \u001b[32m━━━━━━━━━━━━━━━━━━━━\u001b[0m\u001b[37m\u001b[0m \u001b[1m29s\u001b[0m 66ms/step - accuracy: 1.0000 - loss: 1.1536e-05 - val_accuracy: 0.9155 - val_loss: 0.2940\n",
      "Epoch 23/50\n",
      "\u001b[1m438/438\u001b[0m \u001b[32m━━━━━━━━━━━━━━━━━━━━\u001b[0m\u001b[37m\u001b[0m \u001b[1m30s\u001b[0m 67ms/step - accuracy: 1.0000 - loss: 8.2781e-06 - val_accuracy: 0.9185 - val_loss: 0.2750\n",
      "Epoch 24/50\n",
      "\u001b[1m438/438\u001b[0m \u001b[32m━━━━━━━━━━━━━━━━━━━━\u001b[0m\u001b[37m\u001b[0m \u001b[1m29s\u001b[0m 65ms/step - accuracy: 1.0000 - loss: 7.5620e-06 - val_accuracy: 0.9190 - val_loss: 0.2822\n",
      "Epoch 25/50\n",
      "\u001b[1m438/438\u001b[0m \u001b[32m━━━━━━━━━━━━━━━━━━━━\u001b[0m\u001b[37m\u001b[0m \u001b[1m29s\u001b[0m 65ms/step - accuracy: 1.0000 - loss: 5.1552e-06 - val_accuracy: 0.9185 - val_loss: 0.2814\n",
      "Epoch 26/50\n",
      "\u001b[1m438/438\u001b[0m \u001b[32m━━━━━━━━━━━━━━━━━━━━\u001b[0m\u001b[37m\u001b[0m \u001b[1m29s\u001b[0m 65ms/step - accuracy: 1.0000 - loss: 3.5160e-06 - val_accuracy: 0.9200 - val_loss: 0.2660\n",
      "Epoch 27/50\n",
      "\u001b[1m438/438\u001b[0m \u001b[32m━━━━━━━━━━━━━━━━━━━━\u001b[0m\u001b[37m\u001b[0m \u001b[1m30s\u001b[0m 67ms/step - accuracy: 1.0000 - loss: 3.3078e-06 - val_accuracy: 0.9180 - val_loss: 0.2990\n",
      "Epoch 28/50\n",
      "\u001b[1m438/438\u001b[0m \u001b[32m━━━━━━━━━━━━━━━━━━━━\u001b[0m\u001b[37m\u001b[0m \u001b[1m40s\u001b[0m 64ms/step - accuracy: 1.0000 - loss: 2.2288e-06 - val_accuracy: 0.9220 - val_loss: 0.2870\n",
      "Epoch 29/50\n",
      "\u001b[1m438/438\u001b[0m \u001b[32m━━━━━━━━━━━━━━━━━━━━\u001b[0m\u001b[37m\u001b[0m \u001b[1m29s\u001b[0m 66ms/step - accuracy: 1.0000 - loss: 1.8840e-06 - val_accuracy: 0.9185 - val_loss: 0.3164\n",
      "Epoch 30/50\n",
      "\u001b[1m438/438\u001b[0m \u001b[32m━━━━━━━━━━━━━━━━━━━━\u001b[0m\u001b[37m\u001b[0m \u001b[1m29s\u001b[0m 64ms/step - accuracy: 1.0000 - loss: 1.4975e-06 - val_accuracy: 0.9175 - val_loss: 0.3051\n",
      "Epoch 31/50\n",
      "\u001b[1m438/438\u001b[0m \u001b[32m━━━━━━━━━━━━━━━━━━━━\u001b[0m\u001b[37m\u001b[0m \u001b[1m29s\u001b[0m 66ms/step - accuracy: 1.0000 - loss: 1.0908e-06 - val_accuracy: 0.9170 - val_loss: 0.3181\n",
      "Epoch 32/50\n",
      "\u001b[1m438/438\u001b[0m \u001b[32m━━━━━━━━━━━━━━━━━━━━\u001b[0m\u001b[37m\u001b[0m \u001b[1m29s\u001b[0m 65ms/step - accuracy: 1.0000 - loss: 8.1032e-07 - val_accuracy: 0.9195 - val_loss: 0.3229\n",
      "Epoch 33/50\n",
      "\u001b[1m438/438\u001b[0m \u001b[32m━━━━━━━━━━━━━━━━━━━━\u001b[0m\u001b[37m\u001b[0m \u001b[1m30s\u001b[0m 68ms/step - accuracy: 1.0000 - loss: 6.6280e-07 - val_accuracy: 0.9210 - val_loss: 0.3103\n",
      "Epoch 34/50\n",
      "\u001b[1m438/438\u001b[0m \u001b[32m━━━━━━━━━━━━━━━━━━━━\u001b[0m\u001b[37m\u001b[0m \u001b[1m32s\u001b[0m 72ms/step - accuracy: 1.0000 - loss: 5.6883e-07 - val_accuracy: 0.9195 - val_loss: 0.3246\n",
      "Epoch 35/50\n",
      "\u001b[1m438/438\u001b[0m \u001b[32m━━━━━━━━━━━━━━━━━━━━\u001b[0m\u001b[37m\u001b[0m \u001b[1m39s\u001b[0m 66ms/step - accuracy: 1.0000 - loss: 3.7075e-07 - val_accuracy: 0.9200 - val_loss: 0.3226\n",
      "Epoch 36/50\n",
      "\u001b[1m438/438\u001b[0m \u001b[32m━━━━━━━━━━━━━━━━━━━━\u001b[0m\u001b[37m\u001b[0m \u001b[1m30s\u001b[0m 68ms/step - accuracy: 1.0000 - loss: 3.1576e-07 - val_accuracy: 0.9210 - val_loss: 0.3178\n",
      "Epoch 37/50\n",
      "\u001b[1m438/438\u001b[0m \u001b[32m━━━━━━━━━━━━━━━━━━━━\u001b[0m\u001b[37m\u001b[0m \u001b[1m29s\u001b[0m 66ms/step - accuracy: 1.0000 - loss: 2.4798e-07 - val_accuracy: 0.9200 - val_loss: 0.3358\n",
      "Epoch 38/50\n",
      "\u001b[1m438/438\u001b[0m \u001b[32m━━━━━━━━━━━━━━━━━━━━\u001b[0m\u001b[37m\u001b[0m \u001b[1m29s\u001b[0m 66ms/step - accuracy: 1.0000 - loss: 1.9061e-07 - val_accuracy: 0.9225 - val_loss: 0.3030\n",
      "Epoch 39/50\n",
      "\u001b[1m438/438\u001b[0m \u001b[32m━━━━━━━━━━━━━━━━━━━━\u001b[0m\u001b[37m\u001b[0m \u001b[1m28s\u001b[0m 63ms/step - accuracy: 1.0000 - loss: 1.8399e-07 - val_accuracy: 0.9215 - val_loss: 0.3308\n",
      "Epoch 40/50\n",
      "\u001b[1m438/438\u001b[0m \u001b[32m━━━━━━━━━━━━━━━━━━━━\u001b[0m\u001b[37m\u001b[0m \u001b[1m42s\u001b[0m 65ms/step - accuracy: 1.0000 - loss: 1.3285e-07 - val_accuracy: 0.9230 - val_loss: 0.3254\n",
      "Epoch 41/50\n",
      "\u001b[1m438/438\u001b[0m \u001b[32m━━━━━━━━━━━━━━━━━━━━\u001b[0m\u001b[37m\u001b[0m \u001b[1m28s\u001b[0m 63ms/step - accuracy: 1.0000 - loss: 1.0942e-07 - val_accuracy: 0.9235 - val_loss: 0.3277\n",
      "Epoch 42/50\n",
      "\u001b[1m438/438\u001b[0m \u001b[32m━━━━━━━━━━━━━━━━━━━━\u001b[0m\u001b[37m\u001b[0m \u001b[1m28s\u001b[0m 64ms/step - accuracy: 1.0000 - loss: 7.7127e-08 - val_accuracy: 0.9195 - val_loss: 0.3547\n",
      "Epoch 43/50\n",
      "\u001b[1m438/438\u001b[0m \u001b[32m━━━━━━━━━━━━━━━━━━━━\u001b[0m\u001b[37m\u001b[0m \u001b[1m28s\u001b[0m 63ms/step - accuracy: 1.0000 - loss: 5.3950e-08 - val_accuracy: 0.9240 - val_loss: 0.3399\n",
      "Epoch 44/50\n",
      "\u001b[1m438/438\u001b[0m \u001b[32m━━━━━━━━━━━━━━━━━━━━\u001b[0m\u001b[37m\u001b[0m \u001b[1m29s\u001b[0m 65ms/step - accuracy: 1.0000 - loss: 4.9564e-08 - val_accuracy: 0.9240 - val_loss: 0.3385\n",
      "Epoch 45/50\n",
      "\u001b[1m438/438\u001b[0m \u001b[32m━━━━━━━━━━━━━━━━━━━━\u001b[0m\u001b[37m\u001b[0m \u001b[1m29s\u001b[0m 66ms/step - accuracy: 1.0000 - loss: 3.8029e-08 - val_accuracy: 0.9225 - val_loss: 0.3368\n",
      "Epoch 46/50\n",
      "\u001b[1m438/438\u001b[0m \u001b[32m━━━━━━━━━━━━━━━━━━━━\u001b[0m\u001b[37m\u001b[0m \u001b[1m29s\u001b[0m 64ms/step - accuracy: 1.0000 - loss: 3.7234e-08 - val_accuracy: 0.9215 - val_loss: 0.3591\n",
      "Epoch 47/50\n",
      "\u001b[1m438/438\u001b[0m \u001b[32m━━━━━━━━━━━━━━━━━━━━\u001b[0m\u001b[37m\u001b[0m \u001b[1m29s\u001b[0m 65ms/step - accuracy: 1.0000 - loss: 2.7099e-08 - val_accuracy: 0.9230 - val_loss: 0.3580\n",
      "Epoch 48/50\n",
      "\u001b[1m438/438\u001b[0m \u001b[32m━━━━━━━━━━━━━━━━━━━━\u001b[0m\u001b[37m\u001b[0m \u001b[1m30s\u001b[0m 66ms/step - accuracy: 1.0000 - loss: 2.3670e-08 - val_accuracy: 0.9220 - val_loss: 0.3671\n",
      "Epoch 49/50\n",
      "\u001b[1m438/438\u001b[0m \u001b[32m━━━━━━━━━━━━━━━━━━━━\u001b[0m\u001b[37m\u001b[0m \u001b[1m40s\u001b[0m 64ms/step - accuracy: 1.0000 - loss: 2.0875e-08 - val_accuracy: 0.9220 - val_loss: 0.3696\n",
      "Epoch 50/50\n",
      "\u001b[1m438/438\u001b[0m \u001b[32m━━━━━━━━━━━━━━━━━━━━\u001b[0m\u001b[37m\u001b[0m \u001b[1m41s\u001b[0m 65ms/step - accuracy: 1.0000 - loss: 1.6065e-08 - val_accuracy: 0.9235 - val_loss: 0.3593\n"
     ]
    }
   ],
   "source": [
    "baseline_resnet_df_history = baseline_resnet_df_model.fit(\n",
    "    df_train_generator, validation_data=df_val_generator, epochs=NUM_EPOCHS\n",
    ")"
   ]
  },
  {
   "cell_type": "code",
   "execution_count": 21,
   "id": "18f84926",
   "metadata": {
    "execution": {
     "iopub.execute_input": "2024-11-04T19:24:31.207918Z",
     "iopub.status.busy": "2024-11-04T19:24:31.207520Z",
     "iopub.status.idle": "2024-11-04T19:24:31.640378Z",
     "shell.execute_reply": "2024-11-04T19:24:31.639450Z"
    },
    "papermill": {
     "duration": 4.108097,
     "end_time": "2024-11-04T19:24:31.643007",
     "exception": false,
     "start_time": "2024-11-04T19:24:27.534910",
     "status": "completed"
    },
    "tags": []
   },
   "outputs": [
    {
     "data": {
      "image/png": "[encoded data removed]",
      "text/plain": [
       "<Figure size 1200x400 with 2 Axes>"
      ]
     },
     "metadata": {},
     "output_type": "display_data"
    }
   ],
   "source": [
    "plot_train_result(\n",
    "    baseline_resnet_df_history.history,\n",
    "    title=\"Baseline ResNet Model on DeeperForensics-1.0 Dataset\"\n",
    ")"
   ]
  },
  {
   "cell_type": "code",
   "execution_count": 22,
   "id": "d32c7abf",
   "metadata": {
    "execution": {
     "iopub.execute_input": "2024-11-04T19:24:39.015972Z",
     "iopub.status.busy": "2024-11-04T19:24:39.015567Z",
     "iopub.status.idle": "2024-11-04T19:24:40.835760Z",
     "shell.execute_reply": "2024-11-04T19:24:40.834894Z"
    },
    "papermill": {
     "duration": 5.584488,
     "end_time": "2024-11-04T19:24:40.837827",
     "exception": false,
     "start_time": "2024-11-04T19:24:35.253339",
     "status": "completed"
    },
    "tags": []
   },
   "outputs": [
    {
     "name": "stdout",
     "output_type": "stream",
     "text": [
      "Model saved at baseline_resnet_df_model.keras\n",
      "Training history saved at baseline_resnet_df_history.pkl\n"
     ]
    }
   ],
   "source": [
    "save_model_and_history(\n",
    "    baseline_resnet_df_model, baseline_resnet_df_history, \"baseline_resnet_df\"\n",
    ")"
   ]
  },
  {
   "cell_type": "markdown",
   "id": "8e8daa87",
   "metadata": {
    "papermill": {
     "duration": 3.687125,
     "end_time": "2024-11-04T19:24:48.142866",
     "exception": false,
     "start_time": "2024-11-04T19:24:44.455741",
     "status": "completed"
    },
    "tags": []
   },
   "source": [
    "#### DFDC Dataset"
   ]
  },
  {
   "cell_type": "code",
   "execution_count": 23,
   "id": "c7092ffe",
   "metadata": {
    "execution": {
     "iopub.execute_input": "2024-11-04T19:24:55.457807Z",
     "iopub.status.busy": "2024-11-04T19:24:55.456819Z",
     "iopub.status.idle": "2024-11-04T19:24:59.179780Z",
     "shell.execute_reply": "2024-11-04T19:24:59.178915Z"
    },
    "papermill": {
     "duration": 7.377097,
     "end_time": "2024-11-04T19:24:59.181739",
     "exception": false,
     "start_time": "2024-11-04T19:24:51.804642",
     "status": "completed"
    },
    "tags": []
   },
   "outputs": [
    {
     "data": {
      "text/html": [
       "<pre style=\"white-space:pre;overflow-x:auto;line-height:normal;font-family:Menlo,'DejaVu Sans Mono',consolas,'Courier New',monospace\"><span style=\"font-weight: bold\">Model: \"sequential_2\"</span>\n",
       "</pre>\n"
      ],
      "text/plain": [
       "\u001b[1mModel: \"sequential_2\"\u001b[0m\n"
      ]
     },
     "metadata": {},
     "output_type": "display_data"
    },
    {
     "data": {
      "text/html": [
       "<pre style=\"white-space:pre;overflow-x:auto;line-height:normal;font-family:Menlo,'DejaVu Sans Mono',consolas,'Courier New',monospace\">┏━━━━━━━━━━━━━━━━━━━━━━━━━━━━━━━━━┳━━━━━━━━━━━━━━━━━━━━━━━━┳━━━━━━━━━━━━━━━┓\n",
       "┃<span style=\"font-weight: bold\"> Layer (type)                    </span>┃<span style=\"font-weight: bold\"> Output Shape           </span>┃<span style=\"font-weight: bold\">       Param # </span>┃\n",
       "┡━━━━━━━━━━━━━━━━━━━━━━━━━━━━━━━━━╇━━━━━━━━━━━━━━━━━━━━━━━━╇━━━━━━━━━━━━━━━┩\n",
       "│ resnet152 (<span style=\"color: #0087ff; text-decoration-color: #0087ff\">Functional</span>)          │ ?                      │    <span style=\"color: #00af00; text-decoration-color: #00af00\">58,370,944</span> │\n",
       "├─────────────────────────────────┼────────────────────────┼───────────────┤\n",
       "│ flatten_2 (<span style=\"color: #0087ff; text-decoration-color: #0087ff\">Flatten</span>)             │ ?                      │   <span style=\"color: #00af00; text-decoration-color: #00af00\">0</span> (unbuilt) │\n",
       "├─────────────────────────────────┼────────────────────────┼───────────────┤\n",
       "│ dense_10 (<span style=\"color: #0087ff; text-decoration-color: #0087ff\">Dense</span>)                │ ?                      │   <span style=\"color: #00af00; text-decoration-color: #00af00\">0</span> (unbuilt) │\n",
       "├─────────────────────────────────┼────────────────────────┼───────────────┤\n",
       "│ dense_11 (<span style=\"color: #0087ff; text-decoration-color: #0087ff\">Dense</span>)                │ ?                      │   <span style=\"color: #00af00; text-decoration-color: #00af00\">0</span> (unbuilt) │\n",
       "├─────────────────────────────────┼────────────────────────┼───────────────┤\n",
       "│ dense_12 (<span style=\"color: #0087ff; text-decoration-color: #0087ff\">Dense</span>)                │ ?                      │   <span style=\"color: #00af00; text-decoration-color: #00af00\">0</span> (unbuilt) │\n",
       "├─────────────────────────────────┼────────────────────────┼───────────────┤\n",
       "│ dense_13 (<span style=\"color: #0087ff; text-decoration-color: #0087ff\">Dense</span>)                │ ?                      │   <span style=\"color: #00af00; text-decoration-color: #00af00\">0</span> (unbuilt) │\n",
       "├─────────────────────────────────┼────────────────────────┼───────────────┤\n",
       "│ dense_14 (<span style=\"color: #0087ff; text-decoration-color: #0087ff\">Dense</span>)                │ ?                      │   <span style=\"color: #00af00; text-decoration-color: #00af00\">0</span> (unbuilt) │\n",
       "└─────────────────────────────────┴────────────────────────┴───────────────┘\n",
       "</pre>\n"
      ],
      "text/plain": [
       "┏━━━━━━━━━━━━━━━━━━━━━━━━━━━━━━━━━┳━━━━━━━━━━━━━━━━━━━━━━━━┳━━━━━━━━━━━━━━━┓\n",
       "┃\u001b[1m \u001b[0m\u001b[1mLayer (type)                   \u001b[0m\u001b[1m \u001b[0m┃\u001b[1m \u001b[0m\u001b[1mOutput Shape          \u001b[0m\u001b[1m \u001b[0m┃\u001b[1m \u001b[0m\u001b[1m      Param #\u001b[0m\u001b[1m \u001b[0m┃\n",
       "┡━━━━━━━━━━━━━━━━━━━━━━━━━━━━━━━━━╇━━━━━━━━━━━━━━━━━━━━━━━━╇━━━━━━━━━━━━━━━┩\n",
       "│ resnet152 (\u001b[38;5;33mFunctional\u001b[0m)          │ ?                      │    \u001b[38;5;34m58,370,944\u001b[0m │\n",
       "├─────────────────────────────────┼────────────────────────┼───────────────┤\n",
       "│ flatten_2 (\u001b[38;5;33mFlatten\u001b[0m)             │ ?                      │   \u001b[38;5;34m0\u001b[0m (unbuilt) │\n",
       "├─────────────────────────────────┼────────────────────────┼───────────────┤\n",
       "│ dense_10 (\u001b[38;5;33mDense\u001b[0m)                │ ?                      │   \u001b[38;5;34m0\u001b[0m (unbuilt) │\n",
       "├─────────────────────────────────┼────────────────────────┼───────────────┤\n",
       "│ dense_11 (\u001b[38;5;33mDense\u001b[0m)                │ ?                      │   \u001b[38;5;34m0\u001b[0m (unbuilt) │\n",
       "├─────────────────────────────────┼────────────────────────┼───────────────┤\n",
       "│ dense_12 (\u001b[38;5;33mDense\u001b[0m)                │ ?                      │   \u001b[38;5;34m0\u001b[0m (unbuilt) │\n",
       "├─────────────────────────────────┼────────────────────────┼───────────────┤\n",
       "│ dense_13 (\u001b[38;5;33mDense\u001b[0m)                │ ?                      │   \u001b[38;5;34m0\u001b[0m (unbuilt) │\n",
       "├─────────────────────────────────┼────────────────────────┼───────────────┤\n",
       "│ dense_14 (\u001b[38;5;33mDense\u001b[0m)                │ ?                      │   \u001b[38;5;34m0\u001b[0m (unbuilt) │\n",
       "└─────────────────────────────────┴────────────────────────┴───────────────┘\n"
      ]
     },
     "metadata": {},
     "output_type": "display_data"
    },
    {
     "data": {
      "text/html": [
       "<pre style=\"white-space:pre;overflow-x:auto;line-height:normal;font-family:Menlo,'DejaVu Sans Mono',consolas,'Courier New',monospace\"><span style=\"font-weight: bold\"> Total params: </span><span style=\"color: #00af00; text-decoration-color: #00af00\">58,370,944</span> (222.67 MB)\n",
       "</pre>\n"
      ],
      "text/plain": [
       "\u001b[1m Total params: \u001b[0m\u001b[38;5;34m58,370,944\u001b[0m (222.67 MB)\n"
      ]
     },
     "metadata": {},
     "output_type": "display_data"
    },
    {
     "data": {
      "text/html": [
       "<pre style=\"white-space:pre;overflow-x:auto;line-height:normal;font-family:Menlo,'DejaVu Sans Mono',consolas,'Courier New',monospace\"><span style=\"font-weight: bold\"> Trainable params: </span><span style=\"color: #00af00; text-decoration-color: #00af00\">0</span> (0.00 B)\n",
       "</pre>\n"
      ],
      "text/plain": [
       "\u001b[1m Trainable params: \u001b[0m\u001b[38;5;34m0\u001b[0m (0.00 B)\n"
      ]
     },
     "metadata": {},
     "output_type": "display_data"
    },
    {
     "data": {
      "text/html": [
       "<pre style=\"white-space:pre;overflow-x:auto;line-height:normal;font-family:Menlo,'DejaVu Sans Mono',consolas,'Courier New',monospace\"><span style=\"font-weight: bold\"> Non-trainable params: </span><span style=\"color: #00af00; text-decoration-color: #00af00\">58,370,944</span> (222.67 MB)\n",
       "</pre>\n"
      ],
      "text/plain": [
       "\u001b[1m Non-trainable params: \u001b[0m\u001b[38;5;34m58,370,944\u001b[0m (222.67 MB)\n"
      ]
     },
     "metadata": {},
     "output_type": "display_data"
    }
   ],
   "source": [
    "baseline_resnet_dfdc_model = create_resnet_model(best_hp)\n",
    "baseline_resnet_dfdc_model.summary()"
   ]
  },
  {
   "cell_type": "code",
   "execution_count": 24,
   "id": "12fe1b3a",
   "metadata": {
    "execution": {
     "iopub.execute_input": "2024-11-04T19:25:06.468320Z",
     "iopub.status.busy": "2024-11-04T19:25:06.467916Z",
     "iopub.status.idle": "2024-11-04T19:51:33.218455Z",
     "shell.execute_reply": "2024-11-04T19:51:33.217407Z"
    },
    "papermill": {
     "duration": 1590.403133,
     "end_time": "2024-11-04T19:51:33.220740",
     "exception": false,
     "start_time": "2024-11-04T19:25:02.817607",
     "status": "completed"
    },
    "tags": []
   },
   "outputs": [
    {
     "name": "stdout",
     "output_type": "stream",
     "text": [
      "Epoch 1/50\n",
      "\u001b[1m438/438\u001b[0m \u001b[32m━━━━━━━━━━━━━━━━━━━━\u001b[0m\u001b[37m\u001b[0m \u001b[1m148s\u001b[0m 279ms/step - accuracy: 0.6688 - loss: 0.6158 - val_accuracy: 0.5800 - val_loss: 0.7169\n",
      "Epoch 2/50\n",
      "\u001b[1m438/438\u001b[0m \u001b[32m━━━━━━━━━━━━━━━━━━━━\u001b[0m\u001b[37m\u001b[0m \u001b[1m27s\u001b[0m 62ms/step - accuracy: 0.9266 - loss: 0.2522 - val_accuracy: 0.6235 - val_loss: 0.8175\n",
      "Epoch 3/50\n",
      "\u001b[1m438/438\u001b[0m \u001b[32m━━━━━━━━━━━━━━━━━━━━\u001b[0m\u001b[37m\u001b[0m \u001b[1m27s\u001b[0m 62ms/step - accuracy: 0.9752 - loss: 0.1028 - val_accuracy: 0.6355 - val_loss: 0.9144\n",
      "Epoch 4/50\n",
      "\u001b[1m438/438\u001b[0m \u001b[32m━━━━━━━━━━━━━━━━━━━━\u001b[0m\u001b[37m\u001b[0m \u001b[1m28s\u001b[0m 62ms/step - accuracy: 0.9891 - loss: 0.0531 - val_accuracy: 0.6450 - val_loss: 0.9806\n",
      "Epoch 5/50\n",
      "\u001b[1m438/438\u001b[0m \u001b[32m━━━━━━━━━━━━━━━━━━━━\u001b[0m\u001b[37m\u001b[0m \u001b[1m28s\u001b[0m 63ms/step - accuracy: 0.9940 - loss: 0.0323 - val_accuracy: 0.5975 - val_loss: 1.4502\n",
      "Epoch 6/50\n",
      "\u001b[1m438/438\u001b[0m \u001b[32m━━━━━━━━━━━━━━━━━━━━\u001b[0m\u001b[37m\u001b[0m \u001b[1m27s\u001b[0m 62ms/step - accuracy: 0.9976 - loss: 0.0186 - val_accuracy: 0.6610 - val_loss: 1.0539\n",
      "Epoch 7/50\n",
      "\u001b[1m438/438\u001b[0m \u001b[32m━━━━━━━━━━━━━━━━━━━━\u001b[0m\u001b[37m\u001b[0m \u001b[1m28s\u001b[0m 64ms/step - accuracy: 0.9975 - loss: 0.0134 - val_accuracy: 0.6630 - val_loss: 1.1770\n",
      "Epoch 8/50\n",
      "\u001b[1m438/438\u001b[0m \u001b[32m━━━━━━━━━━━━━━━━━━━━\u001b[0m\u001b[37m\u001b[0m \u001b[1m28s\u001b[0m 62ms/step - accuracy: 0.9992 - loss: 0.0078 - val_accuracy: 0.6560 - val_loss: 1.2492\n",
      "Epoch 9/50\n",
      "\u001b[1m438/438\u001b[0m \u001b[32m━━━━━━━━━━━━━━━━━━━━\u001b[0m\u001b[37m\u001b[0m \u001b[1m30s\u001b[0m 68ms/step - accuracy: 0.9996 - loss: 0.0055 - val_accuracy: 0.6420 - val_loss: 1.5046\n",
      "Epoch 10/50\n",
      "\u001b[1m438/438\u001b[0m \u001b[32m━━━━━━━━━━━━━━━━━━━━\u001b[0m\u001b[37m\u001b[0m \u001b[1m40s\u001b[0m 67ms/step - accuracy: 0.9999 - loss: 0.0035 - val_accuracy: 0.6455 - val_loss: 1.4772\n",
      "Epoch 11/50\n",
      "\u001b[1m438/438\u001b[0m \u001b[32m━━━━━━━━━━━━━━━━━━━━\u001b[0m\u001b[37m\u001b[0m \u001b[1m28s\u001b[0m 63ms/step - accuracy: 1.0000 - loss: 0.0021 - val_accuracy: 0.6405 - val_loss: 1.6002\n",
      "Epoch 12/50\n",
      "\u001b[1m438/438\u001b[0m \u001b[32m━━━━━━━━━━━━━━━━━━━━\u001b[0m\u001b[37m\u001b[0m \u001b[1m42s\u001b[0m 66ms/step - accuracy: 1.0000 - loss: 0.0016 - val_accuracy: 0.6410 - val_loss: 1.6960\n",
      "Epoch 13/50\n",
      "\u001b[1m438/438\u001b[0m \u001b[32m━━━━━━━━━━━━━━━━━━━━\u001b[0m\u001b[37m\u001b[0m \u001b[1m40s\u001b[0m 63ms/step - accuracy: 1.0000 - loss: 0.0012 - val_accuracy: 0.6465 - val_loss: 1.6541\n",
      "Epoch 14/50\n",
      "\u001b[1m438/438\u001b[0m \u001b[32m━━━━━━━━━━━━━━━━━━━━\u001b[0m\u001b[37m\u001b[0m \u001b[1m29s\u001b[0m 66ms/step - accuracy: 1.0000 - loss: 6.7871e-04 - val_accuracy: 0.6445 - val_loss: 1.7478\n",
      "Epoch 15/50\n",
      "\u001b[1m438/438\u001b[0m \u001b[32m━━━━━━━━━━━━━━━━━━━━\u001b[0m\u001b[37m\u001b[0m \u001b[1m28s\u001b[0m 63ms/step - accuracy: 1.0000 - loss: 5.3473e-04 - val_accuracy: 0.6470 - val_loss: 1.8096\n",
      "Epoch 16/50\n",
      "\u001b[1m438/438\u001b[0m \u001b[32m━━━━━━━━━━━━━━━━━━━━\u001b[0m\u001b[37m\u001b[0m \u001b[1m28s\u001b[0m 64ms/step - accuracy: 1.0000 - loss: 3.9415e-04 - val_accuracy: 0.6450 - val_loss: 1.8398\n",
      "Epoch 17/50\n",
      "\u001b[1m438/438\u001b[0m \u001b[32m━━━━━━━━━━━━━━━━━━━━\u001b[0m\u001b[37m\u001b[0m \u001b[1m27s\u001b[0m 62ms/step - accuracy: 1.0000 - loss: 2.7115e-04 - val_accuracy: 0.6485 - val_loss: 1.9300\n",
      "Epoch 18/50\n",
      "\u001b[1m438/438\u001b[0m \u001b[32m━━━━━━━━━━━━━━━━━━━━\u001b[0m\u001b[37m\u001b[0m \u001b[1m27s\u001b[0m 62ms/step - accuracy: 1.0000 - loss: 2.2377e-04 - val_accuracy: 0.6425 - val_loss: 1.9128\n",
      "Epoch 19/50\n",
      "\u001b[1m438/438\u001b[0m \u001b[32m━━━━━━━━━━━━━━━━━━━━\u001b[0m\u001b[37m\u001b[0m \u001b[1m27s\u001b[0m 62ms/step - accuracy: 1.0000 - loss: 1.4419e-04 - val_accuracy: 0.6435 - val_loss: 1.9453\n",
      "Epoch 20/50\n",
      "\u001b[1m438/438\u001b[0m \u001b[32m━━━━━━━━━━━━━━━━━━━━\u001b[0m\u001b[37m\u001b[0m \u001b[1m28s\u001b[0m 62ms/step - accuracy: 1.0000 - loss: 1.2538e-04 - val_accuracy: 0.6525 - val_loss: 1.8962\n",
      "Epoch 21/50\n",
      "\u001b[1m438/438\u001b[0m \u001b[32m━━━━━━━━━━━━━━━━━━━━\u001b[0m\u001b[37m\u001b[0m \u001b[1m27s\u001b[0m 61ms/step - accuracy: 1.0000 - loss: 8.6443e-05 - val_accuracy: 0.6400 - val_loss: 2.1861\n",
      "Epoch 22/50\n",
      "\u001b[1m438/438\u001b[0m \u001b[32m━━━━━━━━━━━━━━━━━━━━\u001b[0m\u001b[37m\u001b[0m \u001b[1m27s\u001b[0m 62ms/step - accuracy: 1.0000 - loss: 7.5143e-05 - val_accuracy: 0.6440 - val_loss: 2.0687\n",
      "Epoch 23/50\n",
      "\u001b[1m438/438\u001b[0m \u001b[32m━━━━━━━━━━━━━━━━━━━━\u001b[0m\u001b[37m\u001b[0m \u001b[1m27s\u001b[0m 62ms/step - accuracy: 1.0000 - loss: 5.4205e-05 - val_accuracy: 0.6430 - val_loss: 2.2768\n",
      "Epoch 24/50\n",
      "\u001b[1m438/438\u001b[0m \u001b[32m━━━━━━━━━━━━━━━━━━━━\u001b[0m\u001b[37m\u001b[0m \u001b[1m27s\u001b[0m 61ms/step - accuracy: 1.0000 - loss: 4.0352e-05 - val_accuracy: 0.6445 - val_loss: 2.2770\n",
      "Epoch 25/50\n",
      "\u001b[1m438/438\u001b[0m \u001b[32m━━━━━━━━━━━━━━━━━━━━\u001b[0m\u001b[37m\u001b[0m \u001b[1m27s\u001b[0m 61ms/step - accuracy: 1.0000 - loss: 2.9686e-05 - val_accuracy: 0.6430 - val_loss: 2.3009\n",
      "Epoch 26/50\n",
      "\u001b[1m438/438\u001b[0m \u001b[32m━━━━━━━━━━━━━━━━━━━━\u001b[0m\u001b[37m\u001b[0m \u001b[1m27s\u001b[0m 61ms/step - accuracy: 1.0000 - loss: 2.4618e-05 - val_accuracy: 0.6435 - val_loss: 2.3871\n",
      "Epoch 27/50\n",
      "\u001b[1m438/438\u001b[0m \u001b[32m━━━━━━━━━━━━━━━━━━━━\u001b[0m\u001b[37m\u001b[0m \u001b[1m28s\u001b[0m 63ms/step - accuracy: 1.0000 - loss: 1.8008e-05 - val_accuracy: 0.6415 - val_loss: 2.3786\n",
      "Epoch 28/50\n",
      "\u001b[1m438/438\u001b[0m \u001b[32m━━━━━━━━━━━━━━━━━━━━\u001b[0m\u001b[37m\u001b[0m \u001b[1m40s\u001b[0m 62ms/step - accuracy: 1.0000 - loss: 1.3744e-05 - val_accuracy: 0.6420 - val_loss: 2.4400\n",
      "Epoch 29/50\n",
      "\u001b[1m438/438\u001b[0m \u001b[32m━━━━━━━━━━━━━━━━━━━━\u001b[0m\u001b[37m\u001b[0m \u001b[1m28s\u001b[0m 62ms/step - accuracy: 1.0000 - loss: 1.0597e-05 - val_accuracy: 0.6530 - val_loss: 2.3365\n",
      "Epoch 30/50\n",
      "\u001b[1m438/438\u001b[0m \u001b[32m━━━━━━━━━━━━━━━━━━━━\u001b[0m\u001b[37m\u001b[0m \u001b[1m28s\u001b[0m 63ms/step - accuracy: 1.0000 - loss: 8.2997e-06 - val_accuracy: 0.6395 - val_loss: 2.5997\n",
      "Epoch 31/50\n",
      "\u001b[1m438/438\u001b[0m \u001b[32m━━━━━━━━━━━━━━━━━━━━\u001b[0m\u001b[37m\u001b[0m \u001b[1m28s\u001b[0m 62ms/step - accuracy: 1.0000 - loss: 6.0939e-06 - val_accuracy: 0.6470 - val_loss: 2.4860\n",
      "Epoch 32/50\n",
      "\u001b[1m438/438\u001b[0m \u001b[32m━━━━━━━━━━━━━━━━━━━━\u001b[0m\u001b[37m\u001b[0m \u001b[1m28s\u001b[0m 63ms/step - accuracy: 1.0000 - loss: 5.0509e-06 - val_accuracy: 0.6475 - val_loss: 2.5441\n",
      "Epoch 33/50\n",
      "\u001b[1m438/438\u001b[0m \u001b[32m━━━━━━━━━━━━━━━━━━━━\u001b[0m\u001b[37m\u001b[0m \u001b[1m28s\u001b[0m 63ms/step - accuracy: 1.0000 - loss: 3.8278e-06 - val_accuracy: 0.6440 - val_loss: 2.7029\n",
      "Epoch 34/50\n",
      "\u001b[1m438/438\u001b[0m \u001b[32m━━━━━━━━━━━━━━━━━━━━\u001b[0m\u001b[37m\u001b[0m \u001b[1m27s\u001b[0m 62ms/step - accuracy: 1.0000 - loss: 2.8587e-06 - val_accuracy: 0.6420 - val_loss: 2.7053\n",
      "Epoch 35/50\n",
      "\u001b[1m438/438\u001b[0m \u001b[32m━━━━━━━━━━━━━━━━━━━━\u001b[0m\u001b[37m\u001b[0m \u001b[1m27s\u001b[0m 62ms/step - accuracy: 1.0000 - loss: 2.1249e-06 - val_accuracy: 0.6455 - val_loss: 2.7164\n",
      "Epoch 36/50\n",
      "\u001b[1m438/438\u001b[0m \u001b[32m━━━━━━━━━━━━━━━━━━━━\u001b[0m\u001b[37m\u001b[0m \u001b[1m28s\u001b[0m 62ms/step - accuracy: 1.0000 - loss: 1.6644e-06 - val_accuracy: 0.6405 - val_loss: 2.8614\n",
      "Epoch 37/50\n",
      "\u001b[1m438/438\u001b[0m \u001b[32m━━━━━━━━━━━━━━━━━━━━\u001b[0m\u001b[37m\u001b[0m \u001b[1m28s\u001b[0m 62ms/step - accuracy: 1.0000 - loss: 1.3718e-06 - val_accuracy: 0.6455 - val_loss: 2.8103\n",
      "Epoch 38/50\n",
      "\u001b[1m438/438\u001b[0m \u001b[32m━━━━━━━━━━━━━━━━━━━━\u001b[0m\u001b[37m\u001b[0m \u001b[1m28s\u001b[0m 62ms/step - accuracy: 1.0000 - loss: 1.0677e-06 - val_accuracy: 0.6410 - val_loss: 2.9556\n",
      "Epoch 39/50\n",
      "\u001b[1m438/438\u001b[0m \u001b[32m━━━━━━━━━━━━━━━━━━━━\u001b[0m\u001b[37m\u001b[0m \u001b[1m27s\u001b[0m 61ms/step - accuracy: 1.0000 - loss: 7.6331e-07 - val_accuracy: 0.6405 - val_loss: 3.0033\n",
      "Epoch 40/50\n",
      "\u001b[1m438/438\u001b[0m \u001b[32m━━━━━━━━━━━━━━━━━━━━\u001b[0m\u001b[37m\u001b[0m \u001b[1m28s\u001b[0m 62ms/step - accuracy: 1.0000 - loss: 6.1325e-07 - val_accuracy: 0.6390 - val_loss: 3.0907\n",
      "Epoch 41/50\n",
      "\u001b[1m438/438\u001b[0m \u001b[32m━━━━━━━━━━━━━━━━━━━━\u001b[0m\u001b[37m\u001b[0m \u001b[1m41s\u001b[0m 63ms/step - accuracy: 1.0000 - loss: 4.5683e-07 - val_accuracy: 0.6445 - val_loss: 3.0206\n",
      "Epoch 42/50\n",
      "\u001b[1m438/438\u001b[0m \u001b[32m━━━━━━━━━━━━━━━━━━━━\u001b[0m\u001b[37m\u001b[0m \u001b[1m28s\u001b[0m 62ms/step - accuracy: 1.0000 - loss: 3.5875e-07 - val_accuracy: 0.6430 - val_loss: 3.1012\n",
      "Epoch 43/50\n",
      "\u001b[1m438/438\u001b[0m \u001b[32m━━━━━━━━━━━━━━━━━━━━\u001b[0m\u001b[37m\u001b[0m \u001b[1m28s\u001b[0m 63ms/step - accuracy: 1.0000 - loss: 2.7702e-07 - val_accuracy: 0.6420 - val_loss: 3.1553\n",
      "Epoch 44/50\n",
      "\u001b[1m438/438\u001b[0m \u001b[32m━━━━━━━━━━━━━━━━━━━━\u001b[0m\u001b[37m\u001b[0m \u001b[1m28s\u001b[0m 62ms/step - accuracy: 1.0000 - loss: 2.3602e-07 - val_accuracy: 0.6455 - val_loss: 3.1760\n",
      "Epoch 45/50\n",
      "\u001b[1m438/438\u001b[0m \u001b[32m━━━━━━━━━━━━━━━━━━━━\u001b[0m\u001b[37m\u001b[0m \u001b[1m28s\u001b[0m 63ms/step - accuracy: 1.0000 - loss: 1.7361e-07 - val_accuracy: 0.6410 - val_loss: 3.2828\n",
      "Epoch 46/50\n",
      "\u001b[1m438/438\u001b[0m \u001b[32m━━━━━━━━━━━━━━━━━━━━\u001b[0m\u001b[37m\u001b[0m \u001b[1m28s\u001b[0m 63ms/step - accuracy: 1.0000 - loss: 1.4593e-07 - val_accuracy: 0.6450 - val_loss: 3.2453\n",
      "Epoch 47/50\n",
      "\u001b[1m438/438\u001b[0m \u001b[32m━━━━━━━━━━━━━━━━━━━━\u001b[0m\u001b[37m\u001b[0m \u001b[1m28s\u001b[0m 62ms/step - accuracy: 1.0000 - loss: 1.1847e-07 - val_accuracy: 0.6425 - val_loss: 3.3548\n",
      "Epoch 48/50\n",
      "\u001b[1m438/438\u001b[0m \u001b[32m━━━━━━━━━━━━━━━━━━━━\u001b[0m\u001b[37m\u001b[0m \u001b[1m28s\u001b[0m 62ms/step - accuracy: 1.0000 - loss: 9.0709e-08 - val_accuracy: 0.6480 - val_loss: 3.3435\n",
      "Epoch 49/50\n",
      "\u001b[1m438/438\u001b[0m \u001b[32m━━━━━━━━━━━━━━━━━━━━\u001b[0m\u001b[37m\u001b[0m \u001b[1m28s\u001b[0m 63ms/step - accuracy: 1.0000 - loss: 7.5365e-08 - val_accuracy: 0.6410 - val_loss: 3.5147\n",
      "Epoch 50/50\n",
      "\u001b[1m438/438\u001b[0m \u001b[32m━━━━━━━━━━━━━━━━━━━━\u001b[0m\u001b[37m\u001b[0m \u001b[1m41s\u001b[0m 63ms/step - accuracy: 1.0000 - loss: 6.4681e-08 - val_accuracy: 0.6465 - val_loss: 3.3337\n"
     ]
    }
   ],
   "source": [
    "baseline_resnet_dfdc_history = baseline_resnet_dfdc_model.fit(\n",
    "    dfdc_train_generator, validation_data=dfdc_val_generator, epochs=NUM_EPOCHS\n",
    ")"
   ]
  },
  {
   "cell_type": "code",
   "execution_count": 25,
   "id": "8b993513",
   "metadata": {
    "execution": {
     "iopub.execute_input": "2024-11-04T19:51:44.101065Z",
     "iopub.status.busy": "2024-11-04T19:51:44.100158Z",
     "iopub.status.idle": "2024-11-04T19:51:44.579113Z",
     "shell.execute_reply": "2024-11-04T19:51:44.578179Z"
    },
    "papermill": {
     "duration": 5.854773,
     "end_time": "2024-11-04T19:51:44.581112",
     "exception": false,
     "start_time": "2024-11-04T19:51:38.726339",
     "status": "completed"
    },
    "tags": []
   },
   "outputs": [
    {
     "data": {
      "image/png": "[encoded data removed]",
      "text/plain": [
       "<Figure size 1200x400 with 2 Axes>"
      ]
     },
     "metadata": {},
     "output_type": "display_data"
    }
   ],
   "source": [
    "plot_train_result(\n",
    "    baseline_resnet_dfdc_history.history,\n",
    "    title=\"Baseline ResNet Model on DFDC Dataset\"\n",
    ")"
   ]
  },
  {
   "cell_type": "code",
   "execution_count": 26,
   "id": "ff3cbafb",
   "metadata": {
    "execution": {
     "iopub.execute_input": "2024-11-04T19:51:55.613960Z",
     "iopub.status.busy": "2024-11-04T19:51:55.613215Z",
     "iopub.status.idle": "2024-11-04T19:51:57.408990Z",
     "shell.execute_reply": "2024-11-04T19:51:57.408039Z"
    },
    "papermill": {
     "duration": 7.380191,
     "end_time": "2024-11-04T19:51:57.411004",
     "exception": false,
     "start_time": "2024-11-04T19:51:50.030813",
     "status": "completed"
    },
    "tags": []
   },
   "outputs": [
    {
     "name": "stdout",
     "output_type": "stream",
     "text": [
      "Model saved at baseline_resnet_dfdc_model.keras\n",
      "Training history saved at baseline_resnet_dfdc_history.pkl\n"
     ]
    }
   ],
   "source": [
    "save_model_and_history(\n",
    "    baseline_resnet_dfdc_model, baseline_resnet_dfdc_history, \"baseline_resnet_dfdc\"\n",
    ")"
   ]
  },
  {
   "cell_type": "markdown",
   "id": "63795134",
   "metadata": {
    "papermill": {
     "duration": 5.522292,
     "end_time": "2024-11-04T19:52:08.336114",
     "exception": false,
     "start_time": "2024-11-04T19:52:02.813822",
     "status": "completed"
    },
    "tags": []
   },
   "source": [
    "### Dropout ResNet Model Training"
   ]
  },
  {
   "cell_type": "markdown",
   "id": "169c3741",
   "metadata": {
    "papermill": {
     "duration": 5.364447,
     "end_time": "2024-11-04T19:52:19.228429",
     "exception": false,
     "start_time": "2024-11-04T19:52:13.863982",
     "status": "completed"
    },
    "tags": []
   },
   "source": [
    "#### Celeb-DF-v2 Dataset"
   ]
  },
  {
   "cell_type": "code",
   "execution_count": 27,
   "id": "005c5427",
   "metadata": {
    "execution": {
     "iopub.execute_input": "2024-11-04T19:52:30.253856Z",
     "iopub.status.busy": "2024-11-04T19:52:30.253461Z",
     "iopub.status.idle": "2024-11-04T19:52:33.427131Z",
     "shell.execute_reply": "2024-11-04T19:52:33.426203Z"
    },
    "papermill": {
     "duration": 8.763401,
     "end_time": "2024-11-04T19:52:33.429059",
     "exception": false,
     "start_time": "2024-11-04T19:52:24.665658",
     "status": "completed"
    },
    "tags": []
   },
   "outputs": [
    {
     "data": {
      "text/html": [
       "<pre style=\"white-space:pre;overflow-x:auto;line-height:normal;font-family:Menlo,'DejaVu Sans Mono',consolas,'Courier New',monospace\"><span style=\"font-weight: bold\">Model: \"sequential_3\"</span>\n",
       "</pre>\n"
      ],
      "text/plain": [
       "\u001b[1mModel: \"sequential_3\"\u001b[0m\n"
      ]
     },
     "metadata": {},
     "output_type": "display_data"
    },
    {
     "data": {
      "text/html": [
       "<pre style=\"white-space:pre;overflow-x:auto;line-height:normal;font-family:Menlo,'DejaVu Sans Mono',consolas,'Courier New',monospace\">┏━━━━━━━━━━━━━━━━━━━━━━━━━━━━━━━━━┳━━━━━━━━━━━━━━━━━━━━━━━━┳━━━━━━━━━━━━━━━┓\n",
       "┃<span style=\"font-weight: bold\"> Layer (type)                    </span>┃<span style=\"font-weight: bold\"> Output Shape           </span>┃<span style=\"font-weight: bold\">       Param # </span>┃\n",
       "┡━━━━━━━━━━━━━━━━━━━━━━━━━━━━━━━━━╇━━━━━━━━━━━━━━━━━━━━━━━━╇━━━━━━━━━━━━━━━┩\n",
       "│ resnet152 (<span style=\"color: #0087ff; text-decoration-color: #0087ff\">Functional</span>)          │ ?                      │    <span style=\"color: #00af00; text-decoration-color: #00af00\">58,370,944</span> │\n",
       "├─────────────────────────────────┼────────────────────────┼───────────────┤\n",
       "│ flatten_3 (<span style=\"color: #0087ff; text-decoration-color: #0087ff\">Flatten</span>)             │ ?                      │   <span style=\"color: #00af00; text-decoration-color: #00af00\">0</span> (unbuilt) │\n",
       "├─────────────────────────────────┼────────────────────────┼───────────────┤\n",
       "│ dense_15 (<span style=\"color: #0087ff; text-decoration-color: #0087ff\">Dense</span>)                │ ?                      │   <span style=\"color: #00af00; text-decoration-color: #00af00\">0</span> (unbuilt) │\n",
       "├─────────────────────────────────┼────────────────────────┼───────────────┤\n",
       "│ dense_16 (<span style=\"color: #0087ff; text-decoration-color: #0087ff\">Dense</span>)                │ ?                      │   <span style=\"color: #00af00; text-decoration-color: #00af00\">0</span> (unbuilt) │\n",
       "├─────────────────────────────────┼────────────────────────┼───────────────┤\n",
       "│ dense_17 (<span style=\"color: #0087ff; text-decoration-color: #0087ff\">Dense</span>)                │ ?                      │   <span style=\"color: #00af00; text-decoration-color: #00af00\">0</span> (unbuilt) │\n",
       "├─────────────────────────────────┼────────────────────────┼───────────────┤\n",
       "│ dense_18 (<span style=\"color: #0087ff; text-decoration-color: #0087ff\">Dense</span>)                │ ?                      │   <span style=\"color: #00af00; text-decoration-color: #00af00\">0</span> (unbuilt) │\n",
       "├─────────────────────────────────┼────────────────────────┼───────────────┤\n",
       "│ dropout (<span style=\"color: #0087ff; text-decoration-color: #0087ff\">Dropout</span>)               │ ?                      │   <span style=\"color: #00af00; text-decoration-color: #00af00\">0</span> (unbuilt) │\n",
       "├─────────────────────────────────┼────────────────────────┼───────────────┤\n",
       "│ dense_19 (<span style=\"color: #0087ff; text-decoration-color: #0087ff\">Dense</span>)                │ ?                      │   <span style=\"color: #00af00; text-decoration-color: #00af00\">0</span> (unbuilt) │\n",
       "└─────────────────────────────────┴────────────────────────┴───────────────┘\n",
       "</pre>\n"
      ],
      "text/plain": [
       "┏━━━━━━━━━━━━━━━━━━━━━━━━━━━━━━━━━┳━━━━━━━━━━━━━━━━━━━━━━━━┳━━━━━━━━━━━━━━━┓\n",
       "┃\u001b[1m \u001b[0m\u001b[1mLayer (type)                   \u001b[0m\u001b[1m \u001b[0m┃\u001b[1m \u001b[0m\u001b[1mOutput Shape          \u001b[0m\u001b[1m \u001b[0m┃\u001b[1m \u001b[0m\u001b[1m      Param #\u001b[0m\u001b[1m \u001b[0m┃\n",
       "┡━━━━━━━━━━━━━━━━━━━━━━━━━━━━━━━━━╇━━━━━━━━━━━━━━━━━━━━━━━━╇━━━━━━━━━━━━━━━┩\n",
       "│ resnet152 (\u001b[38;5;33mFunctional\u001b[0m)          │ ?                      │    \u001b[38;5;34m58,370,944\u001b[0m │\n",
       "├─────────────────────────────────┼────────────────────────┼───────────────┤\n",
       "│ flatten_3 (\u001b[38;5;33mFlatten\u001b[0m)             │ ?                      │   \u001b[38;5;34m0\u001b[0m (unbuilt) │\n",
       "├─────────────────────────────────┼────────────────────────┼───────────────┤\n",
       "│ dense_15 (\u001b[38;5;33mDense\u001b[0m)                │ ?                      │   \u001b[38;5;34m0\u001b[0m (unbuilt) │\n",
       "├─────────────────────────────────┼────────────────────────┼───────────────┤\n",
       "│ dense_16 (\u001b[38;5;33mDense\u001b[0m)                │ ?                      │   \u001b[38;5;34m0\u001b[0m (unbuilt) │\n",
       "├─────────────────────────────────┼────────────────────────┼───────────────┤\n",
       "│ dense_17 (\u001b[38;5;33mDense\u001b[0m)                │ ?                      │   \u001b[38;5;34m0\u001b[0m (unbuilt) │\n",
       "├─────────────────────────────────┼────────────────────────┼───────────────┤\n",
       "│ dense_18 (\u001b[38;5;33mDense\u001b[0m)                │ ?                      │   \u001b[38;5;34m0\u001b[0m (unbuilt) │\n",
       "├─────────────────────────────────┼────────────────────────┼───────────────┤\n",
       "│ dropout (\u001b[38;5;33mDropout\u001b[0m)               │ ?                      │   \u001b[38;5;34m0\u001b[0m (unbuilt) │\n",
       "├─────────────────────────────────┼────────────────────────┼───────────────┤\n",
       "│ dense_19 (\u001b[38;5;33mDense\u001b[0m)                │ ?                      │   \u001b[38;5;34m0\u001b[0m (unbuilt) │\n",
       "└─────────────────────────────────┴────────────────────────┴───────────────┘\n"
      ]
     },
     "metadata": {},
     "output_type": "display_data"
    },
    {
     "data": {
      "text/html": [
       "<pre style=\"white-space:pre;overflow-x:auto;line-height:normal;font-family:Menlo,'DejaVu Sans Mono',consolas,'Courier New',monospace\"><span style=\"font-weight: bold\"> Total params: </span><span style=\"color: #00af00; text-decoration-color: #00af00\">58,370,944</span> (222.67 MB)\n",
       "</pre>\n"
      ],
      "text/plain": [
       "\u001b[1m Total params: \u001b[0m\u001b[38;5;34m58,370,944\u001b[0m (222.67 MB)\n"
      ]
     },
     "metadata": {},
     "output_type": "display_data"
    },
    {
     "data": {
      "text/html": [
       "<pre style=\"white-space:pre;overflow-x:auto;line-height:normal;font-family:Menlo,'DejaVu Sans Mono',consolas,'Courier New',monospace\"><span style=\"font-weight: bold\"> Trainable params: </span><span style=\"color: #00af00; text-decoration-color: #00af00\">0</span> (0.00 B)\n",
       "</pre>\n"
      ],
      "text/plain": [
       "\u001b[1m Trainable params: \u001b[0m\u001b[38;5;34m0\u001b[0m (0.00 B)\n"
      ]
     },
     "metadata": {},
     "output_type": "display_data"
    },
    {
     "data": {
      "text/html": [
       "<pre style=\"white-space:pre;overflow-x:auto;line-height:normal;font-family:Menlo,'DejaVu Sans Mono',consolas,'Courier New',monospace\"><span style=\"font-weight: bold\"> Non-trainable params: </span><span style=\"color: #00af00; text-decoration-color: #00af00\">58,370,944</span> (222.67 MB)\n",
       "</pre>\n"
      ],
      "text/plain": [
       "\u001b[1m Non-trainable params: \u001b[0m\u001b[38;5;34m58,370,944\u001b[0m (222.67 MB)\n"
      ]
     },
     "metadata": {},
     "output_type": "display_data"
    }
   ],
   "source": [
    "dropout_resnet_cdf_model = create_resnet_model(best_hp, dropout=True)\n",
    "dropout_resnet_cdf_model.summary()"
   ]
  },
  {
   "cell_type": "code",
   "execution_count": 28,
   "id": "f716ca5e",
   "metadata": {
    "execution": {
     "iopub.execute_input": "2024-11-04T19:52:44.311019Z",
     "iopub.status.busy": "2024-11-04T19:52:44.309921Z",
     "iopub.status.idle": "2024-11-04T20:18:09.870745Z",
     "shell.execute_reply": "2024-11-04T20:18:09.869689Z"
    },
    "papermill": {
     "duration": 1531.0026,
     "end_time": "2024-11-04T20:18:09.872872",
     "exception": false,
     "start_time": "2024-11-04T19:52:38.870272",
     "status": "completed"
    },
    "tags": []
   },
   "outputs": [
    {
     "name": "stdout",
     "output_type": "stream",
     "text": [
      "Epoch 1/50\n",
      "\u001b[1m438/438\u001b[0m \u001b[32m━━━━━━━━━━━━━━━━━━━━\u001b[0m\u001b[37m\u001b[0m \u001b[1m82s\u001b[0m 126ms/step - accuracy: 0.5396 - loss: 0.7236 - val_accuracy: 0.6180 - val_loss: 0.6515\n",
      "Epoch 2/50\n",
      "\u001b[1m438/438\u001b[0m \u001b[32m━━━━━━━━━━━━━━━━━━━━\u001b[0m\u001b[37m\u001b[0m \u001b[1m46s\u001b[0m 62ms/step - accuracy: 0.7268 - loss: 0.5492 - val_accuracy: 0.6510 - val_loss: 0.6427\n",
      "Epoch 3/50\n",
      "\u001b[1m438/438\u001b[0m \u001b[32m━━━━━━━━━━━━━━━━━━━━\u001b[0m\u001b[37m\u001b[0m \u001b[1m27s\u001b[0m 61ms/step - accuracy: 0.8757 - loss: 0.3118 - val_accuracy: 0.6670 - val_loss: 0.7501\n",
      "Epoch 4/50\n",
      "\u001b[1m438/438\u001b[0m \u001b[32m━━━━━━━━━━━━━━━━━━━━\u001b[0m\u001b[37m\u001b[0m \u001b[1m27s\u001b[0m 62ms/step - accuracy: 0.9398 - loss: 0.1767 - val_accuracy: 0.6800 - val_loss: 0.8604\n",
      "Epoch 5/50\n",
      "\u001b[1m438/438\u001b[0m \u001b[32m━━━━━━━━━━━━━━━━━━━━\u001b[0m\u001b[37m\u001b[0m \u001b[1m28s\u001b[0m 63ms/step - accuracy: 0.9666 - loss: 0.1058 - val_accuracy: 0.6735 - val_loss: 0.9938\n",
      "Epoch 6/50\n",
      "\u001b[1m438/438\u001b[0m \u001b[32m━━━━━━━━━━━━━━━━━━━━\u001b[0m\u001b[37m\u001b[0m \u001b[1m41s\u001b[0m 62ms/step - accuracy: 0.9801 - loss: 0.0691 - val_accuracy: 0.6745 - val_loss: 1.1249\n",
      "Epoch 7/50\n",
      "\u001b[1m438/438\u001b[0m \u001b[32m━━━━━━━━━━━━━━━━━━━━\u001b[0m\u001b[37m\u001b[0m \u001b[1m28s\u001b[0m 62ms/step - accuracy: 0.9907 - loss: 0.0419 - val_accuracy: 0.7030 - val_loss: 1.1787\n",
      "Epoch 8/50\n",
      "\u001b[1m438/438\u001b[0m \u001b[32m━━━━━━━━━━━━━━━━━━━━\u001b[0m\u001b[37m\u001b[0m \u001b[1m27s\u001b[0m 61ms/step - accuracy: 0.9951 - loss: 0.0262 - val_accuracy: 0.6795 - val_loss: 1.4018\n",
      "Epoch 9/50\n",
      "\u001b[1m438/438\u001b[0m \u001b[32m━━━━━━━━━━━━━━━━━━━━\u001b[0m\u001b[37m\u001b[0m \u001b[1m28s\u001b[0m 63ms/step - accuracy: 0.9960 - loss: 0.0198 - val_accuracy: 0.7010 - val_loss: 1.4267\n",
      "Epoch 10/50\n",
      "\u001b[1m438/438\u001b[0m \u001b[32m━━━━━━━━━━━━━━━━━━━━\u001b[0m\u001b[37m\u001b[0m \u001b[1m27s\u001b[0m 62ms/step - accuracy: 0.9971 - loss: 0.0136 - val_accuracy: 0.6995 - val_loss: 1.5023\n",
      "Epoch 11/50\n",
      "\u001b[1m438/438\u001b[0m \u001b[32m━━━━━━━━━━━━━━━━━━━━\u001b[0m\u001b[37m\u001b[0m \u001b[1m28s\u001b[0m 63ms/step - accuracy: 0.9982 - loss: 0.0096 - val_accuracy: 0.7065 - val_loss: 1.6279\n",
      "Epoch 12/50\n",
      "\u001b[1m438/438\u001b[0m \u001b[32m━━━━━━━━━━━━━━━━━━━━\u001b[0m\u001b[37m\u001b[0m \u001b[1m28s\u001b[0m 63ms/step - accuracy: 0.9972 - loss: 0.0106 - val_accuracy: 0.7055 - val_loss: 1.5982\n",
      "Epoch 13/50\n",
      "\u001b[1m438/438\u001b[0m \u001b[32m━━━━━━━━━━━━━━━━━━━━\u001b[0m\u001b[37m\u001b[0m \u001b[1m28s\u001b[0m 63ms/step - accuracy: 0.9990 - loss: 0.0054 - val_accuracy: 0.6885 - val_loss: 1.8326\n",
      "Epoch 14/50\n",
      "\u001b[1m438/438\u001b[0m \u001b[32m━━━━━━━━━━━━━━━━━━━━\u001b[0m\u001b[37m\u001b[0m \u001b[1m28s\u001b[0m 62ms/step - accuracy: 0.9991 - loss: 0.0052 - val_accuracy: 0.6800 - val_loss: 1.9557\n",
      "Epoch 15/50\n",
      "\u001b[1m438/438\u001b[0m \u001b[32m━━━━━━━━━━━━━━━━━━━━\u001b[0m\u001b[37m\u001b[0m \u001b[1m28s\u001b[0m 63ms/step - accuracy: 0.9977 - loss: 0.0066 - val_accuracy: 0.6810 - val_loss: 1.9749\n",
      "Epoch 16/50\n",
      "\u001b[1m438/438\u001b[0m \u001b[32m━━━━━━━━━━━━━━━━━━━━\u001b[0m\u001b[37m\u001b[0m \u001b[1m28s\u001b[0m 63ms/step - accuracy: 0.9963 - loss: 0.0101 - val_accuracy: 0.6785 - val_loss: 2.0178\n",
      "Epoch 17/50\n",
      "\u001b[1m438/438\u001b[0m \u001b[32m━━━━━━━━━━━━━━━━━━━━\u001b[0m\u001b[37m\u001b[0m \u001b[1m28s\u001b[0m 62ms/step - accuracy: 0.9989 - loss: 0.0033 - val_accuracy: 0.6945 - val_loss: 2.0381\n",
      "Epoch 18/50\n",
      "\u001b[1m438/438\u001b[0m \u001b[32m━━━━━━━━━━━━━━━━━━━━\u001b[0m\u001b[37m\u001b[0m \u001b[1m28s\u001b[0m 63ms/step - accuracy: 0.9991 - loss: 0.0023 - val_accuracy: 0.6975 - val_loss: 2.0732\n",
      "Epoch 19/50\n",
      "\u001b[1m438/438\u001b[0m \u001b[32m━━━━━━━━━━━━━━━━━━━━\u001b[0m\u001b[37m\u001b[0m \u001b[1m27s\u001b[0m 62ms/step - accuracy: 0.9991 - loss: 0.0026 - val_accuracy: 0.6865 - val_loss: 2.1868\n",
      "Epoch 20/50\n",
      "\u001b[1m438/438\u001b[0m \u001b[32m━━━━━━━━━━━━━━━━━━━━\u001b[0m\u001b[37m\u001b[0m \u001b[1m27s\u001b[0m 62ms/step - accuracy: 0.9991 - loss: 0.0027 - val_accuracy: 0.6850 - val_loss: 2.2053\n",
      "Epoch 21/50\n",
      "\u001b[1m438/438\u001b[0m \u001b[32m━━━━━━━━━━━━━━━━━━━━\u001b[0m\u001b[37m\u001b[0m \u001b[1m28s\u001b[0m 62ms/step - accuracy: 0.9970 - loss: 0.0070 - val_accuracy: 0.6900 - val_loss: 2.2415\n",
      "Epoch 22/50\n",
      "\u001b[1m438/438\u001b[0m \u001b[32m━━━━━━━━━━━━━━━━━━━━\u001b[0m\u001b[37m\u001b[0m \u001b[1m27s\u001b[0m 62ms/step - accuracy: 0.9992 - loss: 0.0024 - val_accuracy: 0.6930 - val_loss: 2.3314\n",
      "Epoch 23/50\n",
      "\u001b[1m438/438\u001b[0m \u001b[32m━━━━━━━━━━━━━━━━━━━━\u001b[0m\u001b[37m\u001b[0m \u001b[1m41s\u001b[0m 63ms/step - accuracy: 0.9993 - loss: 0.0016 - val_accuracy: 0.6905 - val_loss: 2.3472\n",
      "Epoch 24/50\n",
      "\u001b[1m438/438\u001b[0m \u001b[32m━━━━━━━━━━━━━━━━━━━━\u001b[0m\u001b[37m\u001b[0m \u001b[1m28s\u001b[0m 62ms/step - accuracy: 0.9985 - loss: 0.0032 - val_accuracy: 0.7040 - val_loss: 2.2022\n",
      "Epoch 25/50\n",
      "\u001b[1m438/438\u001b[0m \u001b[32m━━━━━━━━━━━━━━━━━━━━\u001b[0m\u001b[37m\u001b[0m \u001b[1m27s\u001b[0m 62ms/step - accuracy: 0.9986 - loss: 0.0035 - val_accuracy: 0.7025 - val_loss: 2.2078\n",
      "Epoch 26/50\n",
      "\u001b[1m438/438\u001b[0m \u001b[32m━━━━━━━━━━━━━━━━━━━━\u001b[0m\u001b[37m\u001b[0m \u001b[1m28s\u001b[0m 62ms/step - accuracy: 0.9976 - loss: 0.0063 - val_accuracy: 0.6875 - val_loss: 2.2703\n",
      "Epoch 27/50\n",
      "\u001b[1m438/438\u001b[0m \u001b[32m━━━━━━━━━━━━━━━━━━━━\u001b[0m\u001b[37m\u001b[0m \u001b[1m27s\u001b[0m 62ms/step - accuracy: 0.9980 - loss: 0.0061 - val_accuracy: 0.6990 - val_loss: 2.2316\n",
      "Epoch 28/50\n",
      "\u001b[1m438/438\u001b[0m \u001b[32m━━━━━━━━━━━━━━━━━━━━\u001b[0m\u001b[37m\u001b[0m \u001b[1m28s\u001b[0m 63ms/step - accuracy: 0.9993 - loss: 0.0013 - val_accuracy: 0.6965 - val_loss: 2.3190\n",
      "Epoch 29/50\n",
      "\u001b[1m438/438\u001b[0m \u001b[32m━━━━━━━━━━━━━━━━━━━━\u001b[0m\u001b[37m\u001b[0m \u001b[1m27s\u001b[0m 62ms/step - accuracy: 0.9990 - loss: 0.0016 - val_accuracy: 0.6880 - val_loss: 2.4332\n",
      "Epoch 30/50\n",
      "\u001b[1m438/438\u001b[0m \u001b[32m━━━━━━━━━━━━━━━━━━━━\u001b[0m\u001b[37m\u001b[0m \u001b[1m28s\u001b[0m 63ms/step - accuracy: 0.9995 - loss: 0.0012 - val_accuracy: 0.7060 - val_loss: 2.3500\n",
      "Epoch 31/50\n",
      "\u001b[1m438/438\u001b[0m \u001b[32m━━━━━━━━━━━━━━━━━━━━\u001b[0m\u001b[37m\u001b[0m \u001b[1m41s\u001b[0m 62ms/step - accuracy: 0.9986 - loss: 0.0020 - val_accuracy: 0.6955 - val_loss: 2.4494\n",
      "Epoch 32/50\n",
      "\u001b[1m438/438\u001b[0m \u001b[32m━━━━━━━━━━━━━━━━━━━━\u001b[0m\u001b[37m\u001b[0m \u001b[1m28s\u001b[0m 63ms/step - accuracy: 0.9994 - loss: 0.0013 - val_accuracy: 0.6845 - val_loss: 2.5736\n",
      "Epoch 33/50\n",
      "\u001b[1m438/438\u001b[0m \u001b[32m━━━━━━━━━━━━━━━━━━━━\u001b[0m\u001b[37m\u001b[0m \u001b[1m28s\u001b[0m 62ms/step - accuracy: 0.9989 - loss: 0.0018 - val_accuracy: 0.6880 - val_loss: 2.6044\n",
      "Epoch 34/50\n",
      "\u001b[1m438/438\u001b[0m \u001b[32m━━━━━━━━━━━━━━━━━━━━\u001b[0m\u001b[37m\u001b[0m \u001b[1m27s\u001b[0m 61ms/step - accuracy: 0.9993 - loss: 0.0011 - val_accuracy: 0.7030 - val_loss: 2.5407\n",
      "Epoch 35/50\n",
      "\u001b[1m438/438\u001b[0m \u001b[32m━━━━━━━━━━━━━━━━━━━━\u001b[0m\u001b[37m\u001b[0m \u001b[1m42s\u001b[0m 63ms/step - accuracy: 0.9989 - loss: 0.0024 - val_accuracy: 0.6390 - val_loss: 3.1457\n",
      "Epoch 36/50\n",
      "\u001b[1m438/438\u001b[0m \u001b[32m━━━━━━━━━━━━━━━━━━━━\u001b[0m\u001b[37m\u001b[0m \u001b[1m40s\u001b[0m 60ms/step - accuracy: 0.9942 - loss: 0.0111 - val_accuracy: 0.6665 - val_loss: 2.6418\n",
      "Epoch 37/50\n",
      "\u001b[1m438/438\u001b[0m \u001b[32m━━━━━━━━━━━━━━━━━━━━\u001b[0m\u001b[37m\u001b[0m \u001b[1m27s\u001b[0m 61ms/step - accuracy: 0.9979 - loss: 0.0043 - val_accuracy: 0.6760 - val_loss: 2.5603\n",
      "Epoch 38/50\n",
      "\u001b[1m438/438\u001b[0m \u001b[32m━━━━━━━━━━━━━━━━━━━━\u001b[0m\u001b[37m\u001b[0m \u001b[1m27s\u001b[0m 61ms/step - accuracy: 0.9989 - loss: 0.0024 - val_accuracy: 0.6870 - val_loss: 2.5596\n",
      "Epoch 39/50\n",
      "\u001b[1m438/438\u001b[0m \u001b[32m━━━━━━━━━━━━━━━━━━━━\u001b[0m\u001b[37m\u001b[0m \u001b[1m27s\u001b[0m 61ms/step - accuracy: 0.9994 - loss: 0.0018 - val_accuracy: 0.7025 - val_loss: 2.4966\n",
      "Epoch 40/50\n",
      "\u001b[1m438/438\u001b[0m \u001b[32m━━━━━━━━━━━━━━━━━━━━\u001b[0m\u001b[37m\u001b[0m \u001b[1m41s\u001b[0m 60ms/step - accuracy: 0.9993 - loss: 0.0012 - val_accuracy: 0.6955 - val_loss: 2.5522\n",
      "Epoch 41/50\n",
      "\u001b[1m438/438\u001b[0m \u001b[32m━━━━━━━━━━━━━━━━━━━━\u001b[0m\u001b[37m\u001b[0m \u001b[1m27s\u001b[0m 62ms/step - accuracy: 0.9988 - loss: 0.0015 - val_accuracy: 0.7030 - val_loss: 2.5558\n",
      "Epoch 42/50\n",
      "\u001b[1m438/438\u001b[0m \u001b[32m━━━━━━━━━━━━━━━━━━━━\u001b[0m\u001b[37m\u001b[0m \u001b[1m27s\u001b[0m 61ms/step - accuracy: 0.9990 - loss: 0.0015 - val_accuracy: 0.7025 - val_loss: 2.6102\n",
      "Epoch 43/50\n",
      "\u001b[1m438/438\u001b[0m \u001b[32m━━━━━━━━━━━━━━━━━━━━\u001b[0m\u001b[37m\u001b[0m \u001b[1m27s\u001b[0m 61ms/step - accuracy: 0.9992 - loss: 0.0012 - val_accuracy: 0.6985 - val_loss: 2.6509\n",
      "Epoch 44/50\n",
      "\u001b[1m438/438\u001b[0m \u001b[32m━━━━━━━━━━━━━━━━━━━━\u001b[0m\u001b[37m\u001b[0m \u001b[1m27s\u001b[0m 61ms/step - accuracy: 0.9985 - loss: 0.0021 - val_accuracy: 0.6975 - val_loss: 2.6763\n",
      "Epoch 45/50\n",
      "\u001b[1m438/438\u001b[0m \u001b[32m━━━━━━━━━━━━━━━━━━━━\u001b[0m\u001b[37m\u001b[0m \u001b[1m27s\u001b[0m 60ms/step - accuracy: 0.9993 - loss: 0.0011 - val_accuracy: 0.7030 - val_loss: 2.7367\n",
      "Epoch 46/50\n",
      "\u001b[1m438/438\u001b[0m \u001b[32m━━━━━━━━━━━━━━━━━━━━\u001b[0m\u001b[37m\u001b[0m \u001b[1m27s\u001b[0m 61ms/step - accuracy: 0.9988 - loss: 0.0017 - val_accuracy: 0.6945 - val_loss: 2.7824\n",
      "Epoch 47/50\n",
      "\u001b[1m438/438\u001b[0m \u001b[32m━━━━━━━━━━━━━━━━━━━━\u001b[0m\u001b[37m\u001b[0m \u001b[1m27s\u001b[0m 61ms/step - accuracy: 0.9992 - loss: 0.0014 - val_accuracy: 0.6995 - val_loss: 2.8227\n",
      "Epoch 48/50\n",
      "\u001b[1m438/438\u001b[0m \u001b[32m━━━━━━━━━━━━━━━━━━━━\u001b[0m\u001b[37m\u001b[0m \u001b[1m27s\u001b[0m 61ms/step - accuracy: 0.9993 - loss: 0.0013 - val_accuracy: 0.7045 - val_loss: 2.8491\n",
      "Epoch 49/50\n",
      "\u001b[1m438/438\u001b[0m \u001b[32m━━━━━━━━━━━━━━━━━━━━\u001b[0m\u001b[37m\u001b[0m \u001b[1m27s\u001b[0m 61ms/step - accuracy: 0.9992 - loss: 0.0013 - val_accuracy: 0.6975 - val_loss: 2.9081\n",
      "Epoch 50/50\n",
      "\u001b[1m438/438\u001b[0m \u001b[32m━━━━━━━━━━━━━━━━━━━━\u001b[0m\u001b[37m\u001b[0m \u001b[1m26s\u001b[0m 59ms/step - accuracy: 0.9994 - loss: 9.6181e-04 - val_accuracy: 0.7010 - val_loss: 2.9007\n"
     ]
    }
   ],
   "source": [
    "dropout_resnet_cdf_history = dropout_resnet_cdf_model.fit(\n",
    "    cdf_train_generator, validation_data=cdf_val_generator, epochs=NUM_EPOCHS\n",
    ")"
   ]
  },
  {
   "cell_type": "code",
   "execution_count": 29,
   "id": "21b5e1ed",
   "metadata": {
    "execution": {
     "iopub.execute_input": "2024-11-04T20:18:24.560436Z",
     "iopub.status.busy": "2024-11-04T20:18:24.559461Z",
     "iopub.status.idle": "2024-11-04T20:18:25.023812Z",
     "shell.execute_reply": "2024-11-04T20:18:25.022966Z"
    },
    "papermill": {
     "duration": 7.81431,
     "end_time": "2024-11-04T20:18:25.025895",
     "exception": false,
     "start_time": "2024-11-04T20:18:17.211585",
     "status": "completed"
    },
    "tags": []
   },
   "outputs": [
    {
     "data": {
      "image/png": "[encoded data removed]",
      "text/plain": [
       "<Figure size 1200x400 with 2 Axes>"
      ]
     },
     "metadata": {},
     "output_type": "display_data"
    }
   ],
   "source": [
    "plot_train_result(\n",
    "    dropout_resnet_cdf_history.history,\n",
    "    title=\"Dropout ResNet Model on Celeb-DF-v2 Dataset\"\n",
    ")"
   ]
  },
  {
   "cell_type": "code",
   "execution_count": 30,
   "id": "cdc135e8",
   "metadata": {
    "execution": {
     "iopub.execute_input": "2024-11-04T20:18:39.570355Z",
     "iopub.status.busy": "2024-11-04T20:18:39.569657Z",
     "iopub.status.idle": "2024-11-04T20:18:41.344276Z",
     "shell.execute_reply": "2024-11-04T20:18:41.343193Z"
    },
    "papermill": {
     "duration": 9.052435,
     "end_time": "2024-11-04T20:18:41.346419",
     "exception": false,
     "start_time": "2024-11-04T20:18:32.293984",
     "status": "completed"
    },
    "tags": []
   },
   "outputs": [
    {
     "name": "stdout",
     "output_type": "stream",
     "text": [
      "Model saved at dropout_resnet_cdf_model.keras\n",
      "Training history saved at dropout_resnet_cdf_history.pkl\n"
     ]
    }
   ],
   "source": [
    "save_model_and_history(\n",
    "    dropout_resnet_cdf_model, dropout_resnet_cdf_history, \"dropout_resnet_cdf\"\n",
    ")"
   ]
  },
  {
   "cell_type": "markdown",
   "id": "dd8d98c5",
   "metadata": {
    "papermill": {
     "duration": 7.266865,
     "end_time": "2024-11-04T20:18:55.928348",
     "exception": false,
     "start_time": "2024-11-04T20:18:48.661483",
     "status": "completed"
    },
    "tags": []
   },
   "source": [
    "#### DeeperForensics-1.0 Dataset"
   ]
  },
  {
   "cell_type": "code",
   "execution_count": 31,
   "id": "be6840b0",
   "metadata": {
    "execution": {
     "iopub.execute_input": "2024-11-04T20:19:10.508725Z",
     "iopub.status.busy": "2024-11-04T20:19:10.508321Z",
     "iopub.status.idle": "2024-11-04T20:19:13.604422Z",
     "shell.execute_reply": "2024-11-04T20:19:13.603511Z"
    },
    "papermill": {
     "duration": 10.430726,
     "end_time": "2024-11-04T20:19:13.606400",
     "exception": false,
     "start_time": "2024-11-04T20:19:03.175674",
     "status": "completed"
    },
    "tags": []
   },
   "outputs": [
    {
     "data": {
      "text/html": [
       "<pre style=\"white-space:pre;overflow-x:auto;line-height:normal;font-family:Menlo,'DejaVu Sans Mono',consolas,'Courier New',monospace\"><span style=\"font-weight: bold\">Model: \"sequential_4\"</span>\n",
       "</pre>\n"
      ],
      "text/plain": [
       "\u001b[1mModel: \"sequential_4\"\u001b[0m\n"
      ]
     },
     "metadata": {},
     "output_type": "display_data"
    },
    {
     "data": {
      "text/html": [
       "<pre style=\"white-space:pre;overflow-x:auto;line-height:normal;font-family:Menlo,'DejaVu Sans Mono',consolas,'Courier New',monospace\">┏━━━━━━━━━━━━━━━━━━━━━━━━━━━━━━━━━┳━━━━━━━━━━━━━━━━━━━━━━━━┳━━━━━━━━━━━━━━━┓\n",
       "┃<span style=\"font-weight: bold\"> Layer (type)                    </span>┃<span style=\"font-weight: bold\"> Output Shape           </span>┃<span style=\"font-weight: bold\">       Param # </span>┃\n",
       "┡━━━━━━━━━━━━━━━━━━━━━━━━━━━━━━━━━╇━━━━━━━━━━━━━━━━━━━━━━━━╇━━━━━━━━━━━━━━━┩\n",
       "│ resnet152 (<span style=\"color: #0087ff; text-decoration-color: #0087ff\">Functional</span>)          │ ?                      │    <span style=\"color: #00af00; text-decoration-color: #00af00\">58,370,944</span> │\n",
       "├─────────────────────────────────┼────────────────────────┼───────────────┤\n",
       "│ flatten_4 (<span style=\"color: #0087ff; text-decoration-color: #0087ff\">Flatten</span>)             │ ?                      │   <span style=\"color: #00af00; text-decoration-color: #00af00\">0</span> (unbuilt) │\n",
       "├─────────────────────────────────┼────────────────────────┼───────────────┤\n",
       "│ dense_20 (<span style=\"color: #0087ff; text-decoration-color: #0087ff\">Dense</span>)                │ ?                      │   <span style=\"color: #00af00; text-decoration-color: #00af00\">0</span> (unbuilt) │\n",
       "├─────────────────────────────────┼────────────────────────┼───────────────┤\n",
       "│ dense_21 (<span style=\"color: #0087ff; text-decoration-color: #0087ff\">Dense</span>)                │ ?                      │   <span style=\"color: #00af00; text-decoration-color: #00af00\">0</span> (unbuilt) │\n",
       "├─────────────────────────────────┼────────────────────────┼───────────────┤\n",
       "│ dense_22 (<span style=\"color: #0087ff; text-decoration-color: #0087ff\">Dense</span>)                │ ?                      │   <span style=\"color: #00af00; text-decoration-color: #00af00\">0</span> (unbuilt) │\n",
       "├─────────────────────────────────┼────────────────────────┼───────────────┤\n",
       "│ dense_23 (<span style=\"color: #0087ff; text-decoration-color: #0087ff\">Dense</span>)                │ ?                      │   <span style=\"color: #00af00; text-decoration-color: #00af00\">0</span> (unbuilt) │\n",
       "├─────────────────────────────────┼────────────────────────┼───────────────┤\n",
       "│ dropout_1 (<span style=\"color: #0087ff; text-decoration-color: #0087ff\">Dropout</span>)             │ ?                      │   <span style=\"color: #00af00; text-decoration-color: #00af00\">0</span> (unbuilt) │\n",
       "├─────────────────────────────────┼────────────────────────┼───────────────┤\n",
       "│ dense_24 (<span style=\"color: #0087ff; text-decoration-color: #0087ff\">Dense</span>)                │ ?                      │   <span style=\"color: #00af00; text-decoration-color: #00af00\">0</span> (unbuilt) │\n",
       "└─────────────────────────────────┴────────────────────────┴───────────────┘\n",
       "</pre>\n"
      ],
      "text/plain": [
       "┏━━━━━━━━━━━━━━━━━━━━━━━━━━━━━━━━━┳━━━━━━━━━━━━━━━━━━━━━━━━┳━━━━━━━━━━━━━━━┓\n",
       "┃\u001b[1m \u001b[0m\u001b[1mLayer (type)                   \u001b[0m\u001b[1m \u001b[0m┃\u001b[1m \u001b[0m\u001b[1mOutput Shape          \u001b[0m\u001b[1m \u001b[0m┃\u001b[1m \u001b[0m\u001b[1m      Param #\u001b[0m\u001b[1m \u001b[0m┃\n",
       "┡━━━━━━━━━━━━━━━━━━━━━━━━━━━━━━━━━╇━━━━━━━━━━━━━━━━━━━━━━━━╇━━━━━━━━━━━━━━━┩\n",
       "│ resnet152 (\u001b[38;5;33mFunctional\u001b[0m)          │ ?                      │    \u001b[38;5;34m58,370,944\u001b[0m │\n",
       "├─────────────────────────────────┼────────────────────────┼───────────────┤\n",
       "│ flatten_4 (\u001b[38;5;33mFlatten\u001b[0m)             │ ?                      │   \u001b[38;5;34m0\u001b[0m (unbuilt) │\n",
       "├─────────────────────────────────┼────────────────────────┼───────────────┤\n",
       "│ dense_20 (\u001b[38;5;33mDense\u001b[0m)                │ ?                      │   \u001b[38;5;34m0\u001b[0m (unbuilt) │\n",
       "├─────────────────────────────────┼────────────────────────┼───────────────┤\n",
       "│ dense_21 (\u001b[38;5;33mDense\u001b[0m)                │ ?                      │   \u001b[38;5;34m0\u001b[0m (unbuilt) │\n",
       "├─────────────────────────────────┼────────────────────────┼───────────────┤\n",
       "│ dense_22 (\u001b[38;5;33mDense\u001b[0m)                │ ?                      │   \u001b[38;5;34m0\u001b[0m (unbuilt) │\n",
       "├─────────────────────────────────┼────────────────────────┼───────────────┤\n",
       "│ dense_23 (\u001b[38;5;33mDense\u001b[0m)                │ ?                      │   \u001b[38;5;34m0\u001b[0m (unbuilt) │\n",
       "├─────────────────────────────────┼────────────────────────┼───────────────┤\n",
       "│ dropout_1 (\u001b[38;5;33mDropout\u001b[0m)             │ ?                      │   \u001b[38;5;34m0\u001b[0m (unbuilt) │\n",
       "├─────────────────────────────────┼────────────────────────┼───────────────┤\n",
       "│ dense_24 (\u001b[38;5;33mDense\u001b[0m)                │ ?                      │   \u001b[38;5;34m0\u001b[0m (unbuilt) │\n",
       "└─────────────────────────────────┴────────────────────────┴───────────────┘\n"
      ]
     },
     "metadata": {},
     "output_type": "display_data"
    },
    {
     "data": {
      "text/html": [
       "<pre style=\"white-space:pre;overflow-x:auto;line-height:normal;font-family:Menlo,'DejaVu Sans Mono',consolas,'Courier New',monospace\"><span style=\"font-weight: bold\"> Total params: </span><span style=\"color: #00af00; text-decoration-color: #00af00\">58,370,944</span> (222.67 MB)\n",
       "</pre>\n"
      ],
      "text/plain": [
       "\u001b[1m Total params: \u001b[0m\u001b[38;5;34m58,370,944\u001b[0m (222.67 MB)\n"
      ]
     },
     "metadata": {},
     "output_type": "display_data"
    },
    {
     "data": {
      "text/html": [
       "<pre style=\"white-space:pre;overflow-x:auto;line-height:normal;font-family:Menlo,'DejaVu Sans Mono',consolas,'Courier New',monospace\"><span style=\"font-weight: bold\"> Trainable params: </span><span style=\"color: #00af00; text-decoration-color: #00af00\">0</span> (0.00 B)\n",
       "</pre>\n"
      ],
      "text/plain": [
       "\u001b[1m Trainable params: \u001b[0m\u001b[38;5;34m0\u001b[0m (0.00 B)\n"
      ]
     },
     "metadata": {},
     "output_type": "display_data"
    },
    {
     "data": {
      "text/html": [
       "<pre style=\"white-space:pre;overflow-x:auto;line-height:normal;font-family:Menlo,'DejaVu Sans Mono',consolas,'Courier New',monospace\"><span style=\"font-weight: bold\"> Non-trainable params: </span><span style=\"color: #00af00; text-decoration-color: #00af00\">58,370,944</span> (222.67 MB)\n",
       "</pre>\n"
      ],
      "text/plain": [
       "\u001b[1m Non-trainable params: \u001b[0m\u001b[38;5;34m58,370,944\u001b[0m (222.67 MB)\n"
      ]
     },
     "metadata": {},
     "output_type": "display_data"
    }
   ],
   "source": [
    "dropout_resnet_df_model = create_resnet_model(best_hp, dropout=True)\n",
    "dropout_resnet_df_model.summary()"
   ]
  },
  {
   "cell_type": "code",
   "execution_count": 32,
   "id": "989549ff",
   "metadata": {
    "execution": {
     "iopub.execute_input": "2024-11-04T20:19:28.369069Z",
     "iopub.status.busy": "2024-11-04T20:19:28.368154Z",
     "iopub.status.idle": "2024-11-04T20:46:09.833665Z",
     "shell.execute_reply": "2024-11-04T20:46:09.832848Z"
    },
    "papermill": {
     "duration": 1608.819013,
     "end_time": "2024-11-04T20:46:09.835636",
     "exception": false,
     "start_time": "2024-11-04T20:19:21.016623",
     "status": "completed"
    },
    "tags": []
   },
   "outputs": [
    {
     "name": "stdout",
     "output_type": "stream",
     "text": [
      "Epoch 1/50\n",
      "\u001b[1m438/438\u001b[0m \u001b[32m━━━━━━━━━━━━━━━━━━━━\u001b[0m\u001b[37m\u001b[0m \u001b[1m84s\u001b[0m 131ms/step - accuracy: 0.6578 - loss: 0.6028 - val_accuracy: 0.7860 - val_loss: 0.4431\n",
      "Epoch 2/50\n",
      "\u001b[1m438/438\u001b[0m \u001b[32m━━━━━━━━━━━━━━━━━━━━\u001b[0m\u001b[37m\u001b[0m \u001b[1m45s\u001b[0m 64ms/step - accuracy: 0.9587 - loss: 0.1482 - val_accuracy: 0.8305 - val_loss: 0.3622\n",
      "Epoch 3/50\n",
      "\u001b[1m438/438\u001b[0m \u001b[32m━━━━━━━━━━━━━━━━━━━━\u001b[0m\u001b[37m\u001b[0m \u001b[1m29s\u001b[0m 65ms/step - accuracy: 0.9907 - loss: 0.0416 - val_accuracy: 0.8720 - val_loss: 0.2873\n",
      "Epoch 4/50\n",
      "\u001b[1m438/438\u001b[0m \u001b[32m━━━━━━━━━━━━━━━━━━━━\u001b[0m\u001b[37m\u001b[0m \u001b[1m28s\u001b[0m 63ms/step - accuracy: 0.9962 - loss: 0.0204 - val_accuracy: 0.8735 - val_loss: 0.2858\n",
      "Epoch 5/50\n",
      "\u001b[1m438/438\u001b[0m \u001b[32m━━━━━━━━━━━━━━━━━━━━\u001b[0m\u001b[37m\u001b[0m \u001b[1m30s\u001b[0m 67ms/step - accuracy: 0.9973 - loss: 0.0125 - val_accuracy: 0.8800 - val_loss: 0.2790\n",
      "Epoch 6/50\n",
      "\u001b[1m438/438\u001b[0m \u001b[32m━━━━━━━━━━━━━━━━━━━━\u001b[0m\u001b[37m\u001b[0m \u001b[1m30s\u001b[0m 68ms/step - accuracy: 0.9988 - loss: 0.0068 - val_accuracy: 0.8585 - val_loss: 0.3949\n",
      "Epoch 7/50\n",
      "\u001b[1m438/438\u001b[0m \u001b[32m━━━━━━━━━━━━━━━━━━━━\u001b[0m\u001b[37m\u001b[0m \u001b[1m30s\u001b[0m 69ms/step - accuracy: 0.9978 - loss: 0.0070 - val_accuracy: 0.8790 - val_loss: 0.3124\n",
      "Epoch 8/50\n",
      "\u001b[1m438/438\u001b[0m \u001b[32m━━━━━━━━━━━━━━━━━━━━\u001b[0m\u001b[37m\u001b[0m \u001b[1m29s\u001b[0m 66ms/step - accuracy: 0.9996 - loss: 0.0035 - val_accuracy: 0.8940 - val_loss: 0.3023\n",
      "Epoch 9/50\n",
      "\u001b[1m438/438\u001b[0m \u001b[32m━━━━━━━━━━━━━━━━━━━━\u001b[0m\u001b[37m\u001b[0m \u001b[1m30s\u001b[0m 67ms/step - accuracy: 0.9997 - loss: 0.0023 - val_accuracy: 0.8880 - val_loss: 0.3072\n",
      "Epoch 10/50\n",
      "\u001b[1m438/438\u001b[0m \u001b[32m━━━━━━━━━━━━━━━━━━━━\u001b[0m\u001b[37m\u001b[0m \u001b[1m31s\u001b[0m 70ms/step - accuracy: 0.9996 - loss: 0.0018 - val_accuracy: 0.8975 - val_loss: 0.2969\n",
      "Epoch 11/50\n",
      "\u001b[1m438/438\u001b[0m \u001b[32m━━━━━━━━━━━━━━━━━━━━\u001b[0m\u001b[37m\u001b[0m \u001b[1m30s\u001b[0m 68ms/step - accuracy: 0.9996 - loss: 0.0016 - val_accuracy: 0.8980 - val_loss: 0.3098\n",
      "Epoch 12/50\n",
      "\u001b[1m438/438\u001b[0m \u001b[32m━━━━━━━━━━━━━━━━━━━━\u001b[0m\u001b[37m\u001b[0m \u001b[1m31s\u001b[0m 70ms/step - accuracy: 0.9999 - loss: 0.0010 - val_accuracy: 0.8940 - val_loss: 0.3171\n",
      "Epoch 13/50\n",
      "\u001b[1m438/438\u001b[0m \u001b[32m━━━━━━━━━━━━━━━━━━━━\u001b[0m\u001b[37m\u001b[0m \u001b[1m31s\u001b[0m 69ms/step - accuracy: 0.9996 - loss: 0.0015 - val_accuracy: 0.9160 - val_loss: 0.2448\n",
      "Epoch 14/50\n",
      "\u001b[1m438/438\u001b[0m \u001b[32m━━━━━━━━━━━━━━━━━━━━\u001b[0m\u001b[37m\u001b[0m \u001b[1m31s\u001b[0m 70ms/step - accuracy: 1.0000 - loss: 5.1335e-04 - val_accuracy: 0.9135 - val_loss: 0.2831\n",
      "Epoch 15/50\n",
      "\u001b[1m438/438\u001b[0m \u001b[32m━━━━━━━━━━━━━━━━━━━━\u001b[0m\u001b[37m\u001b[0m \u001b[1m31s\u001b[0m 69ms/step - accuracy: 1.0000 - loss: 4.1005e-04 - val_accuracy: 0.9115 - val_loss: 0.2995\n",
      "Epoch 16/50\n",
      "\u001b[1m438/438\u001b[0m \u001b[32m━━━━━━━━━━━━━━━━━━━━\u001b[0m\u001b[37m\u001b[0m \u001b[1m30s\u001b[0m 68ms/step - accuracy: 0.9999 - loss: 4.8980e-04 - val_accuracy: 0.8950 - val_loss: 0.3609\n",
      "Epoch 17/50\n",
      "\u001b[1m438/438\u001b[0m \u001b[32m━━━━━━━━━━━━━━━━━━━━\u001b[0m\u001b[37m\u001b[0m \u001b[1m31s\u001b[0m 70ms/step - accuracy: 0.9996 - loss: 0.0023 - val_accuracy: 0.9080 - val_loss: 0.3302\n",
      "Epoch 18/50\n",
      "\u001b[1m438/438\u001b[0m \u001b[32m━━━━━━━━━━━━━━━━━━━━\u001b[0m\u001b[37m\u001b[0m \u001b[1m30s\u001b[0m 67ms/step - accuracy: 1.0000 - loss: 2.6185e-04 - val_accuracy: 0.9145 - val_loss: 0.3164\n",
      "Epoch 19/50\n",
      "\u001b[1m438/438\u001b[0m \u001b[32m━━━━━━━━━━━━━━━━━━━━\u001b[0m\u001b[37m\u001b[0m \u001b[1m31s\u001b[0m 70ms/step - accuracy: 1.0000 - loss: 1.6743e-04 - val_accuracy: 0.9100 - val_loss: 0.3338\n",
      "Epoch 20/50\n",
      "\u001b[1m438/438\u001b[0m \u001b[32m━━━━━━━━━━━━━━━━━━━━\u001b[0m\u001b[37m\u001b[0m \u001b[1m29s\u001b[0m 65ms/step - accuracy: 1.0000 - loss: 8.7442e-05 - val_accuracy: 0.9105 - val_loss: 0.3438\n",
      "Epoch 21/50\n",
      "\u001b[1m438/438\u001b[0m \u001b[32m━━━━━━━━━━━━━━━━━━━━\u001b[0m\u001b[37m\u001b[0m \u001b[1m31s\u001b[0m 69ms/step - accuracy: 1.0000 - loss: 1.4549e-04 - val_accuracy: 0.9045 - val_loss: 0.3644\n",
      "Epoch 22/50\n",
      "\u001b[1m438/438\u001b[0m \u001b[32m━━━━━━━━━━━━━━━━━━━━\u001b[0m\u001b[37m\u001b[0m \u001b[1m29s\u001b[0m 65ms/step - accuracy: 1.0000 - loss: 1.9292e-04 - val_accuracy: 0.9140 - val_loss: 0.3190\n",
      "Epoch 23/50\n",
      "\u001b[1m438/438\u001b[0m \u001b[32m━━━━━━━━━━━━━━━━━━━━\u001b[0m\u001b[37m\u001b[0m \u001b[1m30s\u001b[0m 68ms/step - accuracy: 1.0000 - loss: 8.0641e-05 - val_accuracy: 0.9120 - val_loss: 0.3367\n",
      "Epoch 24/50\n",
      "\u001b[1m438/438\u001b[0m \u001b[32m━━━━━━━━━━━━━━━━━━━━\u001b[0m\u001b[37m\u001b[0m \u001b[1m30s\u001b[0m 67ms/step - accuracy: 1.0000 - loss: 4.7781e-05 - val_accuracy: 0.9120 - val_loss: 0.3453\n",
      "Epoch 25/50\n",
      "\u001b[1m438/438\u001b[0m \u001b[32m━━━━━━━━━━━━━━━━━━━━\u001b[0m\u001b[37m\u001b[0m \u001b[1m30s\u001b[0m 67ms/step - accuracy: 1.0000 - loss: 4.6982e-05 - val_accuracy: 0.9140 - val_loss: 0.3508\n",
      "Epoch 26/50\n",
      "\u001b[1m438/438\u001b[0m \u001b[32m━━━━━━━━━━━━━━━━━━━━\u001b[0m\u001b[37m\u001b[0m \u001b[1m30s\u001b[0m 67ms/step - accuracy: 1.0000 - loss: 3.9409e-05 - val_accuracy: 0.9140 - val_loss: 0.3481\n",
      "Epoch 27/50\n",
      "\u001b[1m438/438\u001b[0m \u001b[32m━━━━━━━━━━━━━━━━━━━━\u001b[0m\u001b[37m\u001b[0m \u001b[1m30s\u001b[0m 67ms/step - accuracy: 1.0000 - loss: 4.0682e-05 - val_accuracy: 0.9155 - val_loss: 0.3458\n",
      "Epoch 28/50\n",
      "\u001b[1m438/438\u001b[0m \u001b[32m━━━━━━━━━━━━━━━━━━━━\u001b[0m\u001b[37m\u001b[0m \u001b[1m29s\u001b[0m 66ms/step - accuracy: 1.0000 - loss: 3.9074e-05 - val_accuracy: 0.8995 - val_loss: 0.4358\n",
      "Epoch 29/50\n",
      "\u001b[1m438/438\u001b[0m \u001b[32m━━━━━━━━━━━━━━━━━━━━\u001b[0m\u001b[37m\u001b[0m \u001b[1m30s\u001b[0m 66ms/step - accuracy: 1.0000 - loss: 2.4332e-05 - val_accuracy: 0.9205 - val_loss: 0.3635\n",
      "Epoch 30/50\n",
      "\u001b[1m438/438\u001b[0m \u001b[32m━━━━━━━━━━━━━━━━━━━━\u001b[0m\u001b[37m\u001b[0m \u001b[1m29s\u001b[0m 64ms/step - accuracy: 0.9992 - loss: 0.0028 - val_accuracy: 0.9000 - val_loss: 0.4650\n",
      "Epoch 31/50\n",
      "\u001b[1m438/438\u001b[0m \u001b[32m━━━━━━━━━━━━━━━━━━━━\u001b[0m\u001b[37m\u001b[0m \u001b[1m31s\u001b[0m 69ms/step - accuracy: 1.0000 - loss: 1.0409e-04 - val_accuracy: 0.8970 - val_loss: 0.4732\n",
      "Epoch 32/50\n",
      "\u001b[1m438/438\u001b[0m \u001b[32m━━━━━━━━━━━━━━━━━━━━\u001b[0m\u001b[37m\u001b[0m \u001b[1m29s\u001b[0m 66ms/step - accuracy: 1.0000 - loss: 5.6396e-05 - val_accuracy: 0.9125 - val_loss: 0.4174\n",
      "Epoch 33/50\n",
      "\u001b[1m438/438\u001b[0m \u001b[32m━━━━━━━━━━━━━━━━━━━━\u001b[0m\u001b[37m\u001b[0m \u001b[1m30s\u001b[0m 67ms/step - accuracy: 1.0000 - loss: 5.6698e-05 - val_accuracy: 0.9025 - val_loss: 0.4791\n",
      "Epoch 34/50\n",
      "\u001b[1m438/438\u001b[0m \u001b[32m━━━━━━━━━━━━━━━━━━━━\u001b[0m\u001b[37m\u001b[0m \u001b[1m28s\u001b[0m 64ms/step - accuracy: 1.0000 - loss: 5.2669e-05 - val_accuracy: 0.9060 - val_loss: 0.4416\n",
      "Epoch 35/50\n",
      "\u001b[1m438/438\u001b[0m \u001b[32m━━━━━━━━━━━━━━━━━━━━\u001b[0m\u001b[37m\u001b[0m \u001b[1m42s\u001b[0m 67ms/step - accuracy: 1.0000 - loss: 4.0154e-05 - val_accuracy: 0.9075 - val_loss: 0.4394\n",
      "Epoch 36/50\n",
      "\u001b[1m438/438\u001b[0m \u001b[32m━━━━━━━━━━━━━━━━━━━━\u001b[0m\u001b[37m\u001b[0m \u001b[1m39s\u001b[0m 63ms/step - accuracy: 1.0000 - loss: 2.6165e-05 - val_accuracy: 0.9130 - val_loss: 0.3973\n",
      "Epoch 37/50\n",
      "\u001b[1m438/438\u001b[0m \u001b[32m━━━━━━━━━━━━━━━━━━━━\u001b[0m\u001b[37m\u001b[0m \u001b[1m30s\u001b[0m 67ms/step - accuracy: 1.0000 - loss: 3.0212e-05 - val_accuracy: 0.9200 - val_loss: 0.3821\n",
      "Epoch 38/50\n",
      "\u001b[1m438/438\u001b[0m \u001b[32m━━━━━━━━━━━━━━━━━━━━\u001b[0m\u001b[37m\u001b[0m \u001b[1m29s\u001b[0m 65ms/step - accuracy: 1.0000 - loss: 2.3795e-05 - val_accuracy: 0.9050 - val_loss: 0.4792\n",
      "Epoch 39/50\n",
      "\u001b[1m438/438\u001b[0m \u001b[32m━━━━━━━━━━━━━━━━━━━━\u001b[0m\u001b[37m\u001b[0m \u001b[1m29s\u001b[0m 66ms/step - accuracy: 1.0000 - loss: 2.0635e-05 - val_accuracy: 0.9115 - val_loss: 0.4612\n",
      "Epoch 40/50\n",
      "\u001b[1m438/438\u001b[0m \u001b[32m━━━━━━━━━━━━━━━━━━━━\u001b[0m\u001b[37m\u001b[0m \u001b[1m30s\u001b[0m 67ms/step - accuracy: 1.0000 - loss: 1.6453e-05 - val_accuracy: 0.9125 - val_loss: 0.4476\n",
      "Epoch 41/50\n",
      "\u001b[1m438/438\u001b[0m \u001b[32m━━━━━━━━━━━━━━━━━━━━\u001b[0m\u001b[37m\u001b[0m \u001b[1m29s\u001b[0m 65ms/step - accuracy: 1.0000 - loss: 1.3965e-05 - val_accuracy: 0.9165 - val_loss: 0.4276\n",
      "Epoch 42/50\n",
      "\u001b[1m438/438\u001b[0m \u001b[32m━━━━━━━━━━━━━━━━━━━━\u001b[0m\u001b[37m\u001b[0m \u001b[1m41s\u001b[0m 66ms/step - accuracy: 1.0000 - loss: 1.3970e-05 - val_accuracy: 0.9155 - val_loss: 0.4332\n",
      "Epoch 43/50\n",
      "\u001b[1m438/438\u001b[0m \u001b[32m━━━━━━━━━━━━━━━━━━━━\u001b[0m\u001b[37m\u001b[0m \u001b[1m29s\u001b[0m 64ms/step - accuracy: 1.0000 - loss: 1.3754e-05 - val_accuracy: 0.9195 - val_loss: 0.4062\n",
      "Epoch 44/50\n",
      "\u001b[1m438/438\u001b[0m \u001b[32m━━━━━━━━━━━━━━━━━━━━\u001b[0m\u001b[37m\u001b[0m \u001b[1m29s\u001b[0m 66ms/step - accuracy: 1.0000 - loss: 1.1644e-05 - val_accuracy: 0.9145 - val_loss: 0.4846\n",
      "Epoch 45/50\n",
      "\u001b[1m438/438\u001b[0m \u001b[32m━━━━━━━━━━━━━━━━━━━━\u001b[0m\u001b[37m\u001b[0m \u001b[1m29s\u001b[0m 65ms/step - accuracy: 0.9995 - loss: 0.0018 - val_accuracy: 0.8715 - val_loss: 0.6366\n",
      "Epoch 46/50\n",
      "\u001b[1m438/438\u001b[0m \u001b[32m━━━━━━━━━━━━━━━━━━━━\u001b[0m\u001b[37m\u001b[0m \u001b[1m29s\u001b[0m 65ms/step - accuracy: 1.0000 - loss: 2.6814e-05 - val_accuracy: 0.9090 - val_loss: 0.4543\n",
      "Epoch 47/50\n",
      "\u001b[1m438/438\u001b[0m \u001b[32m━━━━━━━━━━━━━━━━━━━━\u001b[0m\u001b[37m\u001b[0m \u001b[1m30s\u001b[0m 68ms/step - accuracy: 1.0000 - loss: 1.5129e-05 - val_accuracy: 0.9065 - val_loss: 0.4748\n",
      "Epoch 48/50\n",
      "\u001b[1m438/438\u001b[0m \u001b[32m━━━━━━━━━━━━━━━━━━━━\u001b[0m\u001b[37m\u001b[0m \u001b[1m41s\u001b[0m 67ms/step - accuracy: 1.0000 - loss: 1.8041e-05 - val_accuracy: 0.9005 - val_loss: 0.4968\n",
      "Epoch 49/50\n",
      "\u001b[1m438/438\u001b[0m \u001b[32m━━━━━━━━━━━━━━━━━━━━\u001b[0m\u001b[37m\u001b[0m \u001b[1m30s\u001b[0m 68ms/step - accuracy: 1.0000 - loss: 1.7333e-05 - val_accuracy: 0.9060 - val_loss: 0.4752\n",
      "Epoch 50/50\n",
      "\u001b[1m438/438\u001b[0m \u001b[32m━━━━━━━━━━━━━━━━━━━━\u001b[0m\u001b[37m\u001b[0m \u001b[1m29s\u001b[0m 66ms/step - accuracy: 1.0000 - loss: 1.6996e-05 - val_accuracy: 0.8975 - val_loss: 0.5120\n"
     ]
    }
   ],
   "source": [
    "dropout_resnet_df_history = dropout_resnet_df_model.fit(\n",
    "    df_train_generator, validation_data=df_val_generator, epochs=NUM_EPOCHS\n",
    ")"
   ]
  },
  {
   "cell_type": "code",
   "execution_count": 33,
   "id": "16749ebe",
   "metadata": {
    "execution": {
     "iopub.execute_input": "2024-11-04T20:46:28.299025Z",
     "iopub.status.busy": "2024-11-04T20:46:28.298152Z",
     "iopub.status.idle": "2024-11-04T20:46:28.766566Z",
     "shell.execute_reply": "2024-11-04T20:46:28.765634Z"
    },
    "papermill": {
     "duration": 9.698842,
     "end_time": "2024-11-04T20:46:28.768826",
     "exception": false,
     "start_time": "2024-11-04T20:46:19.069984",
     "status": "completed"
    },
    "tags": []
   },
   "outputs": [
    {
     "data": {
      "image/png": "[encoded data removed]",
      "text/plain": [
       "<Figure size 1200x400 with 2 Axes>"
      ]
     },
     "metadata": {},
     "output_type": "display_data"
    }
   ],
   "source": [
    "plot_train_result(\n",
    "    dropout_resnet_df_history.history,\n",
    "    title=\"Dropout ResNet Model on DeeperForensics-1.0 Dataset\"\n",
    ")"
   ]
  },
  {
   "cell_type": "code",
   "execution_count": 34,
   "id": "2d42d9e4",
   "metadata": {
    "execution": {
     "iopub.execute_input": "2024-11-04T20:46:47.075919Z",
     "iopub.status.busy": "2024-11-04T20:46:47.075519Z",
     "iopub.status.idle": "2024-11-04T20:46:48.845010Z",
     "shell.execute_reply": "2024-11-04T20:46:48.843872Z"
    },
    "papermill": {
     "duration": 10.951019,
     "end_time": "2024-11-04T20:46:48.847213",
     "exception": false,
     "start_time": "2024-11-04T20:46:37.896194",
     "status": "completed"
    },
    "tags": []
   },
   "outputs": [
    {
     "name": "stdout",
     "output_type": "stream",
     "text": [
      "Model saved at dropout_resnet_df_model.keras\n",
      "Training history saved at dropout_resnet_df_history.pkl\n"
     ]
    }
   ],
   "source": [
    "save_model_and_history(\n",
    "    dropout_resnet_df_model, dropout_resnet_df_history, \"dropout_resnet_df\"\n",
    ")"
   ]
  },
  {
   "cell_type": "markdown",
   "id": "c009c28b",
   "metadata": {
    "papermill": {
     "duration": 9.224566,
     "end_time": "2024-11-04T20:47:07.098147",
     "exception": false,
     "start_time": "2024-11-04T20:46:57.873581",
     "status": "completed"
    },
    "tags": []
   },
   "source": [
    "#### DFDC Dataset"
   ]
  },
  {
   "cell_type": "code",
   "execution_count": 35,
   "id": "7de20d5f",
   "metadata": {
    "execution": {
     "iopub.execute_input": "2024-11-04T20:47:25.492513Z",
     "iopub.status.busy": "2024-11-04T20:47:25.491544Z",
     "iopub.status.idle": "2024-11-04T20:47:29.783310Z",
     "shell.execute_reply": "2024-11-04T20:47:29.782411Z"
    },
    "papermill": {
     "duration": 13.535839,
     "end_time": "2024-11-04T20:47:29.785336",
     "exception": false,
     "start_time": "2024-11-04T20:47:16.249497",
     "status": "completed"
    },
    "tags": []
   },
   "outputs": [
    {
     "data": {
      "text/html": [
       "<pre style=\"white-space:pre;overflow-x:auto;line-height:normal;font-family:Menlo,'DejaVu Sans Mono',consolas,'Courier New',monospace\"><span style=\"font-weight: bold\">Model: \"sequential_5\"</span>\n",
       "</pre>\n"
      ],
      "text/plain": [
       "\u001b[1mModel: \"sequential_5\"\u001b[0m\n"
      ]
     },
     "metadata": {},
     "output_type": "display_data"
    },
    {
     "data": {
      "text/html": [
       "<pre style=\"white-space:pre;overflow-x:auto;line-height:normal;font-family:Menlo,'DejaVu Sans Mono',consolas,'Courier New',monospace\">┏━━━━━━━━━━━━━━━━━━━━━━━━━━━━━━━━━┳━━━━━━━━━━━━━━━━━━━━━━━━┳━━━━━━━━━━━━━━━┓\n",
       "┃<span style=\"font-weight: bold\"> Layer (type)                    </span>┃<span style=\"font-weight: bold\"> Output Shape           </span>┃<span style=\"font-weight: bold\">       Param # </span>┃\n",
       "┡━━━━━━━━━━━━━━━━━━━━━━━━━━━━━━━━━╇━━━━━━━━━━━━━━━━━━━━━━━━╇━━━━━━━━━━━━━━━┩\n",
       "│ resnet152 (<span style=\"color: #0087ff; text-decoration-color: #0087ff\">Functional</span>)          │ ?                      │    <span style=\"color: #00af00; text-decoration-color: #00af00\">58,370,944</span> │\n",
       "├─────────────────────────────────┼────────────────────────┼───────────────┤\n",
       "│ flatten_5 (<span style=\"color: #0087ff; text-decoration-color: #0087ff\">Flatten</span>)             │ ?                      │   <span style=\"color: #00af00; text-decoration-color: #00af00\">0</span> (unbuilt) │\n",
       "├─────────────────────────────────┼────────────────────────┼───────────────┤\n",
       "│ dense_25 (<span style=\"color: #0087ff; text-decoration-color: #0087ff\">Dense</span>)                │ ?                      │   <span style=\"color: #00af00; text-decoration-color: #00af00\">0</span> (unbuilt) │\n",
       "├─────────────────────────────────┼────────────────────────┼───────────────┤\n",
       "│ dense_26 (<span style=\"color: #0087ff; text-decoration-color: #0087ff\">Dense</span>)                │ ?                      │   <span style=\"color: #00af00; text-decoration-color: #00af00\">0</span> (unbuilt) │\n",
       "├─────────────────────────────────┼────────────────────────┼───────────────┤\n",
       "│ dense_27 (<span style=\"color: #0087ff; text-decoration-color: #0087ff\">Dense</span>)                │ ?                      │   <span style=\"color: #00af00; text-decoration-color: #00af00\">0</span> (unbuilt) │\n",
       "├─────────────────────────────────┼────────────────────────┼───────────────┤\n",
       "│ dense_28 (<span style=\"color: #0087ff; text-decoration-color: #0087ff\">Dense</span>)                │ ?                      │   <span style=\"color: #00af00; text-decoration-color: #00af00\">0</span> (unbuilt) │\n",
       "├─────────────────────────────────┼────────────────────────┼───────────────┤\n",
       "│ dropout_2 (<span style=\"color: #0087ff; text-decoration-color: #0087ff\">Dropout</span>)             │ ?                      │   <span style=\"color: #00af00; text-decoration-color: #00af00\">0</span> (unbuilt) │\n",
       "├─────────────────────────────────┼────────────────────────┼───────────────┤\n",
       "│ dense_29 (<span style=\"color: #0087ff; text-decoration-color: #0087ff\">Dense</span>)                │ ?                      │   <span style=\"color: #00af00; text-decoration-color: #00af00\">0</span> (unbuilt) │\n",
       "└─────────────────────────────────┴────────────────────────┴───────────────┘\n",
       "</pre>\n"
      ],
      "text/plain": [
       "┏━━━━━━━━━━━━━━━━━━━━━━━━━━━━━━━━━┳━━━━━━━━━━━━━━━━━━━━━━━━┳━━━━━━━━━━━━━━━┓\n",
       "┃\u001b[1m \u001b[0m\u001b[1mLayer (type)                   \u001b[0m\u001b[1m \u001b[0m┃\u001b[1m \u001b[0m\u001b[1mOutput Shape          \u001b[0m\u001b[1m \u001b[0m┃\u001b[1m \u001b[0m\u001b[1m      Param #\u001b[0m\u001b[1m \u001b[0m┃\n",
       "┡━━━━━━━━━━━━━━━━━━━━━━━━━━━━━━━━━╇━━━━━━━━━━━━━━━━━━━━━━━━╇━━━━━━━━━━━━━━━┩\n",
       "│ resnet152 (\u001b[38;5;33mFunctional\u001b[0m)          │ ?                      │    \u001b[38;5;34m58,370,944\u001b[0m │\n",
       "├─────────────────────────────────┼────────────────────────┼───────────────┤\n",
       "│ flatten_5 (\u001b[38;5;33mFlatten\u001b[0m)             │ ?                      │   \u001b[38;5;34m0\u001b[0m (unbuilt) │\n",
       "├─────────────────────────────────┼────────────────────────┼───────────────┤\n",
       "│ dense_25 (\u001b[38;5;33mDense\u001b[0m)                │ ?                      │   \u001b[38;5;34m0\u001b[0m (unbuilt) │\n",
       "├─────────────────────────────────┼────────────────────────┼───────────────┤\n",
       "│ dense_26 (\u001b[38;5;33mDense\u001b[0m)                │ ?                      │   \u001b[38;5;34m0\u001b[0m (unbuilt) │\n",
       "├─────────────────────────────────┼────────────────────────┼───────────────┤\n",
       "│ dense_27 (\u001b[38;5;33mDense\u001b[0m)                │ ?                      │   \u001b[38;5;34m0\u001b[0m (unbuilt) │\n",
       "├─────────────────────────────────┼────────────────────────┼───────────────┤\n",
       "│ dense_28 (\u001b[38;5;33mDense\u001b[0m)                │ ?                      │   \u001b[38;5;34m0\u001b[0m (unbuilt) │\n",
       "├─────────────────────────────────┼────────────────────────┼───────────────┤\n",
       "│ dropout_2 (\u001b[38;5;33mDropout\u001b[0m)             │ ?                      │   \u001b[38;5;34m0\u001b[0m (unbuilt) │\n",
       "├─────────────────────────────────┼────────────────────────┼───────────────┤\n",
       "│ dense_29 (\u001b[38;5;33mDense\u001b[0m)                │ ?                      │   \u001b[38;5;34m0\u001b[0m (unbuilt) │\n",
       "└─────────────────────────────────┴────────────────────────┴───────────────┘\n"
      ]
     },
     "metadata": {},
     "output_type": "display_data"
    },
    {
     "data": {
      "text/html": [
       "<pre style=\"white-space:pre;overflow-x:auto;line-height:normal;font-family:Menlo,'DejaVu Sans Mono',consolas,'Courier New',monospace\"><span style=\"font-weight: bold\"> Total params: </span><span style=\"color: #00af00; text-decoration-color: #00af00\">58,370,944</span> (222.67 MB)\n",
       "</pre>\n"
      ],
      "text/plain": [
       "\u001b[1m Total params: \u001b[0m\u001b[38;5;34m58,370,944\u001b[0m (222.67 MB)\n"
      ]
     },
     "metadata": {},
     "output_type": "display_data"
    },
    {
     "data": {
      "text/html": [
       "<pre style=\"white-space:pre;overflow-x:auto;line-height:normal;font-family:Menlo,'DejaVu Sans Mono',consolas,'Courier New',monospace\"><span style=\"font-weight: bold\"> Trainable params: </span><span style=\"color: #00af00; text-decoration-color: #00af00\">0</span> (0.00 B)\n",
       "</pre>\n"
      ],
      "text/plain": [
       "\u001b[1m Trainable params: \u001b[0m\u001b[38;5;34m0\u001b[0m (0.00 B)\n"
      ]
     },
     "metadata": {},
     "output_type": "display_data"
    },
    {
     "data": {
      "text/html": [
       "<pre style=\"white-space:pre;overflow-x:auto;line-height:normal;font-family:Menlo,'DejaVu Sans Mono',consolas,'Courier New',monospace\"><span style=\"font-weight: bold\"> Non-trainable params: </span><span style=\"color: #00af00; text-decoration-color: #00af00\">58,370,944</span> (222.67 MB)\n",
       "</pre>\n"
      ],
      "text/plain": [
       "\u001b[1m Non-trainable params: \u001b[0m\u001b[38;5;34m58,370,944\u001b[0m (222.67 MB)\n"
      ]
     },
     "metadata": {},
     "output_type": "display_data"
    }
   ],
   "source": [
    "dropout_resnet_dfdc_model = create_resnet_model(best_hp, dropout=True)\n",
    "dropout_resnet_dfdc_model.summary()"
   ]
  },
  {
   "cell_type": "code",
   "execution_count": 36,
   "id": "7e685d56",
   "metadata": {
    "execution": {
     "iopub.execute_input": "2024-11-04T20:47:48.109404Z",
     "iopub.status.busy": "2024-11-04T20:47:48.108481Z",
     "iopub.status.idle": "2024-11-04T21:12:01.379952Z",
     "shell.execute_reply": "2024-11-04T21:12:01.378832Z"
    },
    "papermill": {
     "duration": 1463.877304,
     "end_time": "2024-11-04T21:12:02.847623",
     "exception": false,
     "start_time": "2024-11-04T20:47:38.970319",
     "status": "completed"
    },
    "tags": []
   },
   "outputs": [
    {
     "name": "stdout",
     "output_type": "stream",
     "text": [
      "Epoch 1/50\n",
      "\u001b[1m438/438\u001b[0m \u001b[32m━━━━━━━━━━━━━━━━━━━━\u001b[0m\u001b[37m\u001b[0m \u001b[1m81s\u001b[0m 124ms/step - accuracy: 0.5470 - loss: 0.7140 - val_accuracy: 0.5460 - val_loss: 0.6804\n",
      "Epoch 2/50\n",
      "\u001b[1m438/438\u001b[0m \u001b[32m━━━━━━━━━━━━━━━━━━━━\u001b[0m\u001b[37m\u001b[0m \u001b[1m27s\u001b[0m 61ms/step - accuracy: 0.7364 - loss: 0.5371 - val_accuracy: 0.5970 - val_loss: 0.7099\n",
      "Epoch 3/50\n",
      "\u001b[1m438/438\u001b[0m \u001b[32m━━━━━━━━━━━━━━━━━━━━\u001b[0m\u001b[37m\u001b[0m \u001b[1m27s\u001b[0m 61ms/step - accuracy: 0.8923 - loss: 0.3003 - val_accuracy: 0.6235 - val_loss: 0.8792\n",
      "Epoch 4/50\n",
      "\u001b[1m438/438\u001b[0m \u001b[32m━━━━━━━━━━━━━━━━━━━━\u001b[0m\u001b[37m\u001b[0m \u001b[1m27s\u001b[0m 61ms/step - accuracy: 0.9515 - loss: 0.1530 - val_accuracy: 0.6530 - val_loss: 0.9897\n",
      "Epoch 5/50\n",
      "\u001b[1m438/438\u001b[0m \u001b[32m━━━━━━━━━━━━━━━━━━━━\u001b[0m\u001b[37m\u001b[0m \u001b[1m27s\u001b[0m 60ms/step - accuracy: 0.9761 - loss: 0.0850 - val_accuracy: 0.6345 - val_loss: 1.1715\n",
      "Epoch 6/50\n",
      "\u001b[1m438/438\u001b[0m \u001b[32m━━━━━━━━━━━━━━━━━━━━\u001b[0m\u001b[37m\u001b[0m \u001b[1m27s\u001b[0m 62ms/step - accuracy: 0.9880 - loss: 0.0508 - val_accuracy: 0.6460 - val_loss: 1.1249\n",
      "Epoch 7/50\n",
      "\u001b[1m438/438\u001b[0m \u001b[32m━━━━━━━━━━━━━━━━━━━━\u001b[0m\u001b[37m\u001b[0m \u001b[1m27s\u001b[0m 60ms/step - accuracy: 0.9906 - loss: 0.0356 - val_accuracy: 0.6395 - val_loss: 1.3721\n",
      "Epoch 8/50\n",
      "\u001b[1m438/438\u001b[0m \u001b[32m━━━━━━━━━━━━━━━━━━━━\u001b[0m\u001b[37m\u001b[0m \u001b[1m27s\u001b[0m 60ms/step - accuracy: 0.9957 - loss: 0.0215 - val_accuracy: 0.6370 - val_loss: 1.5868\n",
      "Epoch 9/50\n",
      "\u001b[1m438/438\u001b[0m \u001b[32m━━━━━━━━━━━━━━━━━━━━\u001b[0m\u001b[37m\u001b[0m \u001b[1m28s\u001b[0m 62ms/step - accuracy: 0.9965 - loss: 0.0170 - val_accuracy: 0.6535 - val_loss: 1.5165\n",
      "Epoch 10/50\n",
      "\u001b[1m438/438\u001b[0m \u001b[32m━━━━━━━━━━━━━━━━━━━━\u001b[0m\u001b[37m\u001b[0m \u001b[1m27s\u001b[0m 60ms/step - accuracy: 0.9977 - loss: 0.0121 - val_accuracy: 0.6595 - val_loss: 1.5577\n",
      "Epoch 11/50\n",
      "\u001b[1m438/438\u001b[0m \u001b[32m━━━━━━━━━━━━━━━━━━━━\u001b[0m\u001b[37m\u001b[0m \u001b[1m27s\u001b[0m 61ms/step - accuracy: 0.9975 - loss: 0.0108 - val_accuracy: 0.6425 - val_loss: 1.8543\n",
      "Epoch 12/50\n",
      "\u001b[1m438/438\u001b[0m \u001b[32m━━━━━━━━━━━━━━━━━━━━\u001b[0m\u001b[37m\u001b[0m \u001b[1m27s\u001b[0m 61ms/step - accuracy: 0.9987 - loss: 0.0067 - val_accuracy: 0.6250 - val_loss: 2.2158\n",
      "Epoch 13/50\n",
      "\u001b[1m438/438\u001b[0m \u001b[32m━━━━━━━━━━━━━━━━━━━━\u001b[0m\u001b[37m\u001b[0m \u001b[1m27s\u001b[0m 60ms/step - accuracy: 0.9990 - loss: 0.0059 - val_accuracy: 0.6425 - val_loss: 1.8907\n",
      "Epoch 14/50\n",
      "\u001b[1m438/438\u001b[0m \u001b[32m━━━━━━━━━━━━━━━━━━━━\u001b[0m\u001b[37m\u001b[0m \u001b[1m28s\u001b[0m 62ms/step - accuracy: 0.9994 - loss: 0.0034 - val_accuracy: 0.6380 - val_loss: 2.0492\n",
      "Epoch 15/50\n",
      "\u001b[1m438/438\u001b[0m \u001b[32m━━━━━━━━━━━━━━━━━━━━\u001b[0m\u001b[37m\u001b[0m \u001b[1m26s\u001b[0m 60ms/step - accuracy: 0.9999 - loss: 0.0023 - val_accuracy: 0.6440 - val_loss: 1.8893\n",
      "Epoch 16/50\n",
      "\u001b[1m438/438\u001b[0m \u001b[32m━━━━━━━━━━━━━━━━━━━━\u001b[0m\u001b[37m\u001b[0m \u001b[1m27s\u001b[0m 60ms/step - accuracy: 0.9987 - loss: 0.0056 - val_accuracy: 0.6525 - val_loss: 1.9029\n",
      "Epoch 17/50\n",
      "\u001b[1m438/438\u001b[0m \u001b[32m━━━━━━━━━━━━━━━━━━━━\u001b[0m\u001b[37m\u001b[0m \u001b[1m28s\u001b[0m 63ms/step - accuracy: 0.9996 - loss: 0.0025 - val_accuracy: 0.6565 - val_loss: 1.8929\n",
      "Epoch 18/50\n",
      "\u001b[1m438/438\u001b[0m \u001b[32m━━━━━━━━━━━━━━━━━━━━\u001b[0m\u001b[37m\u001b[0m \u001b[1m27s\u001b[0m 60ms/step - accuracy: 0.9995 - loss: 0.0033 - val_accuracy: 0.6445 - val_loss: 2.1318\n",
      "Epoch 19/50\n",
      "\u001b[1m438/438\u001b[0m \u001b[32m━━━━━━━━━━━━━━━━━━━━\u001b[0m\u001b[37m\u001b[0m \u001b[1m27s\u001b[0m 60ms/step - accuracy: 1.0000 - loss: 7.4861e-04 - val_accuracy: 0.6385 - val_loss: 2.2663\n",
      "Epoch 20/50\n",
      "\u001b[1m438/438\u001b[0m \u001b[32m━━━━━━━━━━━━━━━━━━━━\u001b[0m\u001b[37m\u001b[0m \u001b[1m27s\u001b[0m 61ms/step - accuracy: 1.0000 - loss: 5.6380e-04 - val_accuracy: 0.6405 - val_loss: 2.4287\n",
      "Epoch 21/50\n",
      "\u001b[1m438/438\u001b[0m \u001b[32m━━━━━━━━━━━━━━━━━━━━\u001b[0m\u001b[37m\u001b[0m \u001b[1m27s\u001b[0m 61ms/step - accuracy: 1.0000 - loss: 4.9530e-04 - val_accuracy: 0.6445 - val_loss: 2.4411\n",
      "Epoch 22/50\n",
      "\u001b[1m438/438\u001b[0m \u001b[32m━━━━━━━━━━━━━━━━━━━━\u001b[0m\u001b[37m\u001b[0m \u001b[1m27s\u001b[0m 62ms/step - accuracy: 1.0000 - loss: 4.6688e-04 - val_accuracy: 0.6445 - val_loss: 2.6572\n",
      "Epoch 23/50\n",
      "\u001b[1m438/438\u001b[0m \u001b[32m━━━━━━━━━━━━━━━━━━━━\u001b[0m\u001b[37m\u001b[0m \u001b[1m27s\u001b[0m 60ms/step - accuracy: 0.9998 - loss: 0.0010 - val_accuracy: 0.6555 - val_loss: 2.2144\n",
      "Epoch 24/50\n",
      "\u001b[1m438/438\u001b[0m \u001b[32m━━━━━━━━━━━━━━━━━━━━\u001b[0m\u001b[37m\u001b[0m \u001b[1m27s\u001b[0m 62ms/step - accuracy: 0.9998 - loss: 0.0021 - val_accuracy: 0.6535 - val_loss: 2.1706\n",
      "Epoch 25/50\n",
      "\u001b[1m438/438\u001b[0m \u001b[32m━━━━━━━━━━━━━━━━━━━━\u001b[0m\u001b[37m\u001b[0m \u001b[1m28s\u001b[0m 62ms/step - accuracy: 0.9996 - loss: 0.0021 - val_accuracy: 0.6245 - val_loss: 2.6739\n",
      "Epoch 26/50\n",
      "\u001b[1m438/438\u001b[0m \u001b[32m━━━━━━━━━━━━━━━━━━━━\u001b[0m\u001b[37m\u001b[0m \u001b[1m27s\u001b[0m 60ms/step - accuracy: 1.0000 - loss: 4.3023e-04 - val_accuracy: 0.6330 - val_loss: 2.5462\n",
      "Epoch 27/50\n",
      "\u001b[1m438/438\u001b[0m \u001b[32m━━━━━━━━━━━━━━━━━━━━\u001b[0m\u001b[37m\u001b[0m \u001b[1m27s\u001b[0m 61ms/step - accuracy: 1.0000 - loss: 2.6082e-04 - val_accuracy: 0.6310 - val_loss: 2.7925\n",
      "Epoch 28/50\n",
      "\u001b[1m438/438\u001b[0m \u001b[32m━━━━━━━━━━━━━━━━━━━━\u001b[0m\u001b[37m\u001b[0m \u001b[1m27s\u001b[0m 62ms/step - accuracy: 1.0000 - loss: 3.3762e-04 - val_accuracy: 0.6230 - val_loss: 2.5612\n",
      "Epoch 29/50\n",
      "\u001b[1m438/438\u001b[0m \u001b[32m━━━━━━━━━━━━━━━━━━━━\u001b[0m\u001b[37m\u001b[0m \u001b[1m27s\u001b[0m 60ms/step - accuracy: 1.0000 - loss: 2.6782e-04 - val_accuracy: 0.6265 - val_loss: 2.8607\n",
      "Epoch 30/50\n",
      "\u001b[1m438/438\u001b[0m \u001b[32m━━━━━━━━━━━━━━━━━━━━\u001b[0m\u001b[37m\u001b[0m \u001b[1m27s\u001b[0m 62ms/step - accuracy: 1.0000 - loss: 1.5392e-04 - val_accuracy: 0.6280 - val_loss: 2.9378\n",
      "Epoch 31/50\n",
      "\u001b[1m438/438\u001b[0m \u001b[32m━━━━━━━━━━━━━━━━━━━━\u001b[0m\u001b[37m\u001b[0m \u001b[1m27s\u001b[0m 60ms/step - accuracy: 1.0000 - loss: 1.2934e-04 - val_accuracy: 0.6280 - val_loss: 2.9135\n",
      "Epoch 32/50\n",
      "\u001b[1m438/438\u001b[0m \u001b[32m━━━━━━━━━━━━━━━━━━━━\u001b[0m\u001b[37m\u001b[0m \u001b[1m27s\u001b[0m 60ms/step - accuracy: 1.0000 - loss: 1.3790e-04 - val_accuracy: 0.6320 - val_loss: 3.0449\n",
      "Epoch 33/50\n",
      "\u001b[1m438/438\u001b[0m \u001b[32m━━━━━━━━━━━━━━━━━━━━\u001b[0m\u001b[37m\u001b[0m \u001b[1m27s\u001b[0m 61ms/step - accuracy: 0.9961 - loss: 0.0135 - val_accuracy: 0.6500 - val_loss: 2.3915\n",
      "Epoch 34/50\n",
      "\u001b[1m438/438\u001b[0m \u001b[32m━━━━━━━━━━━━━━━━━━━━\u001b[0m\u001b[37m\u001b[0m \u001b[1m27s\u001b[0m 60ms/step - accuracy: 0.9998 - loss: 0.0015 - val_accuracy: 0.6370 - val_loss: 2.8182\n",
      "Epoch 35/50\n",
      "\u001b[1m438/438\u001b[0m \u001b[32m━━━━━━━━━━━━━━━━━━━━\u001b[0m\u001b[37m\u001b[0m \u001b[1m27s\u001b[0m 60ms/step - accuracy: 1.0000 - loss: 2.3552e-04 - val_accuracy: 0.6395 - val_loss: 2.8650\n",
      "Epoch 36/50\n",
      "\u001b[1m438/438\u001b[0m \u001b[32m━━━━━━━━━━━━━━━━━━━━\u001b[0m\u001b[37m\u001b[0m \u001b[1m27s\u001b[0m 62ms/step - accuracy: 1.0000 - loss: 1.5769e-04 - val_accuracy: 0.6405 - val_loss: 2.8954\n",
      "Epoch 37/50\n",
      "\u001b[1m438/438\u001b[0m \u001b[32m━━━━━━━━━━━━━━━━━━━━\u001b[0m\u001b[37m\u001b[0m \u001b[1m27s\u001b[0m 60ms/step - accuracy: 1.0000 - loss: 1.4471e-04 - val_accuracy: 0.6340 - val_loss: 2.9890\n",
      "Epoch 38/50\n",
      "\u001b[1m438/438\u001b[0m \u001b[32m━━━━━━━━━━━━━━━━━━━━\u001b[0m\u001b[37m\u001b[0m \u001b[1m41s\u001b[0m 61ms/step - accuracy: 1.0000 - loss: 9.5456e-05 - val_accuracy: 0.6380 - val_loss: 2.9927\n",
      "Epoch 39/50\n",
      "\u001b[1m438/438\u001b[0m \u001b[32m━━━━━━━━━━━━━━━━━━━━\u001b[0m\u001b[37m\u001b[0m \u001b[1m27s\u001b[0m 62ms/step - accuracy: 1.0000 - loss: 9.4294e-05 - val_accuracy: 0.6300 - val_loss: 3.2529\n",
      "Epoch 40/50\n",
      "\u001b[1m438/438\u001b[0m \u001b[32m━━━━━━━━━━━━━━━━━━━━\u001b[0m\u001b[37m\u001b[0m \u001b[1m41s\u001b[0m 62ms/step - accuracy: 1.0000 - loss: 1.2618e-04 - val_accuracy: 0.6325 - val_loss: 3.2538\n",
      "Epoch 41/50\n",
      "\u001b[1m438/438\u001b[0m \u001b[32m━━━━━━━━━━━━━━━━━━━━\u001b[0m\u001b[37m\u001b[0m \u001b[1m27s\u001b[0m 61ms/step - accuracy: 1.0000 - loss: 7.2805e-05 - val_accuracy: 0.6320 - val_loss: 3.2122\n",
      "Epoch 42/50\n",
      "\u001b[1m438/438\u001b[0m \u001b[32m━━━━━━━━━━━━━━━━━━━━\u001b[0m\u001b[37m\u001b[0m \u001b[1m29s\u001b[0m 65ms/step - accuracy: 1.0000 - loss: 6.2023e-05 - val_accuracy: 0.6285 - val_loss: 3.3274\n",
      "Epoch 43/50\n",
      "\u001b[1m438/438\u001b[0m \u001b[32m━━━━━━━━━━━━━━━━━━━━\u001b[0m\u001b[37m\u001b[0m \u001b[1m29s\u001b[0m 65ms/step - accuracy: 1.0000 - loss: 1.2675e-04 - val_accuracy: 0.6305 - val_loss: 3.4516\n",
      "Epoch 44/50\n",
      "\u001b[1m438/438\u001b[0m \u001b[32m━━━━━━━━━━━━━━━━━━━━\u001b[0m\u001b[37m\u001b[0m \u001b[1m29s\u001b[0m 64ms/step - accuracy: 1.0000 - loss: 6.4752e-05 - val_accuracy: 0.6230 - val_loss: 3.4560\n",
      "Epoch 45/50\n",
      "\u001b[1m438/438\u001b[0m \u001b[32m━━━━━━━━━━━━━━━━━━━━\u001b[0m\u001b[37m\u001b[0m \u001b[1m30s\u001b[0m 67ms/step - accuracy: 1.0000 - loss: 4.9398e-05 - val_accuracy: 0.6290 - val_loss: 3.6119\n",
      "Epoch 46/50\n",
      "\u001b[1m438/438\u001b[0m \u001b[32m━━━━━━━━━━━━━━━━━━━━\u001b[0m\u001b[37m\u001b[0m \u001b[1m29s\u001b[0m 65ms/step - accuracy: 0.9980 - loss: 0.0089 - val_accuracy: 0.6205 - val_loss: 3.2491\n",
      "Epoch 47/50\n",
      "\u001b[1m438/438\u001b[0m \u001b[32m━━━━━━━━━━━━━━━━━━━━\u001b[0m\u001b[37m\u001b[0m \u001b[1m29s\u001b[0m 66ms/step - accuracy: 1.0000 - loss: 3.3870e-04 - val_accuracy: 0.6220 - val_loss: 3.3115\n",
      "Epoch 48/50\n",
      "\u001b[1m438/438\u001b[0m \u001b[32m━━━━━━━━━━━━━━━━━━━━\u001b[0m\u001b[37m\u001b[0m \u001b[1m30s\u001b[0m 67ms/step - accuracy: 1.0000 - loss: 1.7268e-04 - val_accuracy: 0.6170 - val_loss: 3.5154\n",
      "Epoch 49/50\n",
      "\u001b[1m438/438\u001b[0m \u001b[32m━━━━━━━━━━━━━━━━━━━━\u001b[0m\u001b[37m\u001b[0m \u001b[1m29s\u001b[0m 65ms/step - accuracy: 1.0000 - loss: 9.0003e-05 - val_accuracy: 0.6245 - val_loss: 3.3803\n",
      "Epoch 50/50\n",
      "\u001b[1m438/438\u001b[0m \u001b[32m━━━━━━━━━━━━━━━━━━━━\u001b[0m\u001b[37m\u001b[0m \u001b[1m29s\u001b[0m 65ms/step - accuracy: 1.0000 - loss: 6.6785e-05 - val_accuracy: 0.6215 - val_loss: 3.3702\n"
     ]
    }
   ],
   "source": [
    "dropout_resnet_dfdc_history = dropout_resnet_dfdc_model.fit(\n",
    "    dfdc_train_generator, validation_data=dfdc_val_generator, epochs=NUM_EPOCHS\n",
    ")"
   ]
  },
  {
   "cell_type": "code",
   "execution_count": 37,
   "id": "86a84cb0",
   "metadata": {
    "execution": {
     "iopub.execute_input": "2024-11-04T21:12:25.131404Z",
     "iopub.status.busy": "2024-11-04T21:12:25.130673Z",
     "iopub.status.idle": "2024-11-04T21:12:25.629258Z",
     "shell.execute_reply": "2024-11-04T21:12:25.628308Z"
    },
    "papermill": {
     "duration": 11.641279,
     "end_time": "2024-11-04T21:12:25.631419",
     "exception": false,
     "start_time": "2024-11-04T21:12:13.990140",
     "status": "completed"
    },
    "tags": []
   },
   "outputs": [
    {
     "data": {
      "image/png": "[encoded data removed]",
      "text/plain": [
       "<Figure size 1200x400 with 2 Axes>"
      ]
     },
     "metadata": {},
     "output_type": "display_data"
    }
   ],
   "source": [
    "plot_train_result(\n",
    "    dropout_resnet_dfdc_history.history,\n",
    "    title=\"Dropout ResNet Model on DFDC Dataset\"\n",
    ")"
   ]
  },
  {
   "cell_type": "code",
   "execution_count": 38,
   "id": "8aade120",
   "metadata": {
    "execution": {
     "iopub.execute_input": "2024-11-04T21:12:47.875745Z",
     "iopub.status.busy": "2024-11-04T21:12:47.875359Z",
     "iopub.status.idle": "2024-11-04T21:12:49.691862Z",
     "shell.execute_reply": "2024-11-04T21:12:49.690809Z"
    },
    "papermill": {
     "duration": 12.843468,
     "end_time": "2024-11-04T21:12:49.693864",
     "exception": false,
     "start_time": "2024-11-04T21:12:36.850396",
     "status": "completed"
    },
    "tags": []
   },
   "outputs": [
    {
     "name": "stdout",
     "output_type": "stream",
     "text": [
      "Model saved at dropout_resnet_dfdc_model.keras\n",
      "Training history saved at dropout_resnet_dfdc_history.pkl\n"
     ]
    }
   ],
   "source": [
    "save_model_and_history(\n",
    "    dropout_resnet_dfdc_model, dropout_resnet_dfdc_history, \"dropout_resnet_dfdc\"\n",
    ")"
   ]
  }
 ],
 "metadata": {
  "kaggle": {
   "accelerator": "gpu",
   "dataSources": [
    {
     "datasetId": 6006079,
     "sourceId": 9800008,
     "sourceType": "datasetVersion"
    },
    {
     "sourceId": 205168888,
     "sourceType": "kernelVersion"
    }
   ],
   "dockerImageVersionId": 30787,
   "isGpuEnabled": true,
   "isInternetEnabled": true,
   "language": "python",
   "sourceType": "notebook"
  },
  "kernelspec": {
   "display_name": "Python 3",
   "language": "python",
   "name": "python3"
  },
  "language_info": {
   "codemirror_mode": {
    "name": "ipython",
    "version": 3
   },
   "file_extension": ".py",
   "mimetype": "text/x-python",
   "name": "python",
   "nbconvert_exporter": "python",
   "pygments_lexer": "ipython3",
   "version": "3.10.14"
  },
  "papermill": {
   "default_parameters": {},
   "duration": 9875.468043,
   "end_time": "2024-11-04T21:13:04.055345",
   "environment_variables": {},
   "exception": null,
   "input_path": "__notebook__.ipynb",
   "output_path": "__notebook__.ipynb",
   "parameters": {},
   "start_time": "2024-11-04T18:28:28.587302",
   "version": "2.6.0"
  }
 },
 "nbformat": 4,
 "nbformat_minor": 5
}
