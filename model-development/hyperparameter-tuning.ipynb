{
 "cells": [
  {
   "cell_type": "markdown",
   "id": "1e37f7b4",
   "metadata": {
    "papermill": {
     "duration": 0.009917,
     "end_time": "2024-11-04T11:35:31.910312",
     "exception": false,
     "start_time": "2024-11-04T11:35:31.900395",
     "status": "completed"
    },
    "tags": []
   },
   "source": [
    "# Hyperparameter Tuning for Deepfake Detection CNN Model Development"
   ]
  },
  {
   "cell_type": "markdown",
   "id": "2286e99b",
   "metadata": {
    "papermill": {
     "duration": 0.009149,
     "end_time": "2024-11-04T11:35:31.930668",
     "exception": false,
     "start_time": "2024-11-04T11:35:31.921519",
     "status": "completed"
    },
    "tags": []
   },
   "source": [
    "This notebook contains hyperparameter tuning process for CNN model development in deepfake detection. The tuning will be done in two phases, which are the base hyperparameter tuning and dropout rate tuning. In this case, the base hyperparameters are number of convolutional layers including their filters and kernel sizes, number of dense layers including their units, and Adam optimizer's learning rate."
   ]
  },
  {
   "cell_type": "code",
   "execution_count": 1,
   "id": "ce8e0ce1",
   "metadata": {
    "execution": {
     "iopub.execute_input": "2024-11-04T11:35:31.951523Z",
     "iopub.status.busy": "2024-11-04T11:35:31.951121Z",
     "iopub.status.idle": "2024-11-04T11:35:47.378477Z",
     "shell.execute_reply": "2024-11-04T11:35:47.377515Z"
    },
    "papermill": {
     "duration": 15.441013,
     "end_time": "2024-11-04T11:35:47.381117",
     "exception": false,
     "start_time": "2024-11-04T11:35:31.940104",
     "status": "completed"
    },
    "tags": []
   },
   "outputs": [],
   "source": [
    "from tensorflow.keras.preprocessing.image import ImageDataGenerator\n",
    "import tensorflow as tf\n",
    "import keras_tuner as kt\n",
    "import pandas as pd\n",
    "import random\n",
    "import os"
   ]
  },
  {
   "cell_type": "markdown",
   "id": "2aa238d0",
   "metadata": {
    "papermill": {
     "duration": 0.009113,
     "end_time": "2024-11-04T11:35:47.400074",
     "exception": false,
     "start_time": "2024-11-04T11:35:47.390961",
     "status": "completed"
    },
    "tags": []
   },
   "source": [
    "## Define Dataset Directory Path"
   ]
  },
  {
   "cell_type": "code",
   "execution_count": 2,
   "id": "88869000",
   "metadata": {
    "execution": {
     "iopub.execute_input": "2024-11-04T11:35:47.420969Z",
     "iopub.status.busy": "2024-11-04T11:35:47.420238Z",
     "iopub.status.idle": "2024-11-04T11:35:47.426141Z",
     "shell.execute_reply": "2024-11-04T11:35:47.425113Z"
    },
    "papermill": {
     "duration": 0.018693,
     "end_time": "2024-11-04T11:35:47.428215",
     "exception": false,
     "start_time": "2024-11-04T11:35:47.409522",
     "status": "completed"
    },
    "tags": []
   },
   "outputs": [],
   "source": [
    "CDF_TRAIN_DIR = \"/kaggle/input/deepfake-detection-datasets/Celeb-DF-v2/Train\"\n",
    "CDF_VAL_DIR = \"/kaggle/input/deepfake-detection-datasets/Celeb-DF-v2/Val\"\n",
    "\n",
    "DF_TRAIN_DIR = \"/kaggle/input/deepfake-detection-datasets/DeeperForensics-1.0/Train\"\n",
    "DF_VAL_DIR = \"/kaggle/input/deepfake-detection-datasets/DeeperForensics-1.0/Val\"\n",
    "\n",
    "DFDC_TRAIN_DIR = \"/kaggle/input/deepfake-detection-datasets/DFDC/Train\"\n",
    "DFDC_VAL_DIR = \"/kaggle/input/deepfake-detection-datasets/DFDC/Val\""
   ]
  },
  {
   "cell_type": "code",
   "execution_count": 3,
   "id": "ea1b7442",
   "metadata": {
    "execution": {
     "iopub.execute_input": "2024-11-04T11:35:47.448764Z",
     "iopub.status.busy": "2024-11-04T11:35:47.448388Z",
     "iopub.status.idle": "2024-11-04T11:35:47.456363Z",
     "shell.execute_reply": "2024-11-04T11:35:47.455365Z"
    },
    "papermill": {
     "duration": 0.020625,
     "end_time": "2024-11-04T11:35:47.458460",
     "exception": false,
     "start_time": "2024-11-04T11:35:47.437835",
     "status": "completed"
    },
    "tags": []
   },
   "outputs": [],
   "source": [
    "cdf_train_deepfake_dir = os.path.join(CDF_TRAIN_DIR, \"Deepfake\")\n",
    "cdf_train_real_vid_dir = os.path.join(CDF_TRAIN_DIR, \"Original\")\n",
    "cdf_val_deepfake_dir = os.path.join(CDF_VAL_DIR, \"Deepfake\")\n",
    "cdf_val_real_vid_dir = os.path.join(CDF_VAL_DIR, \"Original\")\n",
    "\n",
    "df_train_deepfake_dir = os.path.join(DF_TRAIN_DIR, \"Deepfake\")\n",
    "df_train_real_vid_dir = os.path.join(DF_TRAIN_DIR, \"Original\")\n",
    "df_val_deepfake_dir = os.path.join(DF_VAL_DIR, \"Deepfake\")\n",
    "df_val_real_vid_dir = os.path.join(DF_VAL_DIR, \"Original\")\n",
    "\n",
    "dfdc_train_deepfake_dir = os.path.join(DFDC_TRAIN_DIR, \"Deepfake\")\n",
    "dfdc_train_real_vid_dir = os.path.join(DFDC_TRAIN_DIR, \"Original\")\n",
    "dfdc_val_deepfake_dir = os.path.join(DFDC_VAL_DIR, \"Deepfake\")\n",
    "dfdc_val_real_vid_dir = os.path.join(DFDC_VAL_DIR, \"Original\")"
   ]
  },
  {
   "cell_type": "code",
   "execution_count": 4,
   "id": "5e807dbb",
   "metadata": {
    "execution": {
     "iopub.execute_input": "2024-11-04T11:35:47.478951Z",
     "iopub.status.busy": "2024-11-04T11:35:47.478574Z",
     "iopub.status.idle": "2024-11-04T11:35:51.877818Z",
     "shell.execute_reply": "2024-11-04T11:35:51.876745Z"
    },
    "papermill": {
     "duration": 4.412452,
     "end_time": "2024-11-04T11:35:51.880281",
     "exception": false,
     "start_time": "2024-11-04T11:35:47.467829",
     "status": "completed"
    },
    "tags": []
   },
   "outputs": [
    {
     "name": "stdout",
     "output_type": "stream",
     "text": [
      "Dataset loaded:\n",
      "\n",
      "Celeb-DF-v2 (Train Split)\n",
      " - 7000 deepfake frames\n",
      " - 7000 real vid frames\n",
      "Celeb-DF-v2 (Val Split)\n",
      " - 1000 deepfake frames\n",
      " - 1000 real vid frames\n",
      "\n",
      "DeeperForensics-1.0 (Train Split)\n",
      " - 7000 deepfake frames\n",
      " - 7000 real vid frames\n",
      "DeeperForensics-1.0 (Val Split)\n",
      " - 1000 deepfake frames\n",
      " - 1000 real vid frames\n",
      "\n",
      "Deepfake Detection Challenge (Train Split)\n",
      " - 7000 deepfake frames\n",
      " - 7000 real vid frames\n",
      "Deepfake Detection Challenge (Val Split)\n",
      " - 1000 deepfake frames\n",
      " - 1000 real vid frames\n"
     ]
    }
   ],
   "source": [
    "print(\"Dataset loaded:\")\n",
    "\n",
    "print(\"\\nCeleb-DF-v2 (Train Split)\")\n",
    "print(f\" - {len(os.listdir(cdf_train_deepfake_dir))} deepfake frames\")\n",
    "print(f\" - {len(os.listdir(cdf_train_real_vid_dir))} real vid frames\")\n",
    "print(\"Celeb-DF-v2 (Val Split)\")\n",
    "print(f\" - {len(os.listdir(cdf_val_deepfake_dir))} deepfake frames\")\n",
    "print(f\" - {len(os.listdir(cdf_val_real_vid_dir))} real vid frames\")\n",
    "\n",
    "print(\"\\nDeeperForensics-1.0 (Train Split)\")\n",
    "print(f\" - {len(os.listdir(df_train_deepfake_dir))} deepfake frames\")\n",
    "print(f\" - {len(os.listdir(df_train_real_vid_dir))} real vid frames\")\n",
    "print(\"DeeperForensics-1.0 (Val Split)\")\n",
    "print(f\" - {len(os.listdir(df_val_deepfake_dir))} deepfake frames\")\n",
    "print(f\" - {len(os.listdir(df_val_real_vid_dir))} real vid frames\")\n",
    "\n",
    "print(\"\\nDeepfake Detection Challenge (Train Split)\")\n",
    "print(f\" - {len(os.listdir(dfdc_train_deepfake_dir))} deepfake frames\")\n",
    "print(f\" - {len(os.listdir(dfdc_train_real_vid_dir))} real vid frames\")\n",
    "print(\"Deepfake Detection Challenge (Val Split)\")\n",
    "print(f\" - {len(os.listdir(dfdc_val_deepfake_dir))} deepfake frames\")\n",
    "print(f\" - {len(os.listdir(dfdc_val_real_vid_dir))} real vid frames\")"
   ]
  },
  {
   "cell_type": "markdown",
   "id": "a59d3091",
   "metadata": {
    "papermill": {
     "duration": 0.010842,
     "end_time": "2024-11-04T11:35:51.902494",
     "exception": false,
     "start_time": "2024-11-04T11:35:51.891652",
     "status": "completed"
    },
    "tags": []
   },
   "source": [
    "## Create Combined Dataset"
   ]
  },
  {
   "cell_type": "markdown",
   "id": "3f2e43cd",
   "metadata": {
    "papermill": {
     "duration": 0.010815,
     "end_time": "2024-11-04T11:35:51.924657",
     "exception": false,
     "start_time": "2024-11-04T11:35:51.913842",
     "status": "completed"
    },
    "tags": []
   },
   "source": [
    "For hyperparameter tuning purposes, the three datasets are combined into a new set for each train and validation split. For the train split, the full dataset will be sampled, taking only 4000 data for each dataset to reduce computational cost in the hyperparameter tuning process."
   ]
  },
  {
   "cell_type": "markdown",
   "id": "34458c7a",
   "metadata": {
    "papermill": {
     "duration": 0.010612,
     "end_time": "2024-11-04T11:35:51.946308",
     "exception": false,
     "start_time": "2024-11-04T11:35:51.935696",
     "status": "completed"
    },
    "tags": []
   },
   "source": [
    "### Get Full Filepath for Each Frame"
   ]
  },
  {
   "cell_type": "code",
   "execution_count": 5,
   "id": "3b26cb71",
   "metadata": {
    "execution": {
     "iopub.execute_input": "2024-11-04T11:35:51.970650Z",
     "iopub.status.busy": "2024-11-04T11:35:51.970206Z",
     "iopub.status.idle": "2024-11-04T11:35:51.975653Z",
     "shell.execute_reply": "2024-11-04T11:35:51.974656Z"
    },
    "papermill": {
     "duration": 0.020721,
     "end_time": "2024-11-04T11:35:51.977661",
     "exception": false,
     "start_time": "2024-11-04T11:35:51.956940",
     "status": "completed"
    },
    "tags": []
   },
   "outputs": [],
   "source": [
    "def get_filepath_from_dir(dir_path):\n",
    "    return [\n",
    "        os.path.join(dir_path, filename) for filename in sorted(os.listdir(dir_path))\n",
    "    ]"
   ]
  },
  {
   "cell_type": "markdown",
   "id": "6f2f1bac",
   "metadata": {
    "papermill": {
     "duration": 0.010304,
     "end_time": "2024-11-04T11:35:51.998625",
     "exception": false,
     "start_time": "2024-11-04T11:35:51.988321",
     "status": "completed"
    },
    "tags": []
   },
   "source": [
    "#### Train Split"
   ]
  },
  {
   "cell_type": "code",
   "execution_count": 6,
   "id": "c36ba020",
   "metadata": {
    "execution": {
     "iopub.execute_input": "2024-11-04T11:35:52.022293Z",
     "iopub.status.busy": "2024-11-04T11:35:52.021384Z",
     "iopub.status.idle": "2024-11-04T11:35:52.149735Z",
     "shell.execute_reply": "2024-11-04T11:35:52.148752Z"
    },
    "papermill": {
     "duration": 0.143179,
     "end_time": "2024-11-04T11:35:52.152528",
     "exception": false,
     "start_time": "2024-11-04T11:35:52.009349",
     "status": "completed"
    },
    "tags": []
   },
   "outputs": [],
   "source": [
    "cdf_train_deepfake_filepaths = get_filepath_from_dir(cdf_train_deepfake_dir)\n",
    "cdf_train_real_vid_filepaths = get_filepath_from_dir(cdf_train_real_vid_dir)\n",
    "\n",
    "df_train_deepfake_filepaths = get_filepath_from_dir(df_train_deepfake_dir)\n",
    "df_train_real_vid_filepaths = get_filepath_from_dir(df_train_real_vid_dir)\n",
    "\n",
    "dfdc_train_deepfake_filepaths = get_filepath_from_dir(dfdc_train_deepfake_dir)\n",
    "dfdc_train_real_vid_filepaths = get_filepath_from_dir(dfdc_train_real_vid_dir)"
   ]
  },
  {
   "cell_type": "code",
   "execution_count": 7,
   "id": "5741c86e",
   "metadata": {
    "execution": {
     "iopub.execute_input": "2024-11-04T11:35:52.179861Z",
     "iopub.status.busy": "2024-11-04T11:35:52.178797Z",
     "iopub.status.idle": "2024-11-04T11:35:52.184235Z",
     "shell.execute_reply": "2024-11-04T11:35:52.183129Z"
    },
    "papermill": {
     "duration": 0.021592,
     "end_time": "2024-11-04T11:35:52.186655",
     "exception": false,
     "start_time": "2024-11-04T11:35:52.165063",
     "status": "completed"
    },
    "tags": []
   },
   "outputs": [],
   "source": [
    "SAMPLE_SIZE_PER_DATASET = 4000\n",
    "NUM_LABELS = 2\n",
    "SAMPLE_SIZE_PER_LABEL = SAMPLE_SIZE_PER_DATASET // NUM_LABELS"
   ]
  },
  {
   "cell_type": "code",
   "execution_count": 8,
   "id": "fac6ecf0",
   "metadata": {
    "execution": {
     "iopub.execute_input": "2024-11-04T11:35:52.211453Z",
     "iopub.status.busy": "2024-11-04T11:35:52.211047Z",
     "iopub.status.idle": "2024-11-04T11:35:52.218284Z",
     "shell.execute_reply": "2024-11-04T11:35:52.217227Z"
    },
    "papermill": {
     "duration": 0.022068,
     "end_time": "2024-11-04T11:35:52.220521",
     "exception": false,
     "start_time": "2024-11-04T11:35:52.198453",
     "status": "completed"
    },
    "tags": []
   },
   "outputs": [],
   "source": [
    "# Sample the full train list\n",
    "\n",
    "cdf_train_deepfake_filepaths = cdf_train_deepfake_filepaths[:SAMPLE_SIZE_PER_LABEL]\n",
    "cdf_train_real_vid_filepaths = cdf_train_real_vid_filepaths[:SAMPLE_SIZE_PER_LABEL]\n",
    "\n",
    "df_train_deepfake_filepaths = df_train_deepfake_filepaths[:SAMPLE_SIZE_PER_LABEL]\n",
    "df_train_real_vid_filepaths = df_train_real_vid_filepaths[:SAMPLE_SIZE_PER_LABEL]\n",
    "\n",
    "dfdc_train_deepfake_filepaths = dfdc_train_deepfake_filepaths[:SAMPLE_SIZE_PER_LABEL]\n",
    "dfdc_train_real_vid_filepaths = dfdc_train_real_vid_filepaths[:SAMPLE_SIZE_PER_LABEL]"
   ]
  },
  {
   "cell_type": "markdown",
   "id": "e793dfa5",
   "metadata": {
    "papermill": {
     "duration": 0.010711,
     "end_time": "2024-11-04T11:35:52.242274",
     "exception": false,
     "start_time": "2024-11-04T11:35:52.231563",
     "status": "completed"
    },
    "tags": []
   },
   "source": [
    "#### Val Split"
   ]
  },
  {
   "cell_type": "code",
   "execution_count": 9,
   "id": "34f4b13d",
   "metadata": {
    "execution": {
     "iopub.execute_input": "2024-11-04T11:35:52.265518Z",
     "iopub.status.busy": "2024-11-04T11:35:52.264727Z",
     "iopub.status.idle": "2024-11-04T11:35:52.288515Z",
     "shell.execute_reply": "2024-11-04T11:35:52.287493Z"
    },
    "papermill": {
     "duration": 0.037984,
     "end_time": "2024-11-04T11:35:52.290875",
     "exception": false,
     "start_time": "2024-11-04T11:35:52.252891",
     "status": "completed"
    },
    "tags": []
   },
   "outputs": [],
   "source": [
    "cdf_val_deepfake_filepaths = get_filepath_from_dir(cdf_val_deepfake_dir)\n",
    "cdf_val_real_vid_filepaths = get_filepath_from_dir(cdf_val_real_vid_dir)\n",
    "\n",
    "df_val_deepfake_filepaths = get_filepath_from_dir(df_val_deepfake_dir)\n",
    "df_val_real_vid_filepaths = get_filepath_from_dir(df_val_real_vid_dir)\n",
    "\n",
    "dfdc_val_deepfake_filepaths = get_filepath_from_dir(dfdc_val_deepfake_dir)\n",
    "dfdc_val_real_vid_filepaths = get_filepath_from_dir(dfdc_val_real_vid_dir)"
   ]
  },
  {
   "cell_type": "markdown",
   "id": "4409f77a",
   "metadata": {
    "papermill": {
     "duration": 0.011371,
     "end_time": "2024-11-04T11:35:52.313710",
     "exception": false,
     "start_time": "2024-11-04T11:35:52.302339",
     "status": "completed"
    },
    "tags": []
   },
   "source": [
    "### Combine Dataset in a List"
   ]
  },
  {
   "cell_type": "markdown",
   "id": "62516274",
   "metadata": {
    "papermill": {
     "duration": 0.010963,
     "end_time": "2024-11-04T11:35:52.336387",
     "exception": false,
     "start_time": "2024-11-04T11:35:52.325424",
     "status": "completed"
    },
    "tags": []
   },
   "source": [
    "#### Train Split"
   ]
  },
  {
   "cell_type": "code",
   "execution_count": 10,
   "id": "efe94ad2",
   "metadata": {
    "execution": {
     "iopub.execute_input": "2024-11-04T11:35:52.361356Z",
     "iopub.status.busy": "2024-11-04T11:35:52.360501Z",
     "iopub.status.idle": "2024-11-04T11:35:52.374540Z",
     "shell.execute_reply": "2024-11-04T11:35:52.373480Z"
    },
    "papermill": {
     "duration": 0.029387,
     "end_time": "2024-11-04T11:35:52.377178",
     "exception": false,
     "start_time": "2024-11-04T11:35:52.347791",
     "status": "completed"
    },
    "tags": []
   },
   "outputs": [
    {
     "name": "stdout",
     "output_type": "stream",
     "text": [
      "Got 12000 frames in total\n"
     ]
    }
   ],
   "source": [
    "combined_train_filepaths = []\n",
    "combined_train_filepaths += cdf_train_deepfake_filepaths + cdf_train_real_vid_filepaths\n",
    "combined_train_filepaths += df_train_deepfake_filepaths + df_train_real_vid_filepaths\n",
    "combined_train_filepaths += dfdc_train_deepfake_filepaths + dfdc_train_real_vid_filepaths\n",
    "\n",
    "# Get labels for each file based on their directory name\n",
    "combined_train_labels = [\n",
    "    filepath.split(\"/\")[-2]\n",
    "    for filepath in combined_train_filepaths\n",
    "]\n",
    "\n",
    "print(f\"Got {len(combined_train_filepaths)} frames in total\")"
   ]
  },
  {
   "cell_type": "markdown",
   "id": "bb3c4aaa",
   "metadata": {
    "papermill": {
     "duration": 0.010994,
     "end_time": "2024-11-04T11:35:52.399902",
     "exception": false,
     "start_time": "2024-11-04T11:35:52.388908",
     "status": "completed"
    },
    "tags": []
   },
   "source": [
    "#### Val Split"
   ]
  },
  {
   "cell_type": "code",
   "execution_count": 11,
   "id": "0862cf52",
   "metadata": {
    "execution": {
     "iopub.execute_input": "2024-11-04T11:35:52.424823Z",
     "iopub.status.busy": "2024-11-04T11:35:52.424022Z",
     "iopub.status.idle": "2024-11-04T11:35:52.434162Z",
     "shell.execute_reply": "2024-11-04T11:35:52.433106Z"
    },
    "papermill": {
     "duration": 0.024861,
     "end_time": "2024-11-04T11:35:52.436531",
     "exception": false,
     "start_time": "2024-11-04T11:35:52.411670",
     "status": "completed"
    },
    "tags": []
   },
   "outputs": [
    {
     "name": "stdout",
     "output_type": "stream",
     "text": [
      "Got 6000 frames in total\n"
     ]
    }
   ],
   "source": [
    "combined_val_filepaths = []\n",
    "combined_val_filepaths += cdf_val_deepfake_filepaths + cdf_val_real_vid_filepaths\n",
    "combined_val_filepaths += df_val_deepfake_filepaths + df_val_real_vid_filepaths\n",
    "combined_val_filepaths += dfdc_val_deepfake_filepaths + dfdc_val_real_vid_filepaths\n",
    "\n",
    "# Get labels for each file based on their directory name\n",
    "combined_val_labels = [\n",
    "    filepath.split(\"/\")[-2]\n",
    "    for filepath in combined_val_filepaths\n",
    "]\n",
    "\n",
    "print(f\"Got {len(combined_val_filepaths)} frames in total\")"
   ]
  },
  {
   "cell_type": "markdown",
   "id": "80cfd26f",
   "metadata": {
    "papermill": {
     "duration": 0.010752,
     "end_time": "2024-11-04T11:35:52.458339",
     "exception": false,
     "start_time": "2024-11-04T11:35:52.447587",
     "status": "completed"
    },
    "tags": []
   },
   "source": [
    "### Create a DataFrame to Store the Dataset"
   ]
  },
  {
   "cell_type": "markdown",
   "id": "14d79b9f",
   "metadata": {
    "papermill": {
     "duration": 0.010872,
     "end_time": "2024-11-04T11:35:52.480440",
     "exception": false,
     "start_time": "2024-11-04T11:35:52.469568",
     "status": "completed"
    },
    "tags": []
   },
   "source": [
    "#### Train Split"
   ]
  },
  {
   "cell_type": "code",
   "execution_count": 12,
   "id": "ca7ff863",
   "metadata": {
    "execution": {
     "iopub.execute_input": "2024-11-04T11:35:52.504265Z",
     "iopub.status.busy": "2024-11-04T11:35:52.503847Z",
     "iopub.status.idle": "2024-11-04T11:35:52.529008Z",
     "shell.execute_reply": "2024-11-04T11:35:52.528016Z"
    },
    "papermill": {
     "duration": 0.040031,
     "end_time": "2024-11-04T11:35:52.531470",
     "exception": false,
     "start_time": "2024-11-04T11:35:52.491439",
     "status": "completed"
    },
    "tags": []
   },
   "outputs": [
    {
     "data": {
      "text/html": [
       "<div>\n",
       "<style scoped>\n",
       "    .dataframe tbody tr th:only-of-type {\n",
       "        vertical-align: middle;\n",
       "    }\n",
       "\n",
       "    .dataframe tbody tr th {\n",
       "        vertical-align: top;\n",
       "    }\n",
       "\n",
       "    .dataframe thead th {\n",
       "        text-align: right;\n",
       "    }\n",
       "</style>\n",
       "<table border=\"1\" class=\"dataframe\">\n",
       "  <thead>\n",
       "    <tr style=\"text-align: right;\">\n",
       "      <th></th>\n",
       "      <th>filepath</th>\n",
       "      <th>label</th>\n",
       "    </tr>\n",
       "  </thead>\n",
       "  <tbody>\n",
       "    <tr>\n",
       "      <th>0</th>\n",
       "      <td>/kaggle/input/deepfake-detection-datasets/Cele...</td>\n",
       "      <td>Deepfake</td>\n",
       "    </tr>\n",
       "    <tr>\n",
       "      <th>1</th>\n",
       "      <td>/kaggle/input/deepfake-detection-datasets/Cele...</td>\n",
       "      <td>Deepfake</td>\n",
       "    </tr>\n",
       "    <tr>\n",
       "      <th>2</th>\n",
       "      <td>/kaggle/input/deepfake-detection-datasets/Cele...</td>\n",
       "      <td>Deepfake</td>\n",
       "    </tr>\n",
       "    <tr>\n",
       "      <th>3</th>\n",
       "      <td>/kaggle/input/deepfake-detection-datasets/Cele...</td>\n",
       "      <td>Deepfake</td>\n",
       "    </tr>\n",
       "    <tr>\n",
       "      <th>4</th>\n",
       "      <td>/kaggle/input/deepfake-detection-datasets/Cele...</td>\n",
       "      <td>Deepfake</td>\n",
       "    </tr>\n",
       "  </tbody>\n",
       "</table>\n",
       "</div>"
      ],
      "text/plain": [
       "                                            filepath     label\n",
       "0  /kaggle/input/deepfake-detection-datasets/Cele...  Deepfake\n",
       "1  /kaggle/input/deepfake-detection-datasets/Cele...  Deepfake\n",
       "2  /kaggle/input/deepfake-detection-datasets/Cele...  Deepfake\n",
       "3  /kaggle/input/deepfake-detection-datasets/Cele...  Deepfake\n",
       "4  /kaggle/input/deepfake-detection-datasets/Cele...  Deepfake"
      ]
     },
     "execution_count": 12,
     "metadata": {},
     "output_type": "execute_result"
    }
   ],
   "source": [
    "tuning_train_dataset = pd.DataFrame({\n",
    "    \"filepath\": combined_train_filepaths,\n",
    "    \"label\": combined_train_labels\n",
    "})\n",
    "\n",
    "tuning_train_dataset.head()"
   ]
  },
  {
   "cell_type": "markdown",
   "id": "0fcf60b4",
   "metadata": {
    "papermill": {
     "duration": 0.011186,
     "end_time": "2024-11-04T11:35:52.555235",
     "exception": false,
     "start_time": "2024-11-04T11:35:52.544049",
     "status": "completed"
    },
    "tags": []
   },
   "source": [
    "#### Val Split"
   ]
  },
  {
   "cell_type": "code",
   "execution_count": 13,
   "id": "c83f5a81",
   "metadata": {
    "execution": {
     "iopub.execute_input": "2024-11-04T11:35:52.580781Z",
     "iopub.status.busy": "2024-11-04T11:35:52.579948Z",
     "iopub.status.idle": "2024-11-04T11:35:52.591990Z",
     "shell.execute_reply": "2024-11-04T11:35:52.590868Z"
    },
    "papermill": {
     "duration": 0.027535,
     "end_time": "2024-11-04T11:35:52.594768",
     "exception": false,
     "start_time": "2024-11-04T11:35:52.567233",
     "status": "completed"
    },
    "tags": []
   },
   "outputs": [
    {
     "data": {
      "text/html": [
       "<div>\n",
       "<style scoped>\n",
       "    .dataframe tbody tr th:only-of-type {\n",
       "        vertical-align: middle;\n",
       "    }\n",
       "\n",
       "    .dataframe tbody tr th {\n",
       "        vertical-align: top;\n",
       "    }\n",
       "\n",
       "    .dataframe thead th {\n",
       "        text-align: right;\n",
       "    }\n",
       "</style>\n",
       "<table border=\"1\" class=\"dataframe\">\n",
       "  <thead>\n",
       "    <tr style=\"text-align: right;\">\n",
       "      <th></th>\n",
       "      <th>filepath</th>\n",
       "      <th>label</th>\n",
       "    </tr>\n",
       "  </thead>\n",
       "  <tbody>\n",
       "    <tr>\n",
       "      <th>0</th>\n",
       "      <td>/kaggle/input/deepfake-detection-datasets/Cele...</td>\n",
       "      <td>Deepfake</td>\n",
       "    </tr>\n",
       "    <tr>\n",
       "      <th>1</th>\n",
       "      <td>/kaggle/input/deepfake-detection-datasets/Cele...</td>\n",
       "      <td>Deepfake</td>\n",
       "    </tr>\n",
       "    <tr>\n",
       "      <th>2</th>\n",
       "      <td>/kaggle/input/deepfake-detection-datasets/Cele...</td>\n",
       "      <td>Deepfake</td>\n",
       "    </tr>\n",
       "    <tr>\n",
       "      <th>3</th>\n",
       "      <td>/kaggle/input/deepfake-detection-datasets/Cele...</td>\n",
       "      <td>Deepfake</td>\n",
       "    </tr>\n",
       "    <tr>\n",
       "      <th>4</th>\n",
       "      <td>/kaggle/input/deepfake-detection-datasets/Cele...</td>\n",
       "      <td>Deepfake</td>\n",
       "    </tr>\n",
       "  </tbody>\n",
       "</table>\n",
       "</div>"
      ],
      "text/plain": [
       "                                            filepath     label\n",
       "0  /kaggle/input/deepfake-detection-datasets/Cele...  Deepfake\n",
       "1  /kaggle/input/deepfake-detection-datasets/Cele...  Deepfake\n",
       "2  /kaggle/input/deepfake-detection-datasets/Cele...  Deepfake\n",
       "3  /kaggle/input/deepfake-detection-datasets/Cele...  Deepfake\n",
       "4  /kaggle/input/deepfake-detection-datasets/Cele...  Deepfake"
      ]
     },
     "execution_count": 13,
     "metadata": {},
     "output_type": "execute_result"
    }
   ],
   "source": [
    "tuning_val_dataset = pd.DataFrame({\n",
    "    \"filepath\": combined_val_filepaths,\n",
    "    \"label\": combined_val_labels\n",
    "})\n",
    "\n",
    "tuning_val_dataset.head()"
   ]
  },
  {
   "cell_type": "markdown",
   "id": "ff6998b8",
   "metadata": {
    "papermill": {
     "duration": 0.011982,
     "end_time": "2024-11-04T11:35:52.620070",
     "exception": false,
     "start_time": "2024-11-04T11:35:52.608088",
     "status": "completed"
    },
    "tags": []
   },
   "source": [
    "## Image Data Generator"
   ]
  },
  {
   "cell_type": "code",
   "execution_count": 14,
   "id": "bef55c88",
   "metadata": {
    "execution": {
     "iopub.execute_input": "2024-11-04T11:35:52.648554Z",
     "iopub.status.busy": "2024-11-04T11:35:52.648094Z",
     "iopub.status.idle": "2024-11-04T11:35:52.654947Z",
     "shell.execute_reply": "2024-11-04T11:35:52.653875Z"
    },
    "papermill": {
     "duration": 0.024076,
     "end_time": "2024-11-04T11:35:52.657419",
     "exception": false,
     "start_time": "2024-11-04T11:35:52.633343",
     "status": "completed"
    },
    "tags": []
   },
   "outputs": [],
   "source": [
    "def create_generator(dataset_df):\n",
    "    datagen = ImageDataGenerator(rescale=1./255)\n",
    "    generator = datagen.flow_from_dataframe(\n",
    "        dataset_df,\n",
    "        x_col=\"filepath\",\n",
    "        y_col=\"label\",\n",
    "        target_size=(128, 128),\n",
    "        batch_size=32,\n",
    "        color_mode=\"rgb\",\n",
    "        class_mode=\"binary\",\n",
    "        shuffle=True,\n",
    "        seed=42\n",
    "    )\n",
    "    \n",
    "    return generator"
   ]
  },
  {
   "cell_type": "code",
   "execution_count": 15,
   "id": "38aa5571",
   "metadata": {
    "execution": {
     "iopub.execute_input": "2024-11-04T11:35:52.684075Z",
     "iopub.status.busy": "2024-11-04T11:35:52.683662Z",
     "iopub.status.idle": "2024-11-04T11:36:26.982376Z",
     "shell.execute_reply": "2024-11-04T11:36:26.981443Z"
    },
    "papermill": {
     "duration": 34.313996,
     "end_time": "2024-11-04T11:36:26.984553",
     "exception": false,
     "start_time": "2024-11-04T11:35:52.670557",
     "status": "completed"
    },
    "tags": []
   },
   "outputs": [
    {
     "name": "stdout",
     "output_type": "stream",
     "text": [
      "Train image generator created:\n",
      "Found 12000 validated image filenames belonging to 2 classes.\n",
      "\n",
      "Validation image generator created:\n",
      "Found 6000 validated image filenames belonging to 2 classes.\n"
     ]
    }
   ],
   "source": [
    "print(\"Train image generator created:\")\n",
    "train_generator = create_generator(tuning_train_dataset)\n",
    "\n",
    "print(\"\\nValidation image generator created:\")\n",
    "val_generator = create_generator(tuning_val_dataset)"
   ]
  },
  {
   "cell_type": "markdown",
   "id": "e2aa3af4",
   "metadata": {
    "papermill": {
     "duration": 0.011456,
     "end_time": "2024-11-04T11:36:27.008027",
     "exception": false,
     "start_time": "2024-11-04T11:36:26.996571",
     "status": "completed"
    },
    "tags": []
   },
   "source": [
    "## Model Builder Function"
   ]
  },
  {
   "cell_type": "code",
   "execution_count": 16,
   "id": "0fd84048",
   "metadata": {
    "execution": {
     "iopub.execute_input": "2024-11-04T11:36:27.032795Z",
     "iopub.status.busy": "2024-11-04T11:36:27.031985Z",
     "iopub.status.idle": "2024-11-04T11:36:27.243075Z",
     "shell.execute_reply": "2024-11-04T11:36:27.242000Z"
    },
    "papermill": {
     "duration": 0.225921,
     "end_time": "2024-11-04T11:36:27.245297",
     "exception": false,
     "start_time": "2024-11-04T11:36:27.019376",
     "status": "completed"
    },
    "tags": []
   },
   "outputs": [],
   "source": [
    "def baseline_model_builder(hp):\n",
    "    conv_layers = hp.Int(\"conv_layers\", min_value=3, max_value=5)\n",
    "    conv_layer_filters = [\n",
    "        hp.Int(f\"conv_{i+1}_filters\", min_value=32, max_value=256, step=32)\n",
    "        for i in range(conv_layers)\n",
    "    ]\n",
    "    conv_layer_kernel_size = [\n",
    "        hp.Int(f\"conv_{i+1}_kernel_size\", min_value=3, max_value=7, step=2)\n",
    "        for i in range(conv_layers)\n",
    "    ]\n",
    "    dense_layers = hp.Int(\"dense_layers\", min_value=2, max_value=5)\n",
    "    dense_layer_units = [\n",
    "        hp.Int(f\"dense_{i+1}_layer_units\", min_value=32, max_value=256, step=32)\n",
    "        for i in range(dense_layers)\n",
    "    ]\n",
    "    learning_rate = hp.Float(\"learning_rate\", min_value=1e-5, max_value=1e-2, step=10)\n",
    "\n",
    "    model = tf.keras.Sequential()\n",
    "    model.add(tf.keras.layers.Input(shape=(128, 128, 3)))\n",
    "\n",
    "    for i in range(conv_layers):\n",
    "        model.add(\n",
    "            tf.keras.layers.Conv2D(\n",
    "                conv_layer_filters[i],\n",
    "                (conv_layer_kernel_size[i], conv_layer_kernel_size[i]),\n",
    "                activation=\"relu\",\n",
    "            )\n",
    "        )\n",
    "        model.add(tf.keras.layers.MaxPooling2D(2, 2))\n",
    "\n",
    "    model.add(tf.keras.layers.Flatten())\n",
    "\n",
    "    for i in range(dense_layers):\n",
    "        model.add(tf.keras.layers.Dense(dense_layer_units[i], activation=\"relu\"))\n",
    "\n",
    "    model.add(tf.keras.layers.Dense(1, activation=\"sigmoid\"))\n",
    "\n",
    "    model.compile(\n",
    "        optimizer=tf.keras.optimizers.Adam(learning_rate=learning_rate),\n",
    "        loss=tf.keras.losses.BinaryCrossentropy(),\n",
    "        metrics=[\"accuracy\"],\n",
    "    )\n",
    "\n",
    "    return model"
   ]
  },
  {
   "cell_type": "code",
   "execution_count": 17,
   "id": "ebce3740",
   "metadata": {
    "execution": {
     "iopub.execute_input": "2024-11-04T11:36:27.270773Z",
     "iopub.status.busy": "2024-11-04T11:36:27.270456Z",
     "iopub.status.idle": "2024-11-04T11:36:27.280458Z",
     "shell.execute_reply": "2024-11-04T11:36:27.279631Z"
    },
    "papermill": {
     "duration": 0.024661,
     "end_time": "2024-11-04T11:36:27.282552",
     "exception": false,
     "start_time": "2024-11-04T11:36:27.257891",
     "status": "completed"
    },
    "tags": []
   },
   "outputs": [],
   "source": [
    "def dropout_model_builder(hp, base_hp):\n",
    "    num_conv_layers = base_hp.get(\"conv_layers\")\n",
    "    num_dense_layers = base_hp.get(\"dense_layers\")\n",
    "    learning_rate = base_hp.get(\"learning_rate\")\n",
    "    dropout_rate = hp.Float(\"dropout_rate\", min_value=0.2, max_value=0.8, step=0.05)\n",
    "\n",
    "    model = tf.keras.Sequential()\n",
    "    model.add(tf.keras.layers.Input(shape=(128, 128, 3)))\n",
    "\n",
    "    for i in range(num_conv_layers):\n",
    "        conv_filter = base_hp.get(f\"conv_{i+1}_filters\")\n",
    "        kernel_size = base_hp.get(f\"conv_{i+1}_kernel_size\")\n",
    "        model.add(\n",
    "            tf.keras.layers.Conv2D(\n",
    "                conv_filter, (kernel_size, kernel_size), activation=\"relu\"\n",
    "            )\n",
    "        )\n",
    "        model.add(tf.keras.layers.MaxPooling2D(2, 2))\n",
    "\n",
    "    model.add(tf.keras.layers.Flatten())\n",
    "\n",
    "    for i in range(num_dense_layers):\n",
    "        dense_units = base_hp.get(f\"dense_{i+1}_layer_units\")\n",
    "        model.add(tf.keras.layers.Dense(dense_units, activation=\"relu\"))\n",
    "\n",
    "    model.add(tf.keras.layers.Dropout(dropout_rate))\n",
    "    model.add(tf.keras.layers.Dense(1, activation=\"sigmoid\"))\n",
    "\n",
    "    model.compile(\n",
    "        optimizer=tf.keras.optimizers.Adam(learning_rate=learning_rate),\n",
    "        loss=tf.keras.losses.BinaryCrossentropy(),\n",
    "        metrics=[\"accuracy\"],\n",
    "    )\n",
    "\n",
    "    return model"
   ]
  },
  {
   "cell_type": "markdown",
   "id": "2a66b6bf",
   "metadata": {
    "papermill": {
     "duration": 0.01332,
     "end_time": "2024-11-04T11:36:27.309312",
     "exception": false,
     "start_time": "2024-11-04T11:36:27.295992",
     "status": "completed"
    },
    "tags": []
   },
   "source": [
    "## Search for the Base Hyperparameters"
   ]
  },
  {
   "cell_type": "markdown",
   "id": "7493ac66",
   "metadata": {
    "papermill": {
     "duration": 0.011381,
     "end_time": "2024-11-04T11:36:27.332608",
     "exception": false,
     "start_time": "2024-11-04T11:36:27.321227",
     "status": "completed"
    },
    "tags": []
   },
   "source": [
    "For the base hyperparameters, the tuner will search for the best value based on the loss resulted from the model. The tuner will only fitted to train split only."
   ]
  },
  {
   "cell_type": "code",
   "execution_count": 18,
   "id": "a390c7db",
   "metadata": {
    "execution": {
     "iopub.execute_input": "2024-11-04T11:36:27.357790Z",
     "iopub.status.busy": "2024-11-04T11:36:27.357016Z",
     "iopub.status.idle": "2024-11-04T11:36:28.198125Z",
     "shell.execute_reply": "2024-11-04T11:36:28.197200Z"
    },
    "papermill": {
     "duration": 0.856172,
     "end_time": "2024-11-04T11:36:28.200454",
     "exception": false,
     "start_time": "2024-11-04T11:36:27.344282",
     "status": "completed"
    },
    "tags": []
   },
   "outputs": [],
   "source": [
    "base_hp_tuner = kt.Hyperband(baseline_model_builder,\n",
    "                             objective=\"loss\",\n",
    "                             max_epochs=20,\n",
    "                             factor=3,\n",
    "                             directory=\"tuner_result\",\n",
    "                             project_name=\"base_hp\",\n",
    "                             seed=42)"
   ]
  },
  {
   "cell_type": "code",
   "execution_count": 19,
   "id": "7f4d0b26",
   "metadata": {
    "execution": {
     "iopub.execute_input": "2024-11-04T11:36:28.227452Z",
     "iopub.status.busy": "2024-11-04T11:36:28.227098Z",
     "iopub.status.idle": "2024-11-04T11:36:28.231759Z",
     "shell.execute_reply": "2024-11-04T11:36:28.230894Z"
    },
    "papermill": {
     "duration": 0.021086,
     "end_time": "2024-11-04T11:36:28.233706",
     "exception": false,
     "start_time": "2024-11-04T11:36:28.212620",
     "status": "completed"
    },
    "tags": []
   },
   "outputs": [],
   "source": [
    "early_stopping = tf.keras.callbacks.EarlyStopping(monitor=\"loss\",\n",
    "                                                  patience=2,\n",
    "                                                  restore_best_weights=True)"
   ]
  },
  {
   "cell_type": "code",
   "execution_count": 20,
   "id": "d4f6afe7",
   "metadata": {
    "execution": {
     "iopub.execute_input": "2024-11-04T11:36:28.258703Z",
     "iopub.status.busy": "2024-11-04T11:36:28.258438Z",
     "iopub.status.idle": "2024-11-04T12:31:49.584059Z",
     "shell.execute_reply": "2024-11-04T12:31:49.582967Z"
    },
    "papermill": {
     "duration": 3321.340593,
     "end_time": "2024-11-04T12:31:49.586122",
     "exception": false,
     "start_time": "2024-11-04T11:36:28.245529",
     "status": "completed"
    },
    "tags": []
   },
   "outputs": [
    {
     "name": "stdout",
     "output_type": "stream",
     "text": [
      "Trial 28 Complete [00h 00m 01s]\n",
      "\n",
      "Best loss So Far: 0.010555267333984375\n",
      "Total elapsed time: 00h 55m 21s\n"
     ]
    }
   ],
   "source": [
    "base_hp_tuner.search(train_generator,\n",
    "                     verbose=1,\n",
    "                     callbacks=[early_stopping])"
   ]
  },
  {
   "cell_type": "code",
   "execution_count": 21,
   "id": "e64b08b4",
   "metadata": {
    "execution": {
     "iopub.execute_input": "2024-11-04T12:31:49.614234Z",
     "iopub.status.busy": "2024-11-04T12:31:49.613554Z",
     "iopub.status.idle": "2024-11-04T12:31:49.623926Z",
     "shell.execute_reply": "2024-11-04T12:31:49.622985Z"
    },
    "papermill": {
     "duration": 0.026983,
     "end_time": "2024-11-04T12:31:49.626221",
     "exception": false,
     "start_time": "2024-11-04T12:31:49.599238",
     "status": "completed"
    },
    "tags": []
   },
   "outputs": [
    {
     "name": "stdout",
     "output_type": "stream",
     "text": [
      "Results summary\n",
      "Results in tuner_result/base_hp\n",
      "Showing 10 best trials\n",
      "Objective(name=\"loss\", direction=\"min\")\n",
      "\n",
      "Trial 0025 summary\n",
      "Hyperparameters:\n",
      "conv_layers: 4\n",
      "conv_1_filters: 256\n",
      "conv_2_filters: 224\n",
      "conv_3_filters: 256\n",
      "conv_1_kernel_size: 3\n",
      "conv_2_kernel_size: 3\n",
      "conv_3_kernel_size: 3\n",
      "dense_layers: 4\n",
      "dense_1_layer_units: 64\n",
      "dense_2_layer_units: 224\n",
      "learning_rate: 1e-05\n",
      "conv_4_filters: 256\n",
      "conv_4_kernel_size: 7\n",
      "dense_3_layer_units: 224\n",
      "dense_4_layer_units: 224\n",
      "dense_5_layer_units: 224\n",
      "conv_5_filters: 192\n",
      "conv_5_kernel_size: 3\n",
      "tuner/epochs: 20\n",
      "tuner/initial_epoch: 0\n",
      "tuner/bracket: 0\n",
      "tuner/round: 0\n",
      "Score: 0.010555267333984375\n",
      "\n",
      "Trial 0016 summary\n",
      "Hyperparameters:\n",
      "conv_layers: 3\n",
      "conv_1_filters: 224\n",
      "conv_2_filters: 160\n",
      "conv_3_filters: 160\n",
      "conv_1_kernel_size: 7\n",
      "conv_2_kernel_size: 5\n",
      "conv_3_kernel_size: 7\n",
      "dense_layers: 2\n",
      "dense_1_layer_units: 160\n",
      "dense_2_layer_units: 128\n",
      "learning_rate: 1e-05\n",
      "conv_4_filters: 224\n",
      "conv_4_kernel_size: 7\n",
      "dense_3_layer_units: 256\n",
      "dense_4_layer_units: 256\n",
      "dense_5_layer_units: 64\n",
      "tuner/epochs: 20\n",
      "tuner/initial_epoch: 7\n",
      "tuner/bracket: 2\n",
      "tuner/round: 2\n",
      "tuner/trial_id: 0012\n",
      "conv_5_filters: 256\n",
      "conv_5_kernel_size: 5\n",
      "Score: 0.026935022324323654\n",
      "\n",
      "Trial 0017 summary\n",
      "Hyperparameters:\n",
      "conv_layers: 3\n",
      "conv_1_filters: 256\n",
      "conv_2_filters: 256\n",
      "conv_3_filters: 160\n",
      "conv_1_kernel_size: 3\n",
      "conv_2_kernel_size: 7\n",
      "conv_3_kernel_size: 5\n",
      "dense_layers: 4\n",
      "dense_1_layer_units: 96\n",
      "dense_2_layer_units: 128\n",
      "learning_rate: 1e-05\n",
      "conv_4_filters: 128\n",
      "conv_4_kernel_size: 7\n",
      "dense_3_layer_units: 160\n",
      "dense_4_layer_units: 32\n",
      "dense_5_layer_units: 64\n",
      "tuner/epochs: 20\n",
      "tuner/initial_epoch: 7\n",
      "tuner/bracket: 2\n",
      "tuner/round: 2\n",
      "tuner/trial_id: 0013\n",
      "conv_5_filters: 192\n",
      "conv_5_kernel_size: 7\n",
      "Score: 0.03143646568059921\n",
      "\n",
      "Trial 0026 summary\n",
      "Hyperparameters:\n",
      "conv_layers: 3\n",
      "conv_1_filters: 256\n",
      "conv_2_filters: 224\n",
      "conv_3_filters: 32\n",
      "conv_1_kernel_size: 3\n",
      "conv_2_kernel_size: 3\n",
      "conv_3_kernel_size: 3\n",
      "dense_layers: 3\n",
      "dense_1_layer_units: 64\n",
      "dense_2_layer_units: 192\n",
      "learning_rate: 1e-05\n",
      "conv_4_filters: 32\n",
      "conv_4_kernel_size: 3\n",
      "dense_3_layer_units: 256\n",
      "dense_4_layer_units: 128\n",
      "dense_5_layer_units: 32\n",
      "conv_5_filters: 160\n",
      "conv_5_kernel_size: 5\n",
      "tuner/epochs: 20\n",
      "tuner/initial_epoch: 0\n",
      "tuner/bracket: 0\n",
      "tuner/round: 0\n",
      "Score: 0.18071284890174866\n",
      "\n",
      "Trial 0012 summary\n",
      "Hyperparameters:\n",
      "conv_layers: 3\n",
      "conv_1_filters: 224\n",
      "conv_2_filters: 160\n",
      "conv_3_filters: 160\n",
      "conv_1_kernel_size: 7\n",
      "conv_2_kernel_size: 5\n",
      "conv_3_kernel_size: 7\n",
      "dense_layers: 2\n",
      "dense_1_layer_units: 160\n",
      "dense_2_layer_units: 128\n",
      "learning_rate: 1e-05\n",
      "conv_4_filters: 224\n",
      "conv_4_kernel_size: 7\n",
      "dense_3_layer_units: 256\n",
      "dense_4_layer_units: 256\n",
      "dense_5_layer_units: 64\n",
      "tuner/epochs: 7\n",
      "tuner/initial_epoch: 3\n",
      "tuner/bracket: 2\n",
      "tuner/round: 1\n",
      "tuner/trial_id: 0007\n",
      "conv_5_filters: 256\n",
      "conv_5_kernel_size: 5\n",
      "Score: 0.1921815574169159\n",
      "\n",
      "Trial 0013 summary\n",
      "Hyperparameters:\n",
      "conv_layers: 3\n",
      "conv_1_filters: 256\n",
      "conv_2_filters: 256\n",
      "conv_3_filters: 160\n",
      "conv_1_kernel_size: 3\n",
      "conv_2_kernel_size: 7\n",
      "conv_3_kernel_size: 5\n",
      "dense_layers: 4\n",
      "dense_1_layer_units: 96\n",
      "dense_2_layer_units: 128\n",
      "learning_rate: 1e-05\n",
      "conv_4_filters: 128\n",
      "conv_4_kernel_size: 7\n",
      "dense_3_layer_units: 160\n",
      "dense_4_layer_units: 32\n",
      "dense_5_layer_units: 64\n",
      "tuner/epochs: 7\n",
      "tuner/initial_epoch: 3\n",
      "tuner/bracket: 2\n",
      "tuner/round: 1\n",
      "tuner/trial_id: 0006\n",
      "conv_5_filters: 192\n",
      "conv_5_kernel_size: 7\n",
      "Score: 0.208924800157547\n",
      "\n",
      "Trial 0018 summary\n",
      "Hyperparameters:\n",
      "conv_layers: 3\n",
      "conv_1_filters: 32\n",
      "conv_2_filters: 192\n",
      "conv_3_filters: 128\n",
      "conv_1_kernel_size: 5\n",
      "conv_2_kernel_size: 7\n",
      "conv_3_kernel_size: 5\n",
      "dense_layers: 4\n",
      "dense_1_layer_units: 224\n",
      "dense_2_layer_units: 96\n",
      "learning_rate: 1e-05\n",
      "conv_4_filters: 96\n",
      "conv_4_kernel_size: 5\n",
      "dense_3_layer_units: 192\n",
      "dense_4_layer_units: 160\n",
      "dense_5_layer_units: 224\n",
      "conv_5_filters: 32\n",
      "conv_5_kernel_size: 7\n",
      "tuner/epochs: 7\n",
      "tuner/initial_epoch: 0\n",
      "tuner/bracket: 1\n",
      "tuner/round: 0\n",
      "Score: 0.22037087380886078\n",
      "\n",
      "Trial 0020 summary\n",
      "Hyperparameters:\n",
      "conv_layers: 3\n",
      "conv_1_filters: 64\n",
      "conv_2_filters: 128\n",
      "conv_3_filters: 96\n",
      "conv_1_kernel_size: 7\n",
      "conv_2_kernel_size: 5\n",
      "conv_3_kernel_size: 7\n",
      "dense_layers: 5\n",
      "dense_1_layer_units: 64\n",
      "dense_2_layer_units: 224\n",
      "learning_rate: 1e-05\n",
      "conv_4_filters: 224\n",
      "conv_4_kernel_size: 5\n",
      "dense_3_layer_units: 256\n",
      "dense_4_layer_units: 64\n",
      "dense_5_layer_units: 64\n",
      "conv_5_filters: 224\n",
      "conv_5_kernel_size: 5\n",
      "tuner/epochs: 7\n",
      "tuner/initial_epoch: 0\n",
      "tuner/bracket: 1\n",
      "tuner/round: 0\n",
      "Score: 0.25215834379196167\n",
      "\n",
      "Trial 0014 summary\n",
      "Hyperparameters:\n",
      "conv_layers: 3\n",
      "conv_1_filters: 96\n",
      "conv_2_filters: 256\n",
      "conv_3_filters: 224\n",
      "conv_1_kernel_size: 5\n",
      "conv_2_kernel_size: 3\n",
      "conv_3_kernel_size: 3\n",
      "dense_layers: 5\n",
      "dense_1_layer_units: 224\n",
      "dense_2_layer_units: 64\n",
      "learning_rate: 1e-05\n",
      "conv_4_filters: 256\n",
      "conv_4_kernel_size: 5\n",
      "dense_3_layer_units: 32\n",
      "dense_4_layer_units: 160\n",
      "tuner/epochs: 7\n",
      "tuner/initial_epoch: 3\n",
      "tuner/bracket: 2\n",
      "tuner/round: 1\n",
      "dense_5_layer_units: 32\n",
      "tuner/trial_id: 0005\n",
      "conv_5_filters: 96\n",
      "conv_5_kernel_size: 7\n",
      "Score: 0.2909083962440491\n",
      "\n",
      "Trial 0015 summary\n",
      "Hyperparameters:\n",
      "conv_layers: 3\n",
      "conv_1_filters: 32\n",
      "conv_2_filters: 192\n",
      "conv_3_filters: 192\n",
      "conv_1_kernel_size: 7\n",
      "conv_2_kernel_size: 3\n",
      "conv_3_kernel_size: 3\n",
      "dense_layers: 3\n",
      "dense_1_layer_units: 224\n",
      "dense_2_layer_units: 128\n",
      "learning_rate: 1e-05\n",
      "conv_4_filters: 224\n",
      "conv_4_kernel_size: 7\n",
      "dense_3_layer_units: 64\n",
      "tuner/epochs: 7\n",
      "tuner/initial_epoch: 3\n",
      "tuner/bracket: 2\n",
      "tuner/round: 1\n",
      "tuner/trial_id: 0002\n",
      "dense_4_layer_units: 64\n",
      "dense_5_layer_units: 256\n",
      "conv_5_filters: 32\n",
      "conv_5_kernel_size: 5\n",
      "Score: 0.32868123054504395\n"
     ]
    }
   ],
   "source": [
    "base_hp_tuner.results_summary()"
   ]
  },
  {
   "cell_type": "markdown",
   "id": "0eee9db7",
   "metadata": {
    "papermill": {
     "duration": 0.012727,
     "end_time": "2024-11-04T12:31:49.652139",
     "exception": false,
     "start_time": "2024-11-04T12:31:49.639412",
     "status": "completed"
    },
    "tags": []
   },
   "source": [
    "## Search for the Optimal Dropout Rate"
   ]
  },
  {
   "cell_type": "markdown",
   "id": "a265b18c",
   "metadata": {
    "papermill": {
     "duration": 0.012966,
     "end_time": "2024-11-04T12:31:49.678402",
     "exception": false,
     "start_time": "2024-11-04T12:31:49.665436",
     "status": "completed"
    },
    "tags": []
   },
   "source": [
    "For the dropout rate tuning, the tuner will search for the best value based on the val_loss resulted from the model. The tuner will be fitted to the train split, and then validated to the validation split."
   ]
  },
  {
   "cell_type": "code",
   "execution_count": 22,
   "id": "62a45b30",
   "metadata": {
    "execution": {
     "iopub.execute_input": "2024-11-04T12:31:49.706728Z",
     "iopub.status.busy": "2024-11-04T12:31:49.705790Z",
     "iopub.status.idle": "2024-11-04T12:31:49.713603Z",
     "shell.execute_reply": "2024-11-04T12:31:49.712665Z"
    },
    "papermill": {
     "duration": 0.024623,
     "end_time": "2024-11-04T12:31:49.715683",
     "exception": false,
     "start_time": "2024-11-04T12:31:49.691060",
     "status": "completed"
    },
    "tags": []
   },
   "outputs": [
    {
     "data": {
      "text/plain": [
       "{'conv_layers': 4,\n",
       " 'conv_1_filters': 256,\n",
       " 'conv_2_filters': 224,\n",
       " 'conv_3_filters': 256,\n",
       " 'conv_1_kernel_size': 3,\n",
       " 'conv_2_kernel_size': 3,\n",
       " 'conv_3_kernel_size': 3,\n",
       " 'dense_layers': 4,\n",
       " 'dense_1_layer_units': 64,\n",
       " 'dense_2_layer_units': 224,\n",
       " 'learning_rate': 1e-05,\n",
       " 'conv_4_filters': 256,\n",
       " 'conv_4_kernel_size': 7,\n",
       " 'dense_3_layer_units': 224,\n",
       " 'dense_4_layer_units': 224,\n",
       " 'dense_5_layer_units': 224,\n",
       " 'conv_5_filters': 192,\n",
       " 'conv_5_kernel_size': 3,\n",
       " 'tuner/epochs': 20,\n",
       " 'tuner/initial_epoch': 0,\n",
       " 'tuner/bracket': 0,\n",
       " 'tuner/round': 0}"
      ]
     },
     "execution_count": 22,
     "metadata": {},
     "output_type": "execute_result"
    }
   ],
   "source": [
    "best_base_hp = base_hp_tuner.get_best_hyperparameters()[0].values\n",
    "best_base_hp"
   ]
  },
  {
   "cell_type": "code",
   "execution_count": 23,
   "id": "5dc1ab99",
   "metadata": {
    "execution": {
     "iopub.execute_input": "2024-11-04T12:31:49.745245Z",
     "iopub.status.busy": "2024-11-04T12:31:49.744385Z",
     "iopub.status.idle": "2024-11-04T12:31:49.942672Z",
     "shell.execute_reply": "2024-11-04T12:31:49.941852Z"
    },
    "papermill": {
     "duration": 0.215638,
     "end_time": "2024-11-04T12:31:49.945215",
     "exception": false,
     "start_time": "2024-11-04T12:31:49.729577",
     "status": "completed"
    },
    "tags": []
   },
   "outputs": [],
   "source": [
    "dropout_tuner = kt.Hyperband(lambda hp: dropout_model_builder(hp, best_base_hp),\n",
    "                             objective=\"val_loss\",\n",
    "                             max_epochs=20,\n",
    "                             directory=\"tuner_result\",\n",
    "                             project_name=\"dropout_rate\",\n",
    "                             seed=42)"
   ]
  },
  {
   "cell_type": "code",
   "execution_count": 24,
   "id": "ad832cdd",
   "metadata": {
    "execution": {
     "iopub.execute_input": "2024-11-04T12:31:49.973539Z",
     "iopub.status.busy": "2024-11-04T12:31:49.972853Z",
     "iopub.status.idle": "2024-11-04T12:31:49.977761Z",
     "shell.execute_reply": "2024-11-04T12:31:49.976811Z"
    },
    "papermill": {
     "duration": 0.021332,
     "end_time": "2024-11-04T12:31:49.979793",
     "exception": false,
     "start_time": "2024-11-04T12:31:49.958461",
     "status": "completed"
    },
    "tags": []
   },
   "outputs": [],
   "source": [
    "early_stopping = tf.keras.callbacks.EarlyStopping(monitor=\"val_loss\",\n",
    "                                                  patience=2,\n",
    "                                                  restore_best_weights=True)"
   ]
  },
  {
   "cell_type": "code",
   "execution_count": 25,
   "id": "c7873c52",
   "metadata": {
    "execution": {
     "iopub.execute_input": "2024-11-04T12:31:50.007198Z",
     "iopub.status.busy": "2024-11-04T12:31:50.006440Z",
     "iopub.status.idle": "2024-11-04T13:03:41.492829Z",
     "shell.execute_reply": "2024-11-04T13:03:41.491714Z"
    },
    "papermill": {
     "duration": 1911.502228,
     "end_time": "2024-11-04T13:03:41.494771",
     "exception": false,
     "start_time": "2024-11-04T12:31:49.992543",
     "status": "completed"
    },
    "tags": []
   },
   "outputs": [
    {
     "name": "stdout",
     "output_type": "stream",
     "text": [
      "Trial 19 Complete [00h 02m 01s]\n",
      "val_loss: 0.6693305373191833\n",
      "\n",
      "Best val_loss So Far: 0.6603451371192932\n",
      "Total elapsed time: 00h 31m 51s\n"
     ]
    }
   ],
   "source": [
    "dropout_tuner.search(train_generator,\n",
    "                     validation_data=val_generator,\n",
    "                     verbose=1,\n",
    "                     callbacks=[early_stopping])"
   ]
  },
  {
   "cell_type": "code",
   "execution_count": 26,
   "id": "2c3dad31",
   "metadata": {
    "execution": {
     "iopub.execute_input": "2024-11-04T13:03:41.522043Z",
     "iopub.status.busy": "2024-11-04T13:03:41.521701Z",
     "iopub.status.idle": "2024-11-04T13:03:41.527704Z",
     "shell.execute_reply": "2024-11-04T13:03:41.526866Z"
    },
    "papermill": {
     "duration": 0.021962,
     "end_time": "2024-11-04T13:03:41.530047",
     "exception": false,
     "start_time": "2024-11-04T13:03:41.508085",
     "status": "completed"
    },
    "tags": []
   },
   "outputs": [
    {
     "name": "stdout",
     "output_type": "stream",
     "text": [
      "Results summary\n",
      "Results in tuner_result/dropout_rate\n",
      "Showing 10 best trials\n",
      "Objective(name=\"val_loss\", direction=\"min\")\n",
      "\n",
      "Trial 0011 summary\n",
      "Hyperparameters:\n",
      "dropout_rate: 0.65\n",
      "tuner/epochs: 3\n",
      "tuner/initial_epoch: 0\n",
      "tuner/bracket: 2\n",
      "tuner/round: 0\n",
      "Score: 0.6603451371192932\n",
      "\n",
      "Trial 0000 summary\n",
      "Hyperparameters:\n",
      "dropout_rate: 0.6000000000000001\n",
      "tuner/epochs: 3\n",
      "tuner/initial_epoch: 0\n",
      "tuner/bracket: 2\n",
      "tuner/round: 0\n",
      "Score: 0.66315758228302\n",
      "\n",
      "Trial 0018 summary\n",
      "Hyperparameters:\n",
      "dropout_rate: 0.7\n",
      "tuner/epochs: 7\n",
      "tuner/initial_epoch: 0\n",
      "tuner/bracket: 1\n",
      "tuner/round: 0\n",
      "Score: 0.6693305373191833\n",
      "\n",
      "Trial 0001 summary\n",
      "Hyperparameters:\n",
      "dropout_rate: 0.2\n",
      "tuner/epochs: 3\n",
      "tuner/initial_epoch: 0\n",
      "tuner/bracket: 2\n",
      "tuner/round: 0\n",
      "Score: 0.6719924807548523\n",
      "\n",
      "Trial 0007 summary\n",
      "Hyperparameters:\n",
      "dropout_rate: 0.5\n",
      "tuner/epochs: 3\n",
      "tuner/initial_epoch: 0\n",
      "tuner/bracket: 2\n",
      "tuner/round: 0\n",
      "Score: 0.6723927855491638\n",
      "\n",
      "Trial 0004 summary\n",
      "Hyperparameters:\n",
      "dropout_rate: 0.75\n",
      "tuner/epochs: 3\n",
      "tuner/initial_epoch: 0\n",
      "tuner/bracket: 2\n",
      "tuner/round: 0\n",
      "Score: 0.6728512644767761\n",
      "\n",
      "Trial 0008 summary\n",
      "Hyperparameters:\n",
      "dropout_rate: 0.8\n",
      "tuner/epochs: 3\n",
      "tuner/initial_epoch: 0\n",
      "tuner/bracket: 2\n",
      "tuner/round: 0\n",
      "Score: 0.6745051145553589\n",
      "\n",
      "Trial 0010 summary\n",
      "Hyperparameters:\n",
      "dropout_rate: 0.30000000000000004\n",
      "tuner/epochs: 3\n",
      "tuner/initial_epoch: 0\n",
      "tuner/bracket: 2\n",
      "tuner/round: 0\n",
      "Score: 0.6800093650817871\n",
      "\n",
      "Trial 0003 summary\n",
      "Hyperparameters:\n",
      "dropout_rate: 0.35000000000000003\n",
      "tuner/epochs: 3\n",
      "tuner/initial_epoch: 0\n",
      "tuner/bracket: 2\n",
      "tuner/round: 0\n",
      "Score: 0.6819888353347778\n",
      "\n",
      "Trial 0005 summary\n",
      "Hyperparameters:\n",
      "dropout_rate: 0.4\n",
      "tuner/epochs: 3\n",
      "tuner/initial_epoch: 0\n",
      "tuner/bracket: 2\n",
      "tuner/round: 0\n",
      "Score: 0.6823264956474304\n"
     ]
    }
   ],
   "source": [
    "dropout_tuner.results_summary()"
   ]
  }
 ],
 "metadata": {
  "kaggle": {
   "accelerator": "gpu",
   "dataSources": [
    {
     "datasetId": 6006079,
     "sourceId": 9800008,
     "sourceType": "datasetVersion"
    }
   ],
   "dockerImageVersionId": 30787,
   "isGpuEnabled": true,
   "isInternetEnabled": true,
   "language": "python",
   "sourceType": "notebook"
  },
  "kernelspec": {
   "display_name": "Python 3",
   "language": "python",
   "name": "python3"
  },
  "language_info": {
   "codemirror_mode": {
    "name": "ipython",
    "version": 3
   },
   "file_extension": ".py",
   "mimetype": "text/x-python",
   "name": "python",
   "nbconvert_exporter": "python",
   "pygments_lexer": "ipython3",
   "version": "3.10.14"
  },
  "papermill": {
   "default_parameters": {},
   "duration": 5296.273194,
   "end_time": "2024-11-04T13:03:45.114867",
   "environment_variables": {},
   "exception": null,
   "input_path": "__notebook__.ipynb",
   "output_path": "__notebook__.ipynb",
   "parameters": {},
   "start_time": "2024-11-04T11:35:28.841673",
   "version": "2.6.0"
  }
 },
 "nbformat": 4,
 "nbformat_minor": 5
}
