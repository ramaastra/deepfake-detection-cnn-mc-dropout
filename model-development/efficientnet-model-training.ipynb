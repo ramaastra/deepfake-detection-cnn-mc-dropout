{
 "cells": [
  {
   "cell_type": "markdown",
   "id": "3d3227c5",
   "metadata": {
    "papermill": {
     "duration": 0.011437,
     "end_time": "2024-11-05T03:45:08.455803",
     "exception": false,
     "start_time": "2024-11-05T03:45:08.444366",
     "status": "completed"
    },
    "tags": []
   },
   "source": [
    "# EfficientNet Model Training"
   ]
  },
  {
   "cell_type": "markdown",
   "id": "db66186f",
   "metadata": {
    "papermill": {
     "duration": 0.010717,
     "end_time": "2024-11-05T03:45:08.478267",
     "exception": false,
     "start_time": "2024-11-05T03:45:08.467550",
     "status": "completed"
    },
    "tags": []
   },
   "source": [
    "This notebook contains model training process for EfficientNet model on three different deepfake detection datasets. The model training splitted into two parts, which are baseline model (base model without dropout) and the dropout model itself."
   ]
  },
  {
   "cell_type": "code",
   "execution_count": 1,
   "id": "208c94f4",
   "metadata": {
    "execution": {
     "iopub.execute_input": "2024-11-05T03:45:08.500587Z",
     "iopub.status.busy": "2024-11-05T03:45:08.500294Z",
     "iopub.status.idle": "2024-11-05T03:45:21.963247Z",
     "shell.execute_reply": "2024-11-05T03:45:21.962244Z"
    },
    "papermill": {
     "duration": 13.476786,
     "end_time": "2024-11-05T03:45:21.965661",
     "exception": false,
     "start_time": "2024-11-05T03:45:08.488875",
     "status": "completed"
    },
    "tags": []
   },
   "outputs": [],
   "source": [
    "from tensorflow.keras.preprocessing.image import ImageDataGenerator\n",
    "from tensorflow.keras.applications import EfficientNetB7, efficientnet\n",
    "import tensorflow as tf\n",
    "import keras_tuner as kt\n",
    "import matplotlib.pyplot as plt\n",
    "import pickle\n",
    "import os"
   ]
  },
  {
   "cell_type": "markdown",
   "id": "bd857061",
   "metadata": {
    "papermill": {
     "duration": 0.010557,
     "end_time": "2024-11-05T03:45:21.987279",
     "exception": false,
     "start_time": "2024-11-05T03:45:21.976722",
     "status": "completed"
    },
    "tags": []
   },
   "source": [
    "## Define Dataset Directory"
   ]
  },
  {
   "cell_type": "code",
   "execution_count": 2,
   "id": "c277e8fa",
   "metadata": {
    "execution": {
     "iopub.execute_input": "2024-11-05T03:45:22.010014Z",
     "iopub.status.busy": "2024-11-05T03:45:22.009468Z",
     "iopub.status.idle": "2024-11-05T03:45:22.013971Z",
     "shell.execute_reply": "2024-11-05T03:45:22.013086Z"
    },
    "papermill": {
     "duration": 0.017962,
     "end_time": "2024-11-05T03:45:22.015912",
     "exception": false,
     "start_time": "2024-11-05T03:45:21.997950",
     "status": "completed"
    },
    "tags": []
   },
   "outputs": [],
   "source": [
    "CDF_DATASET_DIR = \"/kaggle/input/deepfake-detection-datasets/Celeb-DF-v2\"\n",
    "DF_DATASET_DIR = \"/kaggle/input/deepfake-detection-datasets/DeeperForensics-1.0\"\n",
    "DFDC_DATASET_DIR = \"/kaggle/input/deepfake-detection-datasets/DFDC\""
   ]
  },
  {
   "cell_type": "code",
   "execution_count": 3,
   "id": "b279194c",
   "metadata": {
    "execution": {
     "iopub.execute_input": "2024-11-05T03:45:22.038521Z",
     "iopub.status.busy": "2024-11-05T03:45:22.038225Z",
     "iopub.status.idle": "2024-11-05T03:45:22.043365Z",
     "shell.execute_reply": "2024-11-05T03:45:22.042618Z"
    },
    "papermill": {
     "duration": 0.018621,
     "end_time": "2024-11-05T03:45:22.045252",
     "exception": false,
     "start_time": "2024-11-05T03:45:22.026631",
     "status": "completed"
    },
    "tags": []
   },
   "outputs": [],
   "source": [
    "cdf_train_dir = os.path.join(CDF_DATASET_DIR, \"Train\")\n",
    "cdf_val_dir = os.path.join(CDF_DATASET_DIR, \"Val\")\n",
    "\n",
    "df_train_dir = os.path.join(DF_DATASET_DIR, \"Train\")\n",
    "df_val_dir = os.path.join(DF_DATASET_DIR, \"Val\")\n",
    "\n",
    "dfdc_train_dir = os.path.join(DFDC_DATASET_DIR, \"Train\")\n",
    "dfdc_val_dir = os.path.join(DFDC_DATASET_DIR, \"Val\")"
   ]
  },
  {
   "cell_type": "markdown",
   "id": "3f9e57d2",
   "metadata": {
    "papermill": {
     "duration": 0.010505,
     "end_time": "2024-11-05T03:45:22.066508",
     "exception": false,
     "start_time": "2024-11-05T03:45:22.056003",
     "status": "completed"
    },
    "tags": []
   },
   "source": [
    "## Image Data Generator for Each Dataset"
   ]
  },
  {
   "cell_type": "code",
   "execution_count": 4,
   "id": "b8973b92",
   "metadata": {
    "execution": {
     "iopub.execute_input": "2024-11-05T03:45:22.089298Z",
     "iopub.status.busy": "2024-11-05T03:45:22.088993Z",
     "iopub.status.idle": "2024-11-05T03:45:22.094159Z",
     "shell.execute_reply": "2024-11-05T03:45:22.093344Z"
    },
    "papermill": {
     "duration": 0.018714,
     "end_time": "2024-11-05T03:45:22.096040",
     "exception": false,
     "start_time": "2024-11-05T03:45:22.077326",
     "status": "completed"
    },
    "tags": []
   },
   "outputs": [],
   "source": [
    "def create_image_generator(dataset_dir):\n",
    "    datagen = ImageDataGenerator(preprocessing_function=efficientnet.preprocess_input)\n",
    "    image_generator = datagen.flow_from_directory(\n",
    "        dataset_dir,\n",
    "        target_size=(128, 128),\n",
    "        batch_size=32,\n",
    "        color_mode=\"rgb\",\n",
    "        class_mode=\"binary\",\n",
    "        shuffle=True,\n",
    "        seed=42\n",
    "    )\n",
    "\n",
    "    return image_generator"
   ]
  },
  {
   "cell_type": "code",
   "execution_count": 5,
   "id": "4cfe75e7",
   "metadata": {
    "execution": {
     "iopub.execute_input": "2024-11-05T03:45:22.118879Z",
     "iopub.status.busy": "2024-11-05T03:45:22.118558Z",
     "iopub.status.idle": "2024-11-05T03:46:07.064723Z",
     "shell.execute_reply": "2024-11-05T03:46:07.063950Z"
    },
    "papermill": {
     "duration": 44.959805,
     "end_time": "2024-11-05T03:46:07.066673",
     "exception": false,
     "start_time": "2024-11-05T03:45:22.106868",
     "status": "completed"
    },
    "tags": []
   },
   "outputs": [
    {
     "name": "stdout",
     "output_type": "stream",
     "text": [
      "Celeb-DF-v2 Dataset\n",
      "Found 14000 images belonging to 2 classes.\n",
      "Found 2000 images belonging to 2 classes.\n",
      "\n",
      "DeeperForensics-1.0 Dataset\n",
      "Found 14000 images belonging to 2 classes.\n",
      "Found 2000 images belonging to 2 classes.\n",
      "\n",
      "Deepfake Detection Challenge Dataset\n",
      "Found 14000 images belonging to 2 classes.\n",
      "Found 2000 images belonging to 2 classes.\n"
     ]
    }
   ],
   "source": [
    "print(\"Celeb-DF-v2 Dataset\")\n",
    "cdf_train_generator = create_image_generator(cdf_train_dir)\n",
    "cdf_val_generator = create_image_generator(cdf_val_dir)\n",
    "\n",
    "print(\"\\nDeeperForensics-1.0 Dataset\")\n",
    "df_train_generator = create_image_generator(df_train_dir)\n",
    "df_val_generator = create_image_generator(df_val_dir)\n",
    "\n",
    "print(\"\\nDeepfake Detection Challenge Dataset\")\n",
    "dfdc_train_generator = create_image_generator(dfdc_train_dir)\n",
    "dfdc_val_generator = create_image_generator(dfdc_val_dir)"
   ]
  },
  {
   "cell_type": "markdown",
   "id": "506109db",
   "metadata": {
    "papermill": {
     "duration": 0.011442,
     "end_time": "2024-11-05T03:46:07.089926",
     "exception": false,
     "start_time": "2024-11-05T03:46:07.078484",
     "status": "completed"
    },
    "tags": []
   },
   "source": [
    "## Get the Best Hyperparameters from Tuner"
   ]
  },
  {
   "cell_type": "code",
   "execution_count": 6,
   "id": "2d65ffd2",
   "metadata": {
    "execution": {
     "iopub.execute_input": "2024-11-05T03:46:07.114090Z",
     "iopub.status.busy": "2024-11-05T03:46:07.113777Z",
     "iopub.status.idle": "2024-11-05T03:46:07.117934Z",
     "shell.execute_reply": "2024-11-05T03:46:07.117073Z"
    },
    "papermill": {
     "duration": 0.018534,
     "end_time": "2024-11-05T03:46:07.119896",
     "exception": false,
     "start_time": "2024-11-05T03:46:07.101362",
     "status": "completed"
    },
    "tags": []
   },
   "outputs": [],
   "source": [
    "TUNER_RESULT_DIR = \"/kaggle/input/hyperparameter-tuning/tuner_result\"\n",
    "BASE_HP_TUNER_PROJECT_NAME = \"base_hp\"\n",
    "DROPOUT_TUNER_PROJECT_NAME = \"dropout_rate\""
   ]
  },
  {
   "cell_type": "code",
   "execution_count": 7,
   "id": "1ad182a4",
   "metadata": {
    "execution": {
     "iopub.execute_input": "2024-11-05T03:46:07.144212Z",
     "iopub.status.busy": "2024-11-05T03:46:07.143918Z",
     "iopub.status.idle": "2024-11-05T03:46:07.148623Z",
     "shell.execute_reply": "2024-11-05T03:46:07.147848Z"
    },
    "papermill": {
     "duration": 0.019124,
     "end_time": "2024-11-05T03:46:07.150606",
     "exception": false,
     "start_time": "2024-11-05T03:46:07.131482",
     "status": "completed"
    },
    "tags": []
   },
   "outputs": [],
   "source": [
    "def get_best_hp_from_tuner(tuner_dir, project_name):\n",
    "    tuner = kt.Hyperband(directory=tuner_dir,\n",
    "                         project_name=project_name,\n",
    "                         overwrite=False)\n",
    "\n",
    "    best_hp = tuner.get_best_hyperparameters()[0].values\n",
    "    return best_hp"
   ]
  },
  {
   "cell_type": "markdown",
   "id": "b71a86a1",
   "metadata": {
    "papermill": {
     "duration": 0.011448,
     "end_time": "2024-11-05T03:46:07.173902",
     "exception": false,
     "start_time": "2024-11-05T03:46:07.162454",
     "status": "completed"
    },
    "tags": []
   },
   "source": [
    "### Base Hyperparameters"
   ]
  },
  {
   "cell_type": "code",
   "execution_count": 8,
   "id": "92048733",
   "metadata": {
    "execution": {
     "iopub.execute_input": "2024-11-05T03:46:07.198321Z",
     "iopub.status.busy": "2024-11-05T03:46:07.198026Z",
     "iopub.status.idle": "2024-11-05T03:46:07.624691Z",
     "shell.execute_reply": "2024-11-05T03:46:07.623770Z"
    },
    "papermill": {
     "duration": 0.441147,
     "end_time": "2024-11-05T03:46:07.626723",
     "exception": false,
     "start_time": "2024-11-05T03:46:07.185576",
     "status": "completed"
    },
    "tags": []
   },
   "outputs": [
    {
     "name": "stdout",
     "output_type": "stream",
     "text": [
      "Reloading Tuner from /kaggle/input/hyperparameter-tuning/tuner_result/base_hp/tuner0.json\n"
     ]
    },
    {
     "data": {
      "text/plain": [
       "{'conv_layers': 4,\n",
       " 'conv_1_filters': 256,\n",
       " 'conv_2_filters': 224,\n",
       " 'conv_3_filters': 256,\n",
       " 'conv_1_kernel_size': 3,\n",
       " 'conv_2_kernel_size': 3,\n",
       " 'conv_3_kernel_size': 3,\n",
       " 'dense_layers': 4,\n",
       " 'dense_1_layer_units': 64,\n",
       " 'dense_2_layer_units': 224,\n",
       " 'learning_rate': 1e-05,\n",
       " 'conv_4_filters': 256,\n",
       " 'conv_4_kernel_size': 7,\n",
       " 'dense_3_layer_units': 224,\n",
       " 'dense_4_layer_units': 224,\n",
       " 'dense_5_layer_units': 224,\n",
       " 'conv_5_filters': 192,\n",
       " 'conv_5_kernel_size': 3,\n",
       " 'tuner/epochs': 20,\n",
       " 'tuner/initial_epoch': 0,\n",
       " 'tuner/bracket': 0,\n",
       " 'tuner/round': 0}"
      ]
     },
     "execution_count": 8,
     "metadata": {},
     "output_type": "execute_result"
    }
   ],
   "source": [
    "best_base_hp = get_best_hp_from_tuner(TUNER_RESULT_DIR, BASE_HP_TUNER_PROJECT_NAME)\n",
    "best_base_hp"
   ]
  },
  {
   "cell_type": "markdown",
   "id": "ecb08fda",
   "metadata": {
    "papermill": {
     "duration": 0.01194,
     "end_time": "2024-11-05T03:46:07.651018",
     "exception": false,
     "start_time": "2024-11-05T03:46:07.639078",
     "status": "completed"
    },
    "tags": []
   },
   "source": [
    "### Dropout Hyperparameter"
   ]
  },
  {
   "cell_type": "code",
   "execution_count": 9,
   "id": "af7af69f",
   "metadata": {
    "execution": {
     "iopub.execute_input": "2024-11-05T03:46:07.676398Z",
     "iopub.status.busy": "2024-11-05T03:46:07.676079Z",
     "iopub.status.idle": "2024-11-05T03:46:07.824558Z",
     "shell.execute_reply": "2024-11-05T03:46:07.823691Z"
    },
    "papermill": {
     "duration": 0.163468,
     "end_time": "2024-11-05T03:46:07.826455",
     "exception": false,
     "start_time": "2024-11-05T03:46:07.662987",
     "status": "completed"
    },
    "tags": []
   },
   "outputs": [
    {
     "name": "stdout",
     "output_type": "stream",
     "text": [
      "Reloading Tuner from /kaggle/input/hyperparameter-tuning/tuner_result/dropout_rate/tuner0.json\n"
     ]
    },
    {
     "data": {
      "text/plain": [
       "{'dropout_rate': 0.65,\n",
       " 'tuner/epochs': 3,\n",
       " 'tuner/initial_epoch': 0,\n",
       " 'tuner/bracket': 2,\n",
       " 'tuner/round': 0}"
      ]
     },
     "execution_count": 9,
     "metadata": {},
     "output_type": "execute_result"
    }
   ],
   "source": [
    "best_dropout_hp = get_best_hp_from_tuner(TUNER_RESULT_DIR, DROPOUT_TUNER_PROJECT_NAME)\n",
    "best_dropout_hp"
   ]
  },
  {
   "cell_type": "markdown",
   "id": "43212960",
   "metadata": {
    "papermill": {
     "duration": 0.012,
     "end_time": "2024-11-05T03:46:07.850737",
     "exception": false,
     "start_time": "2024-11-05T03:46:07.838737",
     "status": "completed"
    },
    "tags": []
   },
   "source": [
    "### Combine All Hyperparameters into a Dict"
   ]
  },
  {
   "cell_type": "code",
   "execution_count": 10,
   "id": "aab571a0",
   "metadata": {
    "execution": {
     "iopub.execute_input": "2024-11-05T03:46:07.876011Z",
     "iopub.status.busy": "2024-11-05T03:46:07.875717Z",
     "iopub.status.idle": "2024-11-05T03:46:07.883323Z",
     "shell.execute_reply": "2024-11-05T03:46:07.882491Z"
    },
    "papermill": {
     "duration": 0.022722,
     "end_time": "2024-11-05T03:46:07.885523",
     "exception": false,
     "start_time": "2024-11-05T03:46:07.862801",
     "status": "completed"
    },
    "tags": []
   },
   "outputs": [
    {
     "name": "stdout",
     "output_type": "stream",
     "text": [
      "Best hyperparameters loaded\n",
      "\n",
      "conv_layers: 4\n",
      "conv_1_filters: 256\n",
      "conv_1_kernel_size: 3\n",
      "conv_2_filters: 224\n",
      "conv_2_kernel_size: 3\n",
      "conv_3_filters: 256\n",
      "conv_3_kernel_size: 3\n",
      "conv_4_filters: 256\n",
      "conv_4_kernel_size: 7\n",
      "dense_layers: 4\n",
      "dense_1_layer_units: 64\n",
      "dense_2_layer_units: 224\n",
      "dense_3_layer_units: 224\n",
      "dense_4_layer_units: 224\n",
      "dropout_rate: 0.65\n",
      "learning_rate: 1e-05\n"
     ]
    }
   ],
   "source": [
    "best_hp = {}\n",
    "\n",
    "best_hp[\"conv_layers\"] = best_base_hp.get(\"conv_layers\")\n",
    "for i in range(best_base_hp.get(\"conv_layers\")):\n",
    "    conv_filter_hp_name = f\"conv_{i+1}_filters\"\n",
    "    conv_kernel_size_hp_name = f\"conv_{i+1}_kernel_size\"\n",
    "    best_hp[conv_filter_hp_name] = best_base_hp.get(conv_filter_hp_name)\n",
    "    best_hp[conv_kernel_size_hp_name] = best_base_hp.get(conv_kernel_size_hp_name)\n",
    "\n",
    "best_hp[\"dense_layers\"] = best_base_hp.get(\"dense_layers\")\n",
    "for i in range(best_base_hp.get(\"dense_layers\")):\n",
    "    dense_unit_hp_name = f\"dense_{i+1}_layer_units\"\n",
    "    best_hp[dense_unit_hp_name] = best_base_hp.get(dense_unit_hp_name)\n",
    "\n",
    "best_hp[\"dropout_rate\"] = best_dropout_hp.get(\"dropout_rate\")\n",
    "best_hp[\"learning_rate\"] = best_base_hp.get(\"learning_rate\")\n",
    "\n",
    "print(\"Best hyperparameters loaded\\n\")\n",
    "for key in best_hp:\n",
    "    print(f\"{key}: {best_hp[key]}\")"
   ]
  },
  {
   "cell_type": "markdown",
   "id": "19eb3dfd",
   "metadata": {
    "papermill": {
     "duration": 0.012228,
     "end_time": "2024-11-05T03:46:07.910105",
     "exception": false,
     "start_time": "2024-11-05T03:46:07.897877",
     "status": "completed"
    },
    "tags": []
   },
   "source": [
    "## Function to Create an EfficientNet Model"
   ]
  },
  {
   "cell_type": "code",
   "execution_count": 11,
   "id": "83a477e9",
   "metadata": {
    "execution": {
     "iopub.execute_input": "2024-11-05T03:46:07.936006Z",
     "iopub.status.busy": "2024-11-05T03:46:07.935723Z",
     "iopub.status.idle": "2024-11-05T03:46:07.943454Z",
     "shell.execute_reply": "2024-11-05T03:46:07.942633Z"
    },
    "papermill": {
     "duration": 0.022925,
     "end_time": "2024-11-05T03:46:07.945315",
     "exception": false,
     "start_time": "2024-11-05T03:46:07.922390",
     "status": "completed"
    },
    "scrolled": true,
    "tags": []
   },
   "outputs": [],
   "source": [
    "def create_efficientnet_model(hp, dropout=False):\n",
    "    base_model = EfficientNetB7(include_top=False, weights=\"imagenet\", input_shape=(128, 128, 3))\n",
    "    for layer in base_model.layers:\n",
    "        layer.trainable = False\n",
    "\n",
    "    model = tf.keras.Sequential()\n",
    "    model.add(base_model)\n",
    "\n",
    "    model.add(tf.keras.layers.Flatten())\n",
    "\n",
    "    for i in range(hp.get(\"dense_layers\")):\n",
    "        dense_units = hp.get(f\"dense_{i+1}_layer_units\")\n",
    "        model.add(tf.keras.layers.Dense(dense_units, activation=\"relu\"))\n",
    "\n",
    "    if dropout:\n",
    "        model.add(tf.keras.layers.Dropout(hp.get(\"dropout_rate\")))\n",
    "\n",
    "    model.add(tf.keras.layers.Dense(1, activation=\"sigmoid\"))\n",
    "\n",
    "    model.compile(\n",
    "        optimizer=tf.keras.optimizers.Adam(learning_rate=hp.get(\"learning_rate\")),\n",
    "        loss=tf.keras.losses.BinaryCrossentropy(),\n",
    "        metrics=[\"accuracy\"]\n",
    "    )\n",
    "\n",
    "    return model"
   ]
  },
  {
   "cell_type": "markdown",
   "id": "a0ade9e8",
   "metadata": {
    "papermill": {
     "duration": 0.01235,
     "end_time": "2024-11-05T03:46:07.970010",
     "exception": false,
     "start_time": "2024-11-05T03:46:07.957660",
     "status": "completed"
    },
    "tags": []
   },
   "source": [
    "## Function to Plot Train Results"
   ]
  },
  {
   "cell_type": "code",
   "execution_count": 12,
   "id": "ddec618d",
   "metadata": {
    "execution": {
     "iopub.execute_input": "2024-11-05T03:46:07.996008Z",
     "iopub.status.busy": "2024-11-05T03:46:07.995725Z",
     "iopub.status.idle": "2024-11-05T03:46:08.002599Z",
     "shell.execute_reply": "2024-11-05T03:46:08.001884Z"
    },
    "papermill": {
     "duration": 0.022089,
     "end_time": "2024-11-05T03:46:08.004459",
     "exception": false,
     "start_time": "2024-11-05T03:46:07.982370",
     "status": "completed"
    },
    "tags": []
   },
   "outputs": [],
   "source": [
    "def plot_train_result(history, title=\"Training Result\"):\n",
    "    plt.figure(figsize=(12, 4))\n",
    "    plt.subplots_adjust(top=0.8)\n",
    "    plt.suptitle(title)\n",
    "\n",
    "    plt.subplot(1, 2, 1)\n",
    "    plt.plot(history[\"accuracy\"], label=\"Train\")\n",
    "    plt.plot(history[\"val_accuracy\"], label=\"Val\")\n",
    "    plt.title(\"Training and Validation Accuracy\")\n",
    "    plt.xlabel(\"Epoch\")\n",
    "    plt.ylabel(\"Accuracy\")\n",
    "    plt.legend()\n",
    "\n",
    "    plt.subplot(1, 2, 2)\n",
    "    plt.plot(history[\"loss\"], label=\"Train\")\n",
    "    plt.plot(history[\"val_loss\"], label=\"Val\")\n",
    "    plt.title(\"Training and Validation Loss\")\n",
    "    plt.xlabel(\"Epoch\")\n",
    "    plt.ylabel(\"Loss\")\n",
    "    plt.legend()\n",
    "\n",
    "    plt.show()"
   ]
  },
  {
   "cell_type": "markdown",
   "id": "115e5593",
   "metadata": {
    "papermill": {
     "duration": 0.012164,
     "end_time": "2024-11-05T03:46:08.029060",
     "exception": false,
     "start_time": "2024-11-05T03:46:08.016896",
     "status": "completed"
    },
    "tags": []
   },
   "source": [
    "## Function to Save Model Training History"
   ]
  },
  {
   "cell_type": "code",
   "execution_count": 13,
   "id": "fb643018",
   "metadata": {
    "execution": {
     "iopub.execute_input": "2024-11-05T03:46:08.054855Z",
     "iopub.status.busy": "2024-11-05T03:46:08.054538Z",
     "iopub.status.idle": "2024-11-05T03:46:08.059510Z",
     "shell.execute_reply": "2024-11-05T03:46:08.058700Z"
    },
    "papermill": {
     "duration": 0.019944,
     "end_time": "2024-11-05T03:46:08.061335",
     "exception": false,
     "start_time": "2024-11-05T03:46:08.041391",
     "status": "completed"
    },
    "tags": []
   },
   "outputs": [],
   "source": [
    "def save_model_and_history(model, history, model_name):\n",
    "    model_filename = f\"{model_name}_model.keras\"\n",
    "    history_filename = f\"{model_name}_history.pkl\"\n",
    "\n",
    "    model.save(model_filename)\n",
    "    print(f\"Model saved at {model_filename}\")    \n",
    "\n",
    "    with open(history_filename, \"wb\") as f:\n",
    "        pickle.dump(history.history, f)\n",
    "        print(f\"Training history saved at {history_filename}\")"
   ]
  },
  {
   "cell_type": "markdown",
   "id": "869de499",
   "metadata": {
    "papermill": {
     "duration": 0.01231,
     "end_time": "2024-11-05T03:46:08.086137",
     "exception": false,
     "start_time": "2024-11-05T03:46:08.073827",
     "status": "completed"
    },
    "tags": []
   },
   "source": [
    "## Model Training"
   ]
  },
  {
   "cell_type": "code",
   "execution_count": 14,
   "id": "44bdb73d",
   "metadata": {
    "execution": {
     "iopub.execute_input": "2024-11-05T03:46:08.112106Z",
     "iopub.status.busy": "2024-11-05T03:46:08.111844Z",
     "iopub.status.idle": "2024-11-05T03:46:08.115503Z",
     "shell.execute_reply": "2024-11-05T03:46:08.114686Z"
    },
    "papermill": {
     "duration": 0.018858,
     "end_time": "2024-11-05T03:46:08.117451",
     "exception": false,
     "start_time": "2024-11-05T03:46:08.098593",
     "status": "completed"
    },
    "tags": []
   },
   "outputs": [],
   "source": [
    "NUM_EPOCHS = 50"
   ]
  },
  {
   "cell_type": "markdown",
   "id": "fda9ec7a",
   "metadata": {
    "papermill": {
     "duration": 0.012394,
     "end_time": "2024-11-05T03:46:08.142519",
     "exception": false,
     "start_time": "2024-11-05T03:46:08.130125",
     "status": "completed"
    },
    "tags": []
   },
   "source": [
    "### Baseline EfficientNet"
   ]
  },
  {
   "cell_type": "markdown",
   "id": "d3996abf",
   "metadata": {
    "papermill": {
     "duration": 0.012304,
     "end_time": "2024-11-05T03:46:08.167481",
     "exception": false,
     "start_time": "2024-11-05T03:46:08.155177",
     "status": "completed"
    },
    "tags": []
   },
   "source": [
    "#### Celeb-DF-v2 Dataset"
   ]
  },
  {
   "cell_type": "code",
   "execution_count": 15,
   "id": "af60220f",
   "metadata": {
    "execution": {
     "iopub.execute_input": "2024-11-05T03:46:08.194207Z",
     "iopub.status.busy": "2024-11-05T03:46:08.193931Z",
     "iopub.status.idle": "2024-11-05T03:46:15.195135Z",
     "shell.execute_reply": "2024-11-05T03:46:15.194268Z"
    },
    "papermill": {
     "duration": 7.016737,
     "end_time": "2024-11-05T03:46:15.197142",
     "exception": false,
     "start_time": "2024-11-05T03:46:08.180405",
     "status": "completed"
    },
    "tags": []
   },
   "outputs": [
    {
     "name": "stdout",
     "output_type": "stream",
     "text": [
      "Downloading data from https://storage.googleapis.com/keras-applications/efficientnetb7_notop.h5\n",
      "\u001b[1m258076736/258076736\u001b[0m \u001b[32m━━━━━━━━━━━━━━━━━━━━\u001b[0m\u001b[37m\u001b[0m \u001b[1m1s\u001b[0m 0us/step\n"
     ]
    },
    {
     "data": {
      "text/html": [
       "<pre style=\"white-space:pre;overflow-x:auto;line-height:normal;font-family:Menlo,'DejaVu Sans Mono',consolas,'Courier New',monospace\"><span style=\"font-weight: bold\">Model: \"sequential\"</span>\n",
       "</pre>\n"
      ],
      "text/plain": [
       "\u001b[1mModel: \"sequential\"\u001b[0m\n"
      ]
     },
     "metadata": {},
     "output_type": "display_data"
    },
    {
     "data": {
      "text/html": [
       "<pre style=\"white-space:pre;overflow-x:auto;line-height:normal;font-family:Menlo,'DejaVu Sans Mono',consolas,'Courier New',monospace\">┏━━━━━━━━━━━━━━━━━━━━━━━━━━━━━━━━━┳━━━━━━━━━━━━━━━━━━━━━━━━┳━━━━━━━━━━━━━━━┓\n",
       "┃<span style=\"font-weight: bold\"> Layer (type)                    </span>┃<span style=\"font-weight: bold\"> Output Shape           </span>┃<span style=\"font-weight: bold\">       Param # </span>┃\n",
       "┡━━━━━━━━━━━━━━━━━━━━━━━━━━━━━━━━━╇━━━━━━━━━━━━━━━━━━━━━━━━╇━━━━━━━━━━━━━━━┩\n",
       "│ efficientnetb7 (<span style=\"color: #0087ff; text-decoration-color: #0087ff\">Functional</span>)     │ ?                      │    <span style=\"color: #00af00; text-decoration-color: #00af00\">64,097,687</span> │\n",
       "├─────────────────────────────────┼────────────────────────┼───────────────┤\n",
       "│ flatten (<span style=\"color: #0087ff; text-decoration-color: #0087ff\">Flatten</span>)               │ ?                      │   <span style=\"color: #00af00; text-decoration-color: #00af00\">0</span> (unbuilt) │\n",
       "├─────────────────────────────────┼────────────────────────┼───────────────┤\n",
       "│ dense (<span style=\"color: #0087ff; text-decoration-color: #0087ff\">Dense</span>)                   │ ?                      │   <span style=\"color: #00af00; text-decoration-color: #00af00\">0</span> (unbuilt) │\n",
       "├─────────────────────────────────┼────────────────────────┼───────────────┤\n",
       "│ dense_1 (<span style=\"color: #0087ff; text-decoration-color: #0087ff\">Dense</span>)                 │ ?                      │   <span style=\"color: #00af00; text-decoration-color: #00af00\">0</span> (unbuilt) │\n",
       "├─────────────────────────────────┼────────────────────────┼───────────────┤\n",
       "│ dense_2 (<span style=\"color: #0087ff; text-decoration-color: #0087ff\">Dense</span>)                 │ ?                      │   <span style=\"color: #00af00; text-decoration-color: #00af00\">0</span> (unbuilt) │\n",
       "├─────────────────────────────────┼────────────────────────┼───────────────┤\n",
       "│ dense_3 (<span style=\"color: #0087ff; text-decoration-color: #0087ff\">Dense</span>)                 │ ?                      │   <span style=\"color: #00af00; text-decoration-color: #00af00\">0</span> (unbuilt) │\n",
       "├─────────────────────────────────┼────────────────────────┼───────────────┤\n",
       "│ dense_4 (<span style=\"color: #0087ff; text-decoration-color: #0087ff\">Dense</span>)                 │ ?                      │   <span style=\"color: #00af00; text-decoration-color: #00af00\">0</span> (unbuilt) │\n",
       "└─────────────────────────────────┴────────────────────────┴───────────────┘\n",
       "</pre>\n"
      ],
      "text/plain": [
       "┏━━━━━━━━━━━━━━━━━━━━━━━━━━━━━━━━━┳━━━━━━━━━━━━━━━━━━━━━━━━┳━━━━━━━━━━━━━━━┓\n",
       "┃\u001b[1m \u001b[0m\u001b[1mLayer (type)                   \u001b[0m\u001b[1m \u001b[0m┃\u001b[1m \u001b[0m\u001b[1mOutput Shape          \u001b[0m\u001b[1m \u001b[0m┃\u001b[1m \u001b[0m\u001b[1m      Param #\u001b[0m\u001b[1m \u001b[0m┃\n",
       "┡━━━━━━━━━━━━━━━━━━━━━━━━━━━━━━━━━╇━━━━━━━━━━━━━━━━━━━━━━━━╇━━━━━━━━━━━━━━━┩\n",
       "│ efficientnetb7 (\u001b[38;5;33mFunctional\u001b[0m)     │ ?                      │    \u001b[38;5;34m64,097,687\u001b[0m │\n",
       "├─────────────────────────────────┼────────────────────────┼───────────────┤\n",
       "│ flatten (\u001b[38;5;33mFlatten\u001b[0m)               │ ?                      │   \u001b[38;5;34m0\u001b[0m (unbuilt) │\n",
       "├─────────────────────────────────┼────────────────────────┼───────────────┤\n",
       "│ dense (\u001b[38;5;33mDense\u001b[0m)                   │ ?                      │   \u001b[38;5;34m0\u001b[0m (unbuilt) │\n",
       "├─────────────────────────────────┼────────────────────────┼───────────────┤\n",
       "│ dense_1 (\u001b[38;5;33mDense\u001b[0m)                 │ ?                      │   \u001b[38;5;34m0\u001b[0m (unbuilt) │\n",
       "├─────────────────────────────────┼────────────────────────┼───────────────┤\n",
       "│ dense_2 (\u001b[38;5;33mDense\u001b[0m)                 │ ?                      │   \u001b[38;5;34m0\u001b[0m (unbuilt) │\n",
       "├─────────────────────────────────┼────────────────────────┼───────────────┤\n",
       "│ dense_3 (\u001b[38;5;33mDense\u001b[0m)                 │ ?                      │   \u001b[38;5;34m0\u001b[0m (unbuilt) │\n",
       "├─────────────────────────────────┼────────────────────────┼───────────────┤\n",
       "│ dense_4 (\u001b[38;5;33mDense\u001b[0m)                 │ ?                      │   \u001b[38;5;34m0\u001b[0m (unbuilt) │\n",
       "└─────────────────────────────────┴────────────────────────┴───────────────┘\n"
      ]
     },
     "metadata": {},
     "output_type": "display_data"
    },
    {
     "data": {
      "text/html": [
       "<pre style=\"white-space:pre;overflow-x:auto;line-height:normal;font-family:Menlo,'DejaVu Sans Mono',consolas,'Courier New',monospace\"><span style=\"font-weight: bold\"> Total params: </span><span style=\"color: #00af00; text-decoration-color: #00af00\">64,097,687</span> (244.51 MB)\n",
       "</pre>\n"
      ],
      "text/plain": [
       "\u001b[1m Total params: \u001b[0m\u001b[38;5;34m64,097,687\u001b[0m (244.51 MB)\n"
      ]
     },
     "metadata": {},
     "output_type": "display_data"
    },
    {
     "data": {
      "text/html": [
       "<pre style=\"white-space:pre;overflow-x:auto;line-height:normal;font-family:Menlo,'DejaVu Sans Mono',consolas,'Courier New',monospace\"><span style=\"font-weight: bold\"> Trainable params: </span><span style=\"color: #00af00; text-decoration-color: #00af00\">0</span> (0.00 B)\n",
       "</pre>\n"
      ],
      "text/plain": [
       "\u001b[1m Trainable params: \u001b[0m\u001b[38;5;34m0\u001b[0m (0.00 B)\n"
      ]
     },
     "metadata": {},
     "output_type": "display_data"
    },
    {
     "data": {
      "text/html": [
       "<pre style=\"white-space:pre;overflow-x:auto;line-height:normal;font-family:Menlo,'DejaVu Sans Mono',consolas,'Courier New',monospace\"><span style=\"font-weight: bold\"> Non-trainable params: </span><span style=\"color: #00af00; text-decoration-color: #00af00\">64,097,687</span> (244.51 MB)\n",
       "</pre>\n"
      ],
      "text/plain": [
       "\u001b[1m Non-trainable params: \u001b[0m\u001b[38;5;34m64,097,687\u001b[0m (244.51 MB)\n"
      ]
     },
     "metadata": {},
     "output_type": "display_data"
    }
   ],
   "source": [
    "baseline_efficientnet_cdf_model = create_efficientnet_model(best_hp)\n",
    "baseline_efficientnet_cdf_model.summary()"
   ]
  },
  {
   "cell_type": "code",
   "execution_count": 16,
   "id": "aa90bac6",
   "metadata": {
    "execution": {
     "iopub.execute_input": "2024-11-05T03:46:15.229732Z",
     "iopub.status.busy": "2024-11-05T03:46:15.229378Z",
     "iopub.status.idle": "2024-11-05T04:22:32.519116Z",
     "shell.execute_reply": "2024-11-05T04:22:32.518238Z"
    },
    "papermill": {
     "duration": 2177.308253,
     "end_time": "2024-11-05T04:22:32.521328",
     "exception": false,
     "start_time": "2024-11-05T03:46:15.213075",
     "status": "completed"
    },
    "tags": []
   },
   "outputs": [
    {
     "name": "stdout",
     "output_type": "stream",
     "text": [
      "Epoch 1/50\n"
     ]
    },
    {
     "name": "stderr",
     "output_type": "stream",
     "text": [
      "/opt/conda/lib/python3.10/site-packages/keras/src/trainers/data_adapters/py_dataset_adapter.py:121: UserWarning: Your `PyDataset` class should call `super().__init__(**kwargs)` in its constructor. `**kwargs` can include `workers`, `use_multiprocessing`, `max_queue_size`. Do not pass these arguments to `fit()`, as they will be ignored.\n",
      "  self._warn_if_super_not_called()\n",
      "WARNING: All log messages before absl::InitializeLog() is called are written to STDERR\n",
      "I0000 00:00:1730778411.569663     256 service.cc:145] XLA service 0x7dc53c0049a0 initialized for platform CUDA (this does not guarantee that XLA will be used). Devices:\n",
      "I0000 00:00:1730778411.569726     256 service.cc:153]   StreamExecutor device (0): Tesla P100-PCIE-16GB, Compute Capability 6.0\n"
     ]
    },
    {
     "name": "stdout",
     "output_type": "stream",
     "text": [
      "\u001b[1m  2/438\u001b[0m \u001b[37m━━━━━━━━━━━━━━━━━━━━\u001b[0m \u001b[1m35s\u001b[0m 82ms/step - accuracy: 0.4609 - loss: 0.6940     "
     ]
    },
    {
     "name": "stderr",
     "output_type": "stream",
     "text": [
      "I0000 00:00:1730778504.569549     256 device_compiler.h:188] Compiled cluster using XLA!  This line is logged at most once for the lifetime of the process.\n"
     ]
    },
    {
     "name": "stdout",
     "output_type": "stream",
     "text": [
      "\u001b[1m438/438\u001b[0m \u001b[32m━━━━━━━━━━━━━━━━━━━━\u001b[0m\u001b[37m\u001b[0m \u001b[1m318s\u001b[0m 432ms/step - accuracy: 0.5715 - loss: 0.6771 - val_accuracy: 0.5580 - val_loss: 0.6818\n",
      "Epoch 2/50\n",
      "\u001b[1m438/438\u001b[0m \u001b[32m━━━━━━━━━━━━━━━━━━━━\u001b[0m\u001b[37m\u001b[0m \u001b[1m37s\u001b[0m 83ms/step - accuracy: 0.7052 - loss: 0.5832 - val_accuracy: 0.6080 - val_loss: 0.7304\n",
      "Epoch 3/50\n",
      "\u001b[1m438/438\u001b[0m \u001b[32m━━━━━━━━━━━━━━━━━━━━\u001b[0m\u001b[37m\u001b[0m \u001b[1m37s\u001b[0m 83ms/step - accuracy: 0.7709 - loss: 0.4915 - val_accuracy: 0.5870 - val_loss: 0.8326\n",
      "Epoch 4/50\n",
      "\u001b[1m438/438\u001b[0m \u001b[32m━━━━━━━━━━━━━━━━━━━━\u001b[0m\u001b[37m\u001b[0m \u001b[1m36s\u001b[0m 82ms/step - accuracy: 0.8245 - loss: 0.4151 - val_accuracy: 0.6035 - val_loss: 0.9066\n",
      "Epoch 5/50\n",
      "\u001b[1m438/438\u001b[0m \u001b[32m━━━━━━━━━━━━━━━━━━━━\u001b[0m\u001b[37m\u001b[0m \u001b[1m37s\u001b[0m 83ms/step - accuracy: 0.8477 - loss: 0.3632 - val_accuracy: 0.6210 - val_loss: 0.9578\n",
      "Epoch 6/50\n",
      "\u001b[1m438/438\u001b[0m \u001b[32m━━━━━━━━━━━━━━━━━━━━\u001b[0m\u001b[37m\u001b[0m \u001b[1m36s\u001b[0m 82ms/step - accuracy: 0.8754 - loss: 0.3162 - val_accuracy: 0.6140 - val_loss: 1.0334\n",
      "Epoch 7/50\n",
      "\u001b[1m438/438\u001b[0m \u001b[32m━━━━━━━━━━━━━━━━━━━━\u001b[0m\u001b[37m\u001b[0m \u001b[1m37s\u001b[0m 83ms/step - accuracy: 0.8799 - loss: 0.2941 - val_accuracy: 0.6065 - val_loss: 1.0967\n",
      "Epoch 8/50\n",
      "\u001b[1m438/438\u001b[0m \u001b[32m━━━━━━━━━━━━━━━━━━━━\u001b[0m\u001b[37m\u001b[0m \u001b[1m37s\u001b[0m 85ms/step - accuracy: 0.8950 - loss: 0.2606 - val_accuracy: 0.5850 - val_loss: 1.1812\n",
      "Epoch 9/50\n",
      "\u001b[1m438/438\u001b[0m \u001b[32m━━━━━━━━━━━━━━━━━━━━\u001b[0m\u001b[37m\u001b[0m \u001b[1m37s\u001b[0m 84ms/step - accuracy: 0.9168 - loss: 0.2235 - val_accuracy: 0.5790 - val_loss: 1.3028\n",
      "Epoch 10/50\n",
      "\u001b[1m438/438\u001b[0m \u001b[32m━━━━━━━━━━━━━━━━━━━━\u001b[0m\u001b[37m\u001b[0m \u001b[1m37s\u001b[0m 84ms/step - accuracy: 0.9218 - loss: 0.2118 - val_accuracy: 0.5795 - val_loss: 1.3442\n",
      "Epoch 11/50\n",
      "\u001b[1m438/438\u001b[0m \u001b[32m━━━━━━━━━━━━━━━━━━━━\u001b[0m\u001b[37m\u001b[0m \u001b[1m38s\u001b[0m 85ms/step - accuracy: 0.9269 - loss: 0.1943 - val_accuracy: 0.6090 - val_loss: 1.4385\n",
      "Epoch 12/50\n",
      "\u001b[1m438/438\u001b[0m \u001b[32m━━━━━━━━━━━━━━━━━━━━\u001b[0m\u001b[37m\u001b[0m \u001b[1m37s\u001b[0m 84ms/step - accuracy: 0.9306 - loss: 0.1843 - val_accuracy: 0.5850 - val_loss: 1.5219\n",
      "Epoch 13/50\n",
      "\u001b[1m438/438\u001b[0m \u001b[32m━━━━━━━━━━━━━━━━━━━━\u001b[0m\u001b[37m\u001b[0m \u001b[1m37s\u001b[0m 84ms/step - accuracy: 0.9355 - loss: 0.1658 - val_accuracy: 0.5845 - val_loss: 1.6221\n",
      "Epoch 14/50\n",
      "\u001b[1m438/438\u001b[0m \u001b[32m━━━━━━━━━━━━━━━━━━━━\u001b[0m\u001b[37m\u001b[0m \u001b[1m37s\u001b[0m 83ms/step - accuracy: 0.9484 - loss: 0.1463 - val_accuracy: 0.5880 - val_loss: 1.6501\n",
      "Epoch 15/50\n",
      "\u001b[1m438/438\u001b[0m \u001b[32m━━━━━━━━━━━━━━━━━━━━\u001b[0m\u001b[37m\u001b[0m \u001b[1m37s\u001b[0m 83ms/step - accuracy: 0.9469 - loss: 0.1418 - val_accuracy: 0.5855 - val_loss: 1.6067\n",
      "Epoch 16/50\n",
      "\u001b[1m438/438\u001b[0m \u001b[32m━━━━━━━━━━━━━━━━━━━━\u001b[0m\u001b[37m\u001b[0m \u001b[1m37s\u001b[0m 83ms/step - accuracy: 0.9537 - loss: 0.1238 - val_accuracy: 0.5925 - val_loss: 1.7455\n",
      "Epoch 17/50\n",
      "\u001b[1m438/438\u001b[0m \u001b[32m━━━━━━━━━━━━━━━━━━━━\u001b[0m\u001b[37m\u001b[0m \u001b[1m41s\u001b[0m 83ms/step - accuracy: 0.9534 - loss: 0.1262 - val_accuracy: 0.5845 - val_loss: 1.8080\n",
      "Epoch 18/50\n",
      "\u001b[1m438/438\u001b[0m \u001b[32m━━━━━━━━━━━━━━━━━━━━\u001b[0m\u001b[37m\u001b[0m \u001b[1m41s\u001b[0m 82ms/step - accuracy: 0.9620 - loss: 0.1073 - val_accuracy: 0.5975 - val_loss: 1.7500\n",
      "Epoch 19/50\n",
      "\u001b[1m438/438\u001b[0m \u001b[32m━━━━━━━━━━━━━━━━━━━━\u001b[0m\u001b[37m\u001b[0m \u001b[1m41s\u001b[0m 83ms/step - accuracy: 0.9628 - loss: 0.1032 - val_accuracy: 0.5945 - val_loss: 1.8696\n",
      "Epoch 20/50\n",
      "\u001b[1m438/438\u001b[0m \u001b[32m━━━━━━━━━━━━━━━━━━━━\u001b[0m\u001b[37m\u001b[0m \u001b[1m37s\u001b[0m 83ms/step - accuracy: 0.9647 - loss: 0.0981 - val_accuracy: 0.5940 - val_loss: 2.1209\n",
      "Epoch 21/50\n",
      "\u001b[1m438/438\u001b[0m \u001b[32m━━━━━━━━━━━━━━━━━━━━\u001b[0m\u001b[37m\u001b[0m \u001b[1m37s\u001b[0m 83ms/step - accuracy: 0.9651 - loss: 0.0934 - val_accuracy: 0.5900 - val_loss: 1.9747\n",
      "Epoch 22/50\n",
      "\u001b[1m438/438\u001b[0m \u001b[32m━━━━━━━━━━━━━━━━━━━━\u001b[0m\u001b[37m\u001b[0m \u001b[1m37s\u001b[0m 84ms/step - accuracy: 0.9678 - loss: 0.0901 - val_accuracy: 0.5805 - val_loss: 2.0716\n",
      "Epoch 23/50\n",
      "\u001b[1m438/438\u001b[0m \u001b[32m━━━━━━━━━━━━━━━━━━━━\u001b[0m\u001b[37m\u001b[0m \u001b[1m37s\u001b[0m 84ms/step - accuracy: 0.9675 - loss: 0.0907 - val_accuracy: 0.5905 - val_loss: 2.0617\n",
      "Epoch 24/50\n",
      "\u001b[1m438/438\u001b[0m \u001b[32m━━━━━━━━━━━━━━━━━━━━\u001b[0m\u001b[37m\u001b[0m \u001b[1m37s\u001b[0m 83ms/step - accuracy: 0.9742 - loss: 0.0775 - val_accuracy: 0.5775 - val_loss: 2.0798\n",
      "Epoch 25/50\n",
      "\u001b[1m438/438\u001b[0m \u001b[32m━━━━━━━━━━━━━━━━━━━━\u001b[0m\u001b[37m\u001b[0m \u001b[1m41s\u001b[0m 84ms/step - accuracy: 0.9730 - loss: 0.0774 - val_accuracy: 0.5820 - val_loss: 2.0706\n",
      "Epoch 26/50\n",
      "\u001b[1m438/438\u001b[0m \u001b[32m━━━━━━━━━━━━━━━━━━━━\u001b[0m\u001b[37m\u001b[0m \u001b[1m41s\u001b[0m 84ms/step - accuracy: 0.9761 - loss: 0.0672 - val_accuracy: 0.5745 - val_loss: 2.2773\n",
      "Epoch 27/50\n",
      "\u001b[1m438/438\u001b[0m \u001b[32m━━━━━━━━━━━━━━━━━━━━\u001b[0m\u001b[37m\u001b[0m \u001b[1m37s\u001b[0m 84ms/step - accuracy: 0.9733 - loss: 0.0686 - val_accuracy: 0.5800 - val_loss: 2.2459\n",
      "Epoch 28/50\n",
      "\u001b[1m438/438\u001b[0m \u001b[32m━━━━━━━━━━━━━━━━━━━━\u001b[0m\u001b[37m\u001b[0m \u001b[1m38s\u001b[0m 85ms/step - accuracy: 0.9778 - loss: 0.0677 - val_accuracy: 0.5790 - val_loss: 2.3736\n",
      "Epoch 29/50\n",
      "\u001b[1m438/438\u001b[0m \u001b[32m━━━━━━━━━━━━━━━━━━━━\u001b[0m\u001b[37m\u001b[0m \u001b[1m41s\u001b[0m 85ms/step - accuracy: 0.9769 - loss: 0.0642 - val_accuracy: 0.5745 - val_loss: 2.4208\n",
      "Epoch 30/50\n",
      "\u001b[1m438/438\u001b[0m \u001b[32m━━━━━━━━━━━━━━━━━━━━\u001b[0m\u001b[37m\u001b[0m \u001b[1m37s\u001b[0m 85ms/step - accuracy: 0.9736 - loss: 0.0693 - val_accuracy: 0.5805 - val_loss: 2.4797\n",
      "Epoch 31/50\n",
      "\u001b[1m438/438\u001b[0m \u001b[32m━━━━━━━━━━━━━━━━━━━━\u001b[0m\u001b[37m\u001b[0m \u001b[1m37s\u001b[0m 85ms/step - accuracy: 0.9769 - loss: 0.0641 - val_accuracy: 0.5810 - val_loss: 2.5314\n",
      "Epoch 32/50\n",
      "\u001b[1m438/438\u001b[0m \u001b[32m━━━━━━━━━━━━━━━━━━━━\u001b[0m\u001b[37m\u001b[0m \u001b[1m38s\u001b[0m 85ms/step - accuracy: 0.9772 - loss: 0.0620 - val_accuracy: 0.5850 - val_loss: 2.5439\n",
      "Epoch 33/50\n",
      "\u001b[1m438/438\u001b[0m \u001b[32m━━━━━━━━━━━━━━━━━━━━\u001b[0m\u001b[37m\u001b[0m \u001b[1m38s\u001b[0m 85ms/step - accuracy: 0.9816 - loss: 0.0513 - val_accuracy: 0.5915 - val_loss: 2.3099\n",
      "Epoch 34/50\n",
      "\u001b[1m438/438\u001b[0m \u001b[32m━━━━━━━━━━━━━━━━━━━━\u001b[0m\u001b[37m\u001b[0m \u001b[1m38s\u001b[0m 86ms/step - accuracy: 0.9791 - loss: 0.0587 - val_accuracy: 0.5860 - val_loss: 2.3205\n",
      "Epoch 35/50\n",
      "\u001b[1m438/438\u001b[0m \u001b[32m━━━━━━━━━━━━━━━━━━━━\u001b[0m\u001b[37m\u001b[0m \u001b[1m38s\u001b[0m 85ms/step - accuracy: 0.9811 - loss: 0.0528 - val_accuracy: 0.5805 - val_loss: 2.5716\n",
      "Epoch 36/50\n",
      "\u001b[1m438/438\u001b[0m \u001b[32m━━━━━━━━━━━━━━━━━━━━\u001b[0m\u001b[37m\u001b[0m \u001b[1m38s\u001b[0m 85ms/step - accuracy: 0.9840 - loss: 0.0462 - val_accuracy: 0.5875 - val_loss: 2.5955\n",
      "Epoch 37/50\n",
      "\u001b[1m438/438\u001b[0m \u001b[32m━━━━━━━━━━━━━━━━━━━━\u001b[0m\u001b[37m\u001b[0m \u001b[1m38s\u001b[0m 85ms/step - accuracy: 0.9763 - loss: 0.0602 - val_accuracy: 0.5820 - val_loss: 2.5456\n",
      "Epoch 38/50\n",
      "\u001b[1m438/438\u001b[0m \u001b[32m━━━━━━━━━━━━━━━━━━━━\u001b[0m\u001b[37m\u001b[0m \u001b[1m41s\u001b[0m 85ms/step - accuracy: 0.9775 - loss: 0.0574 - val_accuracy: 0.5850 - val_loss: 2.5692\n",
      "Epoch 39/50\n",
      "\u001b[1m438/438\u001b[0m \u001b[32m━━━━━━━━━━━━━━━━━━━━\u001b[0m\u001b[37m\u001b[0m \u001b[1m38s\u001b[0m 85ms/step - accuracy: 0.9860 - loss: 0.0419 - val_accuracy: 0.5835 - val_loss: 2.5918\n",
      "Epoch 40/50\n",
      "\u001b[1m438/438\u001b[0m \u001b[32m━━━━━━━━━━━━━━━━━━━━\u001b[0m\u001b[37m\u001b[0m \u001b[1m37s\u001b[0m 85ms/step - accuracy: 0.9837 - loss: 0.0457 - val_accuracy: 0.5985 - val_loss: 2.4471\n",
      "Epoch 41/50\n",
      "\u001b[1m438/438\u001b[0m \u001b[32m━━━━━━━━━━━━━━━━━━━━\u001b[0m\u001b[37m\u001b[0m \u001b[1m41s\u001b[0m 85ms/step - accuracy: 0.9853 - loss: 0.0430 - val_accuracy: 0.5890 - val_loss: 2.5639\n",
      "Epoch 42/50\n",
      "\u001b[1m438/438\u001b[0m \u001b[32m━━━━━━━━━━━━━━━━━━━━\u001b[0m\u001b[37m\u001b[0m \u001b[1m38s\u001b[0m 85ms/step - accuracy: 0.9864 - loss: 0.0397 - val_accuracy: 0.6055 - val_loss: 2.7085\n",
      "Epoch 43/50\n",
      "\u001b[1m438/438\u001b[0m \u001b[32m━━━━━━━━━━━━━━━━━━━━\u001b[0m\u001b[37m\u001b[0m \u001b[1m38s\u001b[0m 85ms/step - accuracy: 0.9833 - loss: 0.0449 - val_accuracy: 0.6055 - val_loss: 2.6732\n",
      "Epoch 44/50\n",
      "\u001b[1m438/438\u001b[0m \u001b[32m━━━━━━━━━━━━━━━━━━━━\u001b[0m\u001b[37m\u001b[0m \u001b[1m41s\u001b[0m 85ms/step - accuracy: 0.9870 - loss: 0.0375 - val_accuracy: 0.5820 - val_loss: 2.8797\n",
      "Epoch 45/50\n",
      "\u001b[1m438/438\u001b[0m \u001b[32m━━━━━━━━━━━━━━━━━━━━\u001b[0m\u001b[37m\u001b[0m \u001b[1m38s\u001b[0m 85ms/step - accuracy: 0.9844 - loss: 0.0421 - val_accuracy: 0.5945 - val_loss: 2.6837\n",
      "Epoch 46/50\n",
      "\u001b[1m438/438\u001b[0m \u001b[32m━━━━━━━━━━━━━━━━━━━━\u001b[0m\u001b[37m\u001b[0m \u001b[1m38s\u001b[0m 85ms/step - accuracy: 0.9875 - loss: 0.0325 - val_accuracy: 0.5895 - val_loss: 2.8642\n",
      "Epoch 47/50\n",
      "\u001b[1m438/438\u001b[0m \u001b[32m━━━━━━━━━━━━━━━━━━━━\u001b[0m\u001b[37m\u001b[0m \u001b[1m38s\u001b[0m 85ms/step - accuracy: 0.9848 - loss: 0.0398 - val_accuracy: 0.6115 - val_loss: 2.7578\n",
      "Epoch 48/50\n",
      "\u001b[1m438/438\u001b[0m \u001b[32m━━━━━━━━━━━━━━━━━━━━\u001b[0m\u001b[37m\u001b[0m \u001b[1m38s\u001b[0m 85ms/step - accuracy: 0.9822 - loss: 0.0460 - val_accuracy: 0.5915 - val_loss: 2.7103\n",
      "Epoch 49/50\n",
      "\u001b[1m438/438\u001b[0m \u001b[32m━━━━━━━━━━━━━━━━━━━━\u001b[0m\u001b[37m\u001b[0m \u001b[1m38s\u001b[0m 85ms/step - accuracy: 0.9850 - loss: 0.0363 - val_accuracy: 0.5865 - val_loss: 2.7707\n",
      "Epoch 50/50\n",
      "\u001b[1m438/438\u001b[0m \u001b[32m━━━━━━━━━━━━━━━━━━━━\u001b[0m\u001b[37m\u001b[0m \u001b[1m38s\u001b[0m 85ms/step - accuracy: 0.9889 - loss: 0.0319 - val_accuracy: 0.6000 - val_loss: 2.8762\n"
     ]
    }
   ],
   "source": [
    "baseline_efficientnet_cdf_history = baseline_efficientnet_cdf_model.fit(\n",
    "    cdf_train_generator, validation_data=cdf_val_generator, epochs=NUM_EPOCHS\n",
    ")"
   ]
  },
  {
   "cell_type": "code",
   "execution_count": 17,
   "id": "8f7312e7",
   "metadata": {
    "execution": {
     "iopub.execute_input": "2024-11-05T04:22:36.184629Z",
     "iopub.status.busy": "2024-11-05T04:22:36.184234Z",
     "iopub.status.idle": "2024-11-05T04:22:36.684175Z",
     "shell.execute_reply": "2024-11-05T04:22:36.683307Z"
    },
    "papermill": {
     "duration": 2.355584,
     "end_time": "2024-11-05T04:22:36.686448",
     "exception": false,
     "start_time": "2024-11-05T04:22:34.330864",
     "status": "completed"
    },
    "tags": []
   },
   "outputs": [
    {
     "data": {
      "image/png": "[encoded data removed]",
      "text/plain": [
       "<Figure size 1200x400 with 2 Axes>"
      ]
     },
     "metadata": {},
     "output_type": "display_data"
    }
   ],
   "source": [
    "plot_train_result(\n",
    "    baseline_efficientnet_cdf_history.history,\n",
    "    title=\"Baseline EfficientNet Model on Celeb-DF-v2 Dataset\"\n",
    ")"
   ]
  },
  {
   "cell_type": "code",
   "execution_count": 18,
   "id": "dfab4680",
   "metadata": {
    "execution": {
     "iopub.execute_input": "2024-11-05T04:22:40.373331Z",
     "iopub.status.busy": "2024-11-05T04:22:40.372917Z",
     "iopub.status.idle": "2024-11-05T04:22:42.776613Z",
     "shell.execute_reply": "2024-11-05T04:22:42.775690Z"
    },
    "papermill": {
     "duration": 4.227233,
     "end_time": "2024-11-05T04:22:42.778723",
     "exception": false,
     "start_time": "2024-11-05T04:22:38.551490",
     "status": "completed"
    },
    "tags": []
   },
   "outputs": [
    {
     "name": "stdout",
     "output_type": "stream",
     "text": [
      "Model saved at baseline_efficientnet_cdf_model.keras\n",
      "Training history saved at baseline_efficientnet_cdf_history.pkl\n"
     ]
    }
   ],
   "source": [
    "save_model_and_history(\n",
    "    baseline_efficientnet_cdf_model, baseline_efficientnet_cdf_history, \"baseline_efficientnet_cdf\"\n",
    ")"
   ]
  },
  {
   "cell_type": "markdown",
   "id": "2eaf7a03",
   "metadata": {
    "papermill": {
     "duration": 1.831391,
     "end_time": "2024-11-05T04:22:46.457284",
     "exception": false,
     "start_time": "2024-11-05T04:22:44.625893",
     "status": "completed"
    },
    "tags": []
   },
   "source": [
    "#### DeeperForensics-1.0 Dataset"
   ]
  },
  {
   "cell_type": "code",
   "execution_count": 19,
   "id": "8990ab53",
   "metadata": {
    "execution": {
     "iopub.execute_input": "2024-11-05T04:22:50.138166Z",
     "iopub.status.busy": "2024-11-05T04:22:50.137779Z",
     "iopub.status.idle": "2024-11-05T04:22:54.458604Z",
     "shell.execute_reply": "2024-11-05T04:22:54.457720Z"
    },
    "papermill": {
     "duration": 6.175713,
     "end_time": "2024-11-05T04:22:54.460488",
     "exception": false,
     "start_time": "2024-11-05T04:22:48.284775",
     "status": "completed"
    },
    "tags": []
   },
   "outputs": [
    {
     "data": {
      "text/html": [
       "<pre style=\"white-space:pre;overflow-x:auto;line-height:normal;font-family:Menlo,'DejaVu Sans Mono',consolas,'Courier New',monospace\"><span style=\"font-weight: bold\">Model: \"sequential_1\"</span>\n",
       "</pre>\n"
      ],
      "text/plain": [
       "\u001b[1mModel: \"sequential_1\"\u001b[0m\n"
      ]
     },
     "metadata": {},
     "output_type": "display_data"
    },
    {
     "data": {
      "text/html": [
       "<pre style=\"white-space:pre;overflow-x:auto;line-height:normal;font-family:Menlo,'DejaVu Sans Mono',consolas,'Courier New',monospace\">┏━━━━━━━━━━━━━━━━━━━━━━━━━━━━━━━━━┳━━━━━━━━━━━━━━━━━━━━━━━━┳━━━━━━━━━━━━━━━┓\n",
       "┃<span style=\"font-weight: bold\"> Layer (type)                    </span>┃<span style=\"font-weight: bold\"> Output Shape           </span>┃<span style=\"font-weight: bold\">       Param # </span>┃\n",
       "┡━━━━━━━━━━━━━━━━━━━━━━━━━━━━━━━━━╇━━━━━━━━━━━━━━━━━━━━━━━━╇━━━━━━━━━━━━━━━┩\n",
       "│ efficientnetb7 (<span style=\"color: #0087ff; text-decoration-color: #0087ff\">Functional</span>)     │ ?                      │    <span style=\"color: #00af00; text-decoration-color: #00af00\">64,097,687</span> │\n",
       "├─────────────────────────────────┼────────────────────────┼───────────────┤\n",
       "│ flatten_1 (<span style=\"color: #0087ff; text-decoration-color: #0087ff\">Flatten</span>)             │ ?                      │   <span style=\"color: #00af00; text-decoration-color: #00af00\">0</span> (unbuilt) │\n",
       "├─────────────────────────────────┼────────────────────────┼───────────────┤\n",
       "│ dense_5 (<span style=\"color: #0087ff; text-decoration-color: #0087ff\">Dense</span>)                 │ ?                      │   <span style=\"color: #00af00; text-decoration-color: #00af00\">0</span> (unbuilt) │\n",
       "├─────────────────────────────────┼────────────────────────┼───────────────┤\n",
       "│ dense_6 (<span style=\"color: #0087ff; text-decoration-color: #0087ff\">Dense</span>)                 │ ?                      │   <span style=\"color: #00af00; text-decoration-color: #00af00\">0</span> (unbuilt) │\n",
       "├─────────────────────────────────┼────────────────────────┼───────────────┤\n",
       "│ dense_7 (<span style=\"color: #0087ff; text-decoration-color: #0087ff\">Dense</span>)                 │ ?                      │   <span style=\"color: #00af00; text-decoration-color: #00af00\">0</span> (unbuilt) │\n",
       "├─────────────────────────────────┼────────────────────────┼───────────────┤\n",
       "│ dense_8 (<span style=\"color: #0087ff; text-decoration-color: #0087ff\">Dense</span>)                 │ ?                      │   <span style=\"color: #00af00; text-decoration-color: #00af00\">0</span> (unbuilt) │\n",
       "├─────────────────────────────────┼────────────────────────┼───────────────┤\n",
       "│ dense_9 (<span style=\"color: #0087ff; text-decoration-color: #0087ff\">Dense</span>)                 │ ?                      │   <span style=\"color: #00af00; text-decoration-color: #00af00\">0</span> (unbuilt) │\n",
       "└─────────────────────────────────┴────────────────────────┴───────────────┘\n",
       "</pre>\n"
      ],
      "text/plain": [
       "┏━━━━━━━━━━━━━━━━━━━━━━━━━━━━━━━━━┳━━━━━━━━━━━━━━━━━━━━━━━━┳━━━━━━━━━━━━━━━┓\n",
       "┃\u001b[1m \u001b[0m\u001b[1mLayer (type)                   \u001b[0m\u001b[1m \u001b[0m┃\u001b[1m \u001b[0m\u001b[1mOutput Shape          \u001b[0m\u001b[1m \u001b[0m┃\u001b[1m \u001b[0m\u001b[1m      Param #\u001b[0m\u001b[1m \u001b[0m┃\n",
       "┡━━━━━━━━━━━━━━━━━━━━━━━━━━━━━━━━━╇━━━━━━━━━━━━━━━━━━━━━━━━╇━━━━━━━━━━━━━━━┩\n",
       "│ efficientnetb7 (\u001b[38;5;33mFunctional\u001b[0m)     │ ?                      │    \u001b[38;5;34m64,097,687\u001b[0m │\n",
       "├─────────────────────────────────┼────────────────────────┼───────────────┤\n",
       "│ flatten_1 (\u001b[38;5;33mFlatten\u001b[0m)             │ ?                      │   \u001b[38;5;34m0\u001b[0m (unbuilt) │\n",
       "├─────────────────────────────────┼────────────────────────┼───────────────┤\n",
       "│ dense_5 (\u001b[38;5;33mDense\u001b[0m)                 │ ?                      │   \u001b[38;5;34m0\u001b[0m (unbuilt) │\n",
       "├─────────────────────────────────┼────────────────────────┼───────────────┤\n",
       "│ dense_6 (\u001b[38;5;33mDense\u001b[0m)                 │ ?                      │   \u001b[38;5;34m0\u001b[0m (unbuilt) │\n",
       "├─────────────────────────────────┼────────────────────────┼───────────────┤\n",
       "│ dense_7 (\u001b[38;5;33mDense\u001b[0m)                 │ ?                      │   \u001b[38;5;34m0\u001b[0m (unbuilt) │\n",
       "├─────────────────────────────────┼────────────────────────┼───────────────┤\n",
       "│ dense_8 (\u001b[38;5;33mDense\u001b[0m)                 │ ?                      │   \u001b[38;5;34m0\u001b[0m (unbuilt) │\n",
       "├─────────────────────────────────┼────────────────────────┼───────────────┤\n",
       "│ dense_9 (\u001b[38;5;33mDense\u001b[0m)                 │ ?                      │   \u001b[38;5;34m0\u001b[0m (unbuilt) │\n",
       "└─────────────────────────────────┴────────────────────────┴───────────────┘\n"
      ]
     },
     "metadata": {},
     "output_type": "display_data"
    },
    {
     "data": {
      "text/html": [
       "<pre style=\"white-space:pre;overflow-x:auto;line-height:normal;font-family:Menlo,'DejaVu Sans Mono',consolas,'Courier New',monospace\"><span style=\"font-weight: bold\"> Total params: </span><span style=\"color: #00af00; text-decoration-color: #00af00\">64,097,687</span> (244.51 MB)\n",
       "</pre>\n"
      ],
      "text/plain": [
       "\u001b[1m Total params: \u001b[0m\u001b[38;5;34m64,097,687\u001b[0m (244.51 MB)\n"
      ]
     },
     "metadata": {},
     "output_type": "display_data"
    },
    {
     "data": {
      "text/html": [
       "<pre style=\"white-space:pre;overflow-x:auto;line-height:normal;font-family:Menlo,'DejaVu Sans Mono',consolas,'Courier New',monospace\"><span style=\"font-weight: bold\"> Trainable params: </span><span style=\"color: #00af00; text-decoration-color: #00af00\">0</span> (0.00 B)\n",
       "</pre>\n"
      ],
      "text/plain": [
       "\u001b[1m Trainable params: \u001b[0m\u001b[38;5;34m0\u001b[0m (0.00 B)\n"
      ]
     },
     "metadata": {},
     "output_type": "display_data"
    },
    {
     "data": {
      "text/html": [
       "<pre style=\"white-space:pre;overflow-x:auto;line-height:normal;font-family:Menlo,'DejaVu Sans Mono',consolas,'Courier New',monospace\"><span style=\"font-weight: bold\"> Non-trainable params: </span><span style=\"color: #00af00; text-decoration-color: #00af00\">64,097,687</span> (244.51 MB)\n",
       "</pre>\n"
      ],
      "text/plain": [
       "\u001b[1m Non-trainable params: \u001b[0m\u001b[38;5;34m64,097,687\u001b[0m (244.51 MB)\n"
      ]
     },
     "metadata": {},
     "output_type": "display_data"
    }
   ],
   "source": [
    "baseline_efficientnet_df_model = create_efficientnet_model(best_hp)\n",
    "baseline_efficientnet_df_model.summary()"
   ]
  },
  {
   "cell_type": "code",
   "execution_count": 20,
   "id": "4b5a2ec6",
   "metadata": {
    "execution": {
     "iopub.execute_input": "2024-11-05T04:22:58.104960Z",
     "iopub.status.busy": "2024-11-05T04:22:58.104290Z",
     "iopub.status.idle": "2024-11-05T05:00:16.548006Z",
     "shell.execute_reply": "2024-11-05T05:00:16.547018Z"
    },
    "papermill": {
     "duration": 2240.271263,
     "end_time": "2024-11-05T05:00:16.550178",
     "exception": false,
     "start_time": "2024-11-05T04:22:56.278915",
     "status": "completed"
    },
    "tags": []
   },
   "outputs": [
    {
     "name": "stdout",
     "output_type": "stream",
     "text": [
      "Epoch 1/50\n",
      "\u001b[1m438/438\u001b[0m \u001b[32m━━━━━━━━━━━━━━━━━━━━\u001b[0m\u001b[37m\u001b[0m \u001b[1m366s\u001b[0m 526ms/step - accuracy: 0.7428 - loss: 0.5409 - val_accuracy: 0.7670 - val_loss: 0.4589\n",
      "Epoch 2/50\n",
      "\u001b[1m438/438\u001b[0m \u001b[32m━━━━━━━━━━━━━━━━━━━━\u001b[0m\u001b[37m\u001b[0m \u001b[1m38s\u001b[0m 87ms/step - accuracy: 0.9443 - loss: 0.1892 - val_accuracy: 0.8210 - val_loss: 0.4520\n",
      "Epoch 3/50\n",
      "\u001b[1m438/438\u001b[0m \u001b[32m━━━━━━━━━━━━━━━━━━━━\u001b[0m\u001b[37m\u001b[0m \u001b[1m38s\u001b[0m 86ms/step - accuracy: 0.9750 - loss: 0.0990 - val_accuracy: 0.8160 - val_loss: 0.4806\n",
      "Epoch 4/50\n",
      "\u001b[1m438/438\u001b[0m \u001b[32m━━━━━━━━━━━━━━━━━━━━\u001b[0m\u001b[37m\u001b[0m \u001b[1m41s\u001b[0m 86ms/step - accuracy: 0.9847 - loss: 0.0613 - val_accuracy: 0.7765 - val_loss: 0.5590\n",
      "Epoch 5/50\n",
      "\u001b[1m438/438\u001b[0m \u001b[32m━━━━━━━━━━━━━━━━━━━━\u001b[0m\u001b[37m\u001b[0m \u001b[1m38s\u001b[0m 86ms/step - accuracy: 0.9876 - loss: 0.0455 - val_accuracy: 0.8120 - val_loss: 0.5059\n",
      "Epoch 6/50\n",
      "\u001b[1m438/438\u001b[0m \u001b[32m━━━━━━━━━━━━━━━━━━━━\u001b[0m\u001b[37m\u001b[0m \u001b[1m38s\u001b[0m 86ms/step - accuracy: 0.9898 - loss: 0.0356 - val_accuracy: 0.8010 - val_loss: 0.5578\n",
      "Epoch 7/50\n",
      "\u001b[1m438/438\u001b[0m \u001b[32m━━━━━━━━━━━━━━━━━━━━\u001b[0m\u001b[37m\u001b[0m \u001b[1m38s\u001b[0m 86ms/step - accuracy: 0.9918 - loss: 0.0292 - val_accuracy: 0.8310 - val_loss: 0.4925\n",
      "Epoch 8/50\n",
      "\u001b[1m438/438\u001b[0m \u001b[32m━━━━━━━━━━━━━━━━━━━━\u001b[0m\u001b[37m\u001b[0m \u001b[1m38s\u001b[0m 86ms/step - accuracy: 0.9933 - loss: 0.0245 - val_accuracy: 0.8170 - val_loss: 0.5425\n",
      "Epoch 9/50\n",
      "\u001b[1m438/438\u001b[0m \u001b[32m━━━━━━━━━━━━━━━━━━━━\u001b[0m\u001b[37m\u001b[0m \u001b[1m38s\u001b[0m 86ms/step - accuracy: 0.9950 - loss: 0.0179 - val_accuracy: 0.8370 - val_loss: 0.4950\n",
      "Epoch 10/50\n",
      "\u001b[1m438/438\u001b[0m \u001b[32m━━━━━━━━━━━━━━━━━━━━\u001b[0m\u001b[37m\u001b[0m \u001b[1m38s\u001b[0m 85ms/step - accuracy: 0.9954 - loss: 0.0168 - val_accuracy: 0.8090 - val_loss: 0.6004\n",
      "Epoch 11/50\n",
      "\u001b[1m438/438\u001b[0m \u001b[32m━━━━━━━━━━━━━━━━━━━━\u001b[0m\u001b[37m\u001b[0m \u001b[1m38s\u001b[0m 86ms/step - accuracy: 0.9965 - loss: 0.0138 - val_accuracy: 0.8230 - val_loss: 0.5766\n",
      "Epoch 12/50\n",
      "\u001b[1m438/438\u001b[0m \u001b[32m━━━━━━━━━━━━━━━━━━━━\u001b[0m\u001b[37m\u001b[0m \u001b[1m38s\u001b[0m 86ms/step - accuracy: 0.9945 - loss: 0.0151 - val_accuracy: 0.7885 - val_loss: 0.7778\n",
      "Epoch 13/50\n",
      "\u001b[1m438/438\u001b[0m \u001b[32m━━━━━━━━━━━━━━━━━━━━\u001b[0m\u001b[37m\u001b[0m \u001b[1m41s\u001b[0m 86ms/step - accuracy: 0.9959 - loss: 0.0148 - val_accuracy: 0.8125 - val_loss: 0.6183\n",
      "Epoch 14/50\n",
      "\u001b[1m438/438\u001b[0m \u001b[32m━━━━━━━━━━━━━━━━━━━━\u001b[0m\u001b[37m\u001b[0m \u001b[1m38s\u001b[0m 86ms/step - accuracy: 0.9970 - loss: 0.0103 - val_accuracy: 0.8320 - val_loss: 0.6171\n",
      "Epoch 15/50\n",
      "\u001b[1m438/438\u001b[0m \u001b[32m━━━━━━━━━━━━━━━━━━━━\u001b[0m\u001b[37m\u001b[0m \u001b[1m38s\u001b[0m 86ms/step - accuracy: 0.9954 - loss: 0.0153 - val_accuracy: 0.8295 - val_loss: 0.5916\n",
      "Epoch 16/50\n",
      "\u001b[1m438/438\u001b[0m \u001b[32m━━━━━━━━━━━━━━━━━━━━\u001b[0m\u001b[37m\u001b[0m \u001b[1m38s\u001b[0m 86ms/step - accuracy: 0.9969 - loss: 0.0100 - val_accuracy: 0.8310 - val_loss: 0.6172\n",
      "Epoch 17/50\n",
      "\u001b[1m438/438\u001b[0m \u001b[32m━━━━━━━━━━━━━━━━━━━━\u001b[0m\u001b[37m\u001b[0m \u001b[1m38s\u001b[0m 86ms/step - accuracy: 0.9978 - loss: 0.0084 - val_accuracy: 0.8330 - val_loss: 0.6421\n",
      "Epoch 18/50\n",
      "\u001b[1m438/438\u001b[0m \u001b[32m━━━━━━━━━━━━━━━━━━━━\u001b[0m\u001b[37m\u001b[0m \u001b[1m38s\u001b[0m 86ms/step - accuracy: 0.9987 - loss: 0.0058 - val_accuracy: 0.8345 - val_loss: 0.6744\n",
      "Epoch 19/50\n",
      "\u001b[1m438/438\u001b[0m \u001b[32m━━━━━━━━━━━━━━━━━━━━\u001b[0m\u001b[37m\u001b[0m \u001b[1m38s\u001b[0m 86ms/step - accuracy: 0.9981 - loss: 0.0067 - val_accuracy: 0.8310 - val_loss: 0.6497\n",
      "Epoch 20/50\n",
      "\u001b[1m438/438\u001b[0m \u001b[32m━━━━━━━━━━━━━━━━━━━━\u001b[0m\u001b[37m\u001b[0m \u001b[1m38s\u001b[0m 86ms/step - accuracy: 0.9971 - loss: 0.0087 - val_accuracy: 0.8365 - val_loss: 0.6447\n",
      "Epoch 21/50\n",
      "\u001b[1m438/438\u001b[0m \u001b[32m━━━━━━━━━━━━━━━━━━━━\u001b[0m\u001b[37m\u001b[0m \u001b[1m38s\u001b[0m 86ms/step - accuracy: 0.9978 - loss: 0.0065 - val_accuracy: 0.8140 - val_loss: 0.7549\n",
      "Epoch 22/50\n",
      "\u001b[1m438/438\u001b[0m \u001b[32m━━━━━━━━━━━━━━━━━━━━\u001b[0m\u001b[37m\u001b[0m \u001b[1m41s\u001b[0m 86ms/step - accuracy: 0.9970 - loss: 0.0082 - val_accuracy: 0.7990 - val_loss: 0.8703\n",
      "Epoch 23/50\n",
      "\u001b[1m438/438\u001b[0m \u001b[32m━━━━━━━━━━━━━━━━━━━━\u001b[0m\u001b[37m\u001b[0m \u001b[1m38s\u001b[0m 86ms/step - accuracy: 0.9981 - loss: 0.0071 - val_accuracy: 0.8280 - val_loss: 0.7457\n",
      "Epoch 24/50\n",
      "\u001b[1m438/438\u001b[0m \u001b[32m━━━━━━━━━━━━━━━━━━━━\u001b[0m\u001b[37m\u001b[0m \u001b[1m38s\u001b[0m 86ms/step - accuracy: 0.9975 - loss: 0.0064 - val_accuracy: 0.8300 - val_loss: 0.7142\n",
      "Epoch 25/50\n",
      "\u001b[1m438/438\u001b[0m \u001b[32m━━━━━━━━━━━━━━━━━━━━\u001b[0m\u001b[37m\u001b[0m \u001b[1m38s\u001b[0m 86ms/step - accuracy: 0.9984 - loss: 0.0066 - val_accuracy: 0.8475 - val_loss: 0.6120\n",
      "Epoch 26/50\n",
      "\u001b[1m438/438\u001b[0m \u001b[32m━━━━━━━━━━━━━━━━━━━━\u001b[0m\u001b[37m\u001b[0m \u001b[1m38s\u001b[0m 86ms/step - accuracy: 0.9985 - loss: 0.0037 - val_accuracy: 0.8400 - val_loss: 0.7250\n",
      "Epoch 27/50\n",
      "\u001b[1m438/438\u001b[0m \u001b[32m━━━━━━━━━━━━━━━━━━━━\u001b[0m\u001b[37m\u001b[0m \u001b[1m38s\u001b[0m 86ms/step - accuracy: 0.9989 - loss: 0.0038 - val_accuracy: 0.8360 - val_loss: 0.7145\n",
      "Epoch 28/50\n",
      "\u001b[1m438/438\u001b[0m \u001b[32m━━━━━━━━━━━━━━━━━━━━\u001b[0m\u001b[37m\u001b[0m \u001b[1m41s\u001b[0m 86ms/step - accuracy: 0.9970 - loss: 0.0080 - val_accuracy: 0.8120 - val_loss: 0.9530\n",
      "Epoch 29/50\n",
      "\u001b[1m438/438\u001b[0m \u001b[32m━━━━━━━━━━━━━━━━━━━━\u001b[0m\u001b[37m\u001b[0m \u001b[1m38s\u001b[0m 85ms/step - accuracy: 0.9985 - loss: 0.0058 - val_accuracy: 0.8045 - val_loss: 0.8701\n",
      "Epoch 30/50\n",
      "\u001b[1m438/438\u001b[0m \u001b[32m━━━━━━━━━━━━━━━━━━━━\u001b[0m\u001b[37m\u001b[0m \u001b[1m37s\u001b[0m 85ms/step - accuracy: 0.9965 - loss: 0.0104 - val_accuracy: 0.8300 - val_loss: 0.7633\n",
      "Epoch 31/50\n",
      "\u001b[1m438/438\u001b[0m \u001b[32m━━━━━━━━━━━━━━━━━━━━\u001b[0m\u001b[37m\u001b[0m \u001b[1m37s\u001b[0m 85ms/step - accuracy: 0.9990 - loss: 0.0032 - val_accuracy: 0.8270 - val_loss: 0.7435\n",
      "Epoch 32/50\n",
      "\u001b[1m438/438\u001b[0m \u001b[32m━━━━━━━━━━━━━━━━━━━━\u001b[0m\u001b[37m\u001b[0m \u001b[1m37s\u001b[0m 84ms/step - accuracy: 0.9988 - loss: 0.0039 - val_accuracy: 0.8300 - val_loss: 0.8283\n",
      "Epoch 33/50\n",
      "\u001b[1m438/438\u001b[0m \u001b[32m━━━━━━━━━━━━━━━━━━━━\u001b[0m\u001b[37m\u001b[0m \u001b[1m41s\u001b[0m 85ms/step - accuracy: 0.9979 - loss: 0.0064 - val_accuracy: 0.8230 - val_loss: 0.8301\n",
      "Epoch 34/50\n",
      "\u001b[1m438/438\u001b[0m \u001b[32m━━━━━━━━━━━━━━━━━━━━\u001b[0m\u001b[37m\u001b[0m \u001b[1m38s\u001b[0m 85ms/step - accuracy: 0.9983 - loss: 0.0049 - val_accuracy: 0.8185 - val_loss: 0.8830\n",
      "Epoch 35/50\n",
      "\u001b[1m438/438\u001b[0m \u001b[32m━━━━━━━━━━━━━━━━━━━━\u001b[0m\u001b[37m\u001b[0m \u001b[1m41s\u001b[0m 85ms/step - accuracy: 0.9990 - loss: 0.0038 - val_accuracy: 0.7925 - val_loss: 1.0078\n",
      "Epoch 36/50\n",
      "\u001b[1m438/438\u001b[0m \u001b[32m━━━━━━━━━━━━━━━━━━━━\u001b[0m\u001b[37m\u001b[0m \u001b[1m38s\u001b[0m 85ms/step - accuracy: 0.9989 - loss: 0.0028 - val_accuracy: 0.7895 - val_loss: 1.1095\n",
      "Epoch 37/50\n",
      "\u001b[1m438/438\u001b[0m \u001b[32m━━━━━━━━━━━━━━━━━━━━\u001b[0m\u001b[37m\u001b[0m \u001b[1m37s\u001b[0m 85ms/step - accuracy: 0.9978 - loss: 0.0075 - val_accuracy: 0.8310 - val_loss: 0.8842\n",
      "Epoch 38/50\n",
      "\u001b[1m438/438\u001b[0m \u001b[32m━━━━━━━━━━━━━━━━━━━━\u001b[0m\u001b[37m\u001b[0m \u001b[1m37s\u001b[0m 85ms/step - accuracy: 0.9992 - loss: 0.0036 - val_accuracy: 0.8090 - val_loss: 0.8605\n",
      "Epoch 39/50\n",
      "\u001b[1m438/438\u001b[0m \u001b[32m━━━━━━━━━━━━━━━━━━━━\u001b[0m\u001b[37m\u001b[0m \u001b[1m37s\u001b[0m 84ms/step - accuracy: 0.9997 - loss: 0.0019 - val_accuracy: 0.8460 - val_loss: 0.7322\n",
      "Epoch 40/50\n",
      "\u001b[1m438/438\u001b[0m \u001b[32m━━━━━━━━━━━━━━━━━━━━\u001b[0m\u001b[37m\u001b[0m \u001b[1m37s\u001b[0m 84ms/step - accuracy: 0.9963 - loss: 0.0108 - val_accuracy: 0.8350 - val_loss: 0.8284\n",
      "Epoch 41/50\n",
      "\u001b[1m438/438\u001b[0m \u001b[32m━━━━━━━━━━━━━━━━━━━━\u001b[0m\u001b[37m\u001b[0m \u001b[1m38s\u001b[0m 85ms/step - accuracy: 0.9984 - loss: 0.0039 - val_accuracy: 0.8400 - val_loss: 0.7831\n",
      "Epoch 42/50\n",
      "\u001b[1m438/438\u001b[0m \u001b[32m━━━━━━━━━━━━━━━━━━━━\u001b[0m\u001b[37m\u001b[0m \u001b[1m37s\u001b[0m 85ms/step - accuracy: 0.9978 - loss: 0.0056 - val_accuracy: 0.8305 - val_loss: 0.8350\n",
      "Epoch 43/50\n",
      "\u001b[1m438/438\u001b[0m \u001b[32m━━━━━━━━━━━━━━━━━━━━\u001b[0m\u001b[37m\u001b[0m \u001b[1m37s\u001b[0m 85ms/step - accuracy: 0.9970 - loss: 0.0078 - val_accuracy: 0.8215 - val_loss: 0.9067\n",
      "Epoch 44/50\n",
      "\u001b[1m438/438\u001b[0m \u001b[32m━━━━━━━━━━━━━━━━━━━━\u001b[0m\u001b[37m\u001b[0m \u001b[1m38s\u001b[0m 85ms/step - accuracy: 0.9983 - loss: 0.0041 - val_accuracy: 0.8290 - val_loss: 0.8437\n",
      "Epoch 45/50\n",
      "\u001b[1m438/438\u001b[0m \u001b[32m━━━━━━━━━━━━━━━━━━━━\u001b[0m\u001b[37m\u001b[0m \u001b[1m37s\u001b[0m 85ms/step - accuracy: 0.9979 - loss: 0.0058 - val_accuracy: 0.8170 - val_loss: 0.9175\n",
      "Epoch 46/50\n",
      "\u001b[1m438/438\u001b[0m \u001b[32m━━━━━━━━━━━━━━━━━━━━\u001b[0m\u001b[37m\u001b[0m \u001b[1m37s\u001b[0m 84ms/step - accuracy: 0.9984 - loss: 0.0045 - val_accuracy: 0.8100 - val_loss: 0.9499\n",
      "Epoch 47/50\n",
      "\u001b[1m438/438\u001b[0m \u001b[32m━━━━━━━━━━━━━━━━━━━━\u001b[0m\u001b[37m\u001b[0m \u001b[1m37s\u001b[0m 85ms/step - accuracy: 0.9956 - loss: 0.0109 - val_accuracy: 0.8295 - val_loss: 0.8412\n",
      "Epoch 48/50\n",
      "\u001b[1m438/438\u001b[0m \u001b[32m━━━━━━━━━━━━━━━━━━━━\u001b[0m\u001b[37m\u001b[0m \u001b[1m38s\u001b[0m 85ms/step - accuracy: 0.9992 - loss: 0.0035 - val_accuracy: 0.8120 - val_loss: 0.9410\n",
      "Epoch 49/50\n",
      "\u001b[1m438/438\u001b[0m \u001b[32m━━━━━━━━━━━━━━━━━━━━\u001b[0m\u001b[37m\u001b[0m \u001b[1m41s\u001b[0m 85ms/step - accuracy: 0.9993 - loss: 0.0027 - val_accuracy: 0.8150 - val_loss: 0.9705\n",
      "Epoch 50/50\n",
      "\u001b[1m438/438\u001b[0m \u001b[32m━━━━━━━━━━━━━━━━━━━━\u001b[0m\u001b[37m\u001b[0m \u001b[1m37s\u001b[0m 85ms/step - accuracy: 0.9988 - loss: 0.0038 - val_accuracy: 0.8085 - val_loss: 0.9309\n"
     ]
    }
   ],
   "source": [
    "baseline_efficientnet_df_history = baseline_efficientnet_df_model.fit(\n",
    "    df_train_generator, validation_data=df_val_generator, epochs=NUM_EPOCHS\n",
    ")"
   ]
  },
  {
   "cell_type": "code",
   "execution_count": 21,
   "id": "68cdbebb",
   "metadata": {
    "execution": {
     "iopub.execute_input": "2024-11-05T05:00:23.882735Z",
     "iopub.status.busy": "2024-11-05T05:00:23.882329Z",
     "iopub.status.idle": "2024-11-05T05:00:24.342553Z",
     "shell.execute_reply": "2024-11-05T05:00:24.341613Z"
    },
    "papermill": {
     "duration": 4.112303,
     "end_time": "2024-11-05T05:00:24.344689",
     "exception": false,
     "start_time": "2024-11-05T05:00:20.232386",
     "status": "completed"
    },
    "tags": []
   },
   "outputs": [
    {
     "data": {
      "image/png": "[encoded data removed]",
      "text/plain": [
       "<Figure size 1200x400 with 2 Axes>"
      ]
     },
     "metadata": {},
     "output_type": "display_data"
    }
   ],
   "source": [
    "plot_train_result(\n",
    "    baseline_efficientnet_df_history.history,\n",
    "    title=\"Baseline EfficientNet Model on DeeperForensics-1.0 Dataset\"\n",
    ")"
   ]
  },
  {
   "cell_type": "code",
   "execution_count": 22,
   "id": "f96f40a6",
   "metadata": {
    "execution": {
     "iopub.execute_input": "2024-11-05T05:00:31.713156Z",
     "iopub.status.busy": "2024-11-05T05:00:31.712776Z",
     "iopub.status.idle": "2024-11-05T05:00:34.038223Z",
     "shell.execute_reply": "2024-11-05T05:00:34.037165Z"
    },
    "papermill": {
     "duration": 6.018377,
     "end_time": "2024-11-05T05:00:34.040168",
     "exception": false,
     "start_time": "2024-11-05T05:00:28.021791",
     "status": "completed"
    },
    "tags": []
   },
   "outputs": [
    {
     "name": "stdout",
     "output_type": "stream",
     "text": [
      "Model saved at baseline_efficientnet_df_model.keras\n",
      "Training history saved at baseline_efficientnet_df_history.pkl\n"
     ]
    }
   ],
   "source": [
    "save_model_and_history(\n",
    "    baseline_efficientnet_df_model, baseline_efficientnet_df_history, \"baseline_efficientnet_df\"\n",
    ")"
   ]
  },
  {
   "cell_type": "markdown",
   "id": "af1e8466",
   "metadata": {
    "papermill": {
     "duration": 3.695746,
     "end_time": "2024-11-05T05:00:41.350863",
     "exception": false,
     "start_time": "2024-11-05T05:00:37.655117",
     "status": "completed"
    },
    "tags": []
   },
   "source": [
    "#### DFDC Dataset"
   ]
  },
  {
   "cell_type": "code",
   "execution_count": 23,
   "id": "1391c253",
   "metadata": {
    "execution": {
     "iopub.execute_input": "2024-11-05T05:00:48.729391Z",
     "iopub.status.busy": "2024-11-05T05:00:48.729003Z",
     "iopub.status.idle": "2024-11-05T05:00:52.875704Z",
     "shell.execute_reply": "2024-11-05T05:00:52.874782Z"
    },
    "papermill": {
     "duration": 7.7961,
     "end_time": "2024-11-05T05:00:52.877541",
     "exception": false,
     "start_time": "2024-11-05T05:00:45.081441",
     "status": "completed"
    },
    "tags": []
   },
   "outputs": [
    {
     "data": {
      "text/html": [
       "<pre style=\"white-space:pre;overflow-x:auto;line-height:normal;font-family:Menlo,'DejaVu Sans Mono',consolas,'Courier New',monospace\"><span style=\"font-weight: bold\">Model: \"sequential_2\"</span>\n",
       "</pre>\n"
      ],
      "text/plain": [
       "\u001b[1mModel: \"sequential_2\"\u001b[0m\n"
      ]
     },
     "metadata": {},
     "output_type": "display_data"
    },
    {
     "data": {
      "text/html": [
       "<pre style=\"white-space:pre;overflow-x:auto;line-height:normal;font-family:Menlo,'DejaVu Sans Mono',consolas,'Courier New',monospace\">┏━━━━━━━━━━━━━━━━━━━━━━━━━━━━━━━━━┳━━━━━━━━━━━━━━━━━━━━━━━━┳━━━━━━━━━━━━━━━┓\n",
       "┃<span style=\"font-weight: bold\"> Layer (type)                    </span>┃<span style=\"font-weight: bold\"> Output Shape           </span>┃<span style=\"font-weight: bold\">       Param # </span>┃\n",
       "┡━━━━━━━━━━━━━━━━━━━━━━━━━━━━━━━━━╇━━━━━━━━━━━━━━━━━━━━━━━━╇━━━━━━━━━━━━━━━┩\n",
       "│ efficientnetb7 (<span style=\"color: #0087ff; text-decoration-color: #0087ff\">Functional</span>)     │ ?                      │    <span style=\"color: #00af00; text-decoration-color: #00af00\">64,097,687</span> │\n",
       "├─────────────────────────────────┼────────────────────────┼───────────────┤\n",
       "│ flatten_2 (<span style=\"color: #0087ff; text-decoration-color: #0087ff\">Flatten</span>)             │ ?                      │   <span style=\"color: #00af00; text-decoration-color: #00af00\">0</span> (unbuilt) │\n",
       "├─────────────────────────────────┼────────────────────────┼───────────────┤\n",
       "│ dense_10 (<span style=\"color: #0087ff; text-decoration-color: #0087ff\">Dense</span>)                │ ?                      │   <span style=\"color: #00af00; text-decoration-color: #00af00\">0</span> (unbuilt) │\n",
       "├─────────────────────────────────┼────────────────────────┼───────────────┤\n",
       "│ dense_11 (<span style=\"color: #0087ff; text-decoration-color: #0087ff\">Dense</span>)                │ ?                      │   <span style=\"color: #00af00; text-decoration-color: #00af00\">0</span> (unbuilt) │\n",
       "├─────────────────────────────────┼────────────────────────┼───────────────┤\n",
       "│ dense_12 (<span style=\"color: #0087ff; text-decoration-color: #0087ff\">Dense</span>)                │ ?                      │   <span style=\"color: #00af00; text-decoration-color: #00af00\">0</span> (unbuilt) │\n",
       "├─────────────────────────────────┼────────────────────────┼───────────────┤\n",
       "│ dense_13 (<span style=\"color: #0087ff; text-decoration-color: #0087ff\">Dense</span>)                │ ?                      │   <span style=\"color: #00af00; text-decoration-color: #00af00\">0</span> (unbuilt) │\n",
       "├─────────────────────────────────┼────────────────────────┼───────────────┤\n",
       "│ dense_14 (<span style=\"color: #0087ff; text-decoration-color: #0087ff\">Dense</span>)                │ ?                      │   <span style=\"color: #00af00; text-decoration-color: #00af00\">0</span> (unbuilt) │\n",
       "└─────────────────────────────────┴────────────────────────┴───────────────┘\n",
       "</pre>\n"
      ],
      "text/plain": [
       "┏━━━━━━━━━━━━━━━━━━━━━━━━━━━━━━━━━┳━━━━━━━━━━━━━━━━━━━━━━━━┳━━━━━━━━━━━━━━━┓\n",
       "┃\u001b[1m \u001b[0m\u001b[1mLayer (type)                   \u001b[0m\u001b[1m \u001b[0m┃\u001b[1m \u001b[0m\u001b[1mOutput Shape          \u001b[0m\u001b[1m \u001b[0m┃\u001b[1m \u001b[0m\u001b[1m      Param #\u001b[0m\u001b[1m \u001b[0m┃\n",
       "┡━━━━━━━━━━━━━━━━━━━━━━━━━━━━━━━━━╇━━━━━━━━━━━━━━━━━━━━━━━━╇━━━━━━━━━━━━━━━┩\n",
       "│ efficientnetb7 (\u001b[38;5;33mFunctional\u001b[0m)     │ ?                      │    \u001b[38;5;34m64,097,687\u001b[0m │\n",
       "├─────────────────────────────────┼────────────────────────┼───────────────┤\n",
       "│ flatten_2 (\u001b[38;5;33mFlatten\u001b[0m)             │ ?                      │   \u001b[38;5;34m0\u001b[0m (unbuilt) │\n",
       "├─────────────────────────────────┼────────────────────────┼───────────────┤\n",
       "│ dense_10 (\u001b[38;5;33mDense\u001b[0m)                │ ?                      │   \u001b[38;5;34m0\u001b[0m (unbuilt) │\n",
       "├─────────────────────────────────┼────────────────────────┼───────────────┤\n",
       "│ dense_11 (\u001b[38;5;33mDense\u001b[0m)                │ ?                      │   \u001b[38;5;34m0\u001b[0m (unbuilt) │\n",
       "├─────────────────────────────────┼────────────────────────┼───────────────┤\n",
       "│ dense_12 (\u001b[38;5;33mDense\u001b[0m)                │ ?                      │   \u001b[38;5;34m0\u001b[0m (unbuilt) │\n",
       "├─────────────────────────────────┼────────────────────────┼───────────────┤\n",
       "│ dense_13 (\u001b[38;5;33mDense\u001b[0m)                │ ?                      │   \u001b[38;5;34m0\u001b[0m (unbuilt) │\n",
       "├─────────────────────────────────┼────────────────────────┼───────────────┤\n",
       "│ dense_14 (\u001b[38;5;33mDense\u001b[0m)                │ ?                      │   \u001b[38;5;34m0\u001b[0m (unbuilt) │\n",
       "└─────────────────────────────────┴────────────────────────┴───────────────┘\n"
      ]
     },
     "metadata": {},
     "output_type": "display_data"
    },
    {
     "data": {
      "text/html": [
       "<pre style=\"white-space:pre;overflow-x:auto;line-height:normal;font-family:Menlo,'DejaVu Sans Mono',consolas,'Courier New',monospace\"><span style=\"font-weight: bold\"> Total params: </span><span style=\"color: #00af00; text-decoration-color: #00af00\">64,097,687</span> (244.51 MB)\n",
       "</pre>\n"
      ],
      "text/plain": [
       "\u001b[1m Total params: \u001b[0m\u001b[38;5;34m64,097,687\u001b[0m (244.51 MB)\n"
      ]
     },
     "metadata": {},
     "output_type": "display_data"
    },
    {
     "data": {
      "text/html": [
       "<pre style=\"white-space:pre;overflow-x:auto;line-height:normal;font-family:Menlo,'DejaVu Sans Mono',consolas,'Courier New',monospace\"><span style=\"font-weight: bold\"> Trainable params: </span><span style=\"color: #00af00; text-decoration-color: #00af00\">0</span> (0.00 B)\n",
       "</pre>\n"
      ],
      "text/plain": [
       "\u001b[1m Trainable params: \u001b[0m\u001b[38;5;34m0\u001b[0m (0.00 B)\n"
      ]
     },
     "metadata": {},
     "output_type": "display_data"
    },
    {
     "data": {
      "text/html": [
       "<pre style=\"white-space:pre;overflow-x:auto;line-height:normal;font-family:Menlo,'DejaVu Sans Mono',consolas,'Courier New',monospace\"><span style=\"font-weight: bold\"> Non-trainable params: </span><span style=\"color: #00af00; text-decoration-color: #00af00\">64,097,687</span> (244.51 MB)\n",
       "</pre>\n"
      ],
      "text/plain": [
       "\u001b[1m Non-trainable params: \u001b[0m\u001b[38;5;34m64,097,687\u001b[0m (244.51 MB)\n"
      ]
     },
     "metadata": {},
     "output_type": "display_data"
    }
   ],
   "source": [
    "baseline_efficientnet_dfdc_model = create_efficientnet_model(best_hp)\n",
    "baseline_efficientnet_dfdc_model.summary()"
   ]
  },
  {
   "cell_type": "code",
   "execution_count": 24,
   "id": "82585f60",
   "metadata": {
    "execution": {
     "iopub.execute_input": "2024-11-05T05:01:00.206928Z",
     "iopub.status.busy": "2024-11-05T05:01:00.206549Z",
     "iopub.status.idle": "2024-11-05T05:38:11.735664Z",
     "shell.execute_reply": "2024-11-05T05:38:11.734715Z"
    },
    "papermill": {
     "duration": 2240.701218,
     "end_time": "2024-11-05T05:38:17.277818",
     "exception": false,
     "start_time": "2024-11-05T05:00:56.576600",
     "status": "completed"
    },
    "tags": []
   },
   "outputs": [
    {
     "name": "stdout",
     "output_type": "stream",
     "text": [
      "Epoch 1/50\n",
      "\u001b[1m438/438\u001b[0m \u001b[32m━━━━━━━━━━━━━━━━━━━━\u001b[0m\u001b[37m\u001b[0m \u001b[1m353s\u001b[0m 508ms/step - accuracy: 0.5779 - loss: 0.6724 - val_accuracy: 0.4735 - val_loss: 0.7293\n",
      "Epoch 2/50\n",
      "\u001b[1m438/438\u001b[0m \u001b[32m━━━━━━━━━━━━━━━━━━━━\u001b[0m\u001b[37m\u001b[0m \u001b[1m37s\u001b[0m 85ms/step - accuracy: 0.7579 - loss: 0.5223 - val_accuracy: 0.5910 - val_loss: 0.7651\n",
      "Epoch 3/50\n",
      "\u001b[1m438/438\u001b[0m \u001b[32m━━━━━━━━━━━━━━━━━━━━\u001b[0m\u001b[37m\u001b[0m \u001b[1m38s\u001b[0m 85ms/step - accuracy: 0.8571 - loss: 0.3669 - val_accuracy: 0.6155 - val_loss: 0.8826\n",
      "Epoch 4/50\n",
      "\u001b[1m438/438\u001b[0m \u001b[32m━━━━━━━━━━━━━━━━━━━━\u001b[0m\u001b[37m\u001b[0m \u001b[1m38s\u001b[0m 85ms/step - accuracy: 0.9060 - loss: 0.2668 - val_accuracy: 0.5975 - val_loss: 0.9571\n",
      "Epoch 5/50\n",
      "\u001b[1m438/438\u001b[0m \u001b[32m━━━━━━━━━━━━━━━━━━━━\u001b[0m\u001b[37m\u001b[0m \u001b[1m41s\u001b[0m 85ms/step - accuracy: 0.9237 - loss: 0.2096 - val_accuracy: 0.5715 - val_loss: 1.1086\n",
      "Epoch 6/50\n",
      "\u001b[1m438/438\u001b[0m \u001b[32m━━━━━━━━━━━━━━━━━━━━\u001b[0m\u001b[37m\u001b[0m \u001b[1m37s\u001b[0m 85ms/step - accuracy: 0.9459 - loss: 0.1620 - val_accuracy: 0.5750 - val_loss: 1.1873\n",
      "Epoch 7/50\n",
      "\u001b[1m438/438\u001b[0m \u001b[32m━━━━━━━━━━━━━━━━━━━━\u001b[0m\u001b[37m\u001b[0m \u001b[1m38s\u001b[0m 85ms/step - accuracy: 0.9500 - loss: 0.1479 - val_accuracy: 0.5750 - val_loss: 1.1720\n",
      "Epoch 8/50\n",
      "\u001b[1m438/438\u001b[0m \u001b[32m━━━━━━━━━━━━━━━━━━━━\u001b[0m\u001b[37m\u001b[0m \u001b[1m37s\u001b[0m 85ms/step - accuracy: 0.9531 - loss: 0.1297 - val_accuracy: 0.5645 - val_loss: 1.2683\n",
      "Epoch 9/50\n",
      "\u001b[1m438/438\u001b[0m \u001b[32m━━━━━━━━━━━━━━━━━━━━\u001b[0m\u001b[37m\u001b[0m \u001b[1m38s\u001b[0m 85ms/step - accuracy: 0.9653 - loss: 0.1078 - val_accuracy: 0.5570 - val_loss: 1.3172\n",
      "Epoch 10/50\n",
      "\u001b[1m438/438\u001b[0m \u001b[32m━━━━━━━━━━━━━━━━━━━━\u001b[0m\u001b[37m\u001b[0m \u001b[1m37s\u001b[0m 85ms/step - accuracy: 0.9628 - loss: 0.1002 - val_accuracy: 0.5445 - val_loss: 1.4662\n",
      "Epoch 11/50\n",
      "\u001b[1m438/438\u001b[0m \u001b[32m━━━━━━━━━━━━━━━━━━━━\u001b[0m\u001b[37m\u001b[0m \u001b[1m41s\u001b[0m 85ms/step - accuracy: 0.9699 - loss: 0.0869 - val_accuracy: 0.5425 - val_loss: 1.4824\n",
      "Epoch 12/50\n",
      "\u001b[1m438/438\u001b[0m \u001b[32m━━━━━━━━━━━━━━━━━━━━\u001b[0m\u001b[37m\u001b[0m \u001b[1m37s\u001b[0m 85ms/step - accuracy: 0.9744 - loss: 0.0784 - val_accuracy: 0.5525 - val_loss: 1.5107\n",
      "Epoch 13/50\n",
      "\u001b[1m438/438\u001b[0m \u001b[32m━━━━━━━━━━━━━━━━━━━━\u001b[0m\u001b[37m\u001b[0m \u001b[1m37s\u001b[0m 85ms/step - accuracy: 0.9727 - loss: 0.0725 - val_accuracy: 0.5610 - val_loss: 2.0231\n",
      "Epoch 14/50\n",
      "\u001b[1m438/438\u001b[0m \u001b[32m━━━━━━━━━━━━━━━━━━━━\u001b[0m\u001b[37m\u001b[0m \u001b[1m37s\u001b[0m 84ms/step - accuracy: 0.9757 - loss: 0.0690 - val_accuracy: 0.5610 - val_loss: 1.8085\n",
      "Epoch 15/50\n",
      "\u001b[1m438/438\u001b[0m \u001b[32m━━━━━━━━━━━━━━━━━━━━\u001b[0m\u001b[37m\u001b[0m \u001b[1m41s\u001b[0m 85ms/step - accuracy: 0.9759 - loss: 0.0657 - val_accuracy: 0.5535 - val_loss: 1.7985\n",
      "Epoch 16/50\n",
      "\u001b[1m438/438\u001b[0m \u001b[32m━━━━━━━━━━━━━━━━━━━━\u001b[0m\u001b[37m\u001b[0m \u001b[1m37s\u001b[0m 85ms/step - accuracy: 0.9806 - loss: 0.0575 - val_accuracy: 0.5470 - val_loss: 2.0980\n",
      "Epoch 17/50\n",
      "\u001b[1m438/438\u001b[0m \u001b[32m━━━━━━━━━━━━━━━━━━━━\u001b[0m\u001b[37m\u001b[0m \u001b[1m38s\u001b[0m 85ms/step - accuracy: 0.9775 - loss: 0.0581 - val_accuracy: 0.5415 - val_loss: 1.8905\n",
      "Epoch 18/50\n",
      "\u001b[1m438/438\u001b[0m \u001b[32m━━━━━━━━━━━━━━━━━━━━\u001b[0m\u001b[37m\u001b[0m \u001b[1m41s\u001b[0m 85ms/step - accuracy: 0.9806 - loss: 0.0534 - val_accuracy: 0.5545 - val_loss: 1.6292\n",
      "Epoch 19/50\n",
      "\u001b[1m438/438\u001b[0m \u001b[32m━━━━━━━━━━━━━━━━━━━━\u001b[0m\u001b[37m\u001b[0m \u001b[1m37s\u001b[0m 84ms/step - accuracy: 0.9812 - loss: 0.0496 - val_accuracy: 0.5545 - val_loss: 2.1975\n",
      "Epoch 20/50\n",
      "\u001b[1m438/438\u001b[0m \u001b[32m━━━━━━━━━━━━━━━━━━━━\u001b[0m\u001b[37m\u001b[0m \u001b[1m38s\u001b[0m 85ms/step - accuracy: 0.9876 - loss: 0.0415 - val_accuracy: 0.5585 - val_loss: 1.8426\n",
      "Epoch 21/50\n",
      "\u001b[1m438/438\u001b[0m \u001b[32m━━━━━━━━━━━━━━━━━━━━\u001b[0m\u001b[37m\u001b[0m \u001b[1m38s\u001b[0m 85ms/step - accuracy: 0.9854 - loss: 0.0431 - val_accuracy: 0.5635 - val_loss: 2.0041\n",
      "Epoch 22/50\n",
      "\u001b[1m438/438\u001b[0m \u001b[32m━━━━━━━━━━━━━━━━━━━━\u001b[0m\u001b[37m\u001b[0m \u001b[1m37s\u001b[0m 85ms/step - accuracy: 0.9841 - loss: 0.0437 - val_accuracy: 0.5445 - val_loss: 2.4694\n",
      "Epoch 23/50\n",
      "\u001b[1m438/438\u001b[0m \u001b[32m━━━━━━━━━━━━━━━━━━━━\u001b[0m\u001b[37m\u001b[0m \u001b[1m38s\u001b[0m 85ms/step - accuracy: 0.9885 - loss: 0.0344 - val_accuracy: 0.5700 - val_loss: 1.8699\n",
      "Epoch 24/50\n",
      "\u001b[1m438/438\u001b[0m \u001b[32m━━━━━━━━━━━━━━━━━━━━\u001b[0m\u001b[37m\u001b[0m \u001b[1m41s\u001b[0m 85ms/step - accuracy: 0.9871 - loss: 0.0378 - val_accuracy: 0.5665 - val_loss: 2.8778\n",
      "Epoch 25/50\n",
      "\u001b[1m438/438\u001b[0m \u001b[32m━━━━━━━━━━━━━━━━━━━━\u001b[0m\u001b[37m\u001b[0m \u001b[1m38s\u001b[0m 85ms/step - accuracy: 0.9855 - loss: 0.0409 - val_accuracy: 0.5690 - val_loss: 1.9138\n",
      "Epoch 26/50\n",
      "\u001b[1m438/438\u001b[0m \u001b[32m━━━━━━━━━━━━━━━━━━━━\u001b[0m\u001b[37m\u001b[0m \u001b[1m41s\u001b[0m 85ms/step - accuracy: 0.9878 - loss: 0.0359 - val_accuracy: 0.5505 - val_loss: 2.4205\n",
      "Epoch 27/50\n",
      "\u001b[1m438/438\u001b[0m \u001b[32m━━━━━━━━━━━━━━━━━━━━\u001b[0m\u001b[37m\u001b[0m \u001b[1m41s\u001b[0m 85ms/step - accuracy: 0.9886 - loss: 0.0348 - val_accuracy: 0.5535 - val_loss: 2.2025\n",
      "Epoch 28/50\n",
      "\u001b[1m438/438\u001b[0m \u001b[32m━━━━━━━━━━━━━━━━━━━━\u001b[0m\u001b[37m\u001b[0m \u001b[1m41s\u001b[0m 85ms/step - accuracy: 0.9885 - loss: 0.0319 - val_accuracy: 0.5645 - val_loss: 2.3934\n",
      "Epoch 29/50\n",
      "\u001b[1m438/438\u001b[0m \u001b[32m━━━━━━━━━━━━━━━━━━━━\u001b[0m\u001b[37m\u001b[0m \u001b[1m41s\u001b[0m 85ms/step - accuracy: 0.9880 - loss: 0.0316 - val_accuracy: 0.5695 - val_loss: 2.1454\n",
      "Epoch 30/50\n",
      "\u001b[1m438/438\u001b[0m \u001b[32m━━━━━━━━━━━━━━━━━━━━\u001b[0m\u001b[37m\u001b[0m \u001b[1m37s\u001b[0m 84ms/step - accuracy: 0.9898 - loss: 0.0287 - val_accuracy: 0.5700 - val_loss: 2.2239\n",
      "Epoch 31/50\n",
      "\u001b[1m438/438\u001b[0m \u001b[32m━━━━━━━━━━━━━━━━━━━━\u001b[0m\u001b[37m\u001b[0m \u001b[1m38s\u001b[0m 85ms/step - accuracy: 0.9887 - loss: 0.0312 - val_accuracy: 0.5575 - val_loss: 2.1658\n",
      "Epoch 32/50\n",
      "\u001b[1m438/438\u001b[0m \u001b[32m━━━━━━━━━━━━━━━━━━━━\u001b[0m\u001b[37m\u001b[0m \u001b[1m41s\u001b[0m 85ms/step - accuracy: 0.9921 - loss: 0.0248 - val_accuracy: 0.5550 - val_loss: 2.1421\n",
      "Epoch 33/50\n",
      "\u001b[1m438/438\u001b[0m \u001b[32m━━━━━━━━━━━━━━━━━━━━\u001b[0m\u001b[37m\u001b[0m \u001b[1m41s\u001b[0m 85ms/step - accuracy: 0.9906 - loss: 0.0252 - val_accuracy: 0.5570 - val_loss: 2.4497\n",
      "Epoch 34/50\n",
      "\u001b[1m438/438\u001b[0m \u001b[32m━━━━━━━━━━━━━━━━━━━━\u001b[0m\u001b[37m\u001b[0m \u001b[1m37s\u001b[0m 85ms/step - accuracy: 0.9911 - loss: 0.0234 - val_accuracy: 0.5785 - val_loss: 2.1374\n",
      "Epoch 35/50\n",
      "\u001b[1m438/438\u001b[0m \u001b[32m━━━━━━━━━━━━━━━━━━━━\u001b[0m\u001b[37m\u001b[0m \u001b[1m41s\u001b[0m 85ms/step - accuracy: 0.9905 - loss: 0.0272 - val_accuracy: 0.5755 - val_loss: 2.3767\n",
      "Epoch 36/50\n",
      "\u001b[1m438/438\u001b[0m \u001b[32m━━━━━━━━━━━━━━━━━━━━\u001b[0m\u001b[37m\u001b[0m \u001b[1m38s\u001b[0m 85ms/step - accuracy: 0.9906 - loss: 0.0274 - val_accuracy: 0.5605 - val_loss: 2.2837\n",
      "Epoch 37/50\n",
      "\u001b[1m438/438\u001b[0m \u001b[32m━━━━━━━━━━━━━━━━━━━━\u001b[0m\u001b[37m\u001b[0m \u001b[1m38s\u001b[0m 85ms/step - accuracy: 0.9920 - loss: 0.0229 - val_accuracy: 0.5830 - val_loss: 2.4414\n",
      "Epoch 38/50\n",
      "\u001b[1m438/438\u001b[0m \u001b[32m━━━━━━━━━━━━━━━━━━━━\u001b[0m\u001b[37m\u001b[0m \u001b[1m38s\u001b[0m 85ms/step - accuracy: 0.9923 - loss: 0.0234 - val_accuracy: 0.5605 - val_loss: 2.2580\n",
      "Epoch 39/50\n",
      "\u001b[1m438/438\u001b[0m \u001b[32m━━━━━━━━━━━━━━━━━━━━\u001b[0m\u001b[37m\u001b[0m \u001b[1m38s\u001b[0m 85ms/step - accuracy: 0.9907 - loss: 0.0256 - val_accuracy: 0.5560 - val_loss: 2.0583\n",
      "Epoch 40/50\n",
      "\u001b[1m438/438\u001b[0m \u001b[32m━━━━━━━━━━━━━━━━━━━━\u001b[0m\u001b[37m\u001b[0m \u001b[1m37s\u001b[0m 84ms/step - accuracy: 0.9900 - loss: 0.0240 - val_accuracy: 0.5745 - val_loss: 2.3869\n",
      "Epoch 41/50\n",
      "\u001b[1m438/438\u001b[0m \u001b[32m━━━━━━━━━━━━━━━━━━━━\u001b[0m\u001b[37m\u001b[0m \u001b[1m37s\u001b[0m 84ms/step - accuracy: 0.9925 - loss: 0.0208 - val_accuracy: 0.5675 - val_loss: 2.6350\n",
      "Epoch 42/50\n",
      "\u001b[1m438/438\u001b[0m \u001b[32m━━━━━━━━━━━━━━━━━━━━\u001b[0m\u001b[37m\u001b[0m \u001b[1m37s\u001b[0m 85ms/step - accuracy: 0.9925 - loss: 0.0221 - val_accuracy: 0.5675 - val_loss: 2.2625\n",
      "Epoch 43/50\n",
      "\u001b[1m438/438\u001b[0m \u001b[32m━━━━━━━━━━━━━━━━━━━━\u001b[0m\u001b[37m\u001b[0m \u001b[1m37s\u001b[0m 85ms/step - accuracy: 0.9897 - loss: 0.0283 - val_accuracy: 0.5845 - val_loss: 2.5500\n",
      "Epoch 44/50\n",
      "\u001b[1m438/438\u001b[0m \u001b[32m━━━━━━━━━━━━━━━━━━━━\u001b[0m\u001b[37m\u001b[0m \u001b[1m38s\u001b[0m 85ms/step - accuracy: 0.9928 - loss: 0.0181 - val_accuracy: 0.5850 - val_loss: 2.3640\n",
      "Epoch 45/50\n",
      "\u001b[1m438/438\u001b[0m \u001b[32m━━━━━━━━━━━━━━━━━━━━\u001b[0m\u001b[37m\u001b[0m \u001b[1m38s\u001b[0m 85ms/step - accuracy: 0.9904 - loss: 0.0246 - val_accuracy: 0.5700 - val_loss: 2.4788\n",
      "Epoch 46/50\n",
      "\u001b[1m438/438\u001b[0m \u001b[32m━━━━━━━━━━━━━━━━━━━━\u001b[0m\u001b[37m\u001b[0m \u001b[1m37s\u001b[0m 85ms/step - accuracy: 0.9936 - loss: 0.0192 - val_accuracy: 0.5510 - val_loss: 2.0583\n",
      "Epoch 47/50\n",
      "\u001b[1m438/438\u001b[0m \u001b[32m━━━━━━━━━━━━━━━━━━━━\u001b[0m\u001b[37m\u001b[0m \u001b[1m37s\u001b[0m 85ms/step - accuracy: 0.9939 - loss: 0.0167 - val_accuracy: 0.5665 - val_loss: 2.4782\n",
      "Epoch 48/50\n",
      "\u001b[1m438/438\u001b[0m \u001b[32m━━━━━━━━━━━━━━━━━━━━\u001b[0m\u001b[37m\u001b[0m \u001b[1m37s\u001b[0m 84ms/step - accuracy: 0.9929 - loss: 0.0202 - val_accuracy: 0.5540 - val_loss: 1.9552\n",
      "Epoch 49/50\n",
      "\u001b[1m438/438\u001b[0m \u001b[32m━━━━━━━━━━━━━━━━━━━━\u001b[0m\u001b[37m\u001b[0m \u001b[1m37s\u001b[0m 85ms/step - accuracy: 0.9906 - loss: 0.0297 - val_accuracy: 0.5680 - val_loss: 2.3373\n",
      "Epoch 50/50\n",
      "\u001b[1m438/438\u001b[0m \u001b[32m━━━━━━━━━━━━━━━━━━━━\u001b[0m\u001b[37m\u001b[0m \u001b[1m37s\u001b[0m 85ms/step - accuracy: 0.9953 - loss: 0.0140 - val_accuracy: 0.5395 - val_loss: 2.3314\n"
     ]
    }
   ],
   "source": [
    "baseline_efficientnet_dfdc_history = baseline_efficientnet_dfdc_model.fit(\n",
    "    dfdc_train_generator, validation_data=dfdc_val_generator, epochs=NUM_EPOCHS\n",
    ")"
   ]
  },
  {
   "cell_type": "code",
   "execution_count": 25,
   "id": "a9563ee8",
   "metadata": {
    "execution": {
     "iopub.execute_input": "2024-11-05T05:38:28.221673Z",
     "iopub.status.busy": "2024-11-05T05:38:28.221256Z",
     "iopub.status.idle": "2024-11-05T05:38:28.691949Z",
     "shell.execute_reply": "2024-11-05T05:38:28.691098Z"
    },
    "papermill": {
     "duration": 6.027556,
     "end_time": "2024-11-05T05:38:28.694179",
     "exception": false,
     "start_time": "2024-11-05T05:38:22.666623",
     "status": "completed"
    },
    "tags": []
   },
   "outputs": [
    {
     "data": {
      "image/png": "[encoded data removed]",
      "text/plain": [
       "<Figure size 1200x400 with 2 Axes>"
      ]
     },
     "metadata": {},
     "output_type": "display_data"
    }
   ],
   "source": [
    "plot_train_result(\n",
    "    baseline_efficientnet_dfdc_history.history,\n",
    "    title=\"Baseline EfficientNet Model on DFDC Dataset\"\n",
    ")"
   ]
  },
  {
   "cell_type": "code",
   "execution_count": 26,
   "id": "ed2a6159",
   "metadata": {
    "execution": {
     "iopub.execute_input": "2024-11-05T05:38:39.987719Z",
     "iopub.status.busy": "2024-11-05T05:38:39.986933Z",
     "iopub.status.idle": "2024-11-05T05:38:42.288241Z",
     "shell.execute_reply": "2024-11-05T05:38:42.287190Z"
    },
    "papermill": {
     "duration": 7.890338,
     "end_time": "2024-11-05T05:38:42.290242",
     "exception": false,
     "start_time": "2024-11-05T05:38:34.399904",
     "status": "completed"
    },
    "tags": []
   },
   "outputs": [
    {
     "name": "stdout",
     "output_type": "stream",
     "text": [
      "Model saved at baseline_efficientnet_dfdc_model.keras\n",
      "Training history saved at baseline_efficientnet_dfdc_history.pkl\n"
     ]
    }
   ],
   "source": [
    "save_model_and_history(\n",
    "    baseline_efficientnet_dfdc_model, baseline_efficientnet_dfdc_history, \"baseline_efficientnet_dfdc\"\n",
    ")"
   ]
  },
  {
   "cell_type": "markdown",
   "id": "08c1a706",
   "metadata": {
    "papermill": {
     "duration": 5.47699,
     "end_time": "2024-11-05T05:38:53.303282",
     "exception": false,
     "start_time": "2024-11-05T05:38:47.826292",
     "status": "completed"
    },
    "tags": []
   },
   "source": [
    "### Dropout EfficientNet Model Training"
   ]
  },
  {
   "cell_type": "markdown",
   "id": "efe91428",
   "metadata": {
    "papermill": {
     "duration": 5.507857,
     "end_time": "2024-11-05T05:39:04.309861",
     "exception": false,
     "start_time": "2024-11-05T05:38:58.802004",
     "status": "completed"
    },
    "tags": []
   },
   "source": [
    "#### Celeb-DF-v2 Dataset"
   ]
  },
  {
   "cell_type": "code",
   "execution_count": 27,
   "id": "2d075b89",
   "metadata": {
    "execution": {
     "iopub.execute_input": "2024-11-05T05:39:15.314272Z",
     "iopub.status.busy": "2024-11-05T05:39:15.313889Z",
     "iopub.status.idle": "2024-11-05T05:39:19.467833Z",
     "shell.execute_reply": "2024-11-05T05:39:19.466907Z"
    },
    "papermill": {
     "duration": 9.666185,
     "end_time": "2024-11-05T05:39:19.469779",
     "exception": false,
     "start_time": "2024-11-05T05:39:09.803594",
     "status": "completed"
    },
    "tags": []
   },
   "outputs": [
    {
     "data": {
      "text/html": [
       "<pre style=\"white-space:pre;overflow-x:auto;line-height:normal;font-family:Menlo,'DejaVu Sans Mono',consolas,'Courier New',monospace\"><span style=\"font-weight: bold\">Model: \"sequential_3\"</span>\n",
       "</pre>\n"
      ],
      "text/plain": [
       "\u001b[1mModel: \"sequential_3\"\u001b[0m\n"
      ]
     },
     "metadata": {},
     "output_type": "display_data"
    },
    {
     "data": {
      "text/html": [
       "<pre style=\"white-space:pre;overflow-x:auto;line-height:normal;font-family:Menlo,'DejaVu Sans Mono',consolas,'Courier New',monospace\">┏━━━━━━━━━━━━━━━━━━━━━━━━━━━━━━━━━┳━━━━━━━━━━━━━━━━━━━━━━━━┳━━━━━━━━━━━━━━━┓\n",
       "┃<span style=\"font-weight: bold\"> Layer (type)                    </span>┃<span style=\"font-weight: bold\"> Output Shape           </span>┃<span style=\"font-weight: bold\">       Param # </span>┃\n",
       "┡━━━━━━━━━━━━━━━━━━━━━━━━━━━━━━━━━╇━━━━━━━━━━━━━━━━━━━━━━━━╇━━━━━━━━━━━━━━━┩\n",
       "│ efficientnetb7 (<span style=\"color: #0087ff; text-decoration-color: #0087ff\">Functional</span>)     │ ?                      │    <span style=\"color: #00af00; text-decoration-color: #00af00\">64,097,687</span> │\n",
       "├─────────────────────────────────┼────────────────────────┼───────────────┤\n",
       "│ flatten_3 (<span style=\"color: #0087ff; text-decoration-color: #0087ff\">Flatten</span>)             │ ?                      │   <span style=\"color: #00af00; text-decoration-color: #00af00\">0</span> (unbuilt) │\n",
       "├─────────────────────────────────┼────────────────────────┼───────────────┤\n",
       "│ dense_15 (<span style=\"color: #0087ff; text-decoration-color: #0087ff\">Dense</span>)                │ ?                      │   <span style=\"color: #00af00; text-decoration-color: #00af00\">0</span> (unbuilt) │\n",
       "├─────────────────────────────────┼────────────────────────┼───────────────┤\n",
       "│ dense_16 (<span style=\"color: #0087ff; text-decoration-color: #0087ff\">Dense</span>)                │ ?                      │   <span style=\"color: #00af00; text-decoration-color: #00af00\">0</span> (unbuilt) │\n",
       "├─────────────────────────────────┼────────────────────────┼───────────────┤\n",
       "│ dense_17 (<span style=\"color: #0087ff; text-decoration-color: #0087ff\">Dense</span>)                │ ?                      │   <span style=\"color: #00af00; text-decoration-color: #00af00\">0</span> (unbuilt) │\n",
       "├─────────────────────────────────┼────────────────────────┼───────────────┤\n",
       "│ dense_18 (<span style=\"color: #0087ff; text-decoration-color: #0087ff\">Dense</span>)                │ ?                      │   <span style=\"color: #00af00; text-decoration-color: #00af00\">0</span> (unbuilt) │\n",
       "├─────────────────────────────────┼────────────────────────┼───────────────┤\n",
       "│ dropout (<span style=\"color: #0087ff; text-decoration-color: #0087ff\">Dropout</span>)               │ ?                      │   <span style=\"color: #00af00; text-decoration-color: #00af00\">0</span> (unbuilt) │\n",
       "├─────────────────────────────────┼────────────────────────┼───────────────┤\n",
       "│ dense_19 (<span style=\"color: #0087ff; text-decoration-color: #0087ff\">Dense</span>)                │ ?                      │   <span style=\"color: #00af00; text-decoration-color: #00af00\">0</span> (unbuilt) │\n",
       "└─────────────────────────────────┴────────────────────────┴───────────────┘\n",
       "</pre>\n"
      ],
      "text/plain": [
       "┏━━━━━━━━━━━━━━━━━━━━━━━━━━━━━━━━━┳━━━━━━━━━━━━━━━━━━━━━━━━┳━━━━━━━━━━━━━━━┓\n",
       "┃\u001b[1m \u001b[0m\u001b[1mLayer (type)                   \u001b[0m\u001b[1m \u001b[0m┃\u001b[1m \u001b[0m\u001b[1mOutput Shape          \u001b[0m\u001b[1m \u001b[0m┃\u001b[1m \u001b[0m\u001b[1m      Param #\u001b[0m\u001b[1m \u001b[0m┃\n",
       "┡━━━━━━━━━━━━━━━━━━━━━━━━━━━━━━━━━╇━━━━━━━━━━━━━━━━━━━━━━━━╇━━━━━━━━━━━━━━━┩\n",
       "│ efficientnetb7 (\u001b[38;5;33mFunctional\u001b[0m)     │ ?                      │    \u001b[38;5;34m64,097,687\u001b[0m │\n",
       "├─────────────────────────────────┼────────────────────────┼───────────────┤\n",
       "│ flatten_3 (\u001b[38;5;33mFlatten\u001b[0m)             │ ?                      │   \u001b[38;5;34m0\u001b[0m (unbuilt) │\n",
       "├─────────────────────────────────┼────────────────────────┼───────────────┤\n",
       "│ dense_15 (\u001b[38;5;33mDense\u001b[0m)                │ ?                      │   \u001b[38;5;34m0\u001b[0m (unbuilt) │\n",
       "├─────────────────────────────────┼────────────────────────┼───────────────┤\n",
       "│ dense_16 (\u001b[38;5;33mDense\u001b[0m)                │ ?                      │   \u001b[38;5;34m0\u001b[0m (unbuilt) │\n",
       "├─────────────────────────────────┼────────────────────────┼───────────────┤\n",
       "│ dense_17 (\u001b[38;5;33mDense\u001b[0m)                │ ?                      │   \u001b[38;5;34m0\u001b[0m (unbuilt) │\n",
       "├─────────────────────────────────┼────────────────────────┼───────────────┤\n",
       "│ dense_18 (\u001b[38;5;33mDense\u001b[0m)                │ ?                      │   \u001b[38;5;34m0\u001b[0m (unbuilt) │\n",
       "├─────────────────────────────────┼────────────────────────┼───────────────┤\n",
       "│ dropout (\u001b[38;5;33mDropout\u001b[0m)               │ ?                      │   \u001b[38;5;34m0\u001b[0m (unbuilt) │\n",
       "├─────────────────────────────────┼────────────────────────┼───────────────┤\n",
       "│ dense_19 (\u001b[38;5;33mDense\u001b[0m)                │ ?                      │   \u001b[38;5;34m0\u001b[0m (unbuilt) │\n",
       "└─────────────────────────────────┴────────────────────────┴───────────────┘\n"
      ]
     },
     "metadata": {},
     "output_type": "display_data"
    },
    {
     "data": {
      "text/html": [
       "<pre style=\"white-space:pre;overflow-x:auto;line-height:normal;font-family:Menlo,'DejaVu Sans Mono',consolas,'Courier New',monospace\"><span style=\"font-weight: bold\"> Total params: </span><span style=\"color: #00af00; text-decoration-color: #00af00\">64,097,687</span> (244.51 MB)\n",
       "</pre>\n"
      ],
      "text/plain": [
       "\u001b[1m Total params: \u001b[0m\u001b[38;5;34m64,097,687\u001b[0m (244.51 MB)\n"
      ]
     },
     "metadata": {},
     "output_type": "display_data"
    },
    {
     "data": {
      "text/html": [
       "<pre style=\"white-space:pre;overflow-x:auto;line-height:normal;font-family:Menlo,'DejaVu Sans Mono',consolas,'Courier New',monospace\"><span style=\"font-weight: bold\"> Trainable params: </span><span style=\"color: #00af00; text-decoration-color: #00af00\">0</span> (0.00 B)\n",
       "</pre>\n"
      ],
      "text/plain": [
       "\u001b[1m Trainable params: \u001b[0m\u001b[38;5;34m0\u001b[0m (0.00 B)\n"
      ]
     },
     "metadata": {},
     "output_type": "display_data"
    },
    {
     "data": {
      "text/html": [
       "<pre style=\"white-space:pre;overflow-x:auto;line-height:normal;font-family:Menlo,'DejaVu Sans Mono',consolas,'Courier New',monospace\"><span style=\"font-weight: bold\"> Non-trainable params: </span><span style=\"color: #00af00; text-decoration-color: #00af00\">64,097,687</span> (244.51 MB)\n",
       "</pre>\n"
      ],
      "text/plain": [
       "\u001b[1m Non-trainable params: \u001b[0m\u001b[38;5;34m64,097,687\u001b[0m (244.51 MB)\n"
      ]
     },
     "metadata": {},
     "output_type": "display_data"
    }
   ],
   "source": [
    "dropout_efficientnet_cdf_model = create_efficientnet_model(best_hp, dropout=True)\n",
    "dropout_efficientnet_cdf_model.summary()"
   ]
  },
  {
   "cell_type": "code",
   "execution_count": 28,
   "id": "b57e751e",
   "metadata": {
    "execution": {
     "iopub.execute_input": "2024-11-05T05:39:30.481973Z",
     "iopub.status.busy": "2024-11-05T05:39:30.481560Z",
     "iopub.status.idle": "2024-11-05T06:15:21.637820Z",
     "shell.execute_reply": "2024-11-05T06:15:21.636826Z"
    },
    "papermill": {
     "duration": 2164.166631,
     "end_time": "2024-11-05T06:15:29.143580",
     "exception": false,
     "start_time": "2024-11-05T05:39:24.976949",
     "status": "completed"
    },
    "tags": []
   },
   "outputs": [
    {
     "name": "stdout",
     "output_type": "stream",
     "text": [
      "Epoch 1/50\n",
      "\u001b[1m438/438\u001b[0m \u001b[32m━━━━━━━━━━━━━━━━━━━━\u001b[0m\u001b[37m\u001b[0m \u001b[1m286s\u001b[0m 348ms/step - accuracy: 0.5307 - loss: 0.6912 - val_accuracy: 0.5485 - val_loss: 0.6783\n",
      "Epoch 2/50\n",
      "\u001b[1m438/438\u001b[0m \u001b[32m━━━━━━━━━━━━━━━━━━━━\u001b[0m\u001b[37m\u001b[0m \u001b[1m49s\u001b[0m 85ms/step - accuracy: 0.6200 - loss: 0.6552 - val_accuracy: 0.5710 - val_loss: 0.6720\n",
      "Epoch 3/50\n",
      "\u001b[1m438/438\u001b[0m \u001b[32m━━━━━━━━━━━━━━━━━━━━\u001b[0m\u001b[37m\u001b[0m \u001b[1m38s\u001b[0m 85ms/step - accuracy: 0.6926 - loss: 0.5891 - val_accuracy: 0.5830 - val_loss: 0.6986\n",
      "Epoch 4/50\n",
      "\u001b[1m438/438\u001b[0m \u001b[32m━━━━━━━━━━━━━━━━━━━━\u001b[0m\u001b[37m\u001b[0m \u001b[1m38s\u001b[0m 85ms/step - accuracy: 0.7499 - loss: 0.5333 - val_accuracy: 0.5935 - val_loss: 0.7519\n",
      "Epoch 5/50\n",
      "\u001b[1m438/438\u001b[0m \u001b[32m━━━━━━━━━━━━━━━━━━━━\u001b[0m\u001b[37m\u001b[0m \u001b[1m38s\u001b[0m 85ms/step - accuracy: 0.7953 - loss: 0.4641 - val_accuracy: 0.5845 - val_loss: 0.8055\n",
      "Epoch 6/50\n",
      "\u001b[1m438/438\u001b[0m \u001b[32m━━━━━━━━━━━━━━━━━━━━\u001b[0m\u001b[37m\u001b[0m \u001b[1m38s\u001b[0m 86ms/step - accuracy: 0.8160 - loss: 0.4189 - val_accuracy: 0.6060 - val_loss: 0.8537\n",
      "Epoch 7/50\n",
      "\u001b[1m438/438\u001b[0m \u001b[32m━━━━━━━━━━━━━━━━━━━━\u001b[0m\u001b[37m\u001b[0m \u001b[1m38s\u001b[0m 85ms/step - accuracy: 0.8378 - loss: 0.3829 - val_accuracy: 0.6030 - val_loss: 0.8914\n",
      "Epoch 8/50\n",
      "\u001b[1m438/438\u001b[0m \u001b[32m━━━━━━━━━━━━━━━━━━━━\u001b[0m\u001b[37m\u001b[0m \u001b[1m38s\u001b[0m 85ms/step - accuracy: 0.8659 - loss: 0.3315 - val_accuracy: 0.6130 - val_loss: 0.8992\n",
      "Epoch 9/50\n",
      "\u001b[1m438/438\u001b[0m \u001b[32m━━━━━━━━━━━━━━━━━━━━\u001b[0m\u001b[37m\u001b[0m \u001b[1m38s\u001b[0m 85ms/step - accuracy: 0.8809 - loss: 0.3025 - val_accuracy: 0.6020 - val_loss: 1.0547\n",
      "Epoch 10/50\n",
      "\u001b[1m438/438\u001b[0m \u001b[32m━━━━━━━━━━━━━━━━━━━━\u001b[0m\u001b[37m\u001b[0m \u001b[1m41s\u001b[0m 85ms/step - accuracy: 0.8914 - loss: 0.2804 - val_accuracy: 0.6020 - val_loss: 1.0764\n",
      "Epoch 11/50\n",
      "\u001b[1m438/438\u001b[0m \u001b[32m━━━━━━━━━━━━━━━━━━━━\u001b[0m\u001b[37m\u001b[0m \u001b[1m38s\u001b[0m 85ms/step - accuracy: 0.9038 - loss: 0.2476 - val_accuracy: 0.6025 - val_loss: 1.0740\n",
      "Epoch 12/50\n",
      "\u001b[1m438/438\u001b[0m \u001b[32m━━━━━━━━━━━━━━━━━━━━\u001b[0m\u001b[37m\u001b[0m \u001b[1m38s\u001b[0m 85ms/step - accuracy: 0.9195 - loss: 0.2212 - val_accuracy: 0.5995 - val_loss: 1.1425\n",
      "Epoch 13/50\n",
      "\u001b[1m438/438\u001b[0m \u001b[32m━━━━━━━━━━━━━━━━━━━━\u001b[0m\u001b[37m\u001b[0m \u001b[1m38s\u001b[0m 85ms/step - accuracy: 0.9188 - loss: 0.2118 - val_accuracy: 0.6005 - val_loss: 1.2101\n",
      "Epoch 14/50\n",
      "\u001b[1m438/438\u001b[0m \u001b[32m━━━━━━━━━━━━━━━━━━━━\u001b[0m\u001b[37m\u001b[0m \u001b[1m41s\u001b[0m 84ms/step - accuracy: 0.9267 - loss: 0.1928 - val_accuracy: 0.5910 - val_loss: 1.3527\n",
      "Epoch 15/50\n",
      "\u001b[1m438/438\u001b[0m \u001b[32m━━━━━━━━━━━━━━━━━━━━\u001b[0m\u001b[37m\u001b[0m \u001b[1m37s\u001b[0m 84ms/step - accuracy: 0.9271 - loss: 0.1832 - val_accuracy: 0.6125 - val_loss: 1.2601\n",
      "Epoch 16/50\n",
      "\u001b[1m438/438\u001b[0m \u001b[32m━━━━━━━━━━━━━━━━━━━━\u001b[0m\u001b[37m\u001b[0m \u001b[1m37s\u001b[0m 84ms/step - accuracy: 0.9408 - loss: 0.1610 - val_accuracy: 0.6150 - val_loss: 1.3113\n",
      "Epoch 17/50\n",
      "\u001b[1m438/438\u001b[0m \u001b[32m━━━━━━━━━━━━━━━━━━━━\u001b[0m\u001b[37m\u001b[0m \u001b[1m41s\u001b[0m 84ms/step - accuracy: 0.9427 - loss: 0.1566 - val_accuracy: 0.6010 - val_loss: 1.3845\n",
      "Epoch 18/50\n",
      "\u001b[1m438/438\u001b[0m \u001b[32m━━━━━━━━━━━━━━━━━━━━\u001b[0m\u001b[37m\u001b[0m \u001b[1m37s\u001b[0m 84ms/step - accuracy: 0.9381 - loss: 0.1581 - val_accuracy: 0.6105 - val_loss: 1.4192\n",
      "Epoch 19/50\n",
      "\u001b[1m438/438\u001b[0m \u001b[32m━━━━━━━━━━━━━━━━━━━━\u001b[0m\u001b[37m\u001b[0m \u001b[1m37s\u001b[0m 84ms/step - accuracy: 0.9548 - loss: 0.1305 - val_accuracy: 0.6085 - val_loss: 1.4524\n",
      "Epoch 20/50\n",
      "\u001b[1m438/438\u001b[0m \u001b[32m━━━━━━━━━━━━━━━━━━━━\u001b[0m\u001b[37m\u001b[0m \u001b[1m37s\u001b[0m 84ms/step - accuracy: 0.9534 - loss: 0.1259 - val_accuracy: 0.6115 - val_loss: 1.5011\n",
      "Epoch 21/50\n",
      "\u001b[1m438/438\u001b[0m \u001b[32m━━━━━━━━━━━━━━━━━━━━\u001b[0m\u001b[37m\u001b[0m \u001b[1m37s\u001b[0m 84ms/step - accuracy: 0.9589 - loss: 0.1133 - val_accuracy: 0.6055 - val_loss: 1.6092\n",
      "Epoch 22/50\n",
      "\u001b[1m438/438\u001b[0m \u001b[32m━━━━━━━━━━━━━━━━━━━━\u001b[0m\u001b[37m\u001b[0m \u001b[1m37s\u001b[0m 84ms/step - accuracy: 0.9601 - loss: 0.1099 - val_accuracy: 0.6145 - val_loss: 1.6423\n",
      "Epoch 23/50\n",
      "\u001b[1m438/438\u001b[0m \u001b[32m━━━━━━━━━━━━━━━━━━━━\u001b[0m\u001b[37m\u001b[0m \u001b[1m37s\u001b[0m 85ms/step - accuracy: 0.9601 - loss: 0.1094 - val_accuracy: 0.6030 - val_loss: 1.6118\n",
      "Epoch 24/50\n",
      "\u001b[1m438/438\u001b[0m \u001b[32m━━━━━━━━━━━━━━━━━━━━\u001b[0m\u001b[37m\u001b[0m \u001b[1m37s\u001b[0m 84ms/step - accuracy: 0.9629 - loss: 0.1020 - val_accuracy: 0.5970 - val_loss: 1.8171\n",
      "Epoch 25/50\n",
      "\u001b[1m438/438\u001b[0m \u001b[32m━━━━━━━━━━━━━━━━━━━━\u001b[0m\u001b[37m\u001b[0m \u001b[1m37s\u001b[0m 85ms/step - accuracy: 0.9672 - loss: 0.0925 - val_accuracy: 0.6175 - val_loss: 1.6915\n",
      "Epoch 26/50\n",
      "\u001b[1m438/438\u001b[0m \u001b[32m━━━━━━━━━━━━━━━━━━━━\u001b[0m\u001b[37m\u001b[0m \u001b[1m37s\u001b[0m 84ms/step - accuracy: 0.9691 - loss: 0.0879 - val_accuracy: 0.6150 - val_loss: 1.7152\n",
      "Epoch 27/50\n",
      "\u001b[1m438/438\u001b[0m \u001b[32m━━━━━━━━━━━━━━━━━━━━\u001b[0m\u001b[37m\u001b[0m \u001b[1m41s\u001b[0m 85ms/step - accuracy: 0.9671 - loss: 0.0890 - val_accuracy: 0.6180 - val_loss: 1.7523\n",
      "Epoch 28/50\n",
      "\u001b[1m438/438\u001b[0m \u001b[32m━━━━━━━━━━━━━━━━━━━━\u001b[0m\u001b[37m\u001b[0m \u001b[1m37s\u001b[0m 83ms/step - accuracy: 0.9727 - loss: 0.0758 - val_accuracy: 0.6055 - val_loss: 1.9162\n",
      "Epoch 29/50\n",
      "\u001b[1m438/438\u001b[0m \u001b[32m━━━━━━━━━━━━━━━━━━━━\u001b[0m\u001b[37m\u001b[0m \u001b[1m41s\u001b[0m 84ms/step - accuracy: 0.9724 - loss: 0.0773 - val_accuracy: 0.6085 - val_loss: 1.9273\n",
      "Epoch 30/50\n",
      "\u001b[1m438/438\u001b[0m \u001b[32m━━━━━━━━━━━━━━━━━━━━\u001b[0m\u001b[37m\u001b[0m \u001b[1m37s\u001b[0m 84ms/step - accuracy: 0.9723 - loss: 0.0742 - val_accuracy: 0.5950 - val_loss: 2.1107\n",
      "Epoch 31/50\n",
      "\u001b[1m438/438\u001b[0m \u001b[32m━━━━━━━━━━━━━━━━━━━━\u001b[0m\u001b[37m\u001b[0m \u001b[1m37s\u001b[0m 84ms/step - accuracy: 0.9729 - loss: 0.0701 - val_accuracy: 0.6025 - val_loss: 1.9976\n",
      "Epoch 32/50\n",
      "\u001b[1m438/438\u001b[0m \u001b[32m━━━━━━━━━━━━━━━━━━━━\u001b[0m\u001b[37m\u001b[0m \u001b[1m38s\u001b[0m 85ms/step - accuracy: 0.9754 - loss: 0.0689 - val_accuracy: 0.5815 - val_loss: 2.1482\n",
      "Epoch 33/50\n",
      "\u001b[1m438/438\u001b[0m \u001b[32m━━━━━━━━━━━━━━━━━━━━\u001b[0m\u001b[37m\u001b[0m \u001b[1m37s\u001b[0m 84ms/step - accuracy: 0.9801 - loss: 0.0555 - val_accuracy: 0.5865 - val_loss: 2.1806\n",
      "Epoch 34/50\n",
      "\u001b[1m438/438\u001b[0m \u001b[32m━━━━━━━━━━━━━━━━━━━━\u001b[0m\u001b[37m\u001b[0m \u001b[1m38s\u001b[0m 85ms/step - accuracy: 0.9723 - loss: 0.0688 - val_accuracy: 0.5900 - val_loss: 2.0531\n",
      "Epoch 35/50\n",
      "\u001b[1m438/438\u001b[0m \u001b[32m━━━━━━━━━━━━━━━━━━━━\u001b[0m\u001b[37m\u001b[0m \u001b[1m37s\u001b[0m 84ms/step - accuracy: 0.9775 - loss: 0.0637 - val_accuracy: 0.5885 - val_loss: 2.1454\n",
      "Epoch 36/50\n",
      "\u001b[1m438/438\u001b[0m \u001b[32m━━━━━━━━━━━━━━━━━━━━\u001b[0m\u001b[37m\u001b[0m \u001b[1m37s\u001b[0m 84ms/step - accuracy: 0.9766 - loss: 0.0625 - val_accuracy: 0.5845 - val_loss: 2.1769\n",
      "Epoch 37/50\n",
      "\u001b[1m438/438\u001b[0m \u001b[32m━━━━━━━━━━━━━━━━━━━━\u001b[0m\u001b[37m\u001b[0m \u001b[1m41s\u001b[0m 84ms/step - accuracy: 0.9790 - loss: 0.0574 - val_accuracy: 0.5900 - val_loss: 2.1314\n",
      "Epoch 38/50\n",
      "\u001b[1m438/438\u001b[0m \u001b[32m━━━━━━━━━━━━━━━━━━━━\u001b[0m\u001b[37m\u001b[0m \u001b[1m37s\u001b[0m 84ms/step - accuracy: 0.9790 - loss: 0.0552 - val_accuracy: 0.6055 - val_loss: 2.1981\n",
      "Epoch 39/50\n",
      "\u001b[1m438/438\u001b[0m \u001b[32m━━━━━━━━━━━━━━━━━━━━\u001b[0m\u001b[37m\u001b[0m \u001b[1m37s\u001b[0m 84ms/step - accuracy: 0.9821 - loss: 0.0511 - val_accuracy: 0.5965 - val_loss: 2.0898\n",
      "Epoch 40/50\n",
      "\u001b[1m438/438\u001b[0m \u001b[32m━━━━━━━━━━━━━━━━━━━━\u001b[0m\u001b[37m\u001b[0m \u001b[1m37s\u001b[0m 84ms/step - accuracy: 0.9782 - loss: 0.0528 - val_accuracy: 0.5865 - val_loss: 2.2333\n",
      "Epoch 41/50\n",
      "\u001b[1m438/438\u001b[0m \u001b[32m━━━━━━━━━━━━━━━━━━━━\u001b[0m\u001b[37m\u001b[0m \u001b[1m41s\u001b[0m 84ms/step - accuracy: 0.9784 - loss: 0.0580 - val_accuracy: 0.5905 - val_loss: 2.3240\n",
      "Epoch 42/50\n",
      "\u001b[1m438/438\u001b[0m \u001b[32m━━━━━━━━━━━━━━━━━━━━\u001b[0m\u001b[37m\u001b[0m \u001b[1m37s\u001b[0m 84ms/step - accuracy: 0.9813 - loss: 0.0495 - val_accuracy: 0.5910 - val_loss: 2.1973\n",
      "Epoch 43/50\n",
      "\u001b[1m438/438\u001b[0m \u001b[32m━━━━━━━━━━━━━━━━━━━━\u001b[0m\u001b[37m\u001b[0m \u001b[1m37s\u001b[0m 84ms/step - accuracy: 0.9854 - loss: 0.0427 - val_accuracy: 0.5980 - val_loss: 2.3437\n",
      "Epoch 44/50\n",
      "\u001b[1m438/438\u001b[0m \u001b[32m━━━━━━━━━━━━━━━━━━━━\u001b[0m\u001b[37m\u001b[0m \u001b[1m37s\u001b[0m 84ms/step - accuracy: 0.9821 - loss: 0.0477 - val_accuracy: 0.5740 - val_loss: 2.3136\n",
      "Epoch 45/50\n",
      "\u001b[1m438/438\u001b[0m \u001b[32m━━━━━━━━━━━━━━━━━━━━\u001b[0m\u001b[37m\u001b[0m \u001b[1m38s\u001b[0m 85ms/step - accuracy: 0.9807 - loss: 0.0538 - val_accuracy: 0.5900 - val_loss: 2.2728\n",
      "Epoch 46/50\n",
      "\u001b[1m438/438\u001b[0m \u001b[32m━━━━━━━━━━━━━━━━━━━━\u001b[0m\u001b[37m\u001b[0m \u001b[1m37s\u001b[0m 85ms/step - accuracy: 0.9782 - loss: 0.0640 - val_accuracy: 0.5880 - val_loss: 2.3619\n",
      "Epoch 47/50\n",
      "\u001b[1m438/438\u001b[0m \u001b[32m━━━━━━━━━━━━━━━━━━━━\u001b[0m\u001b[37m\u001b[0m \u001b[1m38s\u001b[0m 86ms/step - accuracy: 0.9885 - loss: 0.0359 - val_accuracy: 0.5970 - val_loss: 2.3130\n",
      "Epoch 48/50\n",
      "\u001b[1m438/438\u001b[0m \u001b[32m━━━━━━━━━━━━━━━━━━━━\u001b[0m\u001b[37m\u001b[0m \u001b[1m37s\u001b[0m 84ms/step - accuracy: 0.9849 - loss: 0.0400 - val_accuracy: 0.6005 - val_loss: 2.2532\n",
      "Epoch 49/50\n",
      "\u001b[1m438/438\u001b[0m \u001b[32m━━━━━━━━━━━━━━━━━━━━\u001b[0m\u001b[37m\u001b[0m \u001b[1m37s\u001b[0m 83ms/step - accuracy: 0.9865 - loss: 0.0407 - val_accuracy: 0.5955 - val_loss: 2.2130\n",
      "Epoch 50/50\n",
      "\u001b[1m438/438\u001b[0m \u001b[32m━━━━━━━━━━━━━━━━━━━━\u001b[0m\u001b[37m\u001b[0m \u001b[1m37s\u001b[0m 84ms/step - accuracy: 0.9837 - loss: 0.0416 - val_accuracy: 0.6145 - val_loss: 2.3002\n"
     ]
    }
   ],
   "source": [
    "dropout_efficientnet_cdf_history = dropout_efficientnet_cdf_model.fit(\n",
    "    cdf_train_generator, validation_data=cdf_val_generator, epochs=NUM_EPOCHS\n",
    ")"
   ]
  },
  {
   "cell_type": "code",
   "execution_count": 29,
   "id": "cfab6bd5",
   "metadata": {
    "execution": {
     "iopub.execute_input": "2024-11-05T06:15:43.790115Z",
     "iopub.status.busy": "2024-11-05T06:15:43.789203Z",
     "iopub.status.idle": "2024-11-05T06:15:44.248280Z",
     "shell.execute_reply": "2024-11-05T06:15:44.247324Z"
    },
    "papermill": {
     "duration": 7.776845,
     "end_time": "2024-11-05T06:15:44.250300",
     "exception": false,
     "start_time": "2024-11-05T06:15:36.473455",
     "status": "completed"
    },
    "tags": []
   },
   "outputs": [
    {
     "data": {
      "image/png": "[encoded data removed]",
      "text/plain": [
       "<Figure size 1200x400 with 2 Axes>"
      ]
     },
     "metadata": {},
     "output_type": "display_data"
    }
   ],
   "source": [
    "plot_train_result(\n",
    "    dropout_efficientnet_cdf_history.history,\n",
    "    title=\"Dropout EfficientNet Model on Celeb-DF-v2 Dataset\"\n",
    ")"
   ]
  },
  {
   "cell_type": "code",
   "execution_count": 30,
   "id": "ab2abb26",
   "metadata": {
    "execution": {
     "iopub.execute_input": "2024-11-05T06:15:59.026025Z",
     "iopub.status.busy": "2024-11-05T06:15:59.024851Z",
     "iopub.status.idle": "2024-11-05T06:16:01.366020Z",
     "shell.execute_reply": "2024-11-05T06:16:01.364951Z"
    },
    "papermill": {
     "duration": 9.744634,
     "end_time": "2024-11-05T06:16:01.368071",
     "exception": false,
     "start_time": "2024-11-05T06:15:51.623437",
     "status": "completed"
    },
    "tags": []
   },
   "outputs": [
    {
     "name": "stdout",
     "output_type": "stream",
     "text": [
      "Model saved at dropout_efficientnet_cdf_model.keras\n",
      "Training history saved at dropout_efficientnet_cdf_history.pkl\n"
     ]
    }
   ],
   "source": [
    "save_model_and_history(\n",
    "    dropout_efficientnet_cdf_model, dropout_efficientnet_cdf_history, \"dropout_efficientnet_cdf\"\n",
    ")"
   ]
  },
  {
   "cell_type": "markdown",
   "id": "e68ff3a0",
   "metadata": {
    "papermill": {
     "duration": 7.310559,
     "end_time": "2024-11-05T06:16:16.120596",
     "exception": false,
     "start_time": "2024-11-05T06:16:08.810037",
     "status": "completed"
    },
    "tags": []
   },
   "source": [
    "#### DeeperForensics-1.0 Dataset"
   ]
  },
  {
   "cell_type": "code",
   "execution_count": 31,
   "id": "9789980b",
   "metadata": {
    "execution": {
     "iopub.execute_input": "2024-11-05T06:16:30.964891Z",
     "iopub.status.busy": "2024-11-05T06:16:30.964379Z",
     "iopub.status.idle": "2024-11-05T06:16:36.623955Z",
     "shell.execute_reply": "2024-11-05T06:16:36.623023Z"
    },
    "papermill": {
     "duration": 13.07069,
     "end_time": "2024-11-05T06:16:36.625932",
     "exception": false,
     "start_time": "2024-11-05T06:16:23.555242",
     "status": "completed"
    },
    "tags": []
   },
   "outputs": [
    {
     "data": {
      "text/html": [
       "<pre style=\"white-space:pre;overflow-x:auto;line-height:normal;font-family:Menlo,'DejaVu Sans Mono',consolas,'Courier New',monospace\"><span style=\"font-weight: bold\">Model: \"sequential_4\"</span>\n",
       "</pre>\n"
      ],
      "text/plain": [
       "\u001b[1mModel: \"sequential_4\"\u001b[0m\n"
      ]
     },
     "metadata": {},
     "output_type": "display_data"
    },
    {
     "data": {
      "text/html": [
       "<pre style=\"white-space:pre;overflow-x:auto;line-height:normal;font-family:Menlo,'DejaVu Sans Mono',consolas,'Courier New',monospace\">┏━━━━━━━━━━━━━━━━━━━━━━━━━━━━━━━━━┳━━━━━━━━━━━━━━━━━━━━━━━━┳━━━━━━━━━━━━━━━┓\n",
       "┃<span style=\"font-weight: bold\"> Layer (type)                    </span>┃<span style=\"font-weight: bold\"> Output Shape           </span>┃<span style=\"font-weight: bold\">       Param # </span>┃\n",
       "┡━━━━━━━━━━━━━━━━━━━━━━━━━━━━━━━━━╇━━━━━━━━━━━━━━━━━━━━━━━━╇━━━━━━━━━━━━━━━┩\n",
       "│ efficientnetb7 (<span style=\"color: #0087ff; text-decoration-color: #0087ff\">Functional</span>)     │ ?                      │    <span style=\"color: #00af00; text-decoration-color: #00af00\">64,097,687</span> │\n",
       "├─────────────────────────────────┼────────────────────────┼───────────────┤\n",
       "│ flatten_4 (<span style=\"color: #0087ff; text-decoration-color: #0087ff\">Flatten</span>)             │ ?                      │   <span style=\"color: #00af00; text-decoration-color: #00af00\">0</span> (unbuilt) │\n",
       "├─────────────────────────────────┼────────────────────────┼───────────────┤\n",
       "│ dense_20 (<span style=\"color: #0087ff; text-decoration-color: #0087ff\">Dense</span>)                │ ?                      │   <span style=\"color: #00af00; text-decoration-color: #00af00\">0</span> (unbuilt) │\n",
       "├─────────────────────────────────┼────────────────────────┼───────────────┤\n",
       "│ dense_21 (<span style=\"color: #0087ff; text-decoration-color: #0087ff\">Dense</span>)                │ ?                      │   <span style=\"color: #00af00; text-decoration-color: #00af00\">0</span> (unbuilt) │\n",
       "├─────────────────────────────────┼────────────────────────┼───────────────┤\n",
       "│ dense_22 (<span style=\"color: #0087ff; text-decoration-color: #0087ff\">Dense</span>)                │ ?                      │   <span style=\"color: #00af00; text-decoration-color: #00af00\">0</span> (unbuilt) │\n",
       "├─────────────────────────────────┼────────────────────────┼───────────────┤\n",
       "│ dense_23 (<span style=\"color: #0087ff; text-decoration-color: #0087ff\">Dense</span>)                │ ?                      │   <span style=\"color: #00af00; text-decoration-color: #00af00\">0</span> (unbuilt) │\n",
       "├─────────────────────────────────┼────────────────────────┼───────────────┤\n",
       "│ dropout_1 (<span style=\"color: #0087ff; text-decoration-color: #0087ff\">Dropout</span>)             │ ?                      │   <span style=\"color: #00af00; text-decoration-color: #00af00\">0</span> (unbuilt) │\n",
       "├─────────────────────────────────┼────────────────────────┼───────────────┤\n",
       "│ dense_24 (<span style=\"color: #0087ff; text-decoration-color: #0087ff\">Dense</span>)                │ ?                      │   <span style=\"color: #00af00; text-decoration-color: #00af00\">0</span> (unbuilt) │\n",
       "└─────────────────────────────────┴────────────────────────┴───────────────┘\n",
       "</pre>\n"
      ],
      "text/plain": [
       "┏━━━━━━━━━━━━━━━━━━━━━━━━━━━━━━━━━┳━━━━━━━━━━━━━━━━━━━━━━━━┳━━━━━━━━━━━━━━━┓\n",
       "┃\u001b[1m \u001b[0m\u001b[1mLayer (type)                   \u001b[0m\u001b[1m \u001b[0m┃\u001b[1m \u001b[0m\u001b[1mOutput Shape          \u001b[0m\u001b[1m \u001b[0m┃\u001b[1m \u001b[0m\u001b[1m      Param #\u001b[0m\u001b[1m \u001b[0m┃\n",
       "┡━━━━━━━━━━━━━━━━━━━━━━━━━━━━━━━━━╇━━━━━━━━━━━━━━━━━━━━━━━━╇━━━━━━━━━━━━━━━┩\n",
       "│ efficientnetb7 (\u001b[38;5;33mFunctional\u001b[0m)     │ ?                      │    \u001b[38;5;34m64,097,687\u001b[0m │\n",
       "├─────────────────────────────────┼────────────────────────┼───────────────┤\n",
       "│ flatten_4 (\u001b[38;5;33mFlatten\u001b[0m)             │ ?                      │   \u001b[38;5;34m0\u001b[0m (unbuilt) │\n",
       "├─────────────────────────────────┼────────────────────────┼───────────────┤\n",
       "│ dense_20 (\u001b[38;5;33mDense\u001b[0m)                │ ?                      │   \u001b[38;5;34m0\u001b[0m (unbuilt) │\n",
       "├─────────────────────────────────┼────────────────────────┼───────────────┤\n",
       "│ dense_21 (\u001b[38;5;33mDense\u001b[0m)                │ ?                      │   \u001b[38;5;34m0\u001b[0m (unbuilt) │\n",
       "├─────────────────────────────────┼────────────────────────┼───────────────┤\n",
       "│ dense_22 (\u001b[38;5;33mDense\u001b[0m)                │ ?                      │   \u001b[38;5;34m0\u001b[0m (unbuilt) │\n",
       "├─────────────────────────────────┼────────────────────────┼───────────────┤\n",
       "│ dense_23 (\u001b[38;5;33mDense\u001b[0m)                │ ?                      │   \u001b[38;5;34m0\u001b[0m (unbuilt) │\n",
       "├─────────────────────────────────┼────────────────────────┼───────────────┤\n",
       "│ dropout_1 (\u001b[38;5;33mDropout\u001b[0m)             │ ?                      │   \u001b[38;5;34m0\u001b[0m (unbuilt) │\n",
       "├─────────────────────────────────┼────────────────────────┼───────────────┤\n",
       "│ dense_24 (\u001b[38;5;33mDense\u001b[0m)                │ ?                      │   \u001b[38;5;34m0\u001b[0m (unbuilt) │\n",
       "└─────────────────────────────────┴────────────────────────┴───────────────┘\n"
      ]
     },
     "metadata": {},
     "output_type": "display_data"
    },
    {
     "data": {
      "text/html": [
       "<pre style=\"white-space:pre;overflow-x:auto;line-height:normal;font-family:Menlo,'DejaVu Sans Mono',consolas,'Courier New',monospace\"><span style=\"font-weight: bold\"> Total params: </span><span style=\"color: #00af00; text-decoration-color: #00af00\">64,097,687</span> (244.51 MB)\n",
       "</pre>\n"
      ],
      "text/plain": [
       "\u001b[1m Total params: \u001b[0m\u001b[38;5;34m64,097,687\u001b[0m (244.51 MB)\n"
      ]
     },
     "metadata": {},
     "output_type": "display_data"
    },
    {
     "data": {
      "text/html": [
       "<pre style=\"white-space:pre;overflow-x:auto;line-height:normal;font-family:Menlo,'DejaVu Sans Mono',consolas,'Courier New',monospace\"><span style=\"font-weight: bold\"> Trainable params: </span><span style=\"color: #00af00; text-decoration-color: #00af00\">0</span> (0.00 B)\n",
       "</pre>\n"
      ],
      "text/plain": [
       "\u001b[1m Trainable params: \u001b[0m\u001b[38;5;34m0\u001b[0m (0.00 B)\n"
      ]
     },
     "metadata": {},
     "output_type": "display_data"
    },
    {
     "data": {
      "text/html": [
       "<pre style=\"white-space:pre;overflow-x:auto;line-height:normal;font-family:Menlo,'DejaVu Sans Mono',consolas,'Courier New',monospace\"><span style=\"font-weight: bold\"> Non-trainable params: </span><span style=\"color: #00af00; text-decoration-color: #00af00\">64,097,687</span> (244.51 MB)\n",
       "</pre>\n"
      ],
      "text/plain": [
       "\u001b[1m Non-trainable params: \u001b[0m\u001b[38;5;34m64,097,687\u001b[0m (244.51 MB)\n"
      ]
     },
     "metadata": {},
     "output_type": "display_data"
    }
   ],
   "source": [
    "dropout_efficientnet_df_model = create_efficientnet_model(best_hp, dropout=True)\n",
    "dropout_efficientnet_df_model.summary()"
   ]
  },
  {
   "cell_type": "code",
   "execution_count": 32,
   "id": "52bd2825",
   "metadata": {
    "execution": {
     "iopub.execute_input": "2024-11-05T06:16:51.344805Z",
     "iopub.status.busy": "2024-11-05T06:16:51.344112Z",
     "iopub.status.idle": "2024-11-05T06:52:20.892785Z",
     "shell.execute_reply": "2024-11-05T06:52:20.891783Z"
    },
    "papermill": {
     "duration": 2136.946425,
     "end_time": "2024-11-05T06:52:20.894943",
     "exception": false,
     "start_time": "2024-11-05T06:16:43.948518",
     "status": "completed"
    },
    "tags": []
   },
   "outputs": [
    {
     "name": "stdout",
     "output_type": "stream",
     "text": [
      "Epoch 1/50\n",
      "\u001b[1m438/438\u001b[0m \u001b[32m━━━━━━━━━━━━━━━━━━━━\u001b[0m\u001b[37m\u001b[0m \u001b[1m282s\u001b[0m 348ms/step - accuracy: 0.6461 - loss: 0.6162 - val_accuracy: 0.7780 - val_loss: 0.4796\n",
      "Epoch 2/50\n",
      "\u001b[1m438/438\u001b[0m \u001b[32m━━━━━━━━━━━━━━━━━━━━\u001b[0m\u001b[37m\u001b[0m \u001b[1m37s\u001b[0m 84ms/step - accuracy: 0.9099 - loss: 0.2722 - val_accuracy: 0.8135 - val_loss: 0.4300\n",
      "Epoch 3/50\n",
      "\u001b[1m438/438\u001b[0m \u001b[32m━━━━━━━━━━━━━━━━━━━━\u001b[0m\u001b[37m\u001b[0m \u001b[1m37s\u001b[0m 84ms/step - accuracy: 0.9539 - loss: 0.1444 - val_accuracy: 0.8210 - val_loss: 0.4436\n",
      "Epoch 4/50\n",
      "\u001b[1m438/438\u001b[0m \u001b[32m━━━━━━━━━━━━━━━━━━━━\u001b[0m\u001b[37m\u001b[0m \u001b[1m37s\u001b[0m 84ms/step - accuracy: 0.9701 - loss: 0.0961 - val_accuracy: 0.8435 - val_loss: 0.4035\n",
      "Epoch 5/50\n",
      "\u001b[1m438/438\u001b[0m \u001b[32m━━━━━━━━━━━━━━━━━━━━\u001b[0m\u001b[37m\u001b[0m \u001b[1m38s\u001b[0m 85ms/step - accuracy: 0.9786 - loss: 0.0679 - val_accuracy: 0.8025 - val_loss: 0.4918\n",
      "Epoch 6/50\n",
      "\u001b[1m438/438\u001b[0m \u001b[32m━━━━━━━━━━━━━━━━━━━━\u001b[0m\u001b[37m\u001b[0m \u001b[1m38s\u001b[0m 85ms/step - accuracy: 0.9862 - loss: 0.0508 - val_accuracy: 0.8040 - val_loss: 0.5299\n",
      "Epoch 7/50\n",
      "\u001b[1m438/438\u001b[0m \u001b[32m━━━━━━━━━━━━━━━━━━━━\u001b[0m\u001b[37m\u001b[0m \u001b[1m38s\u001b[0m 85ms/step - accuracy: 0.9883 - loss: 0.0433 - val_accuracy: 0.8540 - val_loss: 0.3959\n",
      "Epoch 8/50\n",
      "\u001b[1m438/438\u001b[0m \u001b[32m━━━━━━━━━━━━━━━━━━━━\u001b[0m\u001b[37m\u001b[0m \u001b[1m38s\u001b[0m 85ms/step - accuracy: 0.9910 - loss: 0.0342 - val_accuracy: 0.8110 - val_loss: 0.5229\n",
      "Epoch 9/50\n",
      "\u001b[1m438/438\u001b[0m \u001b[32m━━━━━━━━━━━━━━━━━━━━\u001b[0m\u001b[37m\u001b[0m \u001b[1m38s\u001b[0m 85ms/step - accuracy: 0.9928 - loss: 0.0270 - val_accuracy: 0.8465 - val_loss: 0.4671\n",
      "Epoch 10/50\n",
      "\u001b[1m438/438\u001b[0m \u001b[32m━━━━━━━━━━━━━━━━━━━━\u001b[0m\u001b[37m\u001b[0m \u001b[1m38s\u001b[0m 85ms/step - accuracy: 0.9928 - loss: 0.0246 - val_accuracy: 0.8445 - val_loss: 0.5199\n",
      "Epoch 11/50\n",
      "\u001b[1m438/438\u001b[0m \u001b[32m━━━━━━━━━━━━━━━━━━━━\u001b[0m\u001b[37m\u001b[0m \u001b[1m38s\u001b[0m 85ms/step - accuracy: 0.9948 - loss: 0.0204 - val_accuracy: 0.8415 - val_loss: 0.4857\n",
      "Epoch 12/50\n",
      "\u001b[1m438/438\u001b[0m \u001b[32m━━━━━━━━━━━━━━━━━━━━\u001b[0m\u001b[37m\u001b[0m \u001b[1m38s\u001b[0m 85ms/step - accuracy: 0.9933 - loss: 0.0194 - val_accuracy: 0.8420 - val_loss: 0.4919\n",
      "Epoch 13/50\n",
      "\u001b[1m438/438\u001b[0m \u001b[32m━━━━━━━━━━━━━━━━━━━━\u001b[0m\u001b[37m\u001b[0m \u001b[1m37s\u001b[0m 84ms/step - accuracy: 0.9953 - loss: 0.0157 - val_accuracy: 0.8130 - val_loss: 0.6244\n",
      "Epoch 14/50\n",
      "\u001b[1m438/438\u001b[0m \u001b[32m━━━━━━━━━━━━━━━━━━━━\u001b[0m\u001b[37m\u001b[0m \u001b[1m38s\u001b[0m 85ms/step - accuracy: 0.9961 - loss: 0.0136 - val_accuracy: 0.8340 - val_loss: 0.5359\n",
      "Epoch 15/50\n",
      "\u001b[1m438/438\u001b[0m \u001b[32m━━━━━━━━━━━━━━━━━━━━\u001b[0m\u001b[37m\u001b[0m \u001b[1m37s\u001b[0m 85ms/step - accuracy: 0.9958 - loss: 0.0142 - val_accuracy: 0.8080 - val_loss: 0.6794\n",
      "Epoch 16/50\n",
      "\u001b[1m438/438\u001b[0m \u001b[32m━━━━━━━━━━━━━━━━━━━━\u001b[0m\u001b[37m\u001b[0m \u001b[1m38s\u001b[0m 85ms/step - accuracy: 0.9961 - loss: 0.0140 - val_accuracy: 0.7850 - val_loss: 0.7829\n",
      "Epoch 17/50\n",
      "\u001b[1m438/438\u001b[0m \u001b[32m━━━━━━━━━━━━━━━━━━━━\u001b[0m\u001b[37m\u001b[0m \u001b[1m38s\u001b[0m 85ms/step - accuracy: 0.9954 - loss: 0.0147 - val_accuracy: 0.8095 - val_loss: 0.6801\n",
      "Epoch 18/50\n",
      "\u001b[1m438/438\u001b[0m \u001b[32m━━━━━━━━━━━━━━━━━━━━\u001b[0m\u001b[37m\u001b[0m \u001b[1m41s\u001b[0m 85ms/step - accuracy: 0.9950 - loss: 0.0154 - val_accuracy: 0.8225 - val_loss: 0.6574\n",
      "Epoch 19/50\n",
      "\u001b[1m438/438\u001b[0m \u001b[32m━━━━━━━━━━━━━━━━━━━━\u001b[0m\u001b[37m\u001b[0m \u001b[1m38s\u001b[0m 85ms/step - accuracy: 0.9964 - loss: 0.0131 - val_accuracy: 0.8560 - val_loss: 0.5245\n",
      "Epoch 20/50\n",
      "\u001b[1m438/438\u001b[0m \u001b[32m━━━━━━━━━━━━━━━━━━━━\u001b[0m\u001b[37m\u001b[0m \u001b[1m40s\u001b[0m 84ms/step - accuracy: 0.9954 - loss: 0.0118 - val_accuracy: 0.8270 - val_loss: 0.6407\n",
      "Epoch 21/50\n",
      "\u001b[1m438/438\u001b[0m \u001b[32m━━━━━━━━━━━━━━━━━━━━\u001b[0m\u001b[37m\u001b[0m \u001b[1m38s\u001b[0m 85ms/step - accuracy: 0.9971 - loss: 0.0106 - val_accuracy: 0.7840 - val_loss: 0.8735\n",
      "Epoch 22/50\n",
      "\u001b[1m438/438\u001b[0m \u001b[32m━━━━━━━━━━━━━━━━━━━━\u001b[0m\u001b[37m\u001b[0m \u001b[1m38s\u001b[0m 85ms/step - accuracy: 0.9963 - loss: 0.0097 - val_accuracy: 0.8305 - val_loss: 0.6741\n",
      "Epoch 23/50\n",
      "\u001b[1m438/438\u001b[0m \u001b[32m━━━━━━━━━━━━━━━━━━━━\u001b[0m\u001b[37m\u001b[0m \u001b[1m37s\u001b[0m 84ms/step - accuracy: 0.9962 - loss: 0.0111 - val_accuracy: 0.8670 - val_loss: 0.5286\n",
      "Epoch 24/50\n",
      "\u001b[1m438/438\u001b[0m \u001b[32m━━━━━━━━━━━━━━━━━━━━\u001b[0m\u001b[37m\u001b[0m \u001b[1m37s\u001b[0m 84ms/step - accuracy: 0.9956 - loss: 0.0129 - val_accuracy: 0.8460 - val_loss: 0.6096\n",
      "Epoch 25/50\n",
      "\u001b[1m438/438\u001b[0m \u001b[32m━━━━━━━━━━━━━━━━━━━━\u001b[0m\u001b[37m\u001b[0m \u001b[1m37s\u001b[0m 84ms/step - accuracy: 0.9973 - loss: 0.0083 - val_accuracy: 0.7830 - val_loss: 0.9804\n",
      "Epoch 26/50\n",
      "\u001b[1m438/438\u001b[0m \u001b[32m━━━━━━━━━━━━━━━━━━━━\u001b[0m\u001b[37m\u001b[0m \u001b[1m37s\u001b[0m 84ms/step - accuracy: 0.9968 - loss: 0.0088 - val_accuracy: 0.8520 - val_loss: 0.5964\n",
      "Epoch 27/50\n",
      "\u001b[1m438/438\u001b[0m \u001b[32m━━━━━━━━━━━━━━━━━━━━\u001b[0m\u001b[37m\u001b[0m \u001b[1m37s\u001b[0m 84ms/step - accuracy: 0.9982 - loss: 0.0069 - val_accuracy: 0.8295 - val_loss: 0.7306\n",
      "Epoch 28/50\n",
      "\u001b[1m438/438\u001b[0m \u001b[32m━━━━━━━━━━━━━━━━━━━━\u001b[0m\u001b[37m\u001b[0m \u001b[1m37s\u001b[0m 84ms/step - accuracy: 0.9979 - loss: 0.0063 - val_accuracy: 0.8295 - val_loss: 0.7206\n",
      "Epoch 29/50\n",
      "\u001b[1m438/438\u001b[0m \u001b[32m━━━━━━━━━━━━━━━━━━━━\u001b[0m\u001b[37m\u001b[0m \u001b[1m38s\u001b[0m 85ms/step - accuracy: 0.9970 - loss: 0.0079 - val_accuracy: 0.8290 - val_loss: 0.7491\n",
      "Epoch 30/50\n",
      "\u001b[1m438/438\u001b[0m \u001b[32m━━━━━━━━━━━━━━━━━━━━\u001b[0m\u001b[37m\u001b[0m \u001b[1m38s\u001b[0m 87ms/step - accuracy: 0.9970 - loss: 0.0091 - val_accuracy: 0.8230 - val_loss: 0.7555\n",
      "Epoch 31/50\n",
      "\u001b[1m438/438\u001b[0m \u001b[32m━━━━━━━━━━━━━━━━━━━━\u001b[0m\u001b[37m\u001b[0m \u001b[1m38s\u001b[0m 86ms/step - accuracy: 0.9981 - loss: 0.0056 - val_accuracy: 0.8250 - val_loss: 0.6460\n",
      "Epoch 32/50\n",
      "\u001b[1m438/438\u001b[0m \u001b[32m━━━━━━━━━━━━━━━━━━━━\u001b[0m\u001b[37m\u001b[0m \u001b[1m38s\u001b[0m 86ms/step - accuracy: 0.9976 - loss: 0.0070 - val_accuracy: 0.8310 - val_loss: 0.8017\n",
      "Epoch 33/50\n",
      "\u001b[1m438/438\u001b[0m \u001b[32m━━━━━━━━━━━━━━━━━━━━\u001b[0m\u001b[37m\u001b[0m \u001b[1m38s\u001b[0m 86ms/step - accuracy: 0.9985 - loss: 0.0062 - val_accuracy: 0.7870 - val_loss: 0.9574\n",
      "Epoch 34/50\n",
      "\u001b[1m438/438\u001b[0m \u001b[32m━━━━━━━━━━━━━━━━━━━━\u001b[0m\u001b[37m\u001b[0m \u001b[1m37s\u001b[0m 84ms/step - accuracy: 0.9967 - loss: 0.0101 - val_accuracy: 0.7825 - val_loss: 1.0870\n",
      "Epoch 35/50\n",
      "\u001b[1m438/438\u001b[0m \u001b[32m━━━━━━━━━━━━━━━━━━━━\u001b[0m\u001b[37m\u001b[0m \u001b[1m40s\u001b[0m 82ms/step - accuracy: 0.9977 - loss: 0.0074 - val_accuracy: 0.8110 - val_loss: 0.9280\n",
      "Epoch 36/50\n",
      "\u001b[1m438/438\u001b[0m \u001b[32m━━━━━━━━━━━━━━━━━━━━\u001b[0m\u001b[37m\u001b[0m \u001b[1m36s\u001b[0m 82ms/step - accuracy: 0.9963 - loss: 0.0098 - val_accuracy: 0.8290 - val_loss: 0.6977\n",
      "Epoch 37/50\n",
      "\u001b[1m438/438\u001b[0m \u001b[32m━━━━━━━━━━━━━━━━━━━━\u001b[0m\u001b[37m\u001b[0m \u001b[1m41s\u001b[0m 82ms/step - accuracy: 0.9986 - loss: 0.0044 - val_accuracy: 0.8125 - val_loss: 0.8510\n",
      "Epoch 38/50\n",
      "\u001b[1m438/438\u001b[0m \u001b[32m━━━━━━━━━━━━━━━━━━━━\u001b[0m\u001b[37m\u001b[0m \u001b[1m37s\u001b[0m 83ms/step - accuracy: 0.9982 - loss: 0.0057 - val_accuracy: 0.7780 - val_loss: 1.0550\n",
      "Epoch 39/50\n",
      "\u001b[1m438/438\u001b[0m \u001b[32m━━━━━━━━━━━━━━━━━━━━\u001b[0m\u001b[37m\u001b[0m \u001b[1m37s\u001b[0m 83ms/step - accuracy: 0.9964 - loss: 0.0105 - val_accuracy: 0.8175 - val_loss: 0.8216\n",
      "Epoch 40/50\n",
      "\u001b[1m438/438\u001b[0m \u001b[32m━━━━━━━━━━━━━━━━━━━━\u001b[0m\u001b[37m\u001b[0m \u001b[1m37s\u001b[0m 83ms/step - accuracy: 0.9949 - loss: 0.0170 - val_accuracy: 0.7945 - val_loss: 0.9933\n",
      "Epoch 41/50\n",
      "\u001b[1m438/438\u001b[0m \u001b[32m━━━━━━━━━━━━━━━━━━━━\u001b[0m\u001b[37m\u001b[0m \u001b[1m37s\u001b[0m 83ms/step - accuracy: 0.9987 - loss: 0.0044 - val_accuracy: 0.8070 - val_loss: 0.9371\n",
      "Epoch 42/50\n",
      "\u001b[1m438/438\u001b[0m \u001b[32m━━━━━━━━━━━━━━━━━━━━\u001b[0m\u001b[37m\u001b[0m \u001b[1m37s\u001b[0m 83ms/step - accuracy: 0.9987 - loss: 0.0044 - val_accuracy: 0.8365 - val_loss: 0.6727\n",
      "Epoch 43/50\n",
      "\u001b[1m438/438\u001b[0m \u001b[32m━━━━━━━━━━━━━━━━━━━━\u001b[0m\u001b[37m\u001b[0m \u001b[1m36s\u001b[0m 82ms/step - accuracy: 0.9980 - loss: 0.0052 - val_accuracy: 0.7790 - val_loss: 1.1172\n",
      "Epoch 44/50\n",
      "\u001b[1m438/438\u001b[0m \u001b[32m━━━━━━━━━━━━━━━━━━━━\u001b[0m\u001b[37m\u001b[0m \u001b[1m36s\u001b[0m 82ms/step - accuracy: 0.9985 - loss: 0.0054 - val_accuracy: 0.7715 - val_loss: 1.1437\n",
      "Epoch 45/50\n",
      "\u001b[1m438/438\u001b[0m \u001b[32m━━━━━━━━━━━━━━━━━━━━\u001b[0m\u001b[37m\u001b[0m \u001b[1m37s\u001b[0m 83ms/step - accuracy: 0.9990 - loss: 0.0030 - val_accuracy: 0.7575 - val_loss: 1.1675\n",
      "Epoch 46/50\n",
      "\u001b[1m438/438\u001b[0m \u001b[32m━━━━━━━━━━━━━━━━━━━━\u001b[0m\u001b[37m\u001b[0m \u001b[1m37s\u001b[0m 83ms/step - accuracy: 0.9974 - loss: 0.0071 - val_accuracy: 0.7950 - val_loss: 0.9932\n",
      "Epoch 47/50\n",
      "\u001b[1m438/438\u001b[0m \u001b[32m━━━━━━━━━━━━━━━━━━━━\u001b[0m\u001b[37m\u001b[0m \u001b[1m36s\u001b[0m 82ms/step - accuracy: 0.9988 - loss: 0.0041 - val_accuracy: 0.8345 - val_loss: 0.8157\n",
      "Epoch 48/50\n",
      "\u001b[1m438/438\u001b[0m \u001b[32m━━━━━━━━━━━━━━━━━━━━\u001b[0m\u001b[37m\u001b[0m \u001b[1m37s\u001b[0m 83ms/step - accuracy: 0.9976 - loss: 0.0068 - val_accuracy: 0.8155 - val_loss: 0.7993\n",
      "Epoch 49/50\n",
      "\u001b[1m438/438\u001b[0m \u001b[32m━━━━━━━━━━━━━━━━━━━━\u001b[0m\u001b[37m\u001b[0m \u001b[1m41s\u001b[0m 82ms/step - accuracy: 0.9978 - loss: 0.0059 - val_accuracy: 0.8195 - val_loss: 0.8526\n",
      "Epoch 50/50\n",
      "\u001b[1m438/438\u001b[0m \u001b[32m━━━━━━━━━━━━━━━━━━━━\u001b[0m\u001b[37m\u001b[0m \u001b[1m41s\u001b[0m 82ms/step - accuracy: 0.9988 - loss: 0.0045 - val_accuracy: 0.8245 - val_loss: 0.8809\n"
     ]
    }
   ],
   "source": [
    "dropout_efficientnet_df_history = dropout_efficientnet_df_model.fit(\n",
    "    df_train_generator, validation_data=df_val_generator, epochs=NUM_EPOCHS\n",
    ")"
   ]
  },
  {
   "cell_type": "code",
   "execution_count": 33,
   "id": "43b8cfef",
   "metadata": {
    "execution": {
     "iopub.execute_input": "2024-11-05T06:52:39.234101Z",
     "iopub.status.busy": "2024-11-05T06:52:39.233176Z",
     "iopub.status.idle": "2024-11-05T06:52:39.642731Z",
     "shell.execute_reply": "2024-11-05T06:52:39.641758Z"
    },
    "papermill": {
     "duration": 9.637173,
     "end_time": "2024-11-05T06:52:39.644884",
     "exception": false,
     "start_time": "2024-11-05T06:52:30.007711",
     "status": "completed"
    },
    "tags": []
   },
   "outputs": [
    {
     "data": {
      "image/png": "[encoded data removed]",
      "text/plain": [
       "<Figure size 1200x400 with 2 Axes>"
      ]
     },
     "metadata": {},
     "output_type": "display_data"
    }
   ],
   "source": [
    "plot_train_result(\n",
    "    dropout_efficientnet_df_history.history,\n",
    "    title=\"Dropout EfficientNet Model on DeeperForensics-1.0 Dataset\"\n",
    ")"
   ]
  },
  {
   "cell_type": "code",
   "execution_count": 34,
   "id": "c65a511d",
   "metadata": {
    "execution": {
     "iopub.execute_input": "2024-11-05T06:52:57.989136Z",
     "iopub.status.busy": "2024-11-05T06:52:57.988750Z",
     "iopub.status.idle": "2024-11-05T06:53:00.272192Z",
     "shell.execute_reply": "2024-11-05T06:53:00.271127Z"
    },
    "papermill": {
     "duration": 11.583797,
     "end_time": "2024-11-05T06:53:00.274246",
     "exception": false,
     "start_time": "2024-11-05T06:52:48.690449",
     "status": "completed"
    },
    "tags": []
   },
   "outputs": [
    {
     "name": "stdout",
     "output_type": "stream",
     "text": [
      "Model saved at dropout_efficientnet_df_model.keras\n",
      "Training history saved at dropout_efficientnet_df_history.pkl\n"
     ]
    }
   ],
   "source": [
    "save_model_and_history(\n",
    "    dropout_efficientnet_df_model, dropout_efficientnet_df_history, \"dropout_efficientnet_df\"\n",
    ")"
   ]
  },
  {
   "cell_type": "markdown",
   "id": "758e5399",
   "metadata": {
    "papermill": {
     "duration": 9.233501,
     "end_time": "2024-11-05T06:53:18.576833",
     "exception": false,
     "start_time": "2024-11-05T06:53:09.343332",
     "status": "completed"
    },
    "tags": []
   },
   "source": [
    "#### DFDC Dataset"
   ]
  },
  {
   "cell_type": "code",
   "execution_count": 35,
   "id": "7f7ec4b9",
   "metadata": {
    "execution": {
     "iopub.execute_input": "2024-11-05T06:53:36.926012Z",
     "iopub.status.busy": "2024-11-05T06:53:36.925119Z",
     "iopub.status.idle": "2024-11-05T06:53:41.084794Z",
     "shell.execute_reply": "2024-11-05T06:53:41.083906Z"
    },
    "papermill": {
     "duration": 13.364394,
     "end_time": "2024-11-05T06:53:41.086754",
     "exception": false,
     "start_time": "2024-11-05T06:53:27.722360",
     "status": "completed"
    },
    "tags": []
   },
   "outputs": [
    {
     "data": {
      "text/html": [
       "<pre style=\"white-space:pre;overflow-x:auto;line-height:normal;font-family:Menlo,'DejaVu Sans Mono',consolas,'Courier New',monospace\"><span style=\"font-weight: bold\">Model: \"sequential_5\"</span>\n",
       "</pre>\n"
      ],
      "text/plain": [
       "\u001b[1mModel: \"sequential_5\"\u001b[0m\n"
      ]
     },
     "metadata": {},
     "output_type": "display_data"
    },
    {
     "data": {
      "text/html": [
       "<pre style=\"white-space:pre;overflow-x:auto;line-height:normal;font-family:Menlo,'DejaVu Sans Mono',consolas,'Courier New',monospace\">┏━━━━━━━━━━━━━━━━━━━━━━━━━━━━━━━━━┳━━━━━━━━━━━━━━━━━━━━━━━━┳━━━━━━━━━━━━━━━┓\n",
       "┃<span style=\"font-weight: bold\"> Layer (type)                    </span>┃<span style=\"font-weight: bold\"> Output Shape           </span>┃<span style=\"font-weight: bold\">       Param # </span>┃\n",
       "┡━━━━━━━━━━━━━━━━━━━━━━━━━━━━━━━━━╇━━━━━━━━━━━━━━━━━━━━━━━━╇━━━━━━━━━━━━━━━┩\n",
       "│ efficientnetb7 (<span style=\"color: #0087ff; text-decoration-color: #0087ff\">Functional</span>)     │ ?                      │    <span style=\"color: #00af00; text-decoration-color: #00af00\">64,097,687</span> │\n",
       "├─────────────────────────────────┼────────────────────────┼───────────────┤\n",
       "│ flatten_5 (<span style=\"color: #0087ff; text-decoration-color: #0087ff\">Flatten</span>)             │ ?                      │   <span style=\"color: #00af00; text-decoration-color: #00af00\">0</span> (unbuilt) │\n",
       "├─────────────────────────────────┼────────────────────────┼───────────────┤\n",
       "│ dense_25 (<span style=\"color: #0087ff; text-decoration-color: #0087ff\">Dense</span>)                │ ?                      │   <span style=\"color: #00af00; text-decoration-color: #00af00\">0</span> (unbuilt) │\n",
       "├─────────────────────────────────┼────────────────────────┼───────────────┤\n",
       "│ dense_26 (<span style=\"color: #0087ff; text-decoration-color: #0087ff\">Dense</span>)                │ ?                      │   <span style=\"color: #00af00; text-decoration-color: #00af00\">0</span> (unbuilt) │\n",
       "├─────────────────────────────────┼────────────────────────┼───────────────┤\n",
       "│ dense_27 (<span style=\"color: #0087ff; text-decoration-color: #0087ff\">Dense</span>)                │ ?                      │   <span style=\"color: #00af00; text-decoration-color: #00af00\">0</span> (unbuilt) │\n",
       "├─────────────────────────────────┼────────────────────────┼───────────────┤\n",
       "│ dense_28 (<span style=\"color: #0087ff; text-decoration-color: #0087ff\">Dense</span>)                │ ?                      │   <span style=\"color: #00af00; text-decoration-color: #00af00\">0</span> (unbuilt) │\n",
       "├─────────────────────────────────┼────────────────────────┼───────────────┤\n",
       "│ dropout_2 (<span style=\"color: #0087ff; text-decoration-color: #0087ff\">Dropout</span>)             │ ?                      │   <span style=\"color: #00af00; text-decoration-color: #00af00\">0</span> (unbuilt) │\n",
       "├─────────────────────────────────┼────────────────────────┼───────────────┤\n",
       "│ dense_29 (<span style=\"color: #0087ff; text-decoration-color: #0087ff\">Dense</span>)                │ ?                      │   <span style=\"color: #00af00; text-decoration-color: #00af00\">0</span> (unbuilt) │\n",
       "└─────────────────────────────────┴────────────────────────┴───────────────┘\n",
       "</pre>\n"
      ],
      "text/plain": [
       "┏━━━━━━━━━━━━━━━━━━━━━━━━━━━━━━━━━┳━━━━━━━━━━━━━━━━━━━━━━━━┳━━━━━━━━━━━━━━━┓\n",
       "┃\u001b[1m \u001b[0m\u001b[1mLayer (type)                   \u001b[0m\u001b[1m \u001b[0m┃\u001b[1m \u001b[0m\u001b[1mOutput Shape          \u001b[0m\u001b[1m \u001b[0m┃\u001b[1m \u001b[0m\u001b[1m      Param #\u001b[0m\u001b[1m \u001b[0m┃\n",
       "┡━━━━━━━━━━━━━━━━━━━━━━━━━━━━━━━━━╇━━━━━━━━━━━━━━━━━━━━━━━━╇━━━━━━━━━━━━━━━┩\n",
       "│ efficientnetb7 (\u001b[38;5;33mFunctional\u001b[0m)     │ ?                      │    \u001b[38;5;34m64,097,687\u001b[0m │\n",
       "├─────────────────────────────────┼────────────────────────┼───────────────┤\n",
       "│ flatten_5 (\u001b[38;5;33mFlatten\u001b[0m)             │ ?                      │   \u001b[38;5;34m0\u001b[0m (unbuilt) │\n",
       "├─────────────────────────────────┼────────────────────────┼───────────────┤\n",
       "│ dense_25 (\u001b[38;5;33mDense\u001b[0m)                │ ?                      │   \u001b[38;5;34m0\u001b[0m (unbuilt) │\n",
       "├─────────────────────────────────┼────────────────────────┼───────────────┤\n",
       "│ dense_26 (\u001b[38;5;33mDense\u001b[0m)                │ ?                      │   \u001b[38;5;34m0\u001b[0m (unbuilt) │\n",
       "├─────────────────────────────────┼────────────────────────┼───────────────┤\n",
       "│ dense_27 (\u001b[38;5;33mDense\u001b[0m)                │ ?                      │   \u001b[38;5;34m0\u001b[0m (unbuilt) │\n",
       "├─────────────────────────────────┼────────────────────────┼───────────────┤\n",
       "│ dense_28 (\u001b[38;5;33mDense\u001b[0m)                │ ?                      │   \u001b[38;5;34m0\u001b[0m (unbuilt) │\n",
       "├─────────────────────────────────┼────────────────────────┼───────────────┤\n",
       "│ dropout_2 (\u001b[38;5;33mDropout\u001b[0m)             │ ?                      │   \u001b[38;5;34m0\u001b[0m (unbuilt) │\n",
       "├─────────────────────────────────┼────────────────────────┼───────────────┤\n",
       "│ dense_29 (\u001b[38;5;33mDense\u001b[0m)                │ ?                      │   \u001b[38;5;34m0\u001b[0m (unbuilt) │\n",
       "└─────────────────────────────────┴────────────────────────┴───────────────┘\n"
      ]
     },
     "metadata": {},
     "output_type": "display_data"
    },
    {
     "data": {
      "text/html": [
       "<pre style=\"white-space:pre;overflow-x:auto;line-height:normal;font-family:Menlo,'DejaVu Sans Mono',consolas,'Courier New',monospace\"><span style=\"font-weight: bold\"> Total params: </span><span style=\"color: #00af00; text-decoration-color: #00af00\">64,097,687</span> (244.51 MB)\n",
       "</pre>\n"
      ],
      "text/plain": [
       "\u001b[1m Total params: \u001b[0m\u001b[38;5;34m64,097,687\u001b[0m (244.51 MB)\n"
      ]
     },
     "metadata": {},
     "output_type": "display_data"
    },
    {
     "data": {
      "text/html": [
       "<pre style=\"white-space:pre;overflow-x:auto;line-height:normal;font-family:Menlo,'DejaVu Sans Mono',consolas,'Courier New',monospace\"><span style=\"font-weight: bold\"> Trainable params: </span><span style=\"color: #00af00; text-decoration-color: #00af00\">0</span> (0.00 B)\n",
       "</pre>\n"
      ],
      "text/plain": [
       "\u001b[1m Trainable params: \u001b[0m\u001b[38;5;34m0\u001b[0m (0.00 B)\n"
      ]
     },
     "metadata": {},
     "output_type": "display_data"
    },
    {
     "data": {
      "text/html": [
       "<pre style=\"white-space:pre;overflow-x:auto;line-height:normal;font-family:Menlo,'DejaVu Sans Mono',consolas,'Courier New',monospace\"><span style=\"font-weight: bold\"> Non-trainable params: </span><span style=\"color: #00af00; text-decoration-color: #00af00\">64,097,687</span> (244.51 MB)\n",
       "</pre>\n"
      ],
      "text/plain": [
       "\u001b[1m Non-trainable params: \u001b[0m\u001b[38;5;34m64,097,687\u001b[0m (244.51 MB)\n"
      ]
     },
     "metadata": {},
     "output_type": "display_data"
    }
   ],
   "source": [
    "dropout_efficientnet_dfdc_model = create_efficientnet_model(best_hp, dropout=True)\n",
    "dropout_efficientnet_dfdc_model.summary()"
   ]
  },
  {
   "cell_type": "code",
   "execution_count": 36,
   "id": "7377869f",
   "metadata": {
    "execution": {
     "iopub.execute_input": "2024-11-05T06:53:59.606303Z",
     "iopub.status.busy": "2024-11-05T06:53:59.605915Z",
     "iopub.status.idle": "2024-11-05T07:29:26.020153Z",
     "shell.execute_reply": "2024-11-05T07:29:26.019337Z"
    },
    "papermill": {
     "duration": 2135.784051,
     "end_time": "2024-11-05T07:29:26.022220",
     "exception": false,
     "start_time": "2024-11-05T06:53:50.238169",
     "status": "completed"
    },
    "tags": []
   },
   "outputs": [
    {
     "name": "stdout",
     "output_type": "stream",
     "text": [
      "Epoch 1/50\n",
      "\u001b[1m438/438\u001b[0m \u001b[32m━━━━━━━━━━━━━━━━━━━━\u001b[0m\u001b[37m\u001b[0m \u001b[1m277s\u001b[0m 334ms/step - accuracy: 0.5344 - loss: 0.6892 - val_accuracy: 0.5535 - val_loss: 0.6866\n",
      "Epoch 2/50\n",
      "\u001b[1m438/438\u001b[0m \u001b[32m━━━━━━━━━━━━━━━━━━━━\u001b[0m\u001b[37m\u001b[0m \u001b[1m37s\u001b[0m 83ms/step - accuracy: 0.6572 - loss: 0.6305 - val_accuracy: 0.6055 - val_loss: 0.6941\n",
      "Epoch 3/50\n",
      "\u001b[1m438/438\u001b[0m \u001b[32m━━━━━━━━━━━━━━━━━━━━\u001b[0m\u001b[37m\u001b[0m \u001b[1m36s\u001b[0m 82ms/step - accuracy: 0.7603 - loss: 0.5224 - val_accuracy: 0.6070 - val_loss: 0.7401\n",
      "Epoch 4/50\n",
      "\u001b[1m438/438\u001b[0m \u001b[32m━━━━━━━━━━━━━━━━━━━━\u001b[0m\u001b[37m\u001b[0m \u001b[1m41s\u001b[0m 83ms/step - accuracy: 0.8363 - loss: 0.3989 - val_accuracy: 0.5790 - val_loss: 0.8435\n",
      "Epoch 5/50\n",
      "\u001b[1m438/438\u001b[0m \u001b[32m━━━━━━━━━━━━━━━━━━━━\u001b[0m\u001b[37m\u001b[0m \u001b[1m36s\u001b[0m 82ms/step - accuracy: 0.8707 - loss: 0.3172 - val_accuracy: 0.5805 - val_loss: 0.8339\n",
      "Epoch 6/50\n",
      "\u001b[1m438/438\u001b[0m \u001b[32m━━━━━━━━━━━━━━━━━━━━\u001b[0m\u001b[37m\u001b[0m \u001b[1m37s\u001b[0m 83ms/step - accuracy: 0.9023 - loss: 0.2514 - val_accuracy: 0.5755 - val_loss: 0.9337\n",
      "Epoch 7/50\n",
      "\u001b[1m438/438\u001b[0m \u001b[32m━━━━━━━━━━━━━━━━━━━━\u001b[0m\u001b[37m\u001b[0m \u001b[1m36s\u001b[0m 82ms/step - accuracy: 0.9160 - loss: 0.2190 - val_accuracy: 0.5600 - val_loss: 0.9840\n",
      "Epoch 8/50\n",
      "\u001b[1m438/438\u001b[0m \u001b[32m━━━━━━━━━━━━━━━━━━━━\u001b[0m\u001b[37m\u001b[0m \u001b[1m41s\u001b[0m 83ms/step - accuracy: 0.9351 - loss: 0.1781 - val_accuracy: 0.5595 - val_loss: 1.3638\n",
      "Epoch 9/50\n",
      "\u001b[1m438/438\u001b[0m \u001b[32m━━━━━━━━━━━━━━━━━━━━\u001b[0m\u001b[37m\u001b[0m \u001b[1m36s\u001b[0m 81ms/step - accuracy: 0.9500 - loss: 0.1487 - val_accuracy: 0.5385 - val_loss: 1.0697\n",
      "Epoch 10/50\n",
      "\u001b[1m438/438\u001b[0m \u001b[32m━━━━━━━━━━━━━━━━━━━━\u001b[0m\u001b[37m\u001b[0m \u001b[1m36s\u001b[0m 81ms/step - accuracy: 0.9473 - loss: 0.1425 - val_accuracy: 0.5305 - val_loss: 1.3740\n",
      "Epoch 11/50\n",
      "\u001b[1m438/438\u001b[0m \u001b[32m━━━━━━━━━━━━━━━━━━━━\u001b[0m\u001b[37m\u001b[0m \u001b[1m36s\u001b[0m 81ms/step - accuracy: 0.9551 - loss: 0.1240 - val_accuracy: 0.5615 - val_loss: 1.3088\n",
      "Epoch 12/50\n",
      "\u001b[1m438/438\u001b[0m \u001b[32m━━━━━━━━━━━━━━━━━━━━\u001b[0m\u001b[37m\u001b[0m \u001b[1m36s\u001b[0m 82ms/step - accuracy: 0.9581 - loss: 0.1146 - val_accuracy: 0.5605 - val_loss: 1.2702\n",
      "Epoch 13/50\n",
      "\u001b[1m438/438\u001b[0m \u001b[32m━━━━━━━━━━━━━━━━━━━━\u001b[0m\u001b[37m\u001b[0m \u001b[1m36s\u001b[0m 82ms/step - accuracy: 0.9618 - loss: 0.1010 - val_accuracy: 0.5480 - val_loss: 1.4407\n",
      "Epoch 14/50\n",
      "\u001b[1m438/438\u001b[0m \u001b[32m━━━━━━━━━━━━━━━━━━━━\u001b[0m\u001b[37m\u001b[0m \u001b[1m37s\u001b[0m 83ms/step - accuracy: 0.9697 - loss: 0.0873 - val_accuracy: 0.5600 - val_loss: 1.4022\n",
      "Epoch 15/50\n",
      "\u001b[1m438/438\u001b[0m \u001b[32m━━━━━━━━━━━━━━━━━━━━\u001b[0m\u001b[37m\u001b[0m \u001b[1m37s\u001b[0m 83ms/step - accuracy: 0.9694 - loss: 0.0859 - val_accuracy: 0.5415 - val_loss: 1.7428\n",
      "Epoch 16/50\n",
      "\u001b[1m438/438\u001b[0m \u001b[32m━━━━━━━━━━━━━━━━━━━━\u001b[0m\u001b[37m\u001b[0m \u001b[1m37s\u001b[0m 84ms/step - accuracy: 0.9715 - loss: 0.0786 - val_accuracy: 0.5725 - val_loss: 1.4687\n",
      "Epoch 17/50\n",
      "\u001b[1m438/438\u001b[0m \u001b[32m━━━━━━━━━━━━━━━━━━━━\u001b[0m\u001b[37m\u001b[0m \u001b[1m36s\u001b[0m 82ms/step - accuracy: 0.9729 - loss: 0.0708 - val_accuracy: 0.5585 - val_loss: 1.4801\n",
      "Epoch 18/50\n",
      "\u001b[1m438/438\u001b[0m \u001b[32m━━━━━━━━━━━━━━━━━━━━\u001b[0m\u001b[37m\u001b[0m \u001b[1m41s\u001b[0m 82ms/step - accuracy: 0.9775 - loss: 0.0614 - val_accuracy: 0.5455 - val_loss: 1.7455\n",
      "Epoch 19/50\n",
      "\u001b[1m438/438\u001b[0m \u001b[32m━━━━━━━━━━━━━━━━━━━━\u001b[0m\u001b[37m\u001b[0m \u001b[1m36s\u001b[0m 81ms/step - accuracy: 0.9781 - loss: 0.0625 - val_accuracy: 0.5555 - val_loss: 1.5007\n",
      "Epoch 20/50\n",
      "\u001b[1m438/438\u001b[0m \u001b[32m━━━━━━━━━━━━━━━━━━━━\u001b[0m\u001b[37m\u001b[0m \u001b[1m36s\u001b[0m 82ms/step - accuracy: 0.9802 - loss: 0.0518 - val_accuracy: 0.5590 - val_loss: 1.7305\n",
      "Epoch 21/50\n",
      "\u001b[1m438/438\u001b[0m \u001b[32m━━━━━━━━━━━━━━━━━━━━\u001b[0m\u001b[37m\u001b[0m \u001b[1m37s\u001b[0m 83ms/step - accuracy: 0.9827 - loss: 0.0490 - val_accuracy: 0.5350 - val_loss: 1.8284\n",
      "Epoch 22/50\n",
      "\u001b[1m438/438\u001b[0m \u001b[32m━━━━━━━━━━━━━━━━━━━━\u001b[0m\u001b[37m\u001b[0m \u001b[1m37s\u001b[0m 83ms/step - accuracy: 0.9798 - loss: 0.0544 - val_accuracy: 0.5555 - val_loss: 1.6963\n",
      "Epoch 23/50\n",
      "\u001b[1m438/438\u001b[0m \u001b[32m━━━━━━━━━━━━━━━━━━━━\u001b[0m\u001b[37m\u001b[0m \u001b[1m38s\u001b[0m 86ms/step - accuracy: 0.9800 - loss: 0.0521 - val_accuracy: 0.5630 - val_loss: 1.8988\n",
      "Epoch 24/50\n",
      "\u001b[1m438/438\u001b[0m \u001b[32m━━━━━━━━━━━━━━━━━━━━\u001b[0m\u001b[37m\u001b[0m \u001b[1m38s\u001b[0m 86ms/step - accuracy: 0.9826 - loss: 0.0452 - val_accuracy: 0.5490 - val_loss: 1.5733\n",
      "Epoch 25/50\n",
      "\u001b[1m438/438\u001b[0m \u001b[32m━━━━━━━━━━━━━━━━━━━━\u001b[0m\u001b[37m\u001b[0m \u001b[1m38s\u001b[0m 86ms/step - accuracy: 0.9861 - loss: 0.0411 - val_accuracy: 0.5495 - val_loss: 1.9844\n",
      "Epoch 26/50\n",
      "\u001b[1m438/438\u001b[0m \u001b[32m━━━━━━━━━━━━━━━━━━━━\u001b[0m\u001b[37m\u001b[0m \u001b[1m38s\u001b[0m 86ms/step - accuracy: 0.9850 - loss: 0.0437 - val_accuracy: 0.5600 - val_loss: 1.8518\n",
      "Epoch 27/50\n",
      "\u001b[1m438/438\u001b[0m \u001b[32m━━━━━━━━━━━━━━━━━━━━\u001b[0m\u001b[37m\u001b[0m \u001b[1m38s\u001b[0m 86ms/step - accuracy: 0.9864 - loss: 0.0385 - val_accuracy: 0.5625 - val_loss: 1.6868\n",
      "Epoch 28/50\n",
      "\u001b[1m438/438\u001b[0m \u001b[32m━━━━━━━━━━━━━━━━━━━━\u001b[0m\u001b[37m\u001b[0m \u001b[1m38s\u001b[0m 87ms/step - accuracy: 0.9847 - loss: 0.0409 - val_accuracy: 0.5500 - val_loss: 1.9871\n",
      "Epoch 29/50\n",
      "\u001b[1m438/438\u001b[0m \u001b[32m━━━━━━━━━━━━━━━━━━━━\u001b[0m\u001b[37m\u001b[0m \u001b[1m38s\u001b[0m 86ms/step - accuracy: 0.9844 - loss: 0.0407 - val_accuracy: 0.5630 - val_loss: 2.1356\n",
      "Epoch 30/50\n",
      "\u001b[1m438/438\u001b[0m \u001b[32m━━━━━━━━━━━━━━━━━━━━\u001b[0m\u001b[37m\u001b[0m \u001b[1m38s\u001b[0m 86ms/step - accuracy: 0.9862 - loss: 0.0386 - val_accuracy: 0.5560 - val_loss: 1.7313\n",
      "Epoch 31/50\n",
      "\u001b[1m438/438\u001b[0m \u001b[32m━━━━━━━━━━━━━━━━━━━━\u001b[0m\u001b[37m\u001b[0m \u001b[1m38s\u001b[0m 86ms/step - accuracy: 0.9861 - loss: 0.0379 - val_accuracy: 0.5460 - val_loss: 1.9790\n",
      "Epoch 32/50\n",
      "\u001b[1m438/438\u001b[0m \u001b[32m━━━━━━━━━━━━━━━━━━━━\u001b[0m\u001b[37m\u001b[0m \u001b[1m38s\u001b[0m 86ms/step - accuracy: 0.9888 - loss: 0.0314 - val_accuracy: 0.5235 - val_loss: 1.9144\n",
      "Epoch 33/50\n",
      "\u001b[1m438/438\u001b[0m \u001b[32m━━━━━━━━━━━━━━━━━━━━\u001b[0m\u001b[37m\u001b[0m \u001b[1m38s\u001b[0m 86ms/step - accuracy: 0.9886 - loss: 0.0322 - val_accuracy: 0.5445 - val_loss: 2.2856\n",
      "Epoch 34/50\n",
      "\u001b[1m438/438\u001b[0m \u001b[32m━━━━━━━━━━━━━━━━━━━━\u001b[0m\u001b[37m\u001b[0m \u001b[1m38s\u001b[0m 87ms/step - accuracy: 0.9875 - loss: 0.0329 - val_accuracy: 0.5465 - val_loss: 2.2994\n",
      "Epoch 35/50\n",
      "\u001b[1m438/438\u001b[0m \u001b[32m━━━━━━━━━━━━━━━━━━━━\u001b[0m\u001b[37m\u001b[0m \u001b[1m38s\u001b[0m 86ms/step - accuracy: 0.9886 - loss: 0.0339 - val_accuracy: 0.5435 - val_loss: 1.9454\n",
      "Epoch 36/50\n",
      "\u001b[1m438/438\u001b[0m \u001b[32m━━━━━━━━━━━━━━━━━━━━\u001b[0m\u001b[37m\u001b[0m \u001b[1m38s\u001b[0m 86ms/step - accuracy: 0.9890 - loss: 0.0303 - val_accuracy: 0.5415 - val_loss: 1.8784\n",
      "Epoch 37/50\n",
      "\u001b[1m438/438\u001b[0m \u001b[32m━━━━━━━━━━━━━━━━━━━━\u001b[0m\u001b[37m\u001b[0m \u001b[1m41s\u001b[0m 86ms/step - accuracy: 0.9896 - loss: 0.0302 - val_accuracy: 0.5670 - val_loss: 1.9845\n",
      "Epoch 38/50\n",
      "\u001b[1m438/438\u001b[0m \u001b[32m━━━━━━━━━━━━━━━━━━━━\u001b[0m\u001b[37m\u001b[0m \u001b[1m38s\u001b[0m 86ms/step - accuracy: 0.9905 - loss: 0.0267 - val_accuracy: 0.5585 - val_loss: 2.0490\n",
      "Epoch 39/50\n",
      "\u001b[1m438/438\u001b[0m \u001b[32m━━━━━━━━━━━━━━━━━━━━\u001b[0m\u001b[37m\u001b[0m \u001b[1m38s\u001b[0m 87ms/step - accuracy: 0.9899 - loss: 0.0286 - val_accuracy: 0.5135 - val_loss: 2.5775\n",
      "Epoch 40/50\n",
      "\u001b[1m438/438\u001b[0m \u001b[32m━━━━━━━━━━━━━━━━━━━━\u001b[0m\u001b[37m\u001b[0m \u001b[1m38s\u001b[0m 86ms/step - accuracy: 0.9879 - loss: 0.0337 - val_accuracy: 0.5395 - val_loss: 2.0176\n",
      "Epoch 41/50\n",
      "\u001b[1m438/438\u001b[0m \u001b[32m━━━━━━━━━━━━━━━━━━━━\u001b[0m\u001b[37m\u001b[0m \u001b[1m38s\u001b[0m 86ms/step - accuracy: 0.9904 - loss: 0.0265 - val_accuracy: 0.5550 - val_loss: 1.9517\n",
      "Epoch 42/50\n",
      "\u001b[1m438/438\u001b[0m \u001b[32m━━━━━━━━━━━━━━━━━━━━\u001b[0m\u001b[37m\u001b[0m \u001b[1m38s\u001b[0m 85ms/step - accuracy: 0.9912 - loss: 0.0265 - val_accuracy: 0.5360 - val_loss: 2.2231\n",
      "Epoch 43/50\n",
      "\u001b[1m438/438\u001b[0m \u001b[32m━━━━━━━━━━━━━━━━━━━━\u001b[0m\u001b[37m\u001b[0m \u001b[1m38s\u001b[0m 86ms/step - accuracy: 0.9929 - loss: 0.0221 - val_accuracy: 0.5465 - val_loss: 2.1024\n",
      "Epoch 44/50\n",
      "\u001b[1m438/438\u001b[0m \u001b[32m━━━━━━━━━━━━━━━━━━━━\u001b[0m\u001b[37m\u001b[0m \u001b[1m38s\u001b[0m 86ms/step - accuracy: 0.9898 - loss: 0.0277 - val_accuracy: 0.5470 - val_loss: 2.2549\n",
      "Epoch 45/50\n",
      "\u001b[1m438/438\u001b[0m \u001b[32m━━━━━━━━━━━━━━━━━━━━\u001b[0m\u001b[37m\u001b[0m \u001b[1m38s\u001b[0m 86ms/step - accuracy: 0.9903 - loss: 0.0288 - val_accuracy: 0.5615 - val_loss: 2.2272\n",
      "Epoch 46/50\n",
      "\u001b[1m438/438\u001b[0m \u001b[32m━━━━━━━━━━━━━━━━━━━━\u001b[0m\u001b[37m\u001b[0m \u001b[1m38s\u001b[0m 85ms/step - accuracy: 0.9913 - loss: 0.0242 - val_accuracy: 0.5465 - val_loss: 2.4715\n",
      "Epoch 47/50\n",
      "\u001b[1m438/438\u001b[0m \u001b[32m━━━━━━━━━━━━━━━━━━━━\u001b[0m\u001b[37m\u001b[0m \u001b[1m41s\u001b[0m 86ms/step - accuracy: 0.9900 - loss: 0.0269 - val_accuracy: 0.5770 - val_loss: 1.9890\n",
      "Epoch 48/50\n",
      "\u001b[1m438/438\u001b[0m \u001b[32m━━━━━━━━━━━━━━━━━━━━\u001b[0m\u001b[37m\u001b[0m \u001b[1m37s\u001b[0m 83ms/step - accuracy: 0.9875 - loss: 0.0287 - val_accuracy: 0.5815 - val_loss: 1.9337\n",
      "Epoch 49/50\n",
      "\u001b[1m438/438\u001b[0m \u001b[32m━━━━━━━━━━━━━━━━━━━━\u001b[0m\u001b[37m\u001b[0m \u001b[1m41s\u001b[0m 84ms/step - accuracy: 0.9914 - loss: 0.0248 - val_accuracy: 0.5650 - val_loss: 2.4129\n",
      "Epoch 50/50\n",
      "\u001b[1m438/438\u001b[0m \u001b[32m━━━━━━━━━━━━━━━━━━━━\u001b[0m\u001b[37m\u001b[0m \u001b[1m37s\u001b[0m 83ms/step - accuracy: 0.9933 - loss: 0.0199 - val_accuracy: 0.5710 - val_loss: 2.0266\n"
     ]
    }
   ],
   "source": [
    "dropout_efficientnet_dfdc_history = dropout_efficientnet_dfdc_model.fit(\n",
    "    dfdc_train_generator, validation_data=dfdc_val_generator, epochs=NUM_EPOCHS\n",
    ")"
   ]
  },
  {
   "cell_type": "code",
   "execution_count": 37,
   "id": "11a8a019",
   "metadata": {
    "execution": {
     "iopub.execute_input": "2024-11-05T07:29:48.069513Z",
     "iopub.status.busy": "2024-11-05T07:29:48.069114Z",
     "iopub.status.idle": "2024-11-05T07:29:48.536763Z",
     "shell.execute_reply": "2024-11-05T07:29:48.535873Z"
    },
    "papermill": {
     "duration": 11.463719,
     "end_time": "2024-11-05T07:29:48.539020",
     "exception": false,
     "start_time": "2024-11-05T07:29:37.075301",
     "status": "completed"
    },
    "tags": []
   },
   "outputs": [
    {
     "data": {
      "image/png": "[encoded data removed]",
      "text/plain": [
       "<Figure size 1200x400 with 2 Axes>"
      ]
     },
     "metadata": {},
     "output_type": "display_data"
    }
   ],
   "source": [
    "plot_train_result(\n",
    "    dropout_efficientnet_dfdc_history.history,\n",
    "    title=\"Dropout EfficientNet Model on DFDC Dataset\"\n",
    ")"
   ]
  },
  {
   "cell_type": "code",
   "execution_count": 38,
   "id": "f8376615",
   "metadata": {
    "execution": {
     "iopub.execute_input": "2024-11-05T07:30:10.852462Z",
     "iopub.status.busy": "2024-11-05T07:30:10.852060Z",
     "iopub.status.idle": "2024-11-05T07:30:13.173556Z",
     "shell.execute_reply": "2024-11-05T07:30:13.172425Z"
    },
    "papermill": {
     "duration": 13.485205,
     "end_time": "2024-11-05T07:30:13.175619",
     "exception": false,
     "start_time": "2024-11-05T07:29:59.690414",
     "status": "completed"
    },
    "tags": []
   },
   "outputs": [
    {
     "name": "stdout",
     "output_type": "stream",
     "text": [
      "Model saved at dropout_efficientnet_dfdc_model.keras\n",
      "Training history saved at dropout_efficientnet_dfdc_history.pkl\n"
     ]
    }
   ],
   "source": [
    "save_model_and_history(\n",
    "    dropout_efficientnet_dfdc_model, dropout_efficientnet_dfdc_history, \"dropout_efficientnet_dfdc\"\n",
    ")"
   ]
  }
 ],
 "metadata": {
  "kaggle": {
   "accelerator": "gpu",
   "dataSources": [
    {
     "datasetId": 6006079,
     "sourceId": 9800008,
     "sourceType": "datasetVersion"
    },
    {
     "sourceId": 205168888,
     "sourceType": "kernelVersion"
    }
   ],
   "dockerImageVersionId": 30788,
   "isGpuEnabled": true,
   "isInternetEnabled": true,
   "language": "python",
   "sourceType": "notebook"
  },
  "kernelspec": {
   "display_name": "Python 3",
   "language": "python",
   "name": "python3"
  },
  "language_info": {
   "codemirror_mode": {
    "name": "ipython",
    "version": 3
   },
   "file_extension": ".py",
   "mimetype": "text/x-python",
   "name": "python",
   "nbconvert_exporter": "python",
   "pygments_lexer": "ipython3",
   "version": "3.10.14"
  },
  "papermill": {
   "default_parameters": {},
   "duration": 13523.172447,
   "end_time": "2024-11-05T07:30:28.974931",
   "environment_variables": {},
   "exception": null,
   "input_path": "__notebook__.ipynb",
   "output_path": "__notebook__.ipynb",
   "parameters": {},
   "start_time": "2024-11-05T03:45:05.802484",
   "version": "2.6.0"
  }
 },
 "nbformat": 4,
 "nbformat_minor": 5
}
