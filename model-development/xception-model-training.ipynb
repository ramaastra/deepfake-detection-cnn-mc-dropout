{
 "cells": [
  {
   "cell_type": "markdown",
   "id": "742674e6",
   "metadata": {
    "papermill": {
     "duration": 0.01152,
     "end_time": "2024-11-05T04:23:35.247075",
     "exception": false,
     "start_time": "2024-11-05T04:23:35.235555",
     "status": "completed"
    },
    "tags": []
   },
   "source": [
    "# Xception Model Training"
   ]
  },
  {
   "cell_type": "markdown",
   "id": "99fbb013",
   "metadata": {
    "papermill": {
     "duration": 0.010572,
     "end_time": "2024-11-05T04:23:35.269632",
     "exception": false,
     "start_time": "2024-11-05T04:23:35.259060",
     "status": "completed"
    },
    "tags": []
   },
   "source": [
    "This notebook contains model training process for Xception model on three different deepfake detection datasets. The model training splitted into two parts, which are baseline model (base model without dropout) and the dropout model itself."
   ]
  },
  {
   "cell_type": "code",
   "execution_count": 1,
   "id": "3fb56c59",
   "metadata": {
    "execution": {
     "iopub.execute_input": "2024-11-05T04:23:35.292838Z",
     "iopub.status.busy": "2024-11-05T04:23:35.292464Z",
     "iopub.status.idle": "2024-11-05T04:23:49.230331Z",
     "shell.execute_reply": "2024-11-05T04:23:49.229519Z"
    },
    "papermill": {
     "duration": 13.951939,
     "end_time": "2024-11-05T04:23:49.232650",
     "exception": false,
     "start_time": "2024-11-05T04:23:35.280711",
     "status": "completed"
    },
    "tags": []
   },
   "outputs": [],
   "source": [
    "from tensorflow.keras.preprocessing.image import ImageDataGenerator\n",
    "from tensorflow.keras.applications import Xception, xception\n",
    "import tensorflow as tf\n",
    "import keras_tuner as kt\n",
    "import matplotlib.pyplot as plt\n",
    "import pickle\n",
    "import os"
   ]
  },
  {
   "cell_type": "markdown",
   "id": "56e8c847",
   "metadata": {
    "papermill": {
     "duration": 0.011674,
     "end_time": "2024-11-05T04:23:49.261528",
     "exception": false,
     "start_time": "2024-11-05T04:23:49.249854",
     "status": "completed"
    },
    "tags": []
   },
   "source": [
    "## Define Dataset Directory"
   ]
  },
  {
   "cell_type": "code",
   "execution_count": 2,
   "id": "6ecd70c9",
   "metadata": {
    "execution": {
     "iopub.execute_input": "2024-11-05T04:23:49.285254Z",
     "iopub.status.busy": "2024-11-05T04:23:49.284668Z",
     "iopub.status.idle": "2024-11-05T04:23:49.289388Z",
     "shell.execute_reply": "2024-11-05T04:23:49.288514Z"
    },
    "papermill": {
     "duration": 0.018513,
     "end_time": "2024-11-05T04:23:49.291261",
     "exception": false,
     "start_time": "2024-11-05T04:23:49.272748",
     "status": "completed"
    },
    "tags": []
   },
   "outputs": [],
   "source": [
    "CDF_DATASET_DIR = \"/kaggle/input/deepfake-detection-datasets/Celeb-DF-v2\"\n",
    "DF_DATASET_DIR = \"/kaggle/input/deepfake-detection-datasets/DeeperForensics-1.0\"\n",
    "DFDC_DATASET_DIR = \"/kaggle/input/deepfake-detection-datasets/DFDC\""
   ]
  },
  {
   "cell_type": "code",
   "execution_count": 3,
   "id": "517eef73",
   "metadata": {
    "execution": {
     "iopub.execute_input": "2024-11-05T04:23:49.314210Z",
     "iopub.status.busy": "2024-11-05T04:23:49.313920Z",
     "iopub.status.idle": "2024-11-05T04:23:49.318951Z",
     "shell.execute_reply": "2024-11-05T04:23:49.318123Z"
    },
    "papermill": {
     "duration": 0.018547,
     "end_time": "2024-11-05T04:23:49.320854",
     "exception": false,
     "start_time": "2024-11-05T04:23:49.302307",
     "status": "completed"
    },
    "tags": []
   },
   "outputs": [],
   "source": [
    "cdf_train_dir = os.path.join(CDF_DATASET_DIR, \"Train\")\n",
    "cdf_val_dir = os.path.join(CDF_DATASET_DIR, \"Val\")\n",
    "\n",
    "df_train_dir = os.path.join(DF_DATASET_DIR, \"Train\")\n",
    "df_val_dir = os.path.join(DF_DATASET_DIR, \"Val\")\n",
    "\n",
    "dfdc_train_dir = os.path.join(DFDC_DATASET_DIR, \"Train\")\n",
    "dfdc_val_dir = os.path.join(DFDC_DATASET_DIR, \"Val\")"
   ]
  },
  {
   "cell_type": "markdown",
   "id": "7b197090",
   "metadata": {
    "papermill": {
     "duration": 0.010666,
     "end_time": "2024-11-05T04:23:49.342358",
     "exception": false,
     "start_time": "2024-11-05T04:23:49.331692",
     "status": "completed"
    },
    "tags": []
   },
   "source": [
    "## Image Data Generator for Each Dataset"
   ]
  },
  {
   "cell_type": "code",
   "execution_count": 4,
   "id": "a2bf5371",
   "metadata": {
    "execution": {
     "iopub.execute_input": "2024-11-05T04:23:49.365144Z",
     "iopub.status.busy": "2024-11-05T04:23:49.364857Z",
     "iopub.status.idle": "2024-11-05T04:23:49.369947Z",
     "shell.execute_reply": "2024-11-05T04:23:49.369121Z"
    },
    "papermill": {
     "duration": 0.018609,
     "end_time": "2024-11-05T04:23:49.371757",
     "exception": false,
     "start_time": "2024-11-05T04:23:49.353148",
     "status": "completed"
    },
    "tags": []
   },
   "outputs": [],
   "source": [
    "def create_image_generator(dataset_dir):\n",
    "    datagen = ImageDataGenerator(preprocessing_function=xception.preprocess_input)\n",
    "    image_generator = datagen.flow_from_directory(\n",
    "        dataset_dir,\n",
    "        target_size=(128, 128),\n",
    "        batch_size=32,\n",
    "        color_mode=\"rgb\",\n",
    "        class_mode=\"binary\",\n",
    "        shuffle=True,\n",
    "        seed=42\n",
    "    )\n",
    "\n",
    "    return image_generator"
   ]
  },
  {
   "cell_type": "code",
   "execution_count": 5,
   "id": "147da379",
   "metadata": {
    "execution": {
     "iopub.execute_input": "2024-11-05T04:23:49.394655Z",
     "iopub.status.busy": "2024-11-05T04:23:49.394342Z",
     "iopub.status.idle": "2024-11-05T04:24:23.126182Z",
     "shell.execute_reply": "2024-11-05T04:24:23.125277Z"
    },
    "papermill": {
     "duration": 33.745616,
     "end_time": "2024-11-05T04:24:23.128298",
     "exception": false,
     "start_time": "2024-11-05T04:23:49.382682",
     "status": "completed"
    },
    "tags": []
   },
   "outputs": [
    {
     "name": "stdout",
     "output_type": "stream",
     "text": [
      "Celeb-DF-v2 Dataset\n",
      "Found 14000 images belonging to 2 classes.\n",
      "Found 2000 images belonging to 2 classes.\n",
      "\n",
      "DeeperForensics-1.0 Dataset\n",
      "Found 14000 images belonging to 2 classes.\n",
      "Found 2000 images belonging to 2 classes.\n",
      "\n",
      "Deepfake Detection Challenge Dataset\n",
      "Found 14000 images belonging to 2 classes.\n",
      "Found 2000 images belonging to 2 classes.\n"
     ]
    }
   ],
   "source": [
    "print(\"Celeb-DF-v2 Dataset\")\n",
    "cdf_train_generator = create_image_generator(cdf_train_dir)\n",
    "cdf_val_generator = create_image_generator(cdf_val_dir)\n",
    "\n",
    "print(\"\\nDeeperForensics-1.0 Dataset\")\n",
    "df_train_generator = create_image_generator(df_train_dir)\n",
    "df_val_generator = create_image_generator(df_val_dir)\n",
    "\n",
    "print(\"\\nDeepfake Detection Challenge Dataset\")\n",
    "dfdc_train_generator = create_image_generator(dfdc_train_dir)\n",
    "dfdc_val_generator = create_image_generator(dfdc_val_dir)"
   ]
  },
  {
   "cell_type": "markdown",
   "id": "c94ed5f5",
   "metadata": {
    "papermill": {
     "duration": 0.011466,
     "end_time": "2024-11-05T04:24:23.151910",
     "exception": false,
     "start_time": "2024-11-05T04:24:23.140444",
     "status": "completed"
    },
    "tags": []
   },
   "source": [
    "## Get the Best Hyperparameters from Tuner"
   ]
  },
  {
   "cell_type": "code",
   "execution_count": 6,
   "id": "599f7283",
   "metadata": {
    "execution": {
     "iopub.execute_input": "2024-11-05T04:24:23.176846Z",
     "iopub.status.busy": "2024-11-05T04:24:23.176472Z",
     "iopub.status.idle": "2024-11-05T04:24:23.180958Z",
     "shell.execute_reply": "2024-11-05T04:24:23.179962Z"
    },
    "papermill": {
     "duration": 0.019203,
     "end_time": "2024-11-05T04:24:23.182877",
     "exception": false,
     "start_time": "2024-11-05T04:24:23.163674",
     "status": "completed"
    },
    "tags": []
   },
   "outputs": [],
   "source": [
    "TUNER_RESULT_DIR = \"/kaggle/input/hyperparameter-tuning/tuner_result\"\n",
    "BASE_HP_TUNER_PROJECT_NAME = \"base_hp\"\n",
    "DROPOUT_TUNER_PROJECT_NAME = \"dropout_rate\""
   ]
  },
  {
   "cell_type": "code",
   "execution_count": 7,
   "id": "d12d78fd",
   "metadata": {
    "execution": {
     "iopub.execute_input": "2024-11-05T04:24:23.208342Z",
     "iopub.status.busy": "2024-11-05T04:24:23.207411Z",
     "iopub.status.idle": "2024-11-05T04:24:23.212457Z",
     "shell.execute_reply": "2024-11-05T04:24:23.211769Z"
    },
    "papermill": {
     "duration": 0.019763,
     "end_time": "2024-11-05T04:24:23.214350",
     "exception": false,
     "start_time": "2024-11-05T04:24:23.194587",
     "status": "completed"
    },
    "tags": []
   },
   "outputs": [],
   "source": [
    "def get_best_hp_from_tuner(tuner_dir, project_name):\n",
    "    tuner = kt.Hyperband(directory=tuner_dir,\n",
    "                         project_name=project_name,\n",
    "                         overwrite=False)\n",
    "\n",
    "    best_hp = tuner.get_best_hyperparameters()[0].values\n",
    "    return best_hp"
   ]
  },
  {
   "cell_type": "markdown",
   "id": "2dadb91a",
   "metadata": {
    "papermill": {
     "duration": 0.012208,
     "end_time": "2024-11-05T04:24:23.238289",
     "exception": false,
     "start_time": "2024-11-05T04:24:23.226081",
     "status": "completed"
    },
    "tags": []
   },
   "source": [
    "### Base Hyperparameters"
   ]
  },
  {
   "cell_type": "code",
   "execution_count": 8,
   "id": "f7dd0adb",
   "metadata": {
    "execution": {
     "iopub.execute_input": "2024-11-05T04:24:23.262967Z",
     "iopub.status.busy": "2024-11-05T04:24:23.262577Z",
     "iopub.status.idle": "2024-11-05T04:24:23.682420Z",
     "shell.execute_reply": "2024-11-05T04:24:23.681581Z"
    },
    "papermill": {
     "duration": 0.43433,
     "end_time": "2024-11-05T04:24:23.684388",
     "exception": false,
     "start_time": "2024-11-05T04:24:23.250058",
     "status": "completed"
    },
    "tags": []
   },
   "outputs": [
    {
     "name": "stdout",
     "output_type": "stream",
     "text": [
      "Reloading Tuner from /kaggle/input/hyperparameter-tuning/tuner_result/base_hp/tuner0.json\n"
     ]
    },
    {
     "data": {
      "text/plain": [
       "{'conv_layers': 4,\n",
       " 'conv_1_filters': 256,\n",
       " 'conv_2_filters': 224,\n",
       " 'conv_3_filters': 256,\n",
       " 'conv_1_kernel_size': 3,\n",
       " 'conv_2_kernel_size': 3,\n",
       " 'conv_3_kernel_size': 3,\n",
       " 'dense_layers': 4,\n",
       " 'dense_1_layer_units': 64,\n",
       " 'dense_2_layer_units': 224,\n",
       " 'learning_rate': 1e-05,\n",
       " 'conv_4_filters': 256,\n",
       " 'conv_4_kernel_size': 7,\n",
       " 'dense_3_layer_units': 224,\n",
       " 'dense_4_layer_units': 224,\n",
       " 'dense_5_layer_units': 224,\n",
       " 'conv_5_filters': 192,\n",
       " 'conv_5_kernel_size': 3,\n",
       " 'tuner/epochs': 20,\n",
       " 'tuner/initial_epoch': 0,\n",
       " 'tuner/bracket': 0,\n",
       " 'tuner/round': 0}"
      ]
     },
     "execution_count": 8,
     "metadata": {},
     "output_type": "execute_result"
    }
   ],
   "source": [
    "best_base_hp = get_best_hp_from_tuner(TUNER_RESULT_DIR, BASE_HP_TUNER_PROJECT_NAME)\n",
    "best_base_hp"
   ]
  },
  {
   "cell_type": "markdown",
   "id": "3f17d670",
   "metadata": {
    "papermill": {
     "duration": 0.011789,
     "end_time": "2024-11-05T04:24:23.708632",
     "exception": false,
     "start_time": "2024-11-05T04:24:23.696843",
     "status": "completed"
    },
    "tags": []
   },
   "source": [
    "### Dropout Hyperparameter"
   ]
  },
  {
   "cell_type": "code",
   "execution_count": 9,
   "id": "17f37b28",
   "metadata": {
    "execution": {
     "iopub.execute_input": "2024-11-05T04:24:23.733864Z",
     "iopub.status.busy": "2024-11-05T04:24:23.733495Z",
     "iopub.status.idle": "2024-11-05T04:24:23.871666Z",
     "shell.execute_reply": "2024-11-05T04:24:23.870705Z"
    },
    "papermill": {
     "duration": 0.153044,
     "end_time": "2024-11-05T04:24:23.873706",
     "exception": false,
     "start_time": "2024-11-05T04:24:23.720662",
     "status": "completed"
    },
    "tags": []
   },
   "outputs": [
    {
     "name": "stdout",
     "output_type": "stream",
     "text": [
      "Reloading Tuner from /kaggle/input/hyperparameter-tuning/tuner_result/dropout_rate/tuner0.json\n"
     ]
    },
    {
     "data": {
      "text/plain": [
       "{'dropout_rate': 0.65,\n",
       " 'tuner/epochs': 3,\n",
       " 'tuner/initial_epoch': 0,\n",
       " 'tuner/bracket': 2,\n",
       " 'tuner/round': 0}"
      ]
     },
     "execution_count": 9,
     "metadata": {},
     "output_type": "execute_result"
    }
   ],
   "source": [
    "best_dropout_hp = get_best_hp_from_tuner(TUNER_RESULT_DIR, DROPOUT_TUNER_PROJECT_NAME)\n",
    "best_dropout_hp"
   ]
  },
  {
   "cell_type": "markdown",
   "id": "af074a9f",
   "metadata": {
    "papermill": {
     "duration": 0.012206,
     "end_time": "2024-11-05T04:24:23.898690",
     "exception": false,
     "start_time": "2024-11-05T04:24:23.886484",
     "status": "completed"
    },
    "tags": []
   },
   "source": [
    "### Combine All Hyperparameters into a Dict"
   ]
  },
  {
   "cell_type": "code",
   "execution_count": 10,
   "id": "913d084f",
   "metadata": {
    "execution": {
     "iopub.execute_input": "2024-11-05T04:24:23.924727Z",
     "iopub.status.busy": "2024-11-05T04:24:23.924372Z",
     "iopub.status.idle": "2024-11-05T04:24:23.932460Z",
     "shell.execute_reply": "2024-11-05T04:24:23.931607Z"
    },
    "papermill": {
     "duration": 0.023521,
     "end_time": "2024-11-05T04:24:23.934469",
     "exception": false,
     "start_time": "2024-11-05T04:24:23.910948",
     "status": "completed"
    },
    "tags": []
   },
   "outputs": [
    {
     "name": "stdout",
     "output_type": "stream",
     "text": [
      "Best hyperparameters loaded\n",
      "\n",
      "conv_layers: 4\n",
      "conv_1_filters: 256\n",
      "conv_1_kernel_size: 3\n",
      "conv_2_filters: 224\n",
      "conv_2_kernel_size: 3\n",
      "conv_3_filters: 256\n",
      "conv_3_kernel_size: 3\n",
      "conv_4_filters: 256\n",
      "conv_4_kernel_size: 7\n",
      "dense_layers: 4\n",
      "dense_1_layer_units: 64\n",
      "dense_2_layer_units: 224\n",
      "dense_3_layer_units: 224\n",
      "dense_4_layer_units: 224\n",
      "dropout_rate: 0.65\n",
      "learning_rate: 1e-05\n"
     ]
    }
   ],
   "source": [
    "best_hp = {}\n",
    "\n",
    "best_hp[\"conv_layers\"] = best_base_hp.get(\"conv_layers\")\n",
    "for i in range(best_base_hp.get(\"conv_layers\")):\n",
    "    conv_filter_hp_name = f\"conv_{i+1}_filters\"\n",
    "    conv_kernel_size_hp_name = f\"conv_{i+1}_kernel_size\"\n",
    "    best_hp[conv_filter_hp_name] = best_base_hp.get(conv_filter_hp_name)\n",
    "    best_hp[conv_kernel_size_hp_name] = best_base_hp.get(conv_kernel_size_hp_name)\n",
    "\n",
    "best_hp[\"dense_layers\"] = best_base_hp.get(\"dense_layers\")\n",
    "for i in range(best_base_hp.get(\"dense_layers\")):\n",
    "    dense_unit_hp_name = f\"dense_{i+1}_layer_units\"\n",
    "    best_hp[dense_unit_hp_name] = best_base_hp.get(dense_unit_hp_name)\n",
    "\n",
    "best_hp[\"dropout_rate\"] = best_dropout_hp.get(\"dropout_rate\")\n",
    "best_hp[\"learning_rate\"] = best_base_hp.get(\"learning_rate\")\n",
    "\n",
    "print(\"Best hyperparameters loaded\\n\")\n",
    "for key in best_hp:\n",
    "    print(f\"{key}: {best_hp[key]}\")"
   ]
  },
  {
   "cell_type": "markdown",
   "id": "2076753c",
   "metadata": {
    "papermill": {
     "duration": 0.012362,
     "end_time": "2024-11-05T04:24:23.959376",
     "exception": false,
     "start_time": "2024-11-05T04:24:23.947014",
     "status": "completed"
    },
    "tags": []
   },
   "source": [
    "## Function to Create an Xception Model"
   ]
  },
  {
   "cell_type": "code",
   "execution_count": 11,
   "id": "5894964a",
   "metadata": {
    "execution": {
     "iopub.execute_input": "2024-11-05T04:24:23.985861Z",
     "iopub.status.busy": "2024-11-05T04:24:23.985509Z",
     "iopub.status.idle": "2024-11-05T04:24:23.993743Z",
     "shell.execute_reply": "2024-11-05T04:24:23.992855Z"
    },
    "papermill": {
     "duration": 0.02386,
     "end_time": "2024-11-05T04:24:23.995688",
     "exception": false,
     "start_time": "2024-11-05T04:24:23.971828",
     "status": "completed"
    },
    "scrolled": true,
    "tags": []
   },
   "outputs": [],
   "source": [
    "def create_xception_model(hp, dropout=False):\n",
    "    base_model = Xception(include_top=False, weights=\"imagenet\", input_shape=(128, 128, 3))\n",
    "    for layer in base_model.layers:\n",
    "        layer.trainable = False\n",
    "\n",
    "    model = tf.keras.Sequential()\n",
    "    model.add(base_model)\n",
    "\n",
    "    model.add(tf.keras.layers.Flatten())\n",
    "\n",
    "    for i in range(hp.get(\"dense_layers\")):\n",
    "        dense_units = hp.get(f\"dense_{i+1}_layer_units\")\n",
    "        model.add(tf.keras.layers.Dense(dense_units, activation=\"relu\"))\n",
    "\n",
    "    if dropout:\n",
    "        model.add(tf.keras.layers.Dropout(hp.get(\"dropout_rate\")))\n",
    "\n",
    "    model.add(tf.keras.layers.Dense(1, activation=\"sigmoid\"))\n",
    "\n",
    "    model.compile(\n",
    "        optimizer=tf.keras.optimizers.Adam(learning_rate=hp.get(\"learning_rate\")),\n",
    "        loss=tf.keras.losses.BinaryCrossentropy(),\n",
    "        metrics=[\"accuracy\"]\n",
    "    )\n",
    "\n",
    "    return model"
   ]
  },
  {
   "cell_type": "markdown",
   "id": "a23de87b",
   "metadata": {
    "papermill": {
     "duration": 0.01237,
     "end_time": "2024-11-05T04:24:24.020641",
     "exception": false,
     "start_time": "2024-11-05T04:24:24.008271",
     "status": "completed"
    },
    "tags": []
   },
   "source": [
    "## Function to Plot Train Results"
   ]
  },
  {
   "cell_type": "code",
   "execution_count": 12,
   "id": "a5523498",
   "metadata": {
    "execution": {
     "iopub.execute_input": "2024-11-05T04:24:24.047128Z",
     "iopub.status.busy": "2024-11-05T04:24:24.046797Z",
     "iopub.status.idle": "2024-11-05T04:24:24.053981Z",
     "shell.execute_reply": "2024-11-05T04:24:24.053143Z"
    },
    "papermill": {
     "duration": 0.02267,
     "end_time": "2024-11-05T04:24:24.055851",
     "exception": false,
     "start_time": "2024-11-05T04:24:24.033181",
     "status": "completed"
    },
    "tags": []
   },
   "outputs": [],
   "source": [
    "def plot_train_result(history, title=\"Training Result\"):\n",
    "    plt.figure(figsize=(12, 4))\n",
    "    plt.subplots_adjust(top=0.8)\n",
    "    plt.suptitle(title)\n",
    "\n",
    "    plt.subplot(1, 2, 1)\n",
    "    plt.plot(history[\"accuracy\"], label=\"Train\")\n",
    "    plt.plot(history[\"val_accuracy\"], label=\"Val\")\n",
    "    plt.title(\"Training and Validation Accuracy\")\n",
    "    plt.xlabel(\"Epoch\")\n",
    "    plt.ylabel(\"Accuracy\")\n",
    "    plt.legend()\n",
    "\n",
    "    plt.subplot(1, 2, 2)\n",
    "    plt.plot(history[\"loss\"], label=\"Train\")\n",
    "    plt.plot(history[\"val_loss\"], label=\"Val\")\n",
    "    plt.title(\"Training and Validation Loss\")\n",
    "    plt.xlabel(\"Epoch\")\n",
    "    plt.ylabel(\"Loss\")\n",
    "    plt.legend()\n",
    "\n",
    "    plt.show()"
   ]
  },
  {
   "cell_type": "markdown",
   "id": "2b01a177",
   "metadata": {
    "papermill": {
     "duration": 0.012377,
     "end_time": "2024-11-05T04:24:24.080761",
     "exception": false,
     "start_time": "2024-11-05T04:24:24.068384",
     "status": "completed"
    },
    "tags": []
   },
   "source": [
    "## Function to Save Model Training History"
   ]
  },
  {
   "cell_type": "code",
   "execution_count": 13,
   "id": "ad0e03ac",
   "metadata": {
    "execution": {
     "iopub.execute_input": "2024-11-05T04:24:24.107285Z",
     "iopub.status.busy": "2024-11-05T04:24:24.106957Z",
     "iopub.status.idle": "2024-11-05T04:24:24.112154Z",
     "shell.execute_reply": "2024-11-05T04:24:24.111311Z"
    },
    "papermill": {
     "duration": 0.020603,
     "end_time": "2024-11-05T04:24:24.113970",
     "exception": false,
     "start_time": "2024-11-05T04:24:24.093367",
     "status": "completed"
    },
    "tags": []
   },
   "outputs": [],
   "source": [
    "def save_model_and_history(model, history, model_name):\n",
    "    model_filename = f\"{model_name}_model.keras\"\n",
    "    history_filename = f\"{model_name}_history.pkl\"\n",
    "\n",
    "    model.save(model_filename)\n",
    "    print(f\"Model saved at {model_filename}\")    \n",
    "\n",
    "    with open(history_filename, \"wb\") as f:\n",
    "        pickle.dump(history.history, f)\n",
    "        print(f\"Training history saved at {history_filename}\")"
   ]
  },
  {
   "cell_type": "markdown",
   "id": "1f662f89",
   "metadata": {
    "papermill": {
     "duration": 0.013561,
     "end_time": "2024-11-05T04:24:24.140336",
     "exception": false,
     "start_time": "2024-11-05T04:24:24.126775",
     "status": "completed"
    },
    "tags": []
   },
   "source": [
    "## Model Training"
   ]
  },
  {
   "cell_type": "code",
   "execution_count": 14,
   "id": "6662d8be",
   "metadata": {
    "execution": {
     "iopub.execute_input": "2024-11-05T04:24:24.166942Z",
     "iopub.status.busy": "2024-11-05T04:24:24.166626Z",
     "iopub.status.idle": "2024-11-05T04:24:24.170725Z",
     "shell.execute_reply": "2024-11-05T04:24:24.169914Z"
    },
    "papermill": {
     "duration": 0.01978,
     "end_time": "2024-11-05T04:24:24.172686",
     "exception": false,
     "start_time": "2024-11-05T04:24:24.152906",
     "status": "completed"
    },
    "tags": []
   },
   "outputs": [],
   "source": [
    "NUM_EPOCHS = 50"
   ]
  },
  {
   "cell_type": "markdown",
   "id": "6603a9e0",
   "metadata": {
    "papermill": {
     "duration": 0.012612,
     "end_time": "2024-11-05T04:24:24.197885",
     "exception": false,
     "start_time": "2024-11-05T04:24:24.185273",
     "status": "completed"
    },
    "tags": []
   },
   "source": [
    "### Baseline Xception"
   ]
  },
  {
   "cell_type": "markdown",
   "id": "66558f54",
   "metadata": {
    "papermill": {
     "duration": 0.012327,
     "end_time": "2024-11-05T04:24:24.222912",
     "exception": false,
     "start_time": "2024-11-05T04:24:24.210585",
     "status": "completed"
    },
    "tags": []
   },
   "source": [
    "#### Celeb-DF-v2 Dataset"
   ]
  },
  {
   "cell_type": "code",
   "execution_count": 15,
   "id": "c975029b",
   "metadata": {
    "execution": {
     "iopub.execute_input": "2024-11-05T04:24:24.249968Z",
     "iopub.status.busy": "2024-11-05T04:24:24.249644Z",
     "iopub.status.idle": "2024-11-05T04:24:28.815527Z",
     "shell.execute_reply": "2024-11-05T04:24:28.814502Z"
    },
    "papermill": {
     "duration": 4.581918,
     "end_time": "2024-11-05T04:24:28.817446",
     "exception": false,
     "start_time": "2024-11-05T04:24:24.235528",
     "status": "completed"
    },
    "tags": []
   },
   "outputs": [
    {
     "name": "stdout",
     "output_type": "stream",
     "text": [
      "Downloading data from https://storage.googleapis.com/tensorflow/keras-applications/xception/xception_weights_tf_dim_ordering_tf_kernels_notop.h5\n",
      "\u001b[1m83683744/83683744\u001b[0m \u001b[32m━━━━━━━━━━━━━━━━━━━━\u001b[0m\u001b[37m\u001b[0m \u001b[1m3s\u001b[0m 0us/step\n"
     ]
    },
    {
     "data": {
      "text/html": [
       "<pre style=\"white-space:pre;overflow-x:auto;line-height:normal;font-family:Menlo,'DejaVu Sans Mono',consolas,'Courier New',monospace\"><span style=\"font-weight: bold\">Model: \"sequential\"</span>\n",
       "</pre>\n"
      ],
      "text/plain": [
       "\u001b[1mModel: \"sequential\"\u001b[0m\n"
      ]
     },
     "metadata": {},
     "output_type": "display_data"
    },
    {
     "data": {
      "text/html": [
       "<pre style=\"white-space:pre;overflow-x:auto;line-height:normal;font-family:Menlo,'DejaVu Sans Mono',consolas,'Courier New',monospace\">┏━━━━━━━━━━━━━━━━━━━━━━━━━━━━━━━━━┳━━━━━━━━━━━━━━━━━━━━━━━━┳━━━━━━━━━━━━━━━┓\n",
       "┃<span style=\"font-weight: bold\"> Layer (type)                    </span>┃<span style=\"font-weight: bold\"> Output Shape           </span>┃<span style=\"font-weight: bold\">       Param # </span>┃\n",
       "┡━━━━━━━━━━━━━━━━━━━━━━━━━━━━━━━━━╇━━━━━━━━━━━━━━━━━━━━━━━━╇━━━━━━━━━━━━━━━┩\n",
       "│ xception (<span style=\"color: #0087ff; text-decoration-color: #0087ff\">Functional</span>)           │ ?                      │    <span style=\"color: #00af00; text-decoration-color: #00af00\">20,861,480</span> │\n",
       "├─────────────────────────────────┼────────────────────────┼───────────────┤\n",
       "│ flatten (<span style=\"color: #0087ff; text-decoration-color: #0087ff\">Flatten</span>)               │ ?                      │   <span style=\"color: #00af00; text-decoration-color: #00af00\">0</span> (unbuilt) │\n",
       "├─────────────────────────────────┼────────────────────────┼───────────────┤\n",
       "│ dense (<span style=\"color: #0087ff; text-decoration-color: #0087ff\">Dense</span>)                   │ ?                      │   <span style=\"color: #00af00; text-decoration-color: #00af00\">0</span> (unbuilt) │\n",
       "├─────────────────────────────────┼────────────────────────┼───────────────┤\n",
       "│ dense_1 (<span style=\"color: #0087ff; text-decoration-color: #0087ff\">Dense</span>)                 │ ?                      │   <span style=\"color: #00af00; text-decoration-color: #00af00\">0</span> (unbuilt) │\n",
       "├─────────────────────────────────┼────────────────────────┼───────────────┤\n",
       "│ dense_2 (<span style=\"color: #0087ff; text-decoration-color: #0087ff\">Dense</span>)                 │ ?                      │   <span style=\"color: #00af00; text-decoration-color: #00af00\">0</span> (unbuilt) │\n",
       "├─────────────────────────────────┼────────────────────────┼───────────────┤\n",
       "│ dense_3 (<span style=\"color: #0087ff; text-decoration-color: #0087ff\">Dense</span>)                 │ ?                      │   <span style=\"color: #00af00; text-decoration-color: #00af00\">0</span> (unbuilt) │\n",
       "├─────────────────────────────────┼────────────────────────┼───────────────┤\n",
       "│ dense_4 (<span style=\"color: #0087ff; text-decoration-color: #0087ff\">Dense</span>)                 │ ?                      │   <span style=\"color: #00af00; text-decoration-color: #00af00\">0</span> (unbuilt) │\n",
       "└─────────────────────────────────┴────────────────────────┴───────────────┘\n",
       "</pre>\n"
      ],
      "text/plain": [
       "┏━━━━━━━━━━━━━━━━━━━━━━━━━━━━━━━━━┳━━━━━━━━━━━━━━━━━━━━━━━━┳━━━━━━━━━━━━━━━┓\n",
       "┃\u001b[1m \u001b[0m\u001b[1mLayer (type)                   \u001b[0m\u001b[1m \u001b[0m┃\u001b[1m \u001b[0m\u001b[1mOutput Shape          \u001b[0m\u001b[1m \u001b[0m┃\u001b[1m \u001b[0m\u001b[1m      Param #\u001b[0m\u001b[1m \u001b[0m┃\n",
       "┡━━━━━━━━━━━━━━━━━━━━━━━━━━━━━━━━━╇━━━━━━━━━━━━━━━━━━━━━━━━╇━━━━━━━━━━━━━━━┩\n",
       "│ xception (\u001b[38;5;33mFunctional\u001b[0m)           │ ?                      │    \u001b[38;5;34m20,861,480\u001b[0m │\n",
       "├─────────────────────────────────┼────────────────────────┼───────────────┤\n",
       "│ flatten (\u001b[38;5;33mFlatten\u001b[0m)               │ ?                      │   \u001b[38;5;34m0\u001b[0m (unbuilt) │\n",
       "├─────────────────────────────────┼────────────────────────┼───────────────┤\n",
       "│ dense (\u001b[38;5;33mDense\u001b[0m)                   │ ?                      │   \u001b[38;5;34m0\u001b[0m (unbuilt) │\n",
       "├─────────────────────────────────┼────────────────────────┼───────────────┤\n",
       "│ dense_1 (\u001b[38;5;33mDense\u001b[0m)                 │ ?                      │   \u001b[38;5;34m0\u001b[0m (unbuilt) │\n",
       "├─────────────────────────────────┼────────────────────────┼───────────────┤\n",
       "│ dense_2 (\u001b[38;5;33mDense\u001b[0m)                 │ ?                      │   \u001b[38;5;34m0\u001b[0m (unbuilt) │\n",
       "├─────────────────────────────────┼────────────────────────┼───────────────┤\n",
       "│ dense_3 (\u001b[38;5;33mDense\u001b[0m)                 │ ?                      │   \u001b[38;5;34m0\u001b[0m (unbuilt) │\n",
       "├─────────────────────────────────┼────────────────────────┼───────────────┤\n",
       "│ dense_4 (\u001b[38;5;33mDense\u001b[0m)                 │ ?                      │   \u001b[38;5;34m0\u001b[0m (unbuilt) │\n",
       "└─────────────────────────────────┴────────────────────────┴───────────────┘\n"
      ]
     },
     "metadata": {},
     "output_type": "display_data"
    },
    {
     "data": {
      "text/html": [
       "<pre style=\"white-space:pre;overflow-x:auto;line-height:normal;font-family:Menlo,'DejaVu Sans Mono',consolas,'Courier New',monospace\"><span style=\"font-weight: bold\"> Total params: </span><span style=\"color: #00af00; text-decoration-color: #00af00\">20,861,480</span> (79.58 MB)\n",
       "</pre>\n"
      ],
      "text/plain": [
       "\u001b[1m Total params: \u001b[0m\u001b[38;5;34m20,861,480\u001b[0m (79.58 MB)\n"
      ]
     },
     "metadata": {},
     "output_type": "display_data"
    },
    {
     "data": {
      "text/html": [
       "<pre style=\"white-space:pre;overflow-x:auto;line-height:normal;font-family:Menlo,'DejaVu Sans Mono',consolas,'Courier New',monospace\"><span style=\"font-weight: bold\"> Trainable params: </span><span style=\"color: #00af00; text-decoration-color: #00af00\">0</span> (0.00 B)\n",
       "</pre>\n"
      ],
      "text/plain": [
       "\u001b[1m Trainable params: \u001b[0m\u001b[38;5;34m0\u001b[0m (0.00 B)\n"
      ]
     },
     "metadata": {},
     "output_type": "display_data"
    },
    {
     "data": {
      "text/html": [
       "<pre style=\"white-space:pre;overflow-x:auto;line-height:normal;font-family:Menlo,'DejaVu Sans Mono',consolas,'Courier New',monospace\"><span style=\"font-weight: bold\"> Non-trainable params: </span><span style=\"color: #00af00; text-decoration-color: #00af00\">20,861,480</span> (79.58 MB)\n",
       "</pre>\n"
      ],
      "text/plain": [
       "\u001b[1m Non-trainable params: \u001b[0m\u001b[38;5;34m20,861,480\u001b[0m (79.58 MB)\n"
      ]
     },
     "metadata": {},
     "output_type": "display_data"
    }
   ],
   "source": [
    "baseline_xception_cdf_model = create_xception_model(best_hp)\n",
    "baseline_xception_cdf_model.summary()"
   ]
  },
  {
   "cell_type": "code",
   "execution_count": 16,
   "id": "27efebc4",
   "metadata": {
    "execution": {
     "iopub.execute_input": "2024-11-05T04:24:28.854148Z",
     "iopub.status.busy": "2024-11-05T04:24:28.853827Z",
     "iopub.status.idle": "2024-11-05T04:44:00.647982Z",
     "shell.execute_reply": "2024-11-05T04:44:00.647038Z"
    },
    "papermill": {
     "duration": 1171.814598,
     "end_time": "2024-11-05T04:44:00.650184",
     "exception": false,
     "start_time": "2024-11-05T04:24:28.835586",
     "status": "completed"
    },
    "tags": []
   },
   "outputs": [
    {
     "name": "stdout",
     "output_type": "stream",
     "text": [
      "Epoch 1/50\n"
     ]
    },
    {
     "name": "stderr",
     "output_type": "stream",
     "text": [
      "/opt/conda/lib/python3.10/site-packages/keras/src/trainers/data_adapters/py_dataset_adapter.py:121: UserWarning: Your `PyDataset` class should call `super().__init__(**kwargs)` in its constructor. `**kwargs` can include `workers`, `use_multiprocessing`, `max_queue_size`. Do not pass these arguments to `fit()`, as they will be ignored.\n",
      "  self._warn_if_super_not_called()\n",
      "WARNING: All log messages before absl::InitializeLog() is called are written to STDERR\n",
      "I0000 00:00:1730780675.783823     256 service.cc:145] XLA service 0x7f0d98002f00 initialized for platform CUDA (this does not guarantee that XLA will be used). Devices:\n",
      "I0000 00:00:1730780675.783884     256 service.cc:153]   StreamExecutor device (0): Tesla P100-PCIE-16GB, Compute Capability 6.0\n"
     ]
    },
    {
     "name": "stdout",
     "output_type": "stream",
     "text": [
      "\u001b[1m  1/438\u001b[0m \u001b[37m━━━━━━━━━━━━━━━━━━━━\u001b[0m \u001b[1m1:20:34\u001b[0m 11s/step - accuracy: 0.4688 - loss: 0.7014"
     ]
    },
    {
     "name": "stderr",
     "output_type": "stream",
     "text": [
      "I0000 00:00:1730780680.288296     256 device_compiler.h:188] Compiled cluster using XLA!  This line is logged at most once for the lifetime of the process.\n"
     ]
    },
    {
     "name": "stdout",
     "output_type": "stream",
     "text": [
      "\u001b[1m438/438\u001b[0m \u001b[32m━━━━━━━━━━━━━━━━━━━━\u001b[0m\u001b[37m\u001b[0m \u001b[1m97s\u001b[0m 198ms/step - accuracy: 0.5719 - loss: 0.6792 - val_accuracy: 0.6295 - val_loss: 0.6460\n",
      "Epoch 2/50\n",
      "\u001b[1m438/438\u001b[0m \u001b[32m━━━━━━━━━━━━━━━━━━━━\u001b[0m\u001b[37m\u001b[0m \u001b[1m20s\u001b[0m 45ms/step - accuracy: 0.7653 - loss: 0.5393 - val_accuracy: 0.6225 - val_loss: 0.6916\n",
      "Epoch 3/50\n",
      "\u001b[1m438/438\u001b[0m \u001b[32m━━━━━━━━━━━━━━━━━━━━\u001b[0m\u001b[37m\u001b[0m \u001b[1m21s\u001b[0m 46ms/step - accuracy: 0.8619 - loss: 0.3764 - val_accuracy: 0.6370 - val_loss: 0.7438\n",
      "Epoch 4/50\n",
      "\u001b[1m438/438\u001b[0m \u001b[32m━━━━━━━━━━━━━━━━━━━━\u001b[0m\u001b[37m\u001b[0m \u001b[1m41s\u001b[0m 45ms/step - accuracy: 0.8983 - loss: 0.2804 - val_accuracy: 0.6620 - val_loss: 0.7908\n",
      "Epoch 5/50\n",
      "\u001b[1m438/438\u001b[0m \u001b[32m━━━━━━━━━━━━━━━━━━━━\u001b[0m\u001b[37m\u001b[0m \u001b[1m20s\u001b[0m 45ms/step - accuracy: 0.9306 - loss: 0.2108 - val_accuracy: 0.6645 - val_loss: 0.8131\n",
      "Epoch 6/50\n",
      "\u001b[1m438/438\u001b[0m \u001b[32m━━━━━━━━━━━━━━━━━━━━\u001b[0m\u001b[37m\u001b[0m \u001b[1m21s\u001b[0m 47ms/step - accuracy: 0.9533 - loss: 0.1562 - val_accuracy: 0.6730 - val_loss: 0.8457\n",
      "Epoch 7/50\n",
      "\u001b[1m438/438\u001b[0m \u001b[32m━━━━━━━━━━━━━━━━━━━━\u001b[0m\u001b[37m\u001b[0m \u001b[1m20s\u001b[0m 45ms/step - accuracy: 0.9591 - loss: 0.1316 - val_accuracy: 0.6815 - val_loss: 0.8371\n",
      "Epoch 8/50\n",
      "\u001b[1m438/438\u001b[0m \u001b[32m━━━━━━━━━━━━━━━━━━━━\u001b[0m\u001b[37m\u001b[0m \u001b[1m20s\u001b[0m 45ms/step - accuracy: 0.9715 - loss: 0.1023 - val_accuracy: 0.7015 - val_loss: 0.7998\n",
      "Epoch 9/50\n",
      "\u001b[1m438/438\u001b[0m \u001b[32m━━━━━━━━━━━━━━━━━━━━\u001b[0m\u001b[37m\u001b[0m \u001b[1m22s\u001b[0m 47ms/step - accuracy: 0.9765 - loss: 0.0839 - val_accuracy: 0.6800 - val_loss: 0.9406\n",
      "Epoch 10/50\n",
      "\u001b[1m438/438\u001b[0m \u001b[32m━━━━━━━━━━━━━━━━━━━━\u001b[0m\u001b[37m\u001b[0m \u001b[1m20s\u001b[0m 45ms/step - accuracy: 0.9835 - loss: 0.0685 - val_accuracy: 0.7010 - val_loss: 0.9183\n",
      "Epoch 11/50\n",
      "\u001b[1m438/438\u001b[0m \u001b[32m━━━━━━━━━━━━━━━━━━━━\u001b[0m\u001b[37m\u001b[0m \u001b[1m20s\u001b[0m 45ms/step - accuracy: 0.9860 - loss: 0.0544 - val_accuracy: 0.6500 - val_loss: 1.1338\n",
      "Epoch 12/50\n",
      "\u001b[1m438/438\u001b[0m \u001b[32m━━━━━━━━━━━━━━━━━━━━\u001b[0m\u001b[37m\u001b[0m \u001b[1m21s\u001b[0m 47ms/step - accuracy: 0.9884 - loss: 0.0490 - val_accuracy: 0.6920 - val_loss: 1.0280\n",
      "Epoch 13/50\n",
      "\u001b[1m438/438\u001b[0m \u001b[32m━━━━━━━━━━━━━━━━━━━━\u001b[0m\u001b[37m\u001b[0m \u001b[1m20s\u001b[0m 46ms/step - accuracy: 0.9930 - loss: 0.0357 - val_accuracy: 0.6680 - val_loss: 1.1212\n",
      "Epoch 14/50\n",
      "\u001b[1m438/438\u001b[0m \u001b[32m━━━━━━━━━━━━━━━━━━━━\u001b[0m\u001b[37m\u001b[0m \u001b[1m20s\u001b[0m 45ms/step - accuracy: 0.9941 - loss: 0.0302 - val_accuracy: 0.6900 - val_loss: 1.1129\n",
      "Epoch 15/50\n",
      "\u001b[1m438/438\u001b[0m \u001b[32m━━━━━━━━━━━━━━━━━━━━\u001b[0m\u001b[37m\u001b[0m \u001b[1m20s\u001b[0m 46ms/step - accuracy: 0.9961 - loss: 0.0229 - val_accuracy: 0.6900 - val_loss: 1.1149\n",
      "Epoch 16/50\n",
      "\u001b[1m438/438\u001b[0m \u001b[32m━━━━━━━━━━━━━━━━━━━━\u001b[0m\u001b[37m\u001b[0m \u001b[1m22s\u001b[0m 48ms/step - accuracy: 0.9956 - loss: 0.0224 - val_accuracy: 0.6855 - val_loss: 1.2602\n",
      "Epoch 17/50\n",
      "\u001b[1m438/438\u001b[0m \u001b[32m━━━━━━━━━━━━━━━━━━━━\u001b[0m\u001b[37m\u001b[0m \u001b[1m20s\u001b[0m 45ms/step - accuracy: 0.9965 - loss: 0.0181 - val_accuracy: 0.6650 - val_loss: 1.2874\n",
      "Epoch 18/50\n",
      "\u001b[1m438/438\u001b[0m \u001b[32m━━━━━━━━━━━━━━━━━━━━\u001b[0m\u001b[37m\u001b[0m \u001b[1m20s\u001b[0m 46ms/step - accuracy: 0.9968 - loss: 0.0167 - val_accuracy: 0.6845 - val_loss: 1.3106\n",
      "Epoch 19/50\n",
      "\u001b[1m438/438\u001b[0m \u001b[32m━━━━━━━━━━━━━━━━━━━━\u001b[0m\u001b[37m\u001b[0m \u001b[1m20s\u001b[0m 45ms/step - accuracy: 0.9973 - loss: 0.0129 - val_accuracy: 0.6905 - val_loss: 1.3229\n",
      "Epoch 20/50\n",
      "\u001b[1m438/438\u001b[0m \u001b[32m━━━━━━━━━━━━━━━━━━━━\u001b[0m\u001b[37m\u001b[0m \u001b[1m20s\u001b[0m 45ms/step - accuracy: 0.9991 - loss: 0.0091 - val_accuracy: 0.6810 - val_loss: 1.3646\n",
      "Epoch 21/50\n",
      "\u001b[1m438/438\u001b[0m \u001b[32m━━━━━━━━━━━━━━━━━━━━\u001b[0m\u001b[37m\u001b[0m \u001b[1m21s\u001b[0m 46ms/step - accuracy: 0.9988 - loss: 0.0079 - val_accuracy: 0.6865 - val_loss: 1.4609\n",
      "Epoch 22/50\n",
      "\u001b[1m438/438\u001b[0m \u001b[32m━━━━━━━━━━━━━━━━━━━━\u001b[0m\u001b[37m\u001b[0m \u001b[1m20s\u001b[0m 44ms/step - accuracy: 0.9964 - loss: 0.0139 - val_accuracy: 0.7045 - val_loss: 1.3061\n",
      "Epoch 23/50\n",
      "\u001b[1m438/438\u001b[0m \u001b[32m━━━━━━━━━━━━━━━━━━━━\u001b[0m\u001b[37m\u001b[0m \u001b[1m19s\u001b[0m 43ms/step - accuracy: 0.9984 - loss: 0.0077 - val_accuracy: 0.6965 - val_loss: 1.4064\n",
      "Epoch 24/50\n",
      "\u001b[1m438/438\u001b[0m \u001b[32m━━━━━━━━━━━━━━━━━━━━\u001b[0m\u001b[37m\u001b[0m \u001b[1m21s\u001b[0m 48ms/step - accuracy: 0.9987 - loss: 0.0047 - val_accuracy: 0.6790 - val_loss: 1.5110\n",
      "Epoch 25/50\n",
      "\u001b[1m438/438\u001b[0m \u001b[32m━━━━━━━━━━━━━━━━━━━━\u001b[0m\u001b[37m\u001b[0m \u001b[1m20s\u001b[0m 46ms/step - accuracy: 0.9987 - loss: 0.0051 - val_accuracy: 0.6985 - val_loss: 1.4524\n",
      "Epoch 26/50\n",
      "\u001b[1m438/438\u001b[0m \u001b[32m━━━━━━━━━━━━━━━━━━━━\u001b[0m\u001b[37m\u001b[0m \u001b[1m20s\u001b[0m 45ms/step - accuracy: 0.9993 - loss: 0.0041 - val_accuracy: 0.7045 - val_loss: 1.4310\n",
      "Epoch 27/50\n",
      "\u001b[1m438/438\u001b[0m \u001b[32m━━━━━━━━━━━━━━━━━━━━\u001b[0m\u001b[37m\u001b[0m \u001b[1m20s\u001b[0m 45ms/step - accuracy: 0.9989 - loss: 0.0044 - val_accuracy: 0.6935 - val_loss: 1.6598\n",
      "Epoch 28/50\n",
      "\u001b[1m438/438\u001b[0m \u001b[32m━━━━━━━━━━━━━━━━━━━━\u001b[0m\u001b[37m\u001b[0m \u001b[1m19s\u001b[0m 44ms/step - accuracy: 0.9960 - loss: 0.0110 - val_accuracy: 0.6970 - val_loss: 1.5618\n",
      "Epoch 29/50\n",
      "\u001b[1m438/438\u001b[0m \u001b[32m━━━━━━━━━━━━━━━━━━━━\u001b[0m\u001b[37m\u001b[0m \u001b[1m21s\u001b[0m 47ms/step - accuracy: 0.9982 - loss: 0.0059 - val_accuracy: 0.6980 - val_loss: 1.4431\n",
      "Epoch 30/50\n",
      "\u001b[1m438/438\u001b[0m \u001b[32m━━━━━━━━━━━━━━━━━━━━\u001b[0m\u001b[37m\u001b[0m \u001b[1m20s\u001b[0m 46ms/step - accuracy: 0.9986 - loss: 0.0032 - val_accuracy: 0.6975 - val_loss: 1.5681\n",
      "Epoch 31/50\n",
      "\u001b[1m438/438\u001b[0m \u001b[32m━━━━━━━━━━━━━━━━━━━━\u001b[0m\u001b[37m\u001b[0m \u001b[1m22s\u001b[0m 49ms/step - accuracy: 0.9990 - loss: 0.0025 - val_accuracy: 0.6985 - val_loss: 1.5548\n",
      "Epoch 32/50\n",
      "\u001b[1m438/438\u001b[0m \u001b[32m━━━━━━━━━━━━━━━━━━━━\u001b[0m\u001b[37m\u001b[0m \u001b[1m20s\u001b[0m 45ms/step - accuracy: 0.9994 - loss: 0.0019 - val_accuracy: 0.6985 - val_loss: 1.6193\n",
      "Epoch 33/50\n",
      "\u001b[1m438/438\u001b[0m \u001b[32m━━━━━━━━━━━━━━━━━━━━\u001b[0m\u001b[37m\u001b[0m \u001b[1m21s\u001b[0m 45ms/step - accuracy: 0.9990 - loss: 0.0025 - val_accuracy: 0.6975 - val_loss: 1.5783\n",
      "Epoch 34/50\n",
      "\u001b[1m438/438\u001b[0m \u001b[32m━━━━━━━━━━━━━━━━━━━━\u001b[0m\u001b[37m\u001b[0m \u001b[1m24s\u001b[0m 53ms/step - accuracy: 0.9986 - loss: 0.0021 - val_accuracy: 0.6950 - val_loss: 1.6948\n",
      "Epoch 35/50\n",
      "\u001b[1m438/438\u001b[0m \u001b[32m━━━━━━━━━━━━━━━━━━━━\u001b[0m\u001b[37m\u001b[0m \u001b[1m37s\u001b[0m 82ms/step - accuracy: 0.9980 - loss: 0.0047 - val_accuracy: 0.6785 - val_loss: 1.7320\n",
      "Epoch 36/50\n",
      "\u001b[1m438/438\u001b[0m \u001b[32m━━━━━━━━━━━━━━━━━━━━\u001b[0m\u001b[37m\u001b[0m \u001b[1m22s\u001b[0m 50ms/step - accuracy: 0.9975 - loss: 0.0075 - val_accuracy: 0.7000 - val_loss: 1.6796\n",
      "Epoch 37/50\n",
      "\u001b[1m438/438\u001b[0m \u001b[32m━━━━━━━━━━━━━━━━━━━━\u001b[0m\u001b[37m\u001b[0m \u001b[1m32s\u001b[0m 73ms/step - accuracy: 0.9990 - loss: 0.0026 - val_accuracy: 0.7085 - val_loss: 1.6699\n",
      "Epoch 38/50\n",
      "\u001b[1m438/438\u001b[0m \u001b[32m━━━━━━━━━━━━━━━━━━━━\u001b[0m\u001b[37m\u001b[0m \u001b[1m19s\u001b[0m 43ms/step - accuracy: 0.9993 - loss: 0.0018 - val_accuracy: 0.7045 - val_loss: 1.6791\n",
      "Epoch 39/50\n",
      "\u001b[1m438/438\u001b[0m \u001b[32m━━━━━━━━━━━━━━━━━━━━\u001b[0m\u001b[37m\u001b[0m \u001b[1m21s\u001b[0m 47ms/step - accuracy: 0.9988 - loss: 0.0016 - val_accuracy: 0.7040 - val_loss: 1.7164\n",
      "Epoch 40/50\n",
      "\u001b[1m438/438\u001b[0m \u001b[32m━━━━━━━━━━━━━━━━━━━━\u001b[0m\u001b[37m\u001b[0m \u001b[1m21s\u001b[0m 48ms/step - accuracy: 0.9992 - loss: 0.0017 - val_accuracy: 0.7025 - val_loss: 1.7487\n",
      "Epoch 41/50\n",
      "\u001b[1m438/438\u001b[0m \u001b[32m━━━━━━━━━━━━━━━━━━━━\u001b[0m\u001b[37m\u001b[0m \u001b[1m20s\u001b[0m 45ms/step - accuracy: 0.9991 - loss: 0.0019 - val_accuracy: 0.7035 - val_loss: 1.7890\n",
      "Epoch 42/50\n",
      "\u001b[1m438/438\u001b[0m \u001b[32m━━━━━━━━━━━━━━━━━━━━\u001b[0m\u001b[37m\u001b[0m \u001b[1m20s\u001b[0m 44ms/step - accuracy: 0.9990 - loss: 0.0019 - val_accuracy: 0.6980 - val_loss: 1.7986\n",
      "Epoch 43/50\n",
      "\u001b[1m438/438\u001b[0m \u001b[32m━━━━━━━━━━━━━━━━━━━━\u001b[0m\u001b[37m\u001b[0m \u001b[1m20s\u001b[0m 46ms/step - accuracy: 0.9989 - loss: 0.0018 - val_accuracy: 0.7060 - val_loss: 1.7725\n",
      "Epoch 44/50\n",
      "\u001b[1m438/438\u001b[0m \u001b[32m━━━━━━━━━━━━━━━━━━━━\u001b[0m\u001b[37m\u001b[0m \u001b[1m24s\u001b[0m 55ms/step - accuracy: 0.9989 - loss: 0.0018 - val_accuracy: 0.7065 - val_loss: 1.7491\n",
      "Epoch 45/50\n",
      "\u001b[1m438/438\u001b[0m \u001b[32m━━━━━━━━━━━━━━━━━━━━\u001b[0m\u001b[37m\u001b[0m \u001b[1m24s\u001b[0m 54ms/step - accuracy: 0.9993 - loss: 0.0013 - val_accuracy: 0.6945 - val_loss: 1.8194\n",
      "Epoch 46/50\n",
      "\u001b[1m438/438\u001b[0m \u001b[32m━━━━━━━━━━━━━━━━━━━━\u001b[0m\u001b[37m\u001b[0m \u001b[1m23s\u001b[0m 53ms/step - accuracy: 0.9915 - loss: 0.0233 - val_accuracy: 0.6740 - val_loss: 1.8906\n",
      "Epoch 47/50\n",
      "\u001b[1m438/438\u001b[0m \u001b[32m━━━━━━━━━━━━━━━━━━━━\u001b[0m\u001b[37m\u001b[0m \u001b[1m23s\u001b[0m 52ms/step - accuracy: 0.9986 - loss: 0.0057 - val_accuracy: 0.6760 - val_loss: 1.8914\n",
      "Epoch 48/50\n",
      "\u001b[1m438/438\u001b[0m \u001b[32m━━━━━━━━━━━━━━━━━━━━\u001b[0m\u001b[37m\u001b[0m \u001b[1m24s\u001b[0m 55ms/step - accuracy: 0.9991 - loss: 0.0035 - val_accuracy: 0.6895 - val_loss: 1.8540\n",
      "Epoch 49/50\n",
      "\u001b[1m438/438\u001b[0m \u001b[32m━━━━━━━━━━━━━━━━━━━━\u001b[0m\u001b[37m\u001b[0m \u001b[1m24s\u001b[0m 55ms/step - accuracy: 0.9993 - loss: 0.0018 - val_accuracy: 0.6920 - val_loss: 1.8571\n",
      "Epoch 50/50\n",
      "\u001b[1m438/438\u001b[0m \u001b[32m━━━━━━━━━━━━━━━━━━━━\u001b[0m\u001b[37m\u001b[0m \u001b[1m22s\u001b[0m 49ms/step - accuracy: 0.9989 - loss: 0.0014 - val_accuracy: 0.6880 - val_loss: 1.8821\n"
     ]
    }
   ],
   "source": [
    "baseline_xception_cdf_history = baseline_xception_cdf_model.fit(\n",
    "    cdf_train_generator, validation_data=cdf_val_generator, epochs=NUM_EPOCHS\n",
    ")"
   ]
  },
  {
   "cell_type": "code",
   "execution_count": 17,
   "id": "02510a80",
   "metadata": {
    "execution": {
     "iopub.execute_input": "2024-11-05T04:44:02.645703Z",
     "iopub.status.busy": "2024-11-05T04:44:02.644954Z",
     "iopub.status.idle": "2024-11-05T04:44:03.165223Z",
     "shell.execute_reply": "2024-11-05T04:44:03.164337Z"
    },
    "papermill": {
     "duration": 1.541188,
     "end_time": "2024-11-05T04:44:03.167608",
     "exception": false,
     "start_time": "2024-11-05T04:44:01.626420",
     "status": "completed"
    },
    "tags": []
   },
   "outputs": [
    {
     "data": {
      "image/png": "[encoded data removed]",
      "text/plain": [
       "<Figure size 1200x400 with 2 Axes>"
      ]
     },
     "metadata": {},
     "output_type": "display_data"
    }
   ],
   "source": [
    "plot_train_result(\n",
    "    baseline_xception_cdf_history.history,\n",
    "    title=\"Baseline Xception Model on Celeb-DF-v2 Dataset\"\n",
    ")"
   ]
  },
  {
   "cell_type": "code",
   "execution_count": 18,
   "id": "087023a2",
   "metadata": {
    "execution": {
     "iopub.execute_input": "2024-11-05T04:44:05.146679Z",
     "iopub.status.busy": "2024-11-05T04:44:05.145892Z",
     "iopub.status.idle": "2024-11-05T04:44:05.782732Z",
     "shell.execute_reply": "2024-11-05T04:44:05.781663Z"
    },
    "papermill": {
     "duration": 1.649111,
     "end_time": "2024-11-05T04:44:05.784886",
     "exception": false,
     "start_time": "2024-11-05T04:44:04.135775",
     "status": "completed"
    },
    "tags": []
   },
   "outputs": [
    {
     "name": "stdout",
     "output_type": "stream",
     "text": [
      "Model saved at baseline_xception_cdf_model.keras\n",
      "Training history saved at baseline_xception_cdf_history.pkl\n"
     ]
    }
   ],
   "source": [
    "save_model_and_history(\n",
    "    baseline_xception_cdf_model, baseline_xception_cdf_history, \"baseline_xception_cdf\"\n",
    ")"
   ]
  },
  {
   "cell_type": "markdown",
   "id": "9e2fa25b",
   "metadata": {
    "papermill": {
     "duration": 1.005497,
     "end_time": "2024-11-05T04:44:07.752471",
     "exception": false,
     "start_time": "2024-11-05T04:44:06.746974",
     "status": "completed"
    },
    "tags": []
   },
   "source": [
    "#### DeeperForensics-1.0 Dataset"
   ]
  },
  {
   "cell_type": "code",
   "execution_count": 19,
   "id": "81e96bb8",
   "metadata": {
    "execution": {
     "iopub.execute_input": "2024-11-05T04:44:09.725333Z",
     "iopub.status.busy": "2024-11-05T04:44:09.724432Z",
     "iopub.status.idle": "2024-11-05T04:44:10.922676Z",
     "shell.execute_reply": "2024-11-05T04:44:10.921791Z"
    },
    "papermill": {
     "duration": 2.161498,
     "end_time": "2024-11-05T04:44:10.924646",
     "exception": false,
     "start_time": "2024-11-05T04:44:08.763148",
     "status": "completed"
    },
    "tags": []
   },
   "outputs": [
    {
     "data": {
      "text/html": [
       "<pre style=\"white-space:pre;overflow-x:auto;line-height:normal;font-family:Menlo,'DejaVu Sans Mono',consolas,'Courier New',monospace\"><span style=\"font-weight: bold\">Model: \"sequential_1\"</span>\n",
       "</pre>\n"
      ],
      "text/plain": [
       "\u001b[1mModel: \"sequential_1\"\u001b[0m\n"
      ]
     },
     "metadata": {},
     "output_type": "display_data"
    },
    {
     "data": {
      "text/html": [
       "<pre style=\"white-space:pre;overflow-x:auto;line-height:normal;font-family:Menlo,'DejaVu Sans Mono',consolas,'Courier New',monospace\">┏━━━━━━━━━━━━━━━━━━━━━━━━━━━━━━━━━┳━━━━━━━━━━━━━━━━━━━━━━━━┳━━━━━━━━━━━━━━━┓\n",
       "┃<span style=\"font-weight: bold\"> Layer (type)                    </span>┃<span style=\"font-weight: bold\"> Output Shape           </span>┃<span style=\"font-weight: bold\">       Param # </span>┃\n",
       "┡━━━━━━━━━━━━━━━━━━━━━━━━━━━━━━━━━╇━━━━━━━━━━━━━━━━━━━━━━━━╇━━━━━━━━━━━━━━━┩\n",
       "│ xception (<span style=\"color: #0087ff; text-decoration-color: #0087ff\">Functional</span>)           │ ?                      │    <span style=\"color: #00af00; text-decoration-color: #00af00\">20,861,480</span> │\n",
       "├─────────────────────────────────┼────────────────────────┼───────────────┤\n",
       "│ flatten_1 (<span style=\"color: #0087ff; text-decoration-color: #0087ff\">Flatten</span>)             │ ?                      │   <span style=\"color: #00af00; text-decoration-color: #00af00\">0</span> (unbuilt) │\n",
       "├─────────────────────────────────┼────────────────────────┼───────────────┤\n",
       "│ dense_5 (<span style=\"color: #0087ff; text-decoration-color: #0087ff\">Dense</span>)                 │ ?                      │   <span style=\"color: #00af00; text-decoration-color: #00af00\">0</span> (unbuilt) │\n",
       "├─────────────────────────────────┼────────────────────────┼───────────────┤\n",
       "│ dense_6 (<span style=\"color: #0087ff; text-decoration-color: #0087ff\">Dense</span>)                 │ ?                      │   <span style=\"color: #00af00; text-decoration-color: #00af00\">0</span> (unbuilt) │\n",
       "├─────────────────────────────────┼────────────────────────┼───────────────┤\n",
       "│ dense_7 (<span style=\"color: #0087ff; text-decoration-color: #0087ff\">Dense</span>)                 │ ?                      │   <span style=\"color: #00af00; text-decoration-color: #00af00\">0</span> (unbuilt) │\n",
       "├─────────────────────────────────┼────────────────────────┼───────────────┤\n",
       "│ dense_8 (<span style=\"color: #0087ff; text-decoration-color: #0087ff\">Dense</span>)                 │ ?                      │   <span style=\"color: #00af00; text-decoration-color: #00af00\">0</span> (unbuilt) │\n",
       "├─────────────────────────────────┼────────────────────────┼───────────────┤\n",
       "│ dense_9 (<span style=\"color: #0087ff; text-decoration-color: #0087ff\">Dense</span>)                 │ ?                      │   <span style=\"color: #00af00; text-decoration-color: #00af00\">0</span> (unbuilt) │\n",
       "└─────────────────────────────────┴────────────────────────┴───────────────┘\n",
       "</pre>\n"
      ],
      "text/plain": [
       "┏━━━━━━━━━━━━━━━━━━━━━━━━━━━━━━━━━┳━━━━━━━━━━━━━━━━━━━━━━━━┳━━━━━━━━━━━━━━━┓\n",
       "┃\u001b[1m \u001b[0m\u001b[1mLayer (type)                   \u001b[0m\u001b[1m \u001b[0m┃\u001b[1m \u001b[0m\u001b[1mOutput Shape          \u001b[0m\u001b[1m \u001b[0m┃\u001b[1m \u001b[0m\u001b[1m      Param #\u001b[0m\u001b[1m \u001b[0m┃\n",
       "┡━━━━━━━━━━━━━━━━━━━━━━━━━━━━━━━━━╇━━━━━━━━━━━━━━━━━━━━━━━━╇━━━━━━━━━━━━━━━┩\n",
       "│ xception (\u001b[38;5;33mFunctional\u001b[0m)           │ ?                      │    \u001b[38;5;34m20,861,480\u001b[0m │\n",
       "├─────────────────────────────────┼────────────────────────┼───────────────┤\n",
       "│ flatten_1 (\u001b[38;5;33mFlatten\u001b[0m)             │ ?                      │   \u001b[38;5;34m0\u001b[0m (unbuilt) │\n",
       "├─────────────────────────────────┼────────────────────────┼───────────────┤\n",
       "│ dense_5 (\u001b[38;5;33mDense\u001b[0m)                 │ ?                      │   \u001b[38;5;34m0\u001b[0m (unbuilt) │\n",
       "├─────────────────────────────────┼────────────────────────┼───────────────┤\n",
       "│ dense_6 (\u001b[38;5;33mDense\u001b[0m)                 │ ?                      │   \u001b[38;5;34m0\u001b[0m (unbuilt) │\n",
       "├─────────────────────────────────┼────────────────────────┼───────────────┤\n",
       "│ dense_7 (\u001b[38;5;33mDense\u001b[0m)                 │ ?                      │   \u001b[38;5;34m0\u001b[0m (unbuilt) │\n",
       "├─────────────────────────────────┼────────────────────────┼───────────────┤\n",
       "│ dense_8 (\u001b[38;5;33mDense\u001b[0m)                 │ ?                      │   \u001b[38;5;34m0\u001b[0m (unbuilt) │\n",
       "├─────────────────────────────────┼────────────────────────┼───────────────┤\n",
       "│ dense_9 (\u001b[38;5;33mDense\u001b[0m)                 │ ?                      │   \u001b[38;5;34m0\u001b[0m (unbuilt) │\n",
       "└─────────────────────────────────┴────────────────────────┴───────────────┘\n"
      ]
     },
     "metadata": {},
     "output_type": "display_data"
    },
    {
     "data": {
      "text/html": [
       "<pre style=\"white-space:pre;overflow-x:auto;line-height:normal;font-family:Menlo,'DejaVu Sans Mono',consolas,'Courier New',monospace\"><span style=\"font-weight: bold\"> Total params: </span><span style=\"color: #00af00; text-decoration-color: #00af00\">20,861,480</span> (79.58 MB)\n",
       "</pre>\n"
      ],
      "text/plain": [
       "\u001b[1m Total params: \u001b[0m\u001b[38;5;34m20,861,480\u001b[0m (79.58 MB)\n"
      ]
     },
     "metadata": {},
     "output_type": "display_data"
    },
    {
     "data": {
      "text/html": [
       "<pre style=\"white-space:pre;overflow-x:auto;line-height:normal;font-family:Menlo,'DejaVu Sans Mono',consolas,'Courier New',monospace\"><span style=\"font-weight: bold\"> Trainable params: </span><span style=\"color: #00af00; text-decoration-color: #00af00\">0</span> (0.00 B)\n",
       "</pre>\n"
      ],
      "text/plain": [
       "\u001b[1m Trainable params: \u001b[0m\u001b[38;5;34m0\u001b[0m (0.00 B)\n"
      ]
     },
     "metadata": {},
     "output_type": "display_data"
    },
    {
     "data": {
      "text/html": [
       "<pre style=\"white-space:pre;overflow-x:auto;line-height:normal;font-family:Menlo,'DejaVu Sans Mono',consolas,'Courier New',monospace\"><span style=\"font-weight: bold\"> Non-trainable params: </span><span style=\"color: #00af00; text-decoration-color: #00af00\">20,861,480</span> (79.58 MB)\n",
       "</pre>\n"
      ],
      "text/plain": [
       "\u001b[1m Non-trainable params: \u001b[0m\u001b[38;5;34m20,861,480\u001b[0m (79.58 MB)\n"
      ]
     },
     "metadata": {},
     "output_type": "display_data"
    }
   ],
   "source": [
    "baseline_xception_df_model = create_xception_model(best_hp)\n",
    "baseline_xception_df_model.summary()"
   ]
  },
  {
   "cell_type": "code",
   "execution_count": 20,
   "id": "ca24e000",
   "metadata": {
    "execution": {
     "iopub.execute_input": "2024-11-05T04:44:12.925793Z",
     "iopub.status.busy": "2024-11-05T04:44:12.925045Z",
     "iopub.status.idle": "2024-11-05T05:09:13.323186Z",
     "shell.execute_reply": "2024-11-05T05:09:13.322317Z"
    },
    "papermill": {
     "duration": 1501.370506,
     "end_time": "2024-11-05T05:09:13.325402",
     "exception": false,
     "start_time": "2024-11-05T04:44:11.954896",
     "status": "completed"
    },
    "tags": []
   },
   "outputs": [
    {
     "name": "stdout",
     "output_type": "stream",
     "text": [
      "Epoch 1/50\n",
      "\u001b[1m438/438\u001b[0m \u001b[32m━━━━━━━━━━━━━━━━━━━━\u001b[0m\u001b[37m\u001b[0m \u001b[1m107s\u001b[0m 225ms/step - accuracy: 0.7182 - loss: 0.5686 - val_accuracy: 0.7505 - val_loss: 0.4589\n",
      "Epoch 2/50\n",
      "\u001b[1m438/438\u001b[0m \u001b[32m━━━━━━━━━━━━━━━━━━━━\u001b[0m\u001b[37m\u001b[0m \u001b[1m74s\u001b[0m 76ms/step - accuracy: 0.9600 - loss: 0.1734 - val_accuracy: 0.7700 - val_loss: 0.4636\n",
      "Epoch 3/50\n",
      "\u001b[1m438/438\u001b[0m \u001b[32m━━━━━━━━━━━━━━━━━━━━\u001b[0m\u001b[37m\u001b[0m \u001b[1m39s\u001b[0m 88ms/step - accuracy: 0.9839 - loss: 0.0736 - val_accuracy: 0.8070 - val_loss: 0.4249\n",
      "Epoch 4/50\n",
      "\u001b[1m438/438\u001b[0m \u001b[32m━━━━━━━━━━━━━━━━━━━━\u001b[0m\u001b[37m\u001b[0m \u001b[1m27s\u001b[0m 61ms/step - accuracy: 0.9913 - loss: 0.0410 - val_accuracy: 0.8340 - val_loss: 0.4145\n",
      "Epoch 5/50\n",
      "\u001b[1m438/438\u001b[0m \u001b[32m━━━━━━━━━━━━━━━━━━━━\u001b[0m\u001b[37m\u001b[0m \u001b[1m24s\u001b[0m 53ms/step - accuracy: 0.9952 - loss: 0.0265 - val_accuracy: 0.8315 - val_loss: 0.4566\n",
      "Epoch 6/50\n",
      "\u001b[1m438/438\u001b[0m \u001b[32m━━━━━━━━━━━━━━━━━━━━\u001b[0m\u001b[37m\u001b[0m \u001b[1m25s\u001b[0m 57ms/step - accuracy: 0.9969 - loss: 0.0178 - val_accuracy: 0.8455 - val_loss: 0.4462\n",
      "Epoch 7/50\n",
      "\u001b[1m438/438\u001b[0m \u001b[32m━━━━━━━━━━━━━━━━━━━━\u001b[0m\u001b[37m\u001b[0m \u001b[1m26s\u001b[0m 59ms/step - accuracy: 0.9975 - loss: 0.0134 - val_accuracy: 0.8530 - val_loss: 0.4329\n",
      "Epoch 8/50\n",
      "\u001b[1m438/438\u001b[0m \u001b[32m━━━━━━━━━━━━━━━━━━━━\u001b[0m\u001b[37m\u001b[0m \u001b[1m35s\u001b[0m 78ms/step - accuracy: 0.9987 - loss: 0.0093 - val_accuracy: 0.8455 - val_loss: 0.5324\n",
      "Epoch 9/50\n",
      "\u001b[1m438/438\u001b[0m \u001b[32m━━━━━━━━━━━━━━━━━━━━\u001b[0m\u001b[37m\u001b[0m \u001b[1m30s\u001b[0m 68ms/step - accuracy: 0.9988 - loss: 0.0075 - val_accuracy: 0.8605 - val_loss: 0.4653\n",
      "Epoch 10/50\n",
      "\u001b[1m438/438\u001b[0m \u001b[32m━━━━━━━━━━━━━━━━━━━━\u001b[0m\u001b[37m\u001b[0m \u001b[1m31s\u001b[0m 69ms/step - accuracy: 0.9996 - loss: 0.0048 - val_accuracy: 0.8550 - val_loss: 0.4942\n",
      "Epoch 11/50\n",
      "\u001b[1m438/438\u001b[0m \u001b[32m━━━━━━━━━━━━━━━━━━━━\u001b[0m\u001b[37m\u001b[0m \u001b[1m41s\u001b[0m 69ms/step - accuracy: 0.9994 - loss: 0.0042 - val_accuracy: 0.8635 - val_loss: 0.5130\n",
      "Epoch 12/50\n",
      "\u001b[1m438/438\u001b[0m \u001b[32m━━━━━━━━━━━━━━━━━━━━\u001b[0m\u001b[37m\u001b[0m \u001b[1m30s\u001b[0m 69ms/step - accuracy: 0.9997 - loss: 0.0026 - val_accuracy: 0.8720 - val_loss: 0.5013\n",
      "Epoch 13/50\n",
      "\u001b[1m438/438\u001b[0m \u001b[32m━━━━━━━━━━━━━━━━━━━━\u001b[0m\u001b[37m\u001b[0m \u001b[1m34s\u001b[0m 76ms/step - accuracy: 0.9998 - loss: 0.0023 - val_accuracy: 0.8575 - val_loss: 0.5349\n",
      "Epoch 14/50\n",
      "\u001b[1m438/438\u001b[0m \u001b[32m━━━━━━━━━━━━━━━━━━━━\u001b[0m\u001b[37m\u001b[0m \u001b[1m38s\u001b[0m 69ms/step - accuracy: 0.9997 - loss: 0.0025 - val_accuracy: 0.8650 - val_loss: 0.5397\n",
      "Epoch 15/50\n",
      "\u001b[1m438/438\u001b[0m \u001b[32m━━━━━━━━━━━━━━━━━━━━\u001b[0m\u001b[37m\u001b[0m \u001b[1m35s\u001b[0m 79ms/step - accuracy: 0.9992 - loss: 0.0028 - val_accuracy: 0.8545 - val_loss: 0.5955\n",
      "Epoch 16/50\n",
      "\u001b[1m438/438\u001b[0m \u001b[32m━━━━━━━━━━━━━━━━━━━━\u001b[0m\u001b[37m\u001b[0m \u001b[1m31s\u001b[0m 71ms/step - accuracy: 1.0000 - loss: 0.0011 - val_accuracy: 0.8595 - val_loss: 0.5955\n",
      "Epoch 17/50\n",
      "\u001b[1m438/438\u001b[0m \u001b[32m━━━━━━━━━━━━━━━━━━━━\u001b[0m\u001b[37m\u001b[0m \u001b[1m25s\u001b[0m 57ms/step - accuracy: 0.9995 - loss: 0.0022 - val_accuracy: 0.8520 - val_loss: 0.6552\n",
      "Epoch 18/50\n",
      "\u001b[1m438/438\u001b[0m \u001b[32m━━━━━━━━━━━━━━━━━━━━\u001b[0m\u001b[37m\u001b[0m \u001b[1m34s\u001b[0m 77ms/step - accuracy: 1.0000 - loss: 7.4655e-04 - val_accuracy: 0.8510 - val_loss: 0.6479\n",
      "Epoch 19/50\n",
      "\u001b[1m438/438\u001b[0m \u001b[32m━━━━━━━━━━━━━━━━━━━━\u001b[0m\u001b[37m\u001b[0m \u001b[1m24s\u001b[0m 53ms/step - accuracy: 0.9999 - loss: 9.6292e-04 - val_accuracy: 0.8405 - val_loss: 0.7103\n",
      "Epoch 20/50\n",
      "\u001b[1m438/438\u001b[0m \u001b[32m━━━━━━━━━━━━━━━━━━━━\u001b[0m\u001b[37m\u001b[0m \u001b[1m41s\u001b[0m 54ms/step - accuracy: 0.9998 - loss: 0.0018 - val_accuracy: 0.8650 - val_loss: 0.6399\n",
      "Epoch 21/50\n",
      "\u001b[1m438/438\u001b[0m \u001b[32m━━━━━━━━━━━━━━━━━━━━\u001b[0m\u001b[37m\u001b[0m \u001b[1m24s\u001b[0m 55ms/step - accuracy: 1.0000 - loss: 4.7276e-04 - val_accuracy: 0.8620 - val_loss: 0.6496\n",
      "Epoch 22/50\n",
      "\u001b[1m438/438\u001b[0m \u001b[32m━━━━━━━━━━━━━━━━━━━━\u001b[0m\u001b[37m\u001b[0m \u001b[1m23s\u001b[0m 53ms/step - accuracy: 0.9999 - loss: 9.2086e-04 - val_accuracy: 0.8615 - val_loss: 0.6469\n",
      "Epoch 23/50\n",
      "\u001b[1m438/438\u001b[0m \u001b[32m━━━━━━━━━━━━━━━━━━━━\u001b[0m\u001b[37m\u001b[0m \u001b[1m23s\u001b[0m 52ms/step - accuracy: 1.0000 - loss: 5.7444e-04 - val_accuracy: 0.8645 - val_loss: 0.6576\n",
      "Epoch 24/50\n",
      "\u001b[1m438/438\u001b[0m \u001b[32m━━━━━━━━━━━━━━━━━━━━\u001b[0m\u001b[37m\u001b[0m \u001b[1m25s\u001b[0m 56ms/step - accuracy: 1.0000 - loss: 3.3067e-04 - val_accuracy: 0.8685 - val_loss: 0.6316\n",
      "Epoch 25/50\n",
      "\u001b[1m438/438\u001b[0m \u001b[32m━━━━━━━━━━━━━━━━━━━━\u001b[0m\u001b[37m\u001b[0m \u001b[1m24s\u001b[0m 55ms/step - accuracy: 0.9995 - loss: 0.0020 - val_accuracy: 0.8525 - val_loss: 0.7646\n",
      "Epoch 26/50\n",
      "\u001b[1m438/438\u001b[0m \u001b[32m━━━━━━━━━━━━━━━━━━━━\u001b[0m\u001b[37m\u001b[0m \u001b[1m24s\u001b[0m 54ms/step - accuracy: 1.0000 - loss: 5.0817e-04 - val_accuracy: 0.8550 - val_loss: 0.7259\n",
      "Epoch 27/50\n",
      "\u001b[1m438/438\u001b[0m \u001b[32m━━━━━━━━━━━━━━━━━━━━\u001b[0m\u001b[37m\u001b[0m \u001b[1m23s\u001b[0m 52ms/step - accuracy: 1.0000 - loss: 1.5960e-04 - val_accuracy: 0.8575 - val_loss: 0.7393\n",
      "Epoch 28/50\n",
      "\u001b[1m438/438\u001b[0m \u001b[32m━━━━━━━━━━━━━━━━━━━━\u001b[0m\u001b[37m\u001b[0m \u001b[1m23s\u001b[0m 52ms/step - accuracy: 1.0000 - loss: 2.8106e-04 - val_accuracy: 0.8210 - val_loss: 1.0038\n",
      "Epoch 29/50\n",
      "\u001b[1m438/438\u001b[0m \u001b[32m━━━━━━━━━━━━━━━━━━━━\u001b[0m\u001b[37m\u001b[0m \u001b[1m25s\u001b[0m 55ms/step - accuracy: 0.9979 - loss: 0.0056 - val_accuracy: 0.8560 - val_loss: 0.8670\n",
      "Epoch 30/50\n",
      "\u001b[1m438/438\u001b[0m \u001b[32m━━━━━━━━━━━━━━━━━━━━\u001b[0m\u001b[37m\u001b[0m \u001b[1m24s\u001b[0m 53ms/step - accuracy: 0.9998 - loss: 0.0014 - val_accuracy: 0.8630 - val_loss: 0.7560\n",
      "Epoch 31/50\n",
      "\u001b[1m438/438\u001b[0m \u001b[32m━━━━━━━━━━━━━━━━━━━━\u001b[0m\u001b[37m\u001b[0m \u001b[1m25s\u001b[0m 56ms/step - accuracy: 1.0000 - loss: 1.2630e-04 - val_accuracy: 0.8585 - val_loss: 0.7771\n",
      "Epoch 32/50\n",
      "\u001b[1m438/438\u001b[0m \u001b[32m━━━━━━━━━━━━━━━━━━━━\u001b[0m\u001b[37m\u001b[0m \u001b[1m27s\u001b[0m 60ms/step - accuracy: 1.0000 - loss: 1.0343e-04 - val_accuracy: 0.8605 - val_loss: 0.7664\n",
      "Epoch 33/50\n",
      "\u001b[1m438/438\u001b[0m \u001b[32m━━━━━━━━━━━━━━━━━━━━\u001b[0m\u001b[37m\u001b[0m \u001b[1m30s\u001b[0m 68ms/step - accuracy: 1.0000 - loss: 1.2951e-04 - val_accuracy: 0.8635 - val_loss: 0.7486\n",
      "Epoch 34/50\n",
      "\u001b[1m438/438\u001b[0m \u001b[32m━━━━━━━━━━━━━━━━━━━━\u001b[0m\u001b[37m\u001b[0m \u001b[1m26s\u001b[0m 58ms/step - accuracy: 1.0000 - loss: 2.4411e-04 - val_accuracy: 0.8605 - val_loss: 0.8105\n",
      "Epoch 35/50\n",
      "\u001b[1m438/438\u001b[0m \u001b[32m━━━━━━━━━━━━━━━━━━━━\u001b[0m\u001b[37m\u001b[0m \u001b[1m23s\u001b[0m 52ms/step - accuracy: 0.9996 - loss: 0.0012 - val_accuracy: 0.8435 - val_loss: 1.0210\n",
      "Epoch 36/50\n",
      "\u001b[1m438/438\u001b[0m \u001b[32m━━━━━━━━━━━━━━━━━━━━\u001b[0m\u001b[37m\u001b[0m \u001b[1m24s\u001b[0m 53ms/step - accuracy: 0.9991 - loss: 0.0033 - val_accuracy: 0.8215 - val_loss: 0.9392\n",
      "Epoch 37/50\n",
      "\u001b[1m438/438\u001b[0m \u001b[32m━━━━━━━━━━━━━━━━━━━━\u001b[0m\u001b[37m\u001b[0m \u001b[1m24s\u001b[0m 53ms/step - accuracy: 1.0000 - loss: 3.2118e-04 - val_accuracy: 0.8500 - val_loss: 0.8606\n",
      "Epoch 38/50\n",
      "\u001b[1m438/438\u001b[0m \u001b[32m━━━━━━━━━━━━━━━━━━━━\u001b[0m\u001b[37m\u001b[0m \u001b[1m24s\u001b[0m 53ms/step - accuracy: 1.0000 - loss: 8.8570e-05 - val_accuracy: 0.8505 - val_loss: 0.8450\n",
      "Epoch 39/50\n",
      "\u001b[1m438/438\u001b[0m \u001b[32m━━━━━━━━━━━━━━━━━━━━\u001b[0m\u001b[37m\u001b[0m \u001b[1m24s\u001b[0m 53ms/step - accuracy: 1.0000 - loss: 6.4725e-05 - val_accuracy: 0.8510 - val_loss: 0.8241\n",
      "Epoch 40/50\n",
      "\u001b[1m438/438\u001b[0m \u001b[32m━━━━━━━━━━━━━━━━━━━━\u001b[0m\u001b[37m\u001b[0m \u001b[1m23s\u001b[0m 52ms/step - accuracy: 1.0000 - loss: 6.0479e-05 - val_accuracy: 0.8525 - val_loss: 0.8227\n",
      "Epoch 41/50\n",
      "\u001b[1m438/438\u001b[0m \u001b[32m━━━━━━━━━━━━━━━━━━━━\u001b[0m\u001b[37m\u001b[0m \u001b[1m24s\u001b[0m 55ms/step - accuracy: 1.0000 - loss: 5.5274e-05 - val_accuracy: 0.8565 - val_loss: 0.8424\n",
      "Epoch 42/50\n",
      "\u001b[1m438/438\u001b[0m \u001b[32m━━━━━━━━━━━━━━━━━━━━\u001b[0m\u001b[37m\u001b[0m \u001b[1m23s\u001b[0m 52ms/step - accuracy: 1.0000 - loss: 3.4788e-05 - val_accuracy: 0.8545 - val_loss: 0.8425\n",
      "Epoch 43/50\n",
      "\u001b[1m438/438\u001b[0m \u001b[32m━━━━━━━━━━━━━━━━━━━━\u001b[0m\u001b[37m\u001b[0m \u001b[1m42s\u001b[0m 54ms/step - accuracy: 1.0000 - loss: 3.6873e-05 - val_accuracy: 0.8535 - val_loss: 0.8282\n",
      "Epoch 44/50\n",
      "\u001b[1m438/438\u001b[0m \u001b[32m━━━━━━━━━━━━━━━━━━━━\u001b[0m\u001b[37m\u001b[0m \u001b[1m23s\u001b[0m 53ms/step - accuracy: 1.0000 - loss: 3.6784e-05 - val_accuracy: 0.8520 - val_loss: 0.9052\n",
      "Epoch 45/50\n",
      "\u001b[1m438/438\u001b[0m \u001b[32m━━━━━━━━━━━━━━━━━━━━\u001b[0m\u001b[37m\u001b[0m \u001b[1m25s\u001b[0m 55ms/step - accuracy: 1.0000 - loss: 3.9127e-05 - val_accuracy: 0.8540 - val_loss: 0.8560\n",
      "Epoch 46/50\n",
      "\u001b[1m438/438\u001b[0m \u001b[32m━━━━━━━━━━━━━━━━━━━━\u001b[0m\u001b[37m\u001b[0m \u001b[1m24s\u001b[0m 55ms/step - accuracy: 1.0000 - loss: 2.7672e-05 - val_accuracy: 0.8535 - val_loss: 0.8351\n",
      "Epoch 47/50\n",
      "\u001b[1m438/438\u001b[0m \u001b[32m━━━━━━━━━━━━━━━━━━━━\u001b[0m\u001b[37m\u001b[0m \u001b[1m25s\u001b[0m 56ms/step - accuracy: 0.9985 - loss: 0.0048 - val_accuracy: 0.8555 - val_loss: 0.8678\n",
      "Epoch 48/50\n",
      "\u001b[1m438/438\u001b[0m \u001b[32m━━━━━━━━━━━━━━━━━━━━\u001b[0m\u001b[37m\u001b[0m \u001b[1m25s\u001b[0m 55ms/step - accuracy: 0.9996 - loss: 0.0014 - val_accuracy: 0.8520 - val_loss: 0.9190\n",
      "Epoch 49/50\n",
      "\u001b[1m438/438\u001b[0m \u001b[32m━━━━━━━━━━━━━━━━━━━━\u001b[0m\u001b[37m\u001b[0m \u001b[1m24s\u001b[0m 54ms/step - accuracy: 0.9999 - loss: 5.1255e-04 - val_accuracy: 0.8600 - val_loss: 0.8311\n",
      "Epoch 50/50\n",
      "\u001b[1m438/438\u001b[0m \u001b[32m━━━━━━━━━━━━━━━━━━━━\u001b[0m\u001b[37m\u001b[0m \u001b[1m25s\u001b[0m 56ms/step - accuracy: 1.0000 - loss: 7.0233e-05 - val_accuracy: 0.8575 - val_loss: 0.8374\n"
     ]
    }
   ],
   "source": [
    "baseline_xception_df_history = baseline_xception_df_model.fit(\n",
    "    df_train_generator, validation_data=df_val_generator, epochs=NUM_EPOCHS\n",
    ")"
   ]
  },
  {
   "cell_type": "code",
   "execution_count": 21,
   "id": "6bbb4d84",
   "metadata": {
    "execution": {
     "iopub.execute_input": "2024-11-05T05:09:17.720264Z",
     "iopub.status.busy": "2024-11-05T05:09:17.719891Z",
     "iopub.status.idle": "2024-11-05T05:09:18.228746Z",
     "shell.execute_reply": "2024-11-05T05:09:18.227653Z"
    },
    "papermill": {
     "duration": 2.703348,
     "end_time": "2024-11-05T05:09:18.231034",
     "exception": false,
     "start_time": "2024-11-05T05:09:15.527686",
     "status": "completed"
    },
    "tags": []
   },
   "outputs": [
    {
     "data": {
      "image/png": "[encoded data removed]",
      "text/plain": [
       "<Figure size 1200x400 with 2 Axes>"
      ]
     },
     "metadata": {},
     "output_type": "display_data"
    }
   ],
   "source": [
    "plot_train_result(\n",
    "    baseline_xception_df_history.history,\n",
    "    title=\"Baseline Xception Model on DeeperForensics-1.0 Dataset\"\n",
    ")"
   ]
  },
  {
   "cell_type": "code",
   "execution_count": 22,
   "id": "89adb139",
   "metadata": {
    "execution": {
     "iopub.execute_input": "2024-11-05T05:09:22.644930Z",
     "iopub.status.busy": "2024-11-05T05:09:22.644523Z",
     "iopub.status.idle": "2024-11-05T05:09:23.256108Z",
     "shell.execute_reply": "2024-11-05T05:09:23.254945Z"
    },
    "papermill": {
     "duration": 2.815705,
     "end_time": "2024-11-05T05:09:23.258236",
     "exception": false,
     "start_time": "2024-11-05T05:09:20.442531",
     "status": "completed"
    },
    "tags": []
   },
   "outputs": [
    {
     "name": "stdout",
     "output_type": "stream",
     "text": [
      "Model saved at baseline_xception_df_model.keras\n",
      "Training history saved at baseline_xception_df_history.pkl\n"
     ]
    }
   ],
   "source": [
    "save_model_and_history(\n",
    "    baseline_xception_df_model, baseline_xception_df_history, \"baseline_xception_df\"\n",
    ")"
   ]
  },
  {
   "cell_type": "markdown",
   "id": "588fa26e",
   "metadata": {
    "papermill": {
     "duration": 2.232569,
     "end_time": "2024-11-05T05:09:27.650289",
     "exception": false,
     "start_time": "2024-11-05T05:09:25.417720",
     "status": "completed"
    },
    "tags": []
   },
   "source": [
    "#### DFDC Dataset"
   ]
  },
  {
   "cell_type": "code",
   "execution_count": 23,
   "id": "e11c6b29",
   "metadata": {
    "execution": {
     "iopub.execute_input": "2024-11-05T05:09:32.100670Z",
     "iopub.status.busy": "2024-11-05T05:09:32.100271Z",
     "iopub.status.idle": "2024-11-05T05:09:33.024579Z",
     "shell.execute_reply": "2024-11-05T05:09:33.023691Z"
    },
    "papermill": {
     "duration": 3.14252,
     "end_time": "2024-11-05T05:09:33.026382",
     "exception": false,
     "start_time": "2024-11-05T05:09:29.883862",
     "status": "completed"
    },
    "tags": []
   },
   "outputs": [
    {
     "data": {
      "text/html": [
       "<pre style=\"white-space:pre;overflow-x:auto;line-height:normal;font-family:Menlo,'DejaVu Sans Mono',consolas,'Courier New',monospace\"><span style=\"font-weight: bold\">Model: \"sequential_2\"</span>\n",
       "</pre>\n"
      ],
      "text/plain": [
       "\u001b[1mModel: \"sequential_2\"\u001b[0m\n"
      ]
     },
     "metadata": {},
     "output_type": "display_data"
    },
    {
     "data": {
      "text/html": [
       "<pre style=\"white-space:pre;overflow-x:auto;line-height:normal;font-family:Menlo,'DejaVu Sans Mono',consolas,'Courier New',monospace\">┏━━━━━━━━━━━━━━━━━━━━━━━━━━━━━━━━━┳━━━━━━━━━━━━━━━━━━━━━━━━┳━━━━━━━━━━━━━━━┓\n",
       "┃<span style=\"font-weight: bold\"> Layer (type)                    </span>┃<span style=\"font-weight: bold\"> Output Shape           </span>┃<span style=\"font-weight: bold\">       Param # </span>┃\n",
       "┡━━━━━━━━━━━━━━━━━━━━━━━━━━━━━━━━━╇━━━━━━━━━━━━━━━━━━━━━━━━╇━━━━━━━━━━━━━━━┩\n",
       "│ xception (<span style=\"color: #0087ff; text-decoration-color: #0087ff\">Functional</span>)           │ ?                      │    <span style=\"color: #00af00; text-decoration-color: #00af00\">20,861,480</span> │\n",
       "├─────────────────────────────────┼────────────────────────┼───────────────┤\n",
       "│ flatten_2 (<span style=\"color: #0087ff; text-decoration-color: #0087ff\">Flatten</span>)             │ ?                      │   <span style=\"color: #00af00; text-decoration-color: #00af00\">0</span> (unbuilt) │\n",
       "├─────────────────────────────────┼────────────────────────┼───────────────┤\n",
       "│ dense_10 (<span style=\"color: #0087ff; text-decoration-color: #0087ff\">Dense</span>)                │ ?                      │   <span style=\"color: #00af00; text-decoration-color: #00af00\">0</span> (unbuilt) │\n",
       "├─────────────────────────────────┼────────────────────────┼───────────────┤\n",
       "│ dense_11 (<span style=\"color: #0087ff; text-decoration-color: #0087ff\">Dense</span>)                │ ?                      │   <span style=\"color: #00af00; text-decoration-color: #00af00\">0</span> (unbuilt) │\n",
       "├─────────────────────────────────┼────────────────────────┼───────────────┤\n",
       "│ dense_12 (<span style=\"color: #0087ff; text-decoration-color: #0087ff\">Dense</span>)                │ ?                      │   <span style=\"color: #00af00; text-decoration-color: #00af00\">0</span> (unbuilt) │\n",
       "├─────────────────────────────────┼────────────────────────┼───────────────┤\n",
       "│ dense_13 (<span style=\"color: #0087ff; text-decoration-color: #0087ff\">Dense</span>)                │ ?                      │   <span style=\"color: #00af00; text-decoration-color: #00af00\">0</span> (unbuilt) │\n",
       "├─────────────────────────────────┼────────────────────────┼───────────────┤\n",
       "│ dense_14 (<span style=\"color: #0087ff; text-decoration-color: #0087ff\">Dense</span>)                │ ?                      │   <span style=\"color: #00af00; text-decoration-color: #00af00\">0</span> (unbuilt) │\n",
       "└─────────────────────────────────┴────────────────────────┴───────────────┘\n",
       "</pre>\n"
      ],
      "text/plain": [
       "┏━━━━━━━━━━━━━━━━━━━━━━━━━━━━━━━━━┳━━━━━━━━━━━━━━━━━━━━━━━━┳━━━━━━━━━━━━━━━┓\n",
       "┃\u001b[1m \u001b[0m\u001b[1mLayer (type)                   \u001b[0m\u001b[1m \u001b[0m┃\u001b[1m \u001b[0m\u001b[1mOutput Shape          \u001b[0m\u001b[1m \u001b[0m┃\u001b[1m \u001b[0m\u001b[1m      Param #\u001b[0m\u001b[1m \u001b[0m┃\n",
       "┡━━━━━━━━━━━━━━━━━━━━━━━━━━━━━━━━━╇━━━━━━━━━━━━━━━━━━━━━━━━╇━━━━━━━━━━━━━━━┩\n",
       "│ xception (\u001b[38;5;33mFunctional\u001b[0m)           │ ?                      │    \u001b[38;5;34m20,861,480\u001b[0m │\n",
       "├─────────────────────────────────┼────────────────────────┼───────────────┤\n",
       "│ flatten_2 (\u001b[38;5;33mFlatten\u001b[0m)             │ ?                      │   \u001b[38;5;34m0\u001b[0m (unbuilt) │\n",
       "├─────────────────────────────────┼────────────────────────┼───────────────┤\n",
       "│ dense_10 (\u001b[38;5;33mDense\u001b[0m)                │ ?                      │   \u001b[38;5;34m0\u001b[0m (unbuilt) │\n",
       "├─────────────────────────────────┼────────────────────────┼───────────────┤\n",
       "│ dense_11 (\u001b[38;5;33mDense\u001b[0m)                │ ?                      │   \u001b[38;5;34m0\u001b[0m (unbuilt) │\n",
       "├─────────────────────────────────┼────────────────────────┼───────────────┤\n",
       "│ dense_12 (\u001b[38;5;33mDense\u001b[0m)                │ ?                      │   \u001b[38;5;34m0\u001b[0m (unbuilt) │\n",
       "├─────────────────────────────────┼────────────────────────┼───────────────┤\n",
       "│ dense_13 (\u001b[38;5;33mDense\u001b[0m)                │ ?                      │   \u001b[38;5;34m0\u001b[0m (unbuilt) │\n",
       "├─────────────────────────────────┼────────────────────────┼───────────────┤\n",
       "│ dense_14 (\u001b[38;5;33mDense\u001b[0m)                │ ?                      │   \u001b[38;5;34m0\u001b[0m (unbuilt) │\n",
       "└─────────────────────────────────┴────────────────────────┴───────────────┘\n"
      ]
     },
     "metadata": {},
     "output_type": "display_data"
    },
    {
     "data": {
      "text/html": [
       "<pre style=\"white-space:pre;overflow-x:auto;line-height:normal;font-family:Menlo,'DejaVu Sans Mono',consolas,'Courier New',monospace\"><span style=\"font-weight: bold\"> Total params: </span><span style=\"color: #00af00; text-decoration-color: #00af00\">20,861,480</span> (79.58 MB)\n",
       "</pre>\n"
      ],
      "text/plain": [
       "\u001b[1m Total params: \u001b[0m\u001b[38;5;34m20,861,480\u001b[0m (79.58 MB)\n"
      ]
     },
     "metadata": {},
     "output_type": "display_data"
    },
    {
     "data": {
      "text/html": [
       "<pre style=\"white-space:pre;overflow-x:auto;line-height:normal;font-family:Menlo,'DejaVu Sans Mono',consolas,'Courier New',monospace\"><span style=\"font-weight: bold\"> Trainable params: </span><span style=\"color: #00af00; text-decoration-color: #00af00\">0</span> (0.00 B)\n",
       "</pre>\n"
      ],
      "text/plain": [
       "\u001b[1m Trainable params: \u001b[0m\u001b[38;5;34m0\u001b[0m (0.00 B)\n"
      ]
     },
     "metadata": {},
     "output_type": "display_data"
    },
    {
     "data": {
      "text/html": [
       "<pre style=\"white-space:pre;overflow-x:auto;line-height:normal;font-family:Menlo,'DejaVu Sans Mono',consolas,'Courier New',monospace\"><span style=\"font-weight: bold\"> Non-trainable params: </span><span style=\"color: #00af00; text-decoration-color: #00af00\">20,861,480</span> (79.58 MB)\n",
       "</pre>\n"
      ],
      "text/plain": [
       "\u001b[1m Non-trainable params: \u001b[0m\u001b[38;5;34m20,861,480\u001b[0m (79.58 MB)\n"
      ]
     },
     "metadata": {},
     "output_type": "display_data"
    }
   ],
   "source": [
    "baseline_xception_dfdc_model = create_xception_model(best_hp)\n",
    "baseline_xception_dfdc_model.summary()"
   ]
  },
  {
   "cell_type": "code",
   "execution_count": 24,
   "id": "1ac33b0b",
   "metadata": {
    "execution": {
     "iopub.execute_input": "2024-11-05T05:09:37.406666Z",
     "iopub.status.busy": "2024-11-05T05:09:37.406265Z",
     "iopub.status.idle": "2024-11-05T05:31:14.667361Z",
     "shell.execute_reply": "2024-11-05T05:31:14.666586Z"
    },
    "papermill": {
     "duration": 1299.448474,
     "end_time": "2024-11-05T05:31:14.669472",
     "exception": false,
     "start_time": "2024-11-05T05:09:35.220998",
     "status": "completed"
    },
    "tags": []
   },
   "outputs": [
    {
     "name": "stdout",
     "output_type": "stream",
     "text": [
      "Epoch 1/50\n",
      "\u001b[1m438/438\u001b[0m \u001b[32m━━━━━━━━━━━━━━━━━━━━\u001b[0m\u001b[37m\u001b[0m \u001b[1m117s\u001b[0m 248ms/step - accuracy: 0.6353 - loss: 0.6550 - val_accuracy: 0.5265 - val_loss: 0.7245\n",
      "Epoch 2/50\n",
      "\u001b[1m438/438\u001b[0m \u001b[32m━━━━━━━━━━━━━━━━━━━━\u001b[0m\u001b[37m\u001b[0m \u001b[1m53s\u001b[0m 50ms/step - accuracy: 0.8540 - loss: 0.4084 - val_accuracy: 0.5420 - val_loss: 0.8500\n",
      "Epoch 3/50\n",
      "\u001b[1m438/438\u001b[0m \u001b[32m━━━━━━━━━━━━━━━━━━━━\u001b[0m\u001b[37m\u001b[0m \u001b[1m22s\u001b[0m 50ms/step - accuracy: 0.9306 - loss: 0.2304 - val_accuracy: 0.5605 - val_loss: 0.9426\n",
      "Epoch 4/50\n",
      "\u001b[1m438/438\u001b[0m \u001b[32m━━━━━━━━━━━━━━━━━━━━\u001b[0m\u001b[37m\u001b[0m \u001b[1m22s\u001b[0m 50ms/step - accuracy: 0.9559 - loss: 0.1461 - val_accuracy: 0.5295 - val_loss: 1.2208\n",
      "Epoch 5/50\n",
      "\u001b[1m438/438\u001b[0m \u001b[32m━━━━━━━━━━━━━━━━━━━━\u001b[0m\u001b[37m\u001b[0m \u001b[1m21s\u001b[0m 48ms/step - accuracy: 0.9708 - loss: 0.1000 - val_accuracy: 0.5430 - val_loss: 1.2226\n",
      "Epoch 6/50\n",
      "\u001b[1m438/438\u001b[0m \u001b[32m━━━━━━━━━━━━━━━━━━━━\u001b[0m\u001b[37m\u001b[0m \u001b[1m21s\u001b[0m 48ms/step - accuracy: 0.9782 - loss: 0.0744 - val_accuracy: 0.5240 - val_loss: 1.3605\n",
      "Epoch 7/50\n",
      "\u001b[1m438/438\u001b[0m \u001b[32m━━━━━━━━━━━━━━━━━━━━\u001b[0m\u001b[37m\u001b[0m \u001b[1m22s\u001b[0m 49ms/step - accuracy: 0.9833 - loss: 0.0593 - val_accuracy: 0.5315 - val_loss: 1.3582\n",
      "Epoch 8/50\n",
      "\u001b[1m438/438\u001b[0m \u001b[32m━━━━━━━━━━━━━━━━━━━━\u001b[0m\u001b[37m\u001b[0m \u001b[1m22s\u001b[0m 48ms/step - accuracy: 0.9874 - loss: 0.0451 - val_accuracy: 0.5190 - val_loss: 1.6887\n",
      "Epoch 9/50\n",
      "\u001b[1m438/438\u001b[0m \u001b[32m━━━━━━━━━━━━━━━━━━━━\u001b[0m\u001b[37m\u001b[0m \u001b[1m42s\u001b[0m 51ms/step - accuracy: 0.9923 - loss: 0.0349 - val_accuracy: 0.5220 - val_loss: 1.5507\n",
      "Epoch 10/50\n",
      "\u001b[1m438/438\u001b[0m \u001b[32m━━━━━━━━━━━━━━━━━━━━\u001b[0m\u001b[37m\u001b[0m \u001b[1m22s\u001b[0m 48ms/step - accuracy: 0.9942 - loss: 0.0269 - val_accuracy: 0.5150 - val_loss: 1.7003\n",
      "Epoch 11/50\n",
      "\u001b[1m438/438\u001b[0m \u001b[32m━━━━━━━━━━━━━━━━━━━━\u001b[0m\u001b[37m\u001b[0m \u001b[1m23s\u001b[0m 51ms/step - accuracy: 0.9948 - loss: 0.0212 - val_accuracy: 0.5185 - val_loss: 1.6186\n",
      "Epoch 12/50\n",
      "\u001b[1m438/438\u001b[0m \u001b[32m━━━━━━━━━━━━━━━━━━━━\u001b[0m\u001b[37m\u001b[0m \u001b[1m23s\u001b[0m 51ms/step - accuracy: 0.9946 - loss: 0.0214 - val_accuracy: 0.5320 - val_loss: 1.7416\n",
      "Epoch 13/50\n",
      "\u001b[1m438/438\u001b[0m \u001b[32m━━━━━━━━━━━━━━━━━━━━\u001b[0m\u001b[37m\u001b[0m \u001b[1m22s\u001b[0m 49ms/step - accuracy: 0.9966 - loss: 0.0155 - val_accuracy: 0.5295 - val_loss: 1.9349\n",
      "Epoch 14/50\n",
      "\u001b[1m438/438\u001b[0m \u001b[32m━━━━━━━━━━━━━━━━━━━━\u001b[0m\u001b[37m\u001b[0m \u001b[1m23s\u001b[0m 52ms/step - accuracy: 0.9984 - loss: 0.0116 - val_accuracy: 0.5315 - val_loss: 1.8821\n",
      "Epoch 15/50\n",
      "\u001b[1m438/438\u001b[0m \u001b[32m━━━━━━━━━━━━━━━━━━━━\u001b[0m\u001b[37m\u001b[0m \u001b[1m22s\u001b[0m 49ms/step - accuracy: 0.9985 - loss: 0.0098 - val_accuracy: 0.5270 - val_loss: 2.4776\n",
      "Epoch 16/50\n",
      "\u001b[1m438/438\u001b[0m \u001b[32m━━━━━━━━━━━━━━━━━━━━\u001b[0m\u001b[37m\u001b[0m \u001b[1m25s\u001b[0m 56ms/step - accuracy: 0.9987 - loss: 0.0089 - val_accuracy: 0.5360 - val_loss: 2.1644\n",
      "Epoch 17/50\n",
      "\u001b[1m438/438\u001b[0m \u001b[32m━━━━━━━━━━━━━━━━━━━━\u001b[0m\u001b[37m\u001b[0m \u001b[1m24s\u001b[0m 53ms/step - accuracy: 0.9986 - loss: 0.0073 - val_accuracy: 0.5200 - val_loss: 2.6740\n",
      "Epoch 18/50\n",
      "\u001b[1m438/438\u001b[0m \u001b[32m━━━━━━━━━━━━━━━━━━━━\u001b[0m\u001b[37m\u001b[0m \u001b[1m21s\u001b[0m 47ms/step - accuracy: 0.9973 - loss: 0.0120 - val_accuracy: 0.5160 - val_loss: 2.3264\n",
      "Epoch 19/50\n",
      "\u001b[1m438/438\u001b[0m \u001b[32m━━━━━━━━━━━━━━━━━━━━\u001b[0m\u001b[37m\u001b[0m \u001b[1m22s\u001b[0m 50ms/step - accuracy: 0.9995 - loss: 0.0040 - val_accuracy: 0.5375 - val_loss: 2.4219\n",
      "Epoch 20/50\n",
      "\u001b[1m438/438\u001b[0m \u001b[32m━━━━━━━━━━━━━━━━━━━━\u001b[0m\u001b[37m\u001b[0m \u001b[1m21s\u001b[0m 48ms/step - accuracy: 0.9986 - loss: 0.0068 - val_accuracy: 0.5380 - val_loss: 2.6200\n",
      "Epoch 21/50\n",
      "\u001b[1m438/438\u001b[0m \u001b[32m━━━━━━━━━━━━━━━━━━━━\u001b[0m\u001b[37m\u001b[0m \u001b[1m22s\u001b[0m 50ms/step - accuracy: 0.9998 - loss: 0.0031 - val_accuracy: 0.5315 - val_loss: 2.5804\n",
      "Epoch 22/50\n",
      "\u001b[1m438/438\u001b[0m \u001b[32m━━━━━━━━━━━━━━━━━━━━\u001b[0m\u001b[37m\u001b[0m \u001b[1m25s\u001b[0m 56ms/step - accuracy: 1.0000 - loss: 0.0024 - val_accuracy: 0.5355 - val_loss: 2.5846\n",
      "Epoch 23/50\n",
      "\u001b[1m438/438\u001b[0m \u001b[32m━━━━━━━━━━━━━━━━━━━━\u001b[0m\u001b[37m\u001b[0m \u001b[1m22s\u001b[0m 49ms/step - accuracy: 1.0000 - loss: 0.0017 - val_accuracy: 0.5310 - val_loss: 2.6361\n",
      "Epoch 24/50\n",
      "\u001b[1m438/438\u001b[0m \u001b[32m━━━━━━━━━━━━━━━━━━━━\u001b[0m\u001b[37m\u001b[0m \u001b[1m22s\u001b[0m 48ms/step - accuracy: 0.9999 - loss: 0.0018 - val_accuracy: 0.5255 - val_loss: 2.9919\n",
      "Epoch 25/50\n",
      "\u001b[1m438/438\u001b[0m \u001b[32m━━━━━━━━━━━━━━━━━━━━\u001b[0m\u001b[37m\u001b[0m \u001b[1m22s\u001b[0m 50ms/step - accuracy: 0.9930 - loss: 0.0248 - val_accuracy: 0.5370 - val_loss: 2.5029\n",
      "Epoch 26/50\n",
      "\u001b[1m438/438\u001b[0m \u001b[32m━━━━━━━━━━━━━━━━━━━━\u001b[0m\u001b[37m\u001b[0m \u001b[1m21s\u001b[0m 48ms/step - accuracy: 1.0000 - loss: 0.0013 - val_accuracy: 0.5335 - val_loss: 2.6327\n",
      "Epoch 27/50\n",
      "\u001b[1m438/438\u001b[0m \u001b[32m━━━━━━━━━━━━━━━━━━━━\u001b[0m\u001b[37m\u001b[0m \u001b[1m22s\u001b[0m 50ms/step - accuracy: 1.0000 - loss: 9.4843e-04 - val_accuracy: 0.5300 - val_loss: 3.0040\n",
      "Epoch 28/50\n",
      "\u001b[1m438/438\u001b[0m \u001b[32m━━━━━━━━━━━━━━━━━━━━\u001b[0m\u001b[37m\u001b[0m \u001b[1m22s\u001b[0m 50ms/step - accuracy: 1.0000 - loss: 8.5529e-04 - val_accuracy: 0.5300 - val_loss: 2.8880\n",
      "Epoch 29/50\n",
      "\u001b[1m438/438\u001b[0m \u001b[32m━━━━━━━━━━━━━━━━━━━━\u001b[0m\u001b[37m\u001b[0m \u001b[1m21s\u001b[0m 48ms/step - accuracy: 1.0000 - loss: 7.1596e-04 - val_accuracy: 0.5305 - val_loss: 2.9492\n",
      "Epoch 30/50\n",
      "\u001b[1m438/438\u001b[0m \u001b[32m━━━━━━━━━━━━━━━━━━━━\u001b[0m\u001b[37m\u001b[0m \u001b[1m22s\u001b[0m 50ms/step - accuracy: 1.0000 - loss: 5.7453e-04 - val_accuracy: 0.5300 - val_loss: 2.8839\n",
      "Epoch 31/50\n",
      "\u001b[1m438/438\u001b[0m \u001b[32m━━━━━━━━━━━━━━━━━━━━\u001b[0m\u001b[37m\u001b[0m \u001b[1m23s\u001b[0m 52ms/step - accuracy: 1.0000 - loss: 5.3561e-04 - val_accuracy: 0.5295 - val_loss: 2.9447\n",
      "Epoch 32/50\n",
      "\u001b[1m438/438\u001b[0m \u001b[32m━━━━━━━━━━━━━━━━━━━━\u001b[0m\u001b[37m\u001b[0m \u001b[1m22s\u001b[0m 50ms/step - accuracy: 1.0000 - loss: 4.9515e-04 - val_accuracy: 0.5290 - val_loss: 3.0678\n",
      "Epoch 33/50\n",
      "\u001b[1m438/438\u001b[0m \u001b[32m━━━━━━━━━━━━━━━━━━━━\u001b[0m\u001b[37m\u001b[0m \u001b[1m22s\u001b[0m 50ms/step - accuracy: 1.0000 - loss: 3.9088e-04 - val_accuracy: 0.5385 - val_loss: 3.1173\n",
      "Epoch 34/50\n",
      "\u001b[1m438/438\u001b[0m \u001b[32m━━━━━━━━━━━━━━━━━━━━\u001b[0m\u001b[37m\u001b[0m \u001b[1m21s\u001b[0m 47ms/step - accuracy: 0.9922 - loss: 0.0244 - val_accuracy: 0.5265 - val_loss: 3.3148\n",
      "Epoch 35/50\n",
      "\u001b[1m438/438\u001b[0m \u001b[32m━━━━━━━━━━━━━━━━━━━━\u001b[0m\u001b[37m\u001b[0m \u001b[1m22s\u001b[0m 50ms/step - accuracy: 1.0000 - loss: 5.0466e-04 - val_accuracy: 0.5270 - val_loss: 3.3030\n",
      "Epoch 36/50\n",
      "\u001b[1m438/438\u001b[0m \u001b[32m━━━━━━━━━━━━━━━━━━━━\u001b[0m\u001b[37m\u001b[0m \u001b[1m22s\u001b[0m 49ms/step - accuracy: 1.0000 - loss: 3.9545e-04 - val_accuracy: 0.5260 - val_loss: 3.3065\n",
      "Epoch 37/50\n",
      "\u001b[1m438/438\u001b[0m \u001b[32m━━━━━━━━━━━━━━━━━━━━\u001b[0m\u001b[37m\u001b[0m \u001b[1m21s\u001b[0m 48ms/step - accuracy: 1.0000 - loss: 3.3030e-04 - val_accuracy: 0.5240 - val_loss: 3.3270\n",
      "Epoch 38/50\n",
      "\u001b[1m438/438\u001b[0m \u001b[32m━━━━━━━━━━━━━━━━━━━━\u001b[0m\u001b[37m\u001b[0m \u001b[1m22s\u001b[0m 49ms/step - accuracy: 1.0000 - loss: 2.8411e-04 - val_accuracy: 0.5250 - val_loss: 3.3169\n",
      "Epoch 39/50\n",
      "\u001b[1m438/438\u001b[0m \u001b[32m━━━━━━━━━━━━━━━━━━━━\u001b[0m\u001b[37m\u001b[0m \u001b[1m22s\u001b[0m 50ms/step - accuracy: 1.0000 - loss: 2.5753e-04 - val_accuracy: 0.5260 - val_loss: 3.3170\n",
      "Epoch 40/50\n",
      "\u001b[1m438/438\u001b[0m \u001b[32m━━━━━━━━━━━━━━━━━━━━\u001b[0m\u001b[37m\u001b[0m \u001b[1m22s\u001b[0m 50ms/step - accuracy: 1.0000 - loss: 2.3079e-04 - val_accuracy: 0.5225 - val_loss: 3.3895\n",
      "Epoch 41/50\n",
      "\u001b[1m438/438\u001b[0m \u001b[32m━━━━━━━━━━━━━━━━━━━━\u001b[0m\u001b[37m\u001b[0m \u001b[1m23s\u001b[0m 51ms/step - accuracy: 1.0000 - loss: 2.2170e-04 - val_accuracy: 0.5265 - val_loss: 3.3514\n",
      "Epoch 42/50\n",
      "\u001b[1m438/438\u001b[0m \u001b[32m━━━━━━━━━━━━━━━━━━━━\u001b[0m\u001b[37m\u001b[0m \u001b[1m22s\u001b[0m 49ms/step - accuracy: 1.0000 - loss: 1.9804e-04 - val_accuracy: 0.5305 - val_loss: 3.4759\n",
      "Epoch 43/50\n",
      "\u001b[1m438/438\u001b[0m \u001b[32m━━━━━━━━━━━━━━━━━━━━\u001b[0m\u001b[37m\u001b[0m \u001b[1m42s\u001b[0m 50ms/step - accuracy: 1.0000 - loss: 1.7697e-04 - val_accuracy: 0.5260 - val_loss: 3.5297\n",
      "Epoch 44/50\n",
      "\u001b[1m438/438\u001b[0m \u001b[32m━━━━━━━━━━━━━━━━━━━━\u001b[0m\u001b[37m\u001b[0m \u001b[1m24s\u001b[0m 54ms/step - accuracy: 1.0000 - loss: 1.5139e-04 - val_accuracy: 0.5255 - val_loss: 3.4210\n",
      "Epoch 45/50\n",
      "\u001b[1m438/438\u001b[0m \u001b[32m━━━━━━━━━━━━━━━━━━━━\u001b[0m\u001b[37m\u001b[0m \u001b[1m41s\u001b[0m 53ms/step - accuracy: 1.0000 - loss: 1.4339e-04 - val_accuracy: 0.5285 - val_loss: 3.6773\n",
      "Epoch 46/50\n",
      "\u001b[1m438/438\u001b[0m \u001b[32m━━━━━━━━━━━━━━━━━━━━\u001b[0m\u001b[37m\u001b[0m \u001b[1m22s\u001b[0m 48ms/step - accuracy: 1.0000 - loss: 1.0495e-04 - val_accuracy: 0.5280 - val_loss: 3.7140\n",
      "Epoch 47/50\n",
      "\u001b[1m438/438\u001b[0m \u001b[32m━━━━━━━━━━━━━━━━━━━━\u001b[0m\u001b[37m\u001b[0m \u001b[1m22s\u001b[0m 49ms/step - accuracy: 1.0000 - loss: 1.0173e-04 - val_accuracy: 0.5235 - val_loss: 3.5530\n",
      "Epoch 48/50\n",
      "\u001b[1m438/438\u001b[0m \u001b[32m━━━━━━━━━━━━━━━━━━━━\u001b[0m\u001b[37m\u001b[0m \u001b[1m23s\u001b[0m 51ms/step - accuracy: 1.0000 - loss: 9.2562e-05 - val_accuracy: 0.5235 - val_loss: 3.6821\n",
      "Epoch 49/50\n",
      "\u001b[1m438/438\u001b[0m \u001b[32m━━━━━━━━━━━━━━━━━━━━\u001b[0m\u001b[37m\u001b[0m \u001b[1m24s\u001b[0m 54ms/step - accuracy: 1.0000 - loss: 6.1460e-05 - val_accuracy: 0.5280 - val_loss: 3.8321\n",
      "Epoch 50/50\n",
      "\u001b[1m438/438\u001b[0m \u001b[32m━━━━━━━━━━━━━━━━━━━━\u001b[0m\u001b[37m\u001b[0m \u001b[1m26s\u001b[0m 58ms/step - accuracy: 1.0000 - loss: 5.0898e-05 - val_accuracy: 0.5280 - val_loss: 3.9852\n"
     ]
    }
   ],
   "source": [
    "baseline_xception_dfdc_history = baseline_xception_dfdc_model.fit(\n",
    "    dfdc_train_generator, validation_data=dfdc_val_generator, epochs=NUM_EPOCHS\n",
    ")"
   ]
  },
  {
   "cell_type": "code",
   "execution_count": 25,
   "id": "108eeba8",
   "metadata": {
    "execution": {
     "iopub.execute_input": "2024-11-05T05:31:21.219630Z",
     "iopub.status.busy": "2024-11-05T05:31:21.219225Z",
     "iopub.status.idle": "2024-11-05T05:31:21.636792Z",
     "shell.execute_reply": "2024-11-05T05:31:21.635881Z"
    },
    "papermill": {
     "duration": 3.634148,
     "end_time": "2024-11-05T05:31:21.639152",
     "exception": false,
     "start_time": "2024-11-05T05:31:18.005004",
     "status": "completed"
    },
    "tags": []
   },
   "outputs": [
    {
     "data": {
      "image/png": "[encoded data removed]",
      "text/plain": [
       "<Figure size 1200x400 with 2 Axes>"
      ]
     },
     "metadata": {},
     "output_type": "display_data"
    }
   ],
   "source": [
    "plot_train_result(\n",
    "    baseline_xception_dfdc_history.history,\n",
    "    title=\"Baseline Xception Model on DFDC Dataset\"\n",
    ")"
   ]
  },
  {
   "cell_type": "code",
   "execution_count": 26,
   "id": "1775a4fe",
   "metadata": {
    "execution": {
     "iopub.execute_input": "2024-11-05T05:31:28.066054Z",
     "iopub.status.busy": "2024-11-05T05:31:28.065664Z",
     "iopub.status.idle": "2024-11-05T05:31:28.669734Z",
     "shell.execute_reply": "2024-11-05T05:31:28.668850Z"
    },
    "papermill": {
     "duration": 3.786608,
     "end_time": "2024-11-05T05:31:28.671927",
     "exception": false,
     "start_time": "2024-11-05T05:31:24.885319",
     "status": "completed"
    },
    "tags": []
   },
   "outputs": [
    {
     "name": "stdout",
     "output_type": "stream",
     "text": [
      "Model saved at baseline_xception_dfdc_model.keras\n",
      "Training history saved at baseline_xception_dfdc_history.pkl\n"
     ]
    }
   ],
   "source": [
    "save_model_and_history(\n",
    "    baseline_xception_dfdc_model, baseline_xception_dfdc_history, \"baseline_xception_dfdc\"\n",
    ")"
   ]
  },
  {
   "cell_type": "markdown",
   "id": "ec284be9",
   "metadata": {
    "papermill": {
     "duration": 3.168129,
     "end_time": "2024-11-05T05:31:35.117258",
     "exception": false,
     "start_time": "2024-11-05T05:31:31.949129",
     "status": "completed"
    },
    "tags": []
   },
   "source": [
    "### Dropout Xception Model Training"
   ]
  },
  {
   "cell_type": "markdown",
   "id": "ca997f42",
   "metadata": {
    "papermill": {
     "duration": 3.197948,
     "end_time": "2024-11-05T05:31:41.545717",
     "exception": false,
     "start_time": "2024-11-05T05:31:38.347769",
     "status": "completed"
    },
    "tags": []
   },
   "source": [
    "#### Celeb-DF-v2 Dataset"
   ]
  },
  {
   "cell_type": "code",
   "execution_count": 27,
   "id": "95641a25",
   "metadata": {
    "execution": {
     "iopub.execute_input": "2024-11-05T05:31:47.970128Z",
     "iopub.status.busy": "2024-11-05T05:31:47.969074Z",
     "iopub.status.idle": "2024-11-05T05:31:48.961740Z",
     "shell.execute_reply": "2024-11-05T05:31:48.960850Z"
    },
    "papermill": {
     "duration": 4.192305,
     "end_time": "2024-11-05T05:31:48.963770",
     "exception": false,
     "start_time": "2024-11-05T05:31:44.771465",
     "status": "completed"
    },
    "tags": []
   },
   "outputs": [
    {
     "data": {
      "text/html": [
       "<pre style=\"white-space:pre;overflow-x:auto;line-height:normal;font-family:Menlo,'DejaVu Sans Mono',consolas,'Courier New',monospace\"><span style=\"font-weight: bold\">Model: \"sequential_3\"</span>\n",
       "</pre>\n"
      ],
      "text/plain": [
       "\u001b[1mModel: \"sequential_3\"\u001b[0m\n"
      ]
     },
     "metadata": {},
     "output_type": "display_data"
    },
    {
     "data": {
      "text/html": [
       "<pre style=\"white-space:pre;overflow-x:auto;line-height:normal;font-family:Menlo,'DejaVu Sans Mono',consolas,'Courier New',monospace\">┏━━━━━━━━━━━━━━━━━━━━━━━━━━━━━━━━━┳━━━━━━━━━━━━━━━━━━━━━━━━┳━━━━━━━━━━━━━━━┓\n",
       "┃<span style=\"font-weight: bold\"> Layer (type)                    </span>┃<span style=\"font-weight: bold\"> Output Shape           </span>┃<span style=\"font-weight: bold\">       Param # </span>┃\n",
       "┡━━━━━━━━━━━━━━━━━━━━━━━━━━━━━━━━━╇━━━━━━━━━━━━━━━━━━━━━━━━╇━━━━━━━━━━━━━━━┩\n",
       "│ xception (<span style=\"color: #0087ff; text-decoration-color: #0087ff\">Functional</span>)           │ ?                      │    <span style=\"color: #00af00; text-decoration-color: #00af00\">20,861,480</span> │\n",
       "├─────────────────────────────────┼────────────────────────┼───────────────┤\n",
       "│ flatten_3 (<span style=\"color: #0087ff; text-decoration-color: #0087ff\">Flatten</span>)             │ ?                      │   <span style=\"color: #00af00; text-decoration-color: #00af00\">0</span> (unbuilt) │\n",
       "├─────────────────────────────────┼────────────────────────┼───────────────┤\n",
       "│ dense_15 (<span style=\"color: #0087ff; text-decoration-color: #0087ff\">Dense</span>)                │ ?                      │   <span style=\"color: #00af00; text-decoration-color: #00af00\">0</span> (unbuilt) │\n",
       "├─────────────────────────────────┼────────────────────────┼───────────────┤\n",
       "│ dense_16 (<span style=\"color: #0087ff; text-decoration-color: #0087ff\">Dense</span>)                │ ?                      │   <span style=\"color: #00af00; text-decoration-color: #00af00\">0</span> (unbuilt) │\n",
       "├─────────────────────────────────┼────────────────────────┼───────────────┤\n",
       "│ dense_17 (<span style=\"color: #0087ff; text-decoration-color: #0087ff\">Dense</span>)                │ ?                      │   <span style=\"color: #00af00; text-decoration-color: #00af00\">0</span> (unbuilt) │\n",
       "├─────────────────────────────────┼────────────────────────┼───────────────┤\n",
       "│ dense_18 (<span style=\"color: #0087ff; text-decoration-color: #0087ff\">Dense</span>)                │ ?                      │   <span style=\"color: #00af00; text-decoration-color: #00af00\">0</span> (unbuilt) │\n",
       "├─────────────────────────────────┼────────────────────────┼───────────────┤\n",
       "│ dropout (<span style=\"color: #0087ff; text-decoration-color: #0087ff\">Dropout</span>)               │ ?                      │   <span style=\"color: #00af00; text-decoration-color: #00af00\">0</span> (unbuilt) │\n",
       "├─────────────────────────────────┼────────────────────────┼───────────────┤\n",
       "│ dense_19 (<span style=\"color: #0087ff; text-decoration-color: #0087ff\">Dense</span>)                │ ?                      │   <span style=\"color: #00af00; text-decoration-color: #00af00\">0</span> (unbuilt) │\n",
       "└─────────────────────────────────┴────────────────────────┴───────────────┘\n",
       "</pre>\n"
      ],
      "text/plain": [
       "┏━━━━━━━━━━━━━━━━━━━━━━━━━━━━━━━━━┳━━━━━━━━━━━━━━━━━━━━━━━━┳━━━━━━━━━━━━━━━┓\n",
       "┃\u001b[1m \u001b[0m\u001b[1mLayer (type)                   \u001b[0m\u001b[1m \u001b[0m┃\u001b[1m \u001b[0m\u001b[1mOutput Shape          \u001b[0m\u001b[1m \u001b[0m┃\u001b[1m \u001b[0m\u001b[1m      Param #\u001b[0m\u001b[1m \u001b[0m┃\n",
       "┡━━━━━━━━━━━━━━━━━━━━━━━━━━━━━━━━━╇━━━━━━━━━━━━━━━━━━━━━━━━╇━━━━━━━━━━━━━━━┩\n",
       "│ xception (\u001b[38;5;33mFunctional\u001b[0m)           │ ?                      │    \u001b[38;5;34m20,861,480\u001b[0m │\n",
       "├─────────────────────────────────┼────────────────────────┼───────────────┤\n",
       "│ flatten_3 (\u001b[38;5;33mFlatten\u001b[0m)             │ ?                      │   \u001b[38;5;34m0\u001b[0m (unbuilt) │\n",
       "├─────────────────────────────────┼────────────────────────┼───────────────┤\n",
       "│ dense_15 (\u001b[38;5;33mDense\u001b[0m)                │ ?                      │   \u001b[38;5;34m0\u001b[0m (unbuilt) │\n",
       "├─────────────────────────────────┼────────────────────────┼───────────────┤\n",
       "│ dense_16 (\u001b[38;5;33mDense\u001b[0m)                │ ?                      │   \u001b[38;5;34m0\u001b[0m (unbuilt) │\n",
       "├─────────────────────────────────┼────────────────────────┼───────────────┤\n",
       "│ dense_17 (\u001b[38;5;33mDense\u001b[0m)                │ ?                      │   \u001b[38;5;34m0\u001b[0m (unbuilt) │\n",
       "├─────────────────────────────────┼────────────────────────┼───────────────┤\n",
       "│ dense_18 (\u001b[38;5;33mDense\u001b[0m)                │ ?                      │   \u001b[38;5;34m0\u001b[0m (unbuilt) │\n",
       "├─────────────────────────────────┼────────────────────────┼───────────────┤\n",
       "│ dropout (\u001b[38;5;33mDropout\u001b[0m)               │ ?                      │   \u001b[38;5;34m0\u001b[0m (unbuilt) │\n",
       "├─────────────────────────────────┼────────────────────────┼───────────────┤\n",
       "│ dense_19 (\u001b[38;5;33mDense\u001b[0m)                │ ?                      │   \u001b[38;5;34m0\u001b[0m (unbuilt) │\n",
       "└─────────────────────────────────┴────────────────────────┴───────────────┘\n"
      ]
     },
     "metadata": {},
     "output_type": "display_data"
    },
    {
     "data": {
      "text/html": [
       "<pre style=\"white-space:pre;overflow-x:auto;line-height:normal;font-family:Menlo,'DejaVu Sans Mono',consolas,'Courier New',monospace\"><span style=\"font-weight: bold\"> Total params: </span><span style=\"color: #00af00; text-decoration-color: #00af00\">20,861,480</span> (79.58 MB)\n",
       "</pre>\n"
      ],
      "text/plain": [
       "\u001b[1m Total params: \u001b[0m\u001b[38;5;34m20,861,480\u001b[0m (79.58 MB)\n"
      ]
     },
     "metadata": {},
     "output_type": "display_data"
    },
    {
     "data": {
      "text/html": [
       "<pre style=\"white-space:pre;overflow-x:auto;line-height:normal;font-family:Menlo,'DejaVu Sans Mono',consolas,'Courier New',monospace\"><span style=\"font-weight: bold\"> Trainable params: </span><span style=\"color: #00af00; text-decoration-color: #00af00\">0</span> (0.00 B)\n",
       "</pre>\n"
      ],
      "text/plain": [
       "\u001b[1m Trainable params: \u001b[0m\u001b[38;5;34m0\u001b[0m (0.00 B)\n"
      ]
     },
     "metadata": {},
     "output_type": "display_data"
    },
    {
     "data": {
      "text/html": [
       "<pre style=\"white-space:pre;overflow-x:auto;line-height:normal;font-family:Menlo,'DejaVu Sans Mono',consolas,'Courier New',monospace\"><span style=\"font-weight: bold\"> Non-trainable params: </span><span style=\"color: #00af00; text-decoration-color: #00af00\">20,861,480</span> (79.58 MB)\n",
       "</pre>\n"
      ],
      "text/plain": [
       "\u001b[1m Non-trainable params: \u001b[0m\u001b[38;5;34m20,861,480\u001b[0m (79.58 MB)\n"
      ]
     },
     "metadata": {},
     "output_type": "display_data"
    }
   ],
   "source": [
    "dropout_xception_cdf_model = create_xception_model(best_hp, dropout=True)\n",
    "dropout_xception_cdf_model.summary()"
   ]
  },
  {
   "cell_type": "code",
   "execution_count": 28,
   "id": "0a92ed5f",
   "metadata": {
    "execution": {
     "iopub.execute_input": "2024-11-05T05:31:55.370297Z",
     "iopub.status.busy": "2024-11-05T05:31:55.369889Z",
     "iopub.status.idle": "2024-11-05T05:53:13.534446Z",
     "shell.execute_reply": "2024-11-05T05:53:13.533666Z"
    },
    "papermill": {
     "duration": 1281.320365,
     "end_time": "2024-11-05T05:53:13.536565",
     "exception": false,
     "start_time": "2024-11-05T05:31:52.216200",
     "status": "completed"
    },
    "tags": []
   },
   "outputs": [
    {
     "name": "stdout",
     "output_type": "stream",
     "text": [
      "Epoch 1/50\n",
      "\u001b[1m438/438\u001b[0m \u001b[32m━━━━━━━━━━━━━━━━━━━━\u001b[0m\u001b[37m\u001b[0m \u001b[1m54s\u001b[0m 103ms/step - accuracy: 0.5391 - loss: 0.6885 - val_accuracy: 0.5395 - val_loss: 0.6796\n",
      "Epoch 2/50\n",
      "\u001b[1m438/438\u001b[0m \u001b[32m━━━━━━━━━━━━━━━━━━━━\u001b[0m\u001b[37m\u001b[0m \u001b[1m21s\u001b[0m 47ms/step - accuracy: 0.6534 - loss: 0.6377 - val_accuracy: 0.5990 - val_loss: 0.6516\n",
      "Epoch 3/50\n",
      "\u001b[1m438/438\u001b[0m \u001b[32m━━━━━━━━━━━━━━━━━━━━\u001b[0m\u001b[37m\u001b[0m \u001b[1m20s\u001b[0m 44ms/step - accuracy: 0.7701 - loss: 0.5235 - val_accuracy: 0.6150 - val_loss: 0.6894\n",
      "Epoch 4/50\n",
      "\u001b[1m438/438\u001b[0m \u001b[32m━━━━━━━━━━━━━━━━━━━━\u001b[0m\u001b[37m\u001b[0m \u001b[1m20s\u001b[0m 45ms/step - accuracy: 0.8384 - loss: 0.4035 - val_accuracy: 0.6535 - val_loss: 0.7203\n",
      "Epoch 5/50\n",
      "\u001b[1m438/438\u001b[0m \u001b[32m━━━━━━━━━━━━━━━━━━━━\u001b[0m\u001b[37m\u001b[0m \u001b[1m22s\u001b[0m 51ms/step - accuracy: 0.8886 - loss: 0.3050 - val_accuracy: 0.6645 - val_loss: 0.7487\n",
      "Epoch 6/50\n",
      "\u001b[1m438/438\u001b[0m \u001b[32m━━━━━━━━━━━━━━━━━━━━\u001b[0m\u001b[37m\u001b[0m \u001b[1m22s\u001b[0m 50ms/step - accuracy: 0.9161 - loss: 0.2376 - val_accuracy: 0.6660 - val_loss: 0.7662\n",
      "Epoch 7/50\n",
      "\u001b[1m438/438\u001b[0m \u001b[32m━━━━━━━━━━━━━━━━━━━━\u001b[0m\u001b[37m\u001b[0m \u001b[1m42s\u001b[0m 54ms/step - accuracy: 0.9395 - loss: 0.1857 - val_accuracy: 0.6825 - val_loss: 0.7900\n",
      "Epoch 8/50\n",
      "\u001b[1m438/438\u001b[0m \u001b[32m━━━━━━━━━━━━━━━━━━━━\u001b[0m\u001b[37m\u001b[0m \u001b[1m22s\u001b[0m 49ms/step - accuracy: 0.9451 - loss: 0.1623 - val_accuracy: 0.6705 - val_loss: 0.8399\n",
      "Epoch 9/50\n",
      "\u001b[1m438/438\u001b[0m \u001b[32m━━━━━━━━━━━━━━━━━━━━\u001b[0m\u001b[37m\u001b[0m \u001b[1m21s\u001b[0m 47ms/step - accuracy: 0.9644 - loss: 0.1215 - val_accuracy: 0.6930 - val_loss: 0.8272\n",
      "Epoch 10/50\n",
      "\u001b[1m438/438\u001b[0m \u001b[32m━━━━━━━━━━━━━━━━━━━━\u001b[0m\u001b[37m\u001b[0m \u001b[1m23s\u001b[0m 51ms/step - accuracy: 0.9690 - loss: 0.1008 - val_accuracy: 0.6660 - val_loss: 0.9202\n",
      "Epoch 11/50\n",
      "\u001b[1m438/438\u001b[0m \u001b[32m━━━━━━━━━━━━━━━━━━━━\u001b[0m\u001b[37m\u001b[0m \u001b[1m21s\u001b[0m 48ms/step - accuracy: 0.9752 - loss: 0.0862 - val_accuracy: 0.6735 - val_loss: 0.9451\n",
      "Epoch 12/50\n",
      "\u001b[1m438/438\u001b[0m \u001b[32m━━━━━━━━━━━━━━━━━━━━\u001b[0m\u001b[37m\u001b[0m \u001b[1m42s\u001b[0m 51ms/step - accuracy: 0.9797 - loss: 0.0714 - val_accuracy: 0.6910 - val_loss: 0.9302\n",
      "Epoch 13/50\n",
      "\u001b[1m438/438\u001b[0m \u001b[32m━━━━━━━━━━━━━━━━━━━━\u001b[0m\u001b[37m\u001b[0m \u001b[1m20s\u001b[0m 45ms/step - accuracy: 0.9850 - loss: 0.0606 - val_accuracy: 0.6690 - val_loss: 1.0259\n",
      "Epoch 14/50\n",
      "\u001b[1m438/438\u001b[0m \u001b[32m━━━━━━━━━━━━━━━━━━━━\u001b[0m\u001b[37m\u001b[0m \u001b[1m21s\u001b[0m 48ms/step - accuracy: 0.9874 - loss: 0.0511 - val_accuracy: 0.6810 - val_loss: 0.9923\n",
      "Epoch 15/50\n",
      "\u001b[1m438/438\u001b[0m \u001b[32m━━━━━━━━━━━━━━━━━━━━\u001b[0m\u001b[37m\u001b[0m \u001b[1m21s\u001b[0m 47ms/step - accuracy: 0.9878 - loss: 0.0484 - val_accuracy: 0.6840 - val_loss: 1.0960\n",
      "Epoch 16/50\n",
      "\u001b[1m438/438\u001b[0m \u001b[32m━━━━━━━━━━━━━━━━━━━━\u001b[0m\u001b[37m\u001b[0m \u001b[1m21s\u001b[0m 47ms/step - accuracy: 0.9924 - loss: 0.0348 - val_accuracy: 0.6815 - val_loss: 1.0876\n",
      "Epoch 17/50\n",
      "\u001b[1m438/438\u001b[0m \u001b[32m━━━━━━━━━━━━━━━━━━━━\u001b[0m\u001b[37m\u001b[0m \u001b[1m42s\u001b[0m 48ms/step - accuracy: 0.9928 - loss: 0.0303 - val_accuracy: 0.6785 - val_loss: 1.1152\n",
      "Epoch 18/50\n",
      "\u001b[1m438/438\u001b[0m \u001b[32m━━━━━━━━━━━━━━━━━━━━\u001b[0m\u001b[37m\u001b[0m \u001b[1m22s\u001b[0m 49ms/step - accuracy: 0.9940 - loss: 0.0253 - val_accuracy: 0.6720 - val_loss: 1.2070\n",
      "Epoch 19/50\n",
      "\u001b[1m438/438\u001b[0m \u001b[32m━━━━━━━━━━━━━━━━━━━━\u001b[0m\u001b[37m\u001b[0m \u001b[1m22s\u001b[0m 49ms/step - accuracy: 0.9958 - loss: 0.0221 - val_accuracy: 0.6965 - val_loss: 1.1623\n",
      "Epoch 20/50\n",
      "\u001b[1m438/438\u001b[0m \u001b[32m━━━━━━━━━━━━━━━━━━━━\u001b[0m\u001b[37m\u001b[0m \u001b[1m21s\u001b[0m 47ms/step - accuracy: 0.9963 - loss: 0.0186 - val_accuracy: 0.6665 - val_loss: 1.2943\n",
      "Epoch 21/50\n",
      "\u001b[1m438/438\u001b[0m \u001b[32m━━━━━━━━━━━━━━━━━━━━\u001b[0m\u001b[37m\u001b[0m \u001b[1m21s\u001b[0m 47ms/step - accuracy: 0.9957 - loss: 0.0183 - val_accuracy: 0.6570 - val_loss: 1.3741\n",
      "Epoch 22/50\n",
      "\u001b[1m438/438\u001b[0m \u001b[32m━━━━━━━━━━━━━━━━━━━━\u001b[0m\u001b[37m\u001b[0m \u001b[1m21s\u001b[0m 48ms/step - accuracy: 0.9973 - loss: 0.0145 - val_accuracy: 0.6785 - val_loss: 1.3113\n",
      "Epoch 23/50\n",
      "\u001b[1m438/438\u001b[0m \u001b[32m━━━━━━━━━━━━━━━━━━━━\u001b[0m\u001b[37m\u001b[0m \u001b[1m21s\u001b[0m 48ms/step - accuracy: 0.9944 - loss: 0.0193 - val_accuracy: 0.6965 - val_loss: 1.3622\n",
      "Epoch 24/50\n",
      "\u001b[1m438/438\u001b[0m \u001b[32m━━━━━━━━━━━━━━━━━━━━\u001b[0m\u001b[37m\u001b[0m \u001b[1m21s\u001b[0m 48ms/step - accuracy: 0.9976 - loss: 0.0125 - val_accuracy: 0.6840 - val_loss: 1.4210\n",
      "Epoch 25/50\n",
      "\u001b[1m438/438\u001b[0m \u001b[32m━━━━━━━━━━━━━━━━━━━━\u001b[0m\u001b[37m\u001b[0m \u001b[1m22s\u001b[0m 50ms/step - accuracy: 0.9969 - loss: 0.0115 - val_accuracy: 0.6945 - val_loss: 1.4281\n",
      "Epoch 26/50\n",
      "\u001b[1m438/438\u001b[0m \u001b[32m━━━━━━━━━━━━━━━━━━━━\u001b[0m\u001b[37m\u001b[0m \u001b[1m22s\u001b[0m 49ms/step - accuracy: 0.9969 - loss: 0.0105 - val_accuracy: 0.6875 - val_loss: 1.4769\n",
      "Epoch 27/50\n",
      "\u001b[1m438/438\u001b[0m \u001b[32m━━━━━━━━━━━━━━━━━━━━\u001b[0m\u001b[37m\u001b[0m \u001b[1m23s\u001b[0m 52ms/step - accuracy: 0.9991 - loss: 0.0057 - val_accuracy: 0.6990 - val_loss: 1.4836\n",
      "Epoch 28/50\n",
      "\u001b[1m438/438\u001b[0m \u001b[32m━━━━━━━━━━━━━━━━━━━━\u001b[0m\u001b[37m\u001b[0m \u001b[1m41s\u001b[0m 52ms/step - accuracy: 0.9936 - loss: 0.0190 - val_accuracy: 0.6925 - val_loss: 1.5133\n",
      "Epoch 29/50\n",
      "\u001b[1m438/438\u001b[0m \u001b[32m━━━━━━━━━━━━━━━━━━━━\u001b[0m\u001b[37m\u001b[0m \u001b[1m22s\u001b[0m 50ms/step - accuracy: 0.9984 - loss: 0.0070 - val_accuracy: 0.6855 - val_loss: 1.4700\n",
      "Epoch 30/50\n",
      "\u001b[1m438/438\u001b[0m \u001b[32m━━━━━━━━━━━━━━━━━━━━\u001b[0m\u001b[37m\u001b[0m \u001b[1m22s\u001b[0m 49ms/step - accuracy: 0.9984 - loss: 0.0060 - val_accuracy: 0.6860 - val_loss: 1.6227\n",
      "Epoch 31/50\n",
      "\u001b[1m438/438\u001b[0m \u001b[32m━━━━━━━━━━━━━━━━━━━━\u001b[0m\u001b[37m\u001b[0m \u001b[1m22s\u001b[0m 48ms/step - accuracy: 0.9993 - loss: 0.0036 - val_accuracy: 0.6930 - val_loss: 1.6321\n",
      "Epoch 32/50\n",
      "\u001b[1m438/438\u001b[0m \u001b[32m━━━━━━━━━━━━━━━━━━━━\u001b[0m\u001b[37m\u001b[0m \u001b[1m23s\u001b[0m 53ms/step - accuracy: 0.9988 - loss: 0.0037 - val_accuracy: 0.6785 - val_loss: 1.7799\n",
      "Epoch 33/50\n",
      "\u001b[1m438/438\u001b[0m \u001b[32m━━━━━━━━━━━━━━━━━━━━\u001b[0m\u001b[37m\u001b[0m \u001b[1m25s\u001b[0m 54ms/step - accuracy: 0.9989 - loss: 0.0044 - val_accuracy: 0.6930 - val_loss: 1.7989\n",
      "Epoch 34/50\n",
      "\u001b[1m438/438\u001b[0m \u001b[32m━━━━━━━━━━━━━━━━━━━━\u001b[0m\u001b[37m\u001b[0m \u001b[1m25s\u001b[0m 56ms/step - accuracy: 0.9874 - loss: 0.0382 - val_accuracy: 0.6815 - val_loss: 1.6397\n",
      "Epoch 35/50\n",
      "\u001b[1m438/438\u001b[0m \u001b[32m━━━━━━━━━━━━━━━━━━━━\u001b[0m\u001b[37m\u001b[0m \u001b[1m24s\u001b[0m 55ms/step - accuracy: 0.9988 - loss: 0.0049 - val_accuracy: 0.6940 - val_loss: 1.7144\n",
      "Epoch 36/50\n",
      "\u001b[1m438/438\u001b[0m \u001b[32m━━━━━━━━━━━━━━━━━━━━\u001b[0m\u001b[37m\u001b[0m \u001b[1m23s\u001b[0m 52ms/step - accuracy: 0.9984 - loss: 0.0038 - val_accuracy: 0.7020 - val_loss: 1.6129\n",
      "Epoch 37/50\n",
      "\u001b[1m438/438\u001b[0m \u001b[32m━━━━━━━━━━━━━━━━━━━━\u001b[0m\u001b[37m\u001b[0m \u001b[1m25s\u001b[0m 56ms/step - accuracy: 0.9993 - loss: 0.0024 - val_accuracy: 0.7050 - val_loss: 1.6826\n",
      "Epoch 38/50\n",
      "\u001b[1m438/438\u001b[0m \u001b[32m━━━━━━━━━━━━━━━━━━━━\u001b[0m\u001b[37m\u001b[0m \u001b[1m39s\u001b[0m 53ms/step - accuracy: 0.9991 - loss: 0.0025 - val_accuracy: 0.7070 - val_loss: 1.6464\n",
      "Epoch 39/50\n",
      "\u001b[1m438/438\u001b[0m \u001b[32m━━━━━━━━━━━━━━━━━━━━\u001b[0m\u001b[37m\u001b[0m \u001b[1m24s\u001b[0m 53ms/step - accuracy: 0.9992 - loss: 0.0022 - val_accuracy: 0.6905 - val_loss: 1.9580\n",
      "Epoch 40/50\n",
      "\u001b[1m438/438\u001b[0m \u001b[32m━━━━━━━━━━━━━━━━━━━━\u001b[0m\u001b[37m\u001b[0m \u001b[1m23s\u001b[0m 51ms/step - accuracy: 0.9994 - loss: 0.0025 - val_accuracy: 0.6930 - val_loss: 1.6917\n",
      "Epoch 41/50\n",
      "\u001b[1m438/438\u001b[0m \u001b[32m━━━━━━━━━━━━━━━━━━━━\u001b[0m\u001b[37m\u001b[0m \u001b[1m30s\u001b[0m 65ms/step - accuracy: 0.9990 - loss: 0.0022 - val_accuracy: 0.7105 - val_loss: 1.6843\n",
      "Epoch 42/50\n",
      "\u001b[1m438/438\u001b[0m \u001b[32m━━━━━━━━━━━━━━━━━━━━\u001b[0m\u001b[37m\u001b[0m \u001b[1m21s\u001b[0m 48ms/step - accuracy: 0.9914 - loss: 0.0286 - val_accuracy: 0.6800 - val_loss: 1.7572\n",
      "Epoch 43/50\n",
      "\u001b[1m438/438\u001b[0m \u001b[32m━━━━━━━━━━━━━━━━━━━━\u001b[0m\u001b[37m\u001b[0m \u001b[1m21s\u001b[0m 48ms/step - accuracy: 0.9879 - loss: 0.0367 - val_accuracy: 0.6880 - val_loss: 1.7315\n",
      "Epoch 44/50\n",
      "\u001b[1m438/438\u001b[0m \u001b[32m━━━━━━━━━━━━━━━━━━━━\u001b[0m\u001b[37m\u001b[0m \u001b[1m23s\u001b[0m 52ms/step - accuracy: 0.9992 - loss: 0.0022 - val_accuracy: 0.6865 - val_loss: 1.7781\n",
      "Epoch 45/50\n",
      "\u001b[1m438/438\u001b[0m \u001b[32m━━━━━━━━━━━━━━━━━━━━\u001b[0m\u001b[37m\u001b[0m \u001b[1m40s\u001b[0m 50ms/step - accuracy: 0.9992 - loss: 0.0018 - val_accuracy: 0.6930 - val_loss: 1.8225\n",
      "Epoch 46/50\n",
      "\u001b[1m438/438\u001b[0m \u001b[32m━━━━━━━━━━━━━━━━━━━━\u001b[0m\u001b[37m\u001b[0m \u001b[1m23s\u001b[0m 51ms/step - accuracy: 0.9988 - loss: 0.0022 - val_accuracy: 0.6930 - val_loss: 1.8274\n",
      "Epoch 47/50\n",
      "\u001b[1m438/438\u001b[0m \u001b[32m━━━━━━━━━━━━━━━━━━━━\u001b[0m\u001b[37m\u001b[0m \u001b[1m22s\u001b[0m 49ms/step - accuracy: 0.9995 - loss: 0.0015 - val_accuracy: 0.6935 - val_loss: 1.8194\n",
      "Epoch 48/50\n",
      "\u001b[1m438/438\u001b[0m \u001b[32m━━━━━━━━━━━━━━━━━━━━\u001b[0m\u001b[37m\u001b[0m \u001b[1m42s\u001b[0m 51ms/step - accuracy: 0.9996 - loss: 0.0013 - val_accuracy: 0.6990 - val_loss: 1.8459\n",
      "Epoch 49/50\n",
      "\u001b[1m438/438\u001b[0m \u001b[32m━━━━━━━━━━━━━━━━━━━━\u001b[0m\u001b[37m\u001b[0m \u001b[1m22s\u001b[0m 50ms/step - accuracy: 0.9994 - loss: 0.0014 - val_accuracy: 0.6900 - val_loss: 1.9603\n",
      "Epoch 50/50\n",
      "\u001b[1m438/438\u001b[0m \u001b[32m━━━━━━━━━━━━━━━━━━━━\u001b[0m\u001b[37m\u001b[0m \u001b[1m23s\u001b[0m 51ms/step - accuracy: 0.9984 - loss: 0.0031 - val_accuracy: 0.6835 - val_loss: 2.1644\n"
     ]
    }
   ],
   "source": [
    "dropout_xception_cdf_history = dropout_xception_cdf_model.fit(\n",
    "    cdf_train_generator, validation_data=cdf_val_generator, epochs=NUM_EPOCHS\n",
    ")"
   ]
  },
  {
   "cell_type": "code",
   "execution_count": 29,
   "id": "92201ce4",
   "metadata": {
    "execution": {
     "iopub.execute_input": "2024-11-05T05:53:22.096982Z",
     "iopub.status.busy": "2024-11-05T05:53:22.096627Z",
     "iopub.status.idle": "2024-11-05T05:53:22.542914Z",
     "shell.execute_reply": "2024-11-05T05:53:22.541953Z"
    },
    "papermill": {
     "duration": 4.748323,
     "end_time": "2024-11-05T05:53:22.545041",
     "exception": false,
     "start_time": "2024-11-05T05:53:17.796718",
     "status": "completed"
    },
    "tags": []
   },
   "outputs": [
    {
     "data": {
      "image/png": "[encoded data removed]",
      "text/plain": [
       "<Figure size 1200x400 with 2 Axes>"
      ]
     },
     "metadata": {},
     "output_type": "display_data"
    }
   ],
   "source": [
    "plot_train_result(\n",
    "    dropout_xception_cdf_history.history,\n",
    "    title=\"Dropout Xception Model on Celeb-DF-v2 Dataset\"\n",
    ")"
   ]
  },
  {
   "cell_type": "code",
   "execution_count": 30,
   "id": "ae7c1f7e",
   "metadata": {
    "execution": {
     "iopub.execute_input": "2024-11-05T05:53:31.074417Z",
     "iopub.status.busy": "2024-11-05T05:53:31.073479Z",
     "iopub.status.idle": "2024-11-05T05:53:31.680642Z",
     "shell.execute_reply": "2024-11-05T05:53:31.679558Z"
    },
    "papermill": {
     "duration": 4.942436,
     "end_time": "2024-11-05T05:53:31.682751",
     "exception": false,
     "start_time": "2024-11-05T05:53:26.740315",
     "status": "completed"
    },
    "tags": []
   },
   "outputs": [
    {
     "name": "stdout",
     "output_type": "stream",
     "text": [
      "Model saved at dropout_xception_cdf_model.keras\n",
      "Training history saved at dropout_xception_cdf_history.pkl\n"
     ]
    }
   ],
   "source": [
    "save_model_and_history(\n",
    "    dropout_xception_cdf_model, dropout_xception_cdf_history, \"dropout_xception_cdf\"\n",
    ")"
   ]
  },
  {
   "cell_type": "markdown",
   "id": "022c2d91",
   "metadata": {
    "papermill": {
     "duration": 4.309083,
     "end_time": "2024-11-05T05:53:40.187748",
     "exception": false,
     "start_time": "2024-11-05T05:53:35.878665",
     "status": "completed"
    },
    "tags": []
   },
   "source": [
    "#### DeeperForensics-1.0 Dataset"
   ]
  },
  {
   "cell_type": "code",
   "execution_count": 31,
   "id": "aa2b05c3",
   "metadata": {
    "execution": {
     "iopub.execute_input": "2024-11-05T05:53:48.695436Z",
     "iopub.status.busy": "2024-11-05T05:53:48.695056Z",
     "iopub.status.idle": "2024-11-05T05:53:49.647635Z",
     "shell.execute_reply": "2024-11-05T05:53:49.646691Z"
    },
    "papermill": {
     "duration": 5.202761,
     "end_time": "2024-11-05T05:53:49.649612",
     "exception": false,
     "start_time": "2024-11-05T05:53:44.446851",
     "status": "completed"
    },
    "tags": []
   },
   "outputs": [
    {
     "data": {
      "text/html": [
       "<pre style=\"white-space:pre;overflow-x:auto;line-height:normal;font-family:Menlo,'DejaVu Sans Mono',consolas,'Courier New',monospace\"><span style=\"font-weight: bold\">Model: \"sequential_4\"</span>\n",
       "</pre>\n"
      ],
      "text/plain": [
       "\u001b[1mModel: \"sequential_4\"\u001b[0m\n"
      ]
     },
     "metadata": {},
     "output_type": "display_data"
    },
    {
     "data": {
      "text/html": [
       "<pre style=\"white-space:pre;overflow-x:auto;line-height:normal;font-family:Menlo,'DejaVu Sans Mono',consolas,'Courier New',monospace\">┏━━━━━━━━━━━━━━━━━━━━━━━━━━━━━━━━━┳━━━━━━━━━━━━━━━━━━━━━━━━┳━━━━━━━━━━━━━━━┓\n",
       "┃<span style=\"font-weight: bold\"> Layer (type)                    </span>┃<span style=\"font-weight: bold\"> Output Shape           </span>┃<span style=\"font-weight: bold\">       Param # </span>┃\n",
       "┡━━━━━━━━━━━━━━━━━━━━━━━━━━━━━━━━━╇━━━━━━━━━━━━━━━━━━━━━━━━╇━━━━━━━━━━━━━━━┩\n",
       "│ xception (<span style=\"color: #0087ff; text-decoration-color: #0087ff\">Functional</span>)           │ ?                      │    <span style=\"color: #00af00; text-decoration-color: #00af00\">20,861,480</span> │\n",
       "├─────────────────────────────────┼────────────────────────┼───────────────┤\n",
       "│ flatten_4 (<span style=\"color: #0087ff; text-decoration-color: #0087ff\">Flatten</span>)             │ ?                      │   <span style=\"color: #00af00; text-decoration-color: #00af00\">0</span> (unbuilt) │\n",
       "├─────────────────────────────────┼────────────────────────┼───────────────┤\n",
       "│ dense_20 (<span style=\"color: #0087ff; text-decoration-color: #0087ff\">Dense</span>)                │ ?                      │   <span style=\"color: #00af00; text-decoration-color: #00af00\">0</span> (unbuilt) │\n",
       "├─────────────────────────────────┼────────────────────────┼───────────────┤\n",
       "│ dense_21 (<span style=\"color: #0087ff; text-decoration-color: #0087ff\">Dense</span>)                │ ?                      │   <span style=\"color: #00af00; text-decoration-color: #00af00\">0</span> (unbuilt) │\n",
       "├─────────────────────────────────┼────────────────────────┼───────────────┤\n",
       "│ dense_22 (<span style=\"color: #0087ff; text-decoration-color: #0087ff\">Dense</span>)                │ ?                      │   <span style=\"color: #00af00; text-decoration-color: #00af00\">0</span> (unbuilt) │\n",
       "├─────────────────────────────────┼────────────────────────┼───────────────┤\n",
       "│ dense_23 (<span style=\"color: #0087ff; text-decoration-color: #0087ff\">Dense</span>)                │ ?                      │   <span style=\"color: #00af00; text-decoration-color: #00af00\">0</span> (unbuilt) │\n",
       "├─────────────────────────────────┼────────────────────────┼───────────────┤\n",
       "│ dropout_1 (<span style=\"color: #0087ff; text-decoration-color: #0087ff\">Dropout</span>)             │ ?                      │   <span style=\"color: #00af00; text-decoration-color: #00af00\">0</span> (unbuilt) │\n",
       "├─────────────────────────────────┼────────────────────────┼───────────────┤\n",
       "│ dense_24 (<span style=\"color: #0087ff; text-decoration-color: #0087ff\">Dense</span>)                │ ?                      │   <span style=\"color: #00af00; text-decoration-color: #00af00\">0</span> (unbuilt) │\n",
       "└─────────────────────────────────┴────────────────────────┴───────────────┘\n",
       "</pre>\n"
      ],
      "text/plain": [
       "┏━━━━━━━━━━━━━━━━━━━━━━━━━━━━━━━━━┳━━━━━━━━━━━━━━━━━━━━━━━━┳━━━━━━━━━━━━━━━┓\n",
       "┃\u001b[1m \u001b[0m\u001b[1mLayer (type)                   \u001b[0m\u001b[1m \u001b[0m┃\u001b[1m \u001b[0m\u001b[1mOutput Shape          \u001b[0m\u001b[1m \u001b[0m┃\u001b[1m \u001b[0m\u001b[1m      Param #\u001b[0m\u001b[1m \u001b[0m┃\n",
       "┡━━━━━━━━━━━━━━━━━━━━━━━━━━━━━━━━━╇━━━━━━━━━━━━━━━━━━━━━━━━╇━━━━━━━━━━━━━━━┩\n",
       "│ xception (\u001b[38;5;33mFunctional\u001b[0m)           │ ?                      │    \u001b[38;5;34m20,861,480\u001b[0m │\n",
       "├─────────────────────────────────┼────────────────────────┼───────────────┤\n",
       "│ flatten_4 (\u001b[38;5;33mFlatten\u001b[0m)             │ ?                      │   \u001b[38;5;34m0\u001b[0m (unbuilt) │\n",
       "├─────────────────────────────────┼────────────────────────┼───────────────┤\n",
       "│ dense_20 (\u001b[38;5;33mDense\u001b[0m)                │ ?                      │   \u001b[38;5;34m0\u001b[0m (unbuilt) │\n",
       "├─────────────────────────────────┼────────────────────────┼───────────────┤\n",
       "│ dense_21 (\u001b[38;5;33mDense\u001b[0m)                │ ?                      │   \u001b[38;5;34m0\u001b[0m (unbuilt) │\n",
       "├─────────────────────────────────┼────────────────────────┼───────────────┤\n",
       "│ dense_22 (\u001b[38;5;33mDense\u001b[0m)                │ ?                      │   \u001b[38;5;34m0\u001b[0m (unbuilt) │\n",
       "├─────────────────────────────────┼────────────────────────┼───────────────┤\n",
       "│ dense_23 (\u001b[38;5;33mDense\u001b[0m)                │ ?                      │   \u001b[38;5;34m0\u001b[0m (unbuilt) │\n",
       "├─────────────────────────────────┼────────────────────────┼───────────────┤\n",
       "│ dropout_1 (\u001b[38;5;33mDropout\u001b[0m)             │ ?                      │   \u001b[38;5;34m0\u001b[0m (unbuilt) │\n",
       "├─────────────────────────────────┼────────────────────────┼───────────────┤\n",
       "│ dense_24 (\u001b[38;5;33mDense\u001b[0m)                │ ?                      │   \u001b[38;5;34m0\u001b[0m (unbuilt) │\n",
       "└─────────────────────────────────┴────────────────────────┴───────────────┘\n"
      ]
     },
     "metadata": {},
     "output_type": "display_data"
    },
    {
     "data": {
      "text/html": [
       "<pre style=\"white-space:pre;overflow-x:auto;line-height:normal;font-family:Menlo,'DejaVu Sans Mono',consolas,'Courier New',monospace\"><span style=\"font-weight: bold\"> Total params: </span><span style=\"color: #00af00; text-decoration-color: #00af00\">20,861,480</span> (79.58 MB)\n",
       "</pre>\n"
      ],
      "text/plain": [
       "\u001b[1m Total params: \u001b[0m\u001b[38;5;34m20,861,480\u001b[0m (79.58 MB)\n"
      ]
     },
     "metadata": {},
     "output_type": "display_data"
    },
    {
     "data": {
      "text/html": [
       "<pre style=\"white-space:pre;overflow-x:auto;line-height:normal;font-family:Menlo,'DejaVu Sans Mono',consolas,'Courier New',monospace\"><span style=\"font-weight: bold\"> Trainable params: </span><span style=\"color: #00af00; text-decoration-color: #00af00\">0</span> (0.00 B)\n",
       "</pre>\n"
      ],
      "text/plain": [
       "\u001b[1m Trainable params: \u001b[0m\u001b[38;5;34m0\u001b[0m (0.00 B)\n"
      ]
     },
     "metadata": {},
     "output_type": "display_data"
    },
    {
     "data": {
      "text/html": [
       "<pre style=\"white-space:pre;overflow-x:auto;line-height:normal;font-family:Menlo,'DejaVu Sans Mono',consolas,'Courier New',monospace\"><span style=\"font-weight: bold\"> Non-trainable params: </span><span style=\"color: #00af00; text-decoration-color: #00af00\">20,861,480</span> (79.58 MB)\n",
       "</pre>\n"
      ],
      "text/plain": [
       "\u001b[1m Non-trainable params: \u001b[0m\u001b[38;5;34m20,861,480\u001b[0m (79.58 MB)\n"
      ]
     },
     "metadata": {},
     "output_type": "display_data"
    }
   ],
   "source": [
    "dropout_xception_df_model = create_xception_model(best_hp, dropout=True)\n",
    "dropout_xception_df_model.summary()"
   ]
  },
  {
   "cell_type": "code",
   "execution_count": 32,
   "id": "d932e56f",
   "metadata": {
    "execution": {
     "iopub.execute_input": "2024-11-05T05:53:58.146895Z",
     "iopub.status.busy": "2024-11-05T05:53:58.146510Z",
     "iopub.status.idle": "2024-11-05T06:17:12.739116Z",
     "shell.execute_reply": "2024-11-05T06:17:12.738024Z"
    },
    "papermill": {
     "duration": 1398.835632,
     "end_time": "2024-11-05T06:17:12.741382",
     "exception": false,
     "start_time": "2024-11-05T05:53:53.905750",
     "status": "completed"
    },
    "tags": []
   },
   "outputs": [
    {
     "name": "stdout",
     "output_type": "stream",
     "text": [
      "Epoch 1/50\n",
      "\u001b[1m438/438\u001b[0m \u001b[32m━━━━━━━━━━━━━━━━━━━━\u001b[0m\u001b[37m\u001b[0m \u001b[1m52s\u001b[0m 98ms/step - accuracy: 0.6507 - loss: 0.6109 - val_accuracy: 0.6960 - val_loss: 0.5237\n",
      "Epoch 2/50\n",
      "\u001b[1m438/438\u001b[0m \u001b[32m━━━━━━━━━━━━━━━━━━━━\u001b[0m\u001b[37m\u001b[0m \u001b[1m27s\u001b[0m 60ms/step - accuracy: 0.9210 - loss: 0.2442 - val_accuracy: 0.7320 - val_loss: 0.5105\n",
      "Epoch 3/50\n",
      "\u001b[1m438/438\u001b[0m \u001b[32m━━━━━━━━━━━━━━━━━━━━\u001b[0m\u001b[37m\u001b[0m \u001b[1m25s\u001b[0m 56ms/step - accuracy: 0.9698 - loss: 0.1057 - val_accuracy: 0.7820 - val_loss: 0.4748\n",
      "Epoch 4/50\n",
      "\u001b[1m438/438\u001b[0m \u001b[32m━━━━━━━━━━━━━━━━━━━━\u001b[0m\u001b[37m\u001b[0m \u001b[1m26s\u001b[0m 58ms/step - accuracy: 0.9852 - loss: 0.0585 - val_accuracy: 0.8155 - val_loss: 0.4554\n",
      "Epoch 5/50\n",
      "\u001b[1m438/438\u001b[0m \u001b[32m━━━━━━━━━━━━━━━━━━━━\u001b[0m\u001b[37m\u001b[0m \u001b[1m27s\u001b[0m 61ms/step - accuracy: 0.9882 - loss: 0.0411 - val_accuracy: 0.8140 - val_loss: 0.4977\n",
      "Epoch 6/50\n",
      "\u001b[1m438/438\u001b[0m \u001b[32m━━━━━━━━━━━━━━━━━━━━\u001b[0m\u001b[37m\u001b[0m \u001b[1m25s\u001b[0m 57ms/step - accuracy: 0.9927 - loss: 0.0297 - val_accuracy: 0.8225 - val_loss: 0.4967\n",
      "Epoch 7/50\n",
      "\u001b[1m438/438\u001b[0m \u001b[32m━━━━━━━━━━━━━━━━━━━━\u001b[0m\u001b[37m\u001b[0m \u001b[1m27s\u001b[0m 59ms/step - accuracy: 0.9957 - loss: 0.0208 - val_accuracy: 0.8295 - val_loss: 0.4933\n",
      "Epoch 8/50\n",
      "\u001b[1m438/438\u001b[0m \u001b[32m━━━━━━━━━━━━━━━━━━━━\u001b[0m\u001b[37m\u001b[0m \u001b[1m26s\u001b[0m 57ms/step - accuracy: 0.9948 - loss: 0.0170 - val_accuracy: 0.8425 - val_loss: 0.5163\n",
      "Epoch 9/50\n",
      "\u001b[1m438/438\u001b[0m \u001b[32m━━━━━━━━━━━━━━━━━━━━\u001b[0m\u001b[37m\u001b[0m \u001b[1m25s\u001b[0m 57ms/step - accuracy: 0.9976 - loss: 0.0120 - val_accuracy: 0.8585 - val_loss: 0.4838\n",
      "Epoch 10/50\n",
      "\u001b[1m438/438\u001b[0m \u001b[32m━━━━━━━━━━━━━━━━━━━━\u001b[0m\u001b[37m\u001b[0m \u001b[1m26s\u001b[0m 59ms/step - accuracy: 0.9976 - loss: 0.0094 - val_accuracy: 0.8585 - val_loss: 0.5525\n",
      "Epoch 11/50\n",
      "\u001b[1m438/438\u001b[0m \u001b[32m━━━━━━━━━━━━━━━━━━━━\u001b[0m\u001b[37m\u001b[0m \u001b[1m27s\u001b[0m 61ms/step - accuracy: 0.9988 - loss: 0.0075 - val_accuracy: 0.8485 - val_loss: 0.5285\n",
      "Epoch 12/50\n",
      "\u001b[1m438/438\u001b[0m \u001b[32m━━━━━━━━━━━━━━━━━━━━\u001b[0m\u001b[37m\u001b[0m \u001b[1m28s\u001b[0m 62ms/step - accuracy: 0.9983 - loss: 0.0078 - val_accuracy: 0.8590 - val_loss: 0.5422\n",
      "Epoch 13/50\n",
      "\u001b[1m438/438\u001b[0m \u001b[32m━━━━━━━━━━━━━━━━━━━━\u001b[0m\u001b[37m\u001b[0m \u001b[1m30s\u001b[0m 67ms/step - accuracy: 0.9991 - loss: 0.0047 - val_accuracy: 0.8435 - val_loss: 0.6483\n",
      "Epoch 14/50\n",
      "\u001b[1m438/438\u001b[0m \u001b[32m━━━━━━━━━━━━━━━━━━━━\u001b[0m\u001b[37m\u001b[0m \u001b[1m28s\u001b[0m 62ms/step - accuracy: 0.9997 - loss: 0.0038 - val_accuracy: 0.8550 - val_loss: 0.5909\n",
      "Epoch 15/50\n",
      "\u001b[1m438/438\u001b[0m \u001b[32m━━━━━━━━━━━━━━━━━━━━\u001b[0m\u001b[37m\u001b[0m \u001b[1m35s\u001b[0m 78ms/step - accuracy: 1.0000 - loss: 0.0026 - val_accuracy: 0.8430 - val_loss: 0.6642\n",
      "Epoch 16/50\n",
      "\u001b[1m438/438\u001b[0m \u001b[32m━━━━━━━━━━━━━━━━━━━━\u001b[0m\u001b[37m\u001b[0m \u001b[1m32s\u001b[0m 59ms/step - accuracy: 0.9992 - loss: 0.0029 - val_accuracy: 0.8380 - val_loss: 0.7415\n",
      "Epoch 17/50\n",
      "\u001b[1m438/438\u001b[0m \u001b[32m━━━━━━━━━━━━━━━━━━━━\u001b[0m\u001b[37m\u001b[0m \u001b[1m26s\u001b[0m 58ms/step - accuracy: 0.9996 - loss: 0.0043 - val_accuracy: 0.8475 - val_loss: 0.6847\n",
      "Epoch 18/50\n",
      "\u001b[1m438/438\u001b[0m \u001b[32m━━━━━━━━━━━━━━━━━━━━\u001b[0m\u001b[37m\u001b[0m \u001b[1m27s\u001b[0m 60ms/step - accuracy: 0.9988 - loss: 0.0046 - val_accuracy: 0.8380 - val_loss: 0.7990\n",
      "Epoch 19/50\n",
      "\u001b[1m438/438\u001b[0m \u001b[32m━━━━━━━━━━━━━━━━━━━━\u001b[0m\u001b[37m\u001b[0m \u001b[1m42s\u001b[0m 61ms/step - accuracy: 0.9982 - loss: 0.0054 - val_accuracy: 0.8490 - val_loss: 0.6865\n",
      "Epoch 20/50\n",
      "\u001b[1m438/438\u001b[0m \u001b[32m━━━━━━━━━━━━━━━━━━━━\u001b[0m\u001b[37m\u001b[0m \u001b[1m25s\u001b[0m 57ms/step - accuracy: 0.9998 - loss: 0.0020 - val_accuracy: 0.8435 - val_loss: 0.8031\n",
      "Epoch 21/50\n",
      "\u001b[1m438/438\u001b[0m \u001b[32m━━━━━━━━━━━━━━━━━━━━\u001b[0m\u001b[37m\u001b[0m \u001b[1m26s\u001b[0m 59ms/step - accuracy: 1.0000 - loss: 0.0011 - val_accuracy: 0.8610 - val_loss: 0.6536\n",
      "Epoch 22/50\n",
      "\u001b[1m438/438\u001b[0m \u001b[32m━━━━━━━━━━━━━━━━━━━━\u001b[0m\u001b[37m\u001b[0m \u001b[1m26s\u001b[0m 58ms/step - accuracy: 0.9991 - loss: 0.0035 - val_accuracy: 0.8455 - val_loss: 0.7815\n",
      "Epoch 23/50\n",
      "\u001b[1m438/438\u001b[0m \u001b[32m━━━━━━━━━━━━━━━━━━━━\u001b[0m\u001b[37m\u001b[0m \u001b[1m26s\u001b[0m 58ms/step - accuracy: 1.0000 - loss: 7.2290e-04 - val_accuracy: 0.8285 - val_loss: 0.8670\n",
      "Epoch 24/50\n",
      "\u001b[1m438/438\u001b[0m \u001b[32m━━━━━━━━━━━━━━━━━━━━\u001b[0m\u001b[37m\u001b[0m \u001b[1m27s\u001b[0m 61ms/step - accuracy: 0.9973 - loss: 0.0089 - val_accuracy: 0.8515 - val_loss: 0.8102\n",
      "Epoch 25/50\n",
      "\u001b[1m438/438\u001b[0m \u001b[32m━━━━━━━━━━━━━━━━━━━━\u001b[0m\u001b[37m\u001b[0m \u001b[1m25s\u001b[0m 56ms/step - accuracy: 1.0000 - loss: 7.0955e-04 - val_accuracy: 0.8570 - val_loss: 0.7869\n",
      "Epoch 26/50\n",
      "\u001b[1m438/438\u001b[0m \u001b[32m━━━━━━━━━━━━━━━━━━━━\u001b[0m\u001b[37m\u001b[0m \u001b[1m27s\u001b[0m 62ms/step - accuracy: 1.0000 - loss: 3.0486e-04 - val_accuracy: 0.8590 - val_loss: 0.7561\n",
      "Epoch 27/50\n",
      "\u001b[1m438/438\u001b[0m \u001b[32m━━━━━━━━━━━━━━━━━━━━\u001b[0m\u001b[37m\u001b[0m \u001b[1m26s\u001b[0m 57ms/step - accuracy: 1.0000 - loss: 3.9238e-04 - val_accuracy: 0.8510 - val_loss: 0.8105\n",
      "Epoch 28/50\n",
      "\u001b[1m438/438\u001b[0m \u001b[32m━━━━━━━━━━━━━━━━━━━━\u001b[0m\u001b[37m\u001b[0m \u001b[1m27s\u001b[0m 60ms/step - accuracy: 0.9976 - loss: 0.0066 - val_accuracy: 0.8610 - val_loss: 0.7629\n",
      "Epoch 29/50\n",
      "\u001b[1m438/438\u001b[0m \u001b[32m━━━━━━━━━━━━━━━━━━━━\u001b[0m\u001b[37m\u001b[0m \u001b[1m26s\u001b[0m 58ms/step - accuracy: 0.9996 - loss: 0.0012 - val_accuracy: 0.8605 - val_loss: 0.8022\n",
      "Epoch 30/50\n",
      "\u001b[1m438/438\u001b[0m \u001b[32m━━━━━━━━━━━━━━━━━━━━\u001b[0m\u001b[37m\u001b[0m \u001b[1m27s\u001b[0m 61ms/step - accuracy: 1.0000 - loss: 5.1257e-04 - val_accuracy: 0.8550 - val_loss: 0.8589\n",
      "Epoch 31/50\n",
      "\u001b[1m438/438\u001b[0m \u001b[32m━━━━━━━━━━━━━━━━━━━━\u001b[0m\u001b[37m\u001b[0m \u001b[1m26s\u001b[0m 59ms/step - accuracy: 1.0000 - loss: 2.2922e-04 - val_accuracy: 0.8350 - val_loss: 0.9594\n",
      "Epoch 32/50\n",
      "\u001b[1m438/438\u001b[0m \u001b[32m━━━━━━━━━━━━━━━━━━━━\u001b[0m\u001b[37m\u001b[0m \u001b[1m26s\u001b[0m 58ms/step - accuracy: 0.9999 - loss: 4.7143e-04 - val_accuracy: 0.7615 - val_loss: 1.7612\n",
      "Epoch 33/50\n",
      "\u001b[1m438/438\u001b[0m \u001b[32m━━━━━━━━━━━━━━━━━━━━\u001b[0m\u001b[37m\u001b[0m \u001b[1m28s\u001b[0m 62ms/step - accuracy: 0.9957 - loss: 0.0140 - val_accuracy: 0.8315 - val_loss: 0.9357\n",
      "Epoch 34/50\n",
      "\u001b[1m438/438\u001b[0m \u001b[32m━━━━━━━━━━━━━━━━━━━━\u001b[0m\u001b[37m\u001b[0m \u001b[1m26s\u001b[0m 58ms/step - accuracy: 1.0000 - loss: 4.7739e-04 - val_accuracy: 0.8430 - val_loss: 0.8744\n",
      "Epoch 35/50\n",
      "\u001b[1m438/438\u001b[0m \u001b[32m━━━━━━━━━━━━━━━━━━━━\u001b[0m\u001b[37m\u001b[0m \u001b[1m26s\u001b[0m 58ms/step - accuracy: 1.0000 - loss: 3.0459e-04 - val_accuracy: 0.8425 - val_loss: 0.9035\n",
      "Epoch 36/50\n",
      "\u001b[1m438/438\u001b[0m \u001b[32m━━━━━━━━━━━━━━━━━━━━\u001b[0m\u001b[37m\u001b[0m \u001b[1m27s\u001b[0m 61ms/step - accuracy: 1.0000 - loss: 1.7213e-04 - val_accuracy: 0.8470 - val_loss: 0.9031\n",
      "Epoch 37/50\n",
      "\u001b[1m438/438\u001b[0m \u001b[32m━━━━━━━━━━━━━━━━━━━━\u001b[0m\u001b[37m\u001b[0m \u001b[1m29s\u001b[0m 66ms/step - accuracy: 1.0000 - loss: 1.9818e-04 - val_accuracy: 0.8420 - val_loss: 0.9410\n",
      "Epoch 38/50\n",
      "\u001b[1m438/438\u001b[0m \u001b[32m━━━━━━━━━━━━━━━━━━━━\u001b[0m\u001b[37m\u001b[0m \u001b[1m26s\u001b[0m 58ms/step - accuracy: 0.9992 - loss: 0.0027 - val_accuracy: 0.8355 - val_loss: 0.8947\n",
      "Epoch 39/50\n",
      "\u001b[1m438/438\u001b[0m \u001b[32m━━━━━━━━━━━━━━━━━━━━\u001b[0m\u001b[37m\u001b[0m \u001b[1m26s\u001b[0m 59ms/step - accuracy: 0.9996 - loss: 0.0011 - val_accuracy: 0.8370 - val_loss: 0.9463\n",
      "Epoch 40/50\n",
      "\u001b[1m438/438\u001b[0m \u001b[32m━━━━━━━━━━━━━━━━━━━━\u001b[0m\u001b[37m\u001b[0m \u001b[1m26s\u001b[0m 58ms/step - accuracy: 1.0000 - loss: 1.9298e-04 - val_accuracy: 0.8440 - val_loss: 0.9115\n",
      "Epoch 41/50\n",
      "\u001b[1m438/438\u001b[0m \u001b[32m━━━━━━━━━━━━━━━━━━━━\u001b[0m\u001b[37m\u001b[0m \u001b[1m26s\u001b[0m 59ms/step - accuracy: 1.0000 - loss: 1.4709e-04 - val_accuracy: 0.8425 - val_loss: 0.9239\n",
      "Epoch 42/50\n",
      "\u001b[1m438/438\u001b[0m \u001b[32m━━━━━━━━━━━━━━━━━━━━\u001b[0m\u001b[37m\u001b[0m \u001b[1m27s\u001b[0m 60ms/step - accuracy: 1.0000 - loss: 1.1138e-04 - val_accuracy: 0.8475 - val_loss: 0.9155\n",
      "Epoch 43/50\n",
      "\u001b[1m438/438\u001b[0m \u001b[32m━━━━━━━━━━━━━━━━━━━━\u001b[0m\u001b[37m\u001b[0m \u001b[1m23s\u001b[0m 52ms/step - accuracy: 1.0000 - loss: 1.3649e-04 - val_accuracy: 0.8410 - val_loss: 0.9522\n",
      "Epoch 44/50\n",
      "\u001b[1m438/438\u001b[0m \u001b[32m━━━━━━━━━━━━━━━━━━━━\u001b[0m\u001b[37m\u001b[0m \u001b[1m26s\u001b[0m 58ms/step - accuracy: 1.0000 - loss: 9.8254e-05 - val_accuracy: 0.8445 - val_loss: 0.9438\n",
      "Epoch 45/50\n",
      "\u001b[1m438/438\u001b[0m \u001b[32m━━━━━━━━━━━━━━━━━━━━\u001b[0m\u001b[37m\u001b[0m \u001b[1m26s\u001b[0m 58ms/step - accuracy: 1.0000 - loss: 7.1276e-05 - val_accuracy: 0.8440 - val_loss: 0.9604\n",
      "Epoch 46/50\n",
      "\u001b[1m438/438\u001b[0m \u001b[32m━━━━━━━━━━━━━━━━━━━━\u001b[0m\u001b[37m\u001b[0m \u001b[1m41s\u001b[0m 58ms/step - accuracy: 1.0000 - loss: 8.2061e-05 - val_accuracy: 0.8455 - val_loss: 0.9718\n",
      "Epoch 47/50\n",
      "\u001b[1m438/438\u001b[0m \u001b[32m━━━━━━━━━━━━━━━━━━━━\u001b[0m\u001b[37m\u001b[0m \u001b[1m26s\u001b[0m 58ms/step - accuracy: 1.0000 - loss: 8.1427e-05 - val_accuracy: 0.8375 - val_loss: 1.0125\n",
      "Epoch 48/50\n",
      "\u001b[1m438/438\u001b[0m \u001b[32m━━━━━━━━━━━━━━━━━━━━\u001b[0m\u001b[37m\u001b[0m \u001b[1m33s\u001b[0m 75ms/step - accuracy: 0.9997 - loss: 0.0010 - val_accuracy: 0.8365 - val_loss: 1.0292\n",
      "Epoch 49/50\n",
      "\u001b[1m438/438\u001b[0m \u001b[32m━━━━━━━━━━━━━━━━━━━━\u001b[0m\u001b[37m\u001b[0m \u001b[1m26s\u001b[0m 57ms/step - accuracy: 0.9978 - loss: 0.0082 - val_accuracy: 0.8135 - val_loss: 1.1475\n",
      "Epoch 50/50\n",
      "\u001b[1m438/438\u001b[0m \u001b[32m━━━━━━━━━━━━━━━━━━━━\u001b[0m\u001b[37m\u001b[0m \u001b[1m29s\u001b[0m 66ms/step - accuracy: 1.0000 - loss: 3.4284e-04 - val_accuracy: 0.8130 - val_loss: 1.1962\n"
     ]
    }
   ],
   "source": [
    "dropout_xception_df_history = dropout_xception_df_model.fit(\n",
    "    df_train_generator, validation_data=df_val_generator, epochs=NUM_EPOCHS\n",
    ")"
   ]
  },
  {
   "cell_type": "code",
   "execution_count": 33,
   "id": "e1776b5b",
   "metadata": {
    "execution": {
     "iopub.execute_input": "2024-11-05T06:17:23.857453Z",
     "iopub.status.busy": "2024-11-05T06:17:23.857084Z",
     "iopub.status.idle": "2024-11-05T06:17:24.367906Z",
     "shell.execute_reply": "2024-11-05T06:17:24.366987Z"
    },
    "papermill": {
     "duration": 5.994004,
     "end_time": "2024-11-05T06:17:24.370609",
     "exception": false,
     "start_time": "2024-11-05T06:17:18.376605",
     "status": "completed"
    },
    "tags": []
   },
   "outputs": [
    {
     "data": {
      "image/png": "[encoded data removed]",
      "text/plain": [
       "<Figure size 1200x400 with 2 Axes>"
      ]
     },
     "metadata": {},
     "output_type": "display_data"
    }
   ],
   "source": [
    "plot_train_result(\n",
    "    dropout_xception_df_history.history,\n",
    "    title=\"Dropout Xception Model on DeeperForensics-1.0 Dataset\"\n",
    ")"
   ]
  },
  {
   "cell_type": "code",
   "execution_count": 34,
   "id": "ff914837",
   "metadata": {
    "execution": {
     "iopub.execute_input": "2024-11-05T06:17:35.687566Z",
     "iopub.status.busy": "2024-11-05T06:17:35.687153Z",
     "iopub.status.idle": "2024-11-05T06:17:36.292820Z",
     "shell.execute_reply": "2024-11-05T06:17:36.291681Z"
    },
    "papermill": {
     "duration": 6.339973,
     "end_time": "2024-11-05T06:17:36.294940",
     "exception": false,
     "start_time": "2024-11-05T06:17:29.954967",
     "status": "completed"
    },
    "tags": []
   },
   "outputs": [
    {
     "name": "stdout",
     "output_type": "stream",
     "text": [
      "Model saved at dropout_xception_df_model.keras\n",
      "Training history saved at dropout_xception_df_history.pkl\n"
     ]
    }
   ],
   "source": [
    "save_model_and_history(\n",
    "    dropout_xception_df_model, dropout_xception_df_history, \"dropout_xception_df\"\n",
    ")"
   ]
  },
  {
   "cell_type": "markdown",
   "id": "ac3f7dc5",
   "metadata": {
    "papermill": {
     "duration": 5.592487,
     "end_time": "2024-11-05T06:17:47.491562",
     "exception": false,
     "start_time": "2024-11-05T06:17:41.899075",
     "status": "completed"
    },
    "tags": []
   },
   "source": [
    "#### DFDC Dataset"
   ]
  },
  {
   "cell_type": "code",
   "execution_count": 35,
   "id": "dfb55533",
   "metadata": {
    "execution": {
     "iopub.execute_input": "2024-11-05T06:17:58.545265Z",
     "iopub.status.busy": "2024-11-05T06:17:58.544372Z",
     "iopub.status.idle": "2024-11-05T06:17:59.487890Z",
     "shell.execute_reply": "2024-11-05T06:17:59.486808Z"
    },
    "papermill": {
     "duration": 6.507617,
     "end_time": "2024-11-05T06:17:59.489988",
     "exception": false,
     "start_time": "2024-11-05T06:17:52.982371",
     "status": "completed"
    },
    "tags": []
   },
   "outputs": [
    {
     "data": {
      "text/html": [
       "<pre style=\"white-space:pre;overflow-x:auto;line-height:normal;font-family:Menlo,'DejaVu Sans Mono',consolas,'Courier New',monospace\"><span style=\"font-weight: bold\">Model: \"sequential_5\"</span>\n",
       "</pre>\n"
      ],
      "text/plain": [
       "\u001b[1mModel: \"sequential_5\"\u001b[0m\n"
      ]
     },
     "metadata": {},
     "output_type": "display_data"
    },
    {
     "data": {
      "text/html": [
       "<pre style=\"white-space:pre;overflow-x:auto;line-height:normal;font-family:Menlo,'DejaVu Sans Mono',consolas,'Courier New',monospace\">┏━━━━━━━━━━━━━━━━━━━━━━━━━━━━━━━━━┳━━━━━━━━━━━━━━━━━━━━━━━━┳━━━━━━━━━━━━━━━┓\n",
       "┃<span style=\"font-weight: bold\"> Layer (type)                    </span>┃<span style=\"font-weight: bold\"> Output Shape           </span>┃<span style=\"font-weight: bold\">       Param # </span>┃\n",
       "┡━━━━━━━━━━━━━━━━━━━━━━━━━━━━━━━━━╇━━━━━━━━━━━━━━━━━━━━━━━━╇━━━━━━━━━━━━━━━┩\n",
       "│ xception (<span style=\"color: #0087ff; text-decoration-color: #0087ff\">Functional</span>)           │ ?                      │    <span style=\"color: #00af00; text-decoration-color: #00af00\">20,861,480</span> │\n",
       "├─────────────────────────────────┼────────────────────────┼───────────────┤\n",
       "│ flatten_5 (<span style=\"color: #0087ff; text-decoration-color: #0087ff\">Flatten</span>)             │ ?                      │   <span style=\"color: #00af00; text-decoration-color: #00af00\">0</span> (unbuilt) │\n",
       "├─────────────────────────────────┼────────────────────────┼───────────────┤\n",
       "│ dense_25 (<span style=\"color: #0087ff; text-decoration-color: #0087ff\">Dense</span>)                │ ?                      │   <span style=\"color: #00af00; text-decoration-color: #00af00\">0</span> (unbuilt) │\n",
       "├─────────────────────────────────┼────────────────────────┼───────────────┤\n",
       "│ dense_26 (<span style=\"color: #0087ff; text-decoration-color: #0087ff\">Dense</span>)                │ ?                      │   <span style=\"color: #00af00; text-decoration-color: #00af00\">0</span> (unbuilt) │\n",
       "├─────────────────────────────────┼────────────────────────┼───────────────┤\n",
       "│ dense_27 (<span style=\"color: #0087ff; text-decoration-color: #0087ff\">Dense</span>)                │ ?                      │   <span style=\"color: #00af00; text-decoration-color: #00af00\">0</span> (unbuilt) │\n",
       "├─────────────────────────────────┼────────────────────────┼───────────────┤\n",
       "│ dense_28 (<span style=\"color: #0087ff; text-decoration-color: #0087ff\">Dense</span>)                │ ?                      │   <span style=\"color: #00af00; text-decoration-color: #00af00\">0</span> (unbuilt) │\n",
       "├─────────────────────────────────┼────────────────────────┼───────────────┤\n",
       "│ dropout_2 (<span style=\"color: #0087ff; text-decoration-color: #0087ff\">Dropout</span>)             │ ?                      │   <span style=\"color: #00af00; text-decoration-color: #00af00\">0</span> (unbuilt) │\n",
       "├─────────────────────────────────┼────────────────────────┼───────────────┤\n",
       "│ dense_29 (<span style=\"color: #0087ff; text-decoration-color: #0087ff\">Dense</span>)                │ ?                      │   <span style=\"color: #00af00; text-decoration-color: #00af00\">0</span> (unbuilt) │\n",
       "└─────────────────────────────────┴────────────────────────┴───────────────┘\n",
       "</pre>\n"
      ],
      "text/plain": [
       "┏━━━━━━━━━━━━━━━━━━━━━━━━━━━━━━━━━┳━━━━━━━━━━━━━━━━━━━━━━━━┳━━━━━━━━━━━━━━━┓\n",
       "┃\u001b[1m \u001b[0m\u001b[1mLayer (type)                   \u001b[0m\u001b[1m \u001b[0m┃\u001b[1m \u001b[0m\u001b[1mOutput Shape          \u001b[0m\u001b[1m \u001b[0m┃\u001b[1m \u001b[0m\u001b[1m      Param #\u001b[0m\u001b[1m \u001b[0m┃\n",
       "┡━━━━━━━━━━━━━━━━━━━━━━━━━━━━━━━━━╇━━━━━━━━━━━━━━━━━━━━━━━━╇━━━━━━━━━━━━━━━┩\n",
       "│ xception (\u001b[38;5;33mFunctional\u001b[0m)           │ ?                      │    \u001b[38;5;34m20,861,480\u001b[0m │\n",
       "├─────────────────────────────────┼────────────────────────┼───────────────┤\n",
       "│ flatten_5 (\u001b[38;5;33mFlatten\u001b[0m)             │ ?                      │   \u001b[38;5;34m0\u001b[0m (unbuilt) │\n",
       "├─────────────────────────────────┼────────────────────────┼───────────────┤\n",
       "│ dense_25 (\u001b[38;5;33mDense\u001b[0m)                │ ?                      │   \u001b[38;5;34m0\u001b[0m (unbuilt) │\n",
       "├─────────────────────────────────┼────────────────────────┼───────────────┤\n",
       "│ dense_26 (\u001b[38;5;33mDense\u001b[0m)                │ ?                      │   \u001b[38;5;34m0\u001b[0m (unbuilt) │\n",
       "├─────────────────────────────────┼────────────────────────┼───────────────┤\n",
       "│ dense_27 (\u001b[38;5;33mDense\u001b[0m)                │ ?                      │   \u001b[38;5;34m0\u001b[0m (unbuilt) │\n",
       "├─────────────────────────────────┼────────────────────────┼───────────────┤\n",
       "│ dense_28 (\u001b[38;5;33mDense\u001b[0m)                │ ?                      │   \u001b[38;5;34m0\u001b[0m (unbuilt) │\n",
       "├─────────────────────────────────┼────────────────────────┼───────────────┤\n",
       "│ dropout_2 (\u001b[38;5;33mDropout\u001b[0m)             │ ?                      │   \u001b[38;5;34m0\u001b[0m (unbuilt) │\n",
       "├─────────────────────────────────┼────────────────────────┼───────────────┤\n",
       "│ dense_29 (\u001b[38;5;33mDense\u001b[0m)                │ ?                      │   \u001b[38;5;34m0\u001b[0m (unbuilt) │\n",
       "└─────────────────────────────────┴────────────────────────┴───────────────┘\n"
      ]
     },
     "metadata": {},
     "output_type": "display_data"
    },
    {
     "data": {
      "text/html": [
       "<pre style=\"white-space:pre;overflow-x:auto;line-height:normal;font-family:Menlo,'DejaVu Sans Mono',consolas,'Courier New',monospace\"><span style=\"font-weight: bold\"> Total params: </span><span style=\"color: #00af00; text-decoration-color: #00af00\">20,861,480</span> (79.58 MB)\n",
       "</pre>\n"
      ],
      "text/plain": [
       "\u001b[1m Total params: \u001b[0m\u001b[38;5;34m20,861,480\u001b[0m (79.58 MB)\n"
      ]
     },
     "metadata": {},
     "output_type": "display_data"
    },
    {
     "data": {
      "text/html": [
       "<pre style=\"white-space:pre;overflow-x:auto;line-height:normal;font-family:Menlo,'DejaVu Sans Mono',consolas,'Courier New',monospace\"><span style=\"font-weight: bold\"> Trainable params: </span><span style=\"color: #00af00; text-decoration-color: #00af00\">0</span> (0.00 B)\n",
       "</pre>\n"
      ],
      "text/plain": [
       "\u001b[1m Trainable params: \u001b[0m\u001b[38;5;34m0\u001b[0m (0.00 B)\n"
      ]
     },
     "metadata": {},
     "output_type": "display_data"
    },
    {
     "data": {
      "text/html": [
       "<pre style=\"white-space:pre;overflow-x:auto;line-height:normal;font-family:Menlo,'DejaVu Sans Mono',consolas,'Courier New',monospace\"><span style=\"font-weight: bold\"> Non-trainable params: </span><span style=\"color: #00af00; text-decoration-color: #00af00\">20,861,480</span> (79.58 MB)\n",
       "</pre>\n"
      ],
      "text/plain": [
       "\u001b[1m Non-trainable params: \u001b[0m\u001b[38;5;34m20,861,480\u001b[0m (79.58 MB)\n"
      ]
     },
     "metadata": {},
     "output_type": "display_data"
    }
   ],
   "source": [
    "dropout_xception_dfdc_model = create_xception_model(best_hp, dropout=True)\n",
    "dropout_xception_dfdc_model.summary()"
   ]
  },
  {
   "cell_type": "code",
   "execution_count": 36,
   "id": "d69ac65d",
   "metadata": {
    "execution": {
     "iopub.execute_input": "2024-11-05T06:18:10.809339Z",
     "iopub.status.busy": "2024-11-05T06:18:10.808244Z",
     "iopub.status.idle": "2024-11-05T06:45:28.748792Z",
     "shell.execute_reply": "2024-11-05T06:45:28.747984Z"
    },
    "papermill": {
     "duration": 1643.678216,
     "end_time": "2024-11-05T06:45:28.751197",
     "exception": false,
     "start_time": "2024-11-05T06:18:05.072981",
     "status": "completed"
    },
    "tags": []
   },
   "outputs": [
    {
     "name": "stdout",
     "output_type": "stream",
     "text": [
      "Epoch 1/50\n",
      "\u001b[1m438/438\u001b[0m \u001b[32m━━━━━━━━━━━━━━━━━━━━\u001b[0m\u001b[37m\u001b[0m \u001b[1m51s\u001b[0m 97ms/step - accuracy: 0.5688 - loss: 0.6742 - val_accuracy: 0.5370 - val_loss: 0.7000\n",
      "Epoch 2/50\n",
      "\u001b[1m438/438\u001b[0m \u001b[32m━━━━━━━━━━━━━━━━━━━━\u001b[0m\u001b[37m\u001b[0m \u001b[1m56s\u001b[0m 128ms/step - accuracy: 0.7555 - loss: 0.5411 - val_accuracy: 0.5385 - val_loss: 0.7586\n",
      "Epoch 3/50\n",
      "\u001b[1m438/438\u001b[0m \u001b[32m━━━━━━━━━━━━━━━━━━━━\u001b[0m\u001b[37m\u001b[0m \u001b[1m82s\u001b[0m 184ms/step - accuracy: 0.8700 - loss: 0.3570 - val_accuracy: 0.5125 - val_loss: 0.9082\n",
      "Epoch 4/50\n",
      "\u001b[1m438/438\u001b[0m \u001b[32m━━━━━━━━━━━━━━━━━━━━\u001b[0m\u001b[37m\u001b[0m \u001b[1m80s\u001b[0m 180ms/step - accuracy: 0.9246 - loss: 0.2331 - val_accuracy: 0.5230 - val_loss: 1.0384\n",
      "Epoch 5/50\n",
      "\u001b[1m438/438\u001b[0m \u001b[32m━━━━━━━━━━━━━━━━━━━━\u001b[0m\u001b[37m\u001b[0m \u001b[1m75s\u001b[0m 168ms/step - accuracy: 0.9480 - loss: 0.1641 - val_accuracy: 0.5380 - val_loss: 1.0950\n",
      "Epoch 6/50\n",
      "\u001b[1m438/438\u001b[0m \u001b[32m━━━━━━━━━━━━━━━━━━━━\u001b[0m\u001b[37m\u001b[0m \u001b[1m71s\u001b[0m 160ms/step - accuracy: 0.9618 - loss: 0.1252 - val_accuracy: 0.5155 - val_loss: 1.2421\n",
      "Epoch 7/50\n",
      "\u001b[1m438/438\u001b[0m \u001b[32m━━━━━━━━━━━━━━━━━━━━\u001b[0m\u001b[37m\u001b[0m \u001b[1m34s\u001b[0m 76ms/step - accuracy: 0.9735 - loss: 0.0896 - val_accuracy: 0.4910 - val_loss: 1.4765\n",
      "Epoch 8/50\n",
      "\u001b[1m438/438\u001b[0m \u001b[32m━━━━━━━━━━━━━━━━━━━━\u001b[0m\u001b[37m\u001b[0m \u001b[1m26s\u001b[0m 59ms/step - accuracy: 0.9796 - loss: 0.0727 - val_accuracy: 0.5085 - val_loss: 1.6745\n",
      "Epoch 9/50\n",
      "\u001b[1m438/438\u001b[0m \u001b[32m━━━━━━━━━━━━━━━━━━━━\u001b[0m\u001b[37m\u001b[0m \u001b[1m24s\u001b[0m 54ms/step - accuracy: 0.9841 - loss: 0.0588 - val_accuracy: 0.5160 - val_loss: 1.5671\n",
      "Epoch 10/50\n",
      "\u001b[1m438/438\u001b[0m \u001b[32m━━━━━━━━━━━━━━━━━━━━\u001b[0m\u001b[37m\u001b[0m \u001b[1m24s\u001b[0m 54ms/step - accuracy: 0.9868 - loss: 0.0477 - val_accuracy: 0.5130 - val_loss: 1.6797\n",
      "Epoch 11/50\n",
      "\u001b[1m438/438\u001b[0m \u001b[32m━━━━━━━━━━━━━━━━━━━━\u001b[0m\u001b[37m\u001b[0m \u001b[1m26s\u001b[0m 58ms/step - accuracy: 0.9907 - loss: 0.0375 - val_accuracy: 0.5135 - val_loss: 1.6698\n",
      "Epoch 12/50\n",
      "\u001b[1m438/438\u001b[0m \u001b[32m━━━━━━━━━━━━━━━━━━━━\u001b[0m\u001b[37m\u001b[0m \u001b[1m40s\u001b[0m 55ms/step - accuracy: 0.9923 - loss: 0.0302 - val_accuracy: 0.5075 - val_loss: 1.8687\n",
      "Epoch 13/50\n",
      "\u001b[1m438/438\u001b[0m \u001b[32m━━━━━━━━━━━━━━━━━━━━\u001b[0m\u001b[37m\u001b[0m \u001b[1m25s\u001b[0m 55ms/step - accuracy: 0.9951 - loss: 0.0236 - val_accuracy: 0.5005 - val_loss: 2.0574\n",
      "Epoch 14/50\n",
      "\u001b[1m438/438\u001b[0m \u001b[32m━━━━━━━━━━━━━━━━━━━━\u001b[0m\u001b[37m\u001b[0m \u001b[1m28s\u001b[0m 63ms/step - accuracy: 0.9945 - loss: 0.0216 - val_accuracy: 0.5095 - val_loss: 2.0876\n",
      "Epoch 15/50\n",
      "\u001b[1m438/438\u001b[0m \u001b[32m━━━━━━━━━━━━━━━━━━━━\u001b[0m\u001b[37m\u001b[0m \u001b[1m35s\u001b[0m 77ms/step - accuracy: 0.9966 - loss: 0.0169 - val_accuracy: 0.5055 - val_loss: 2.4287\n",
      "Epoch 16/50\n",
      "\u001b[1m438/438\u001b[0m \u001b[32m━━━━━━━━━━━━━━━━━━━━\u001b[0m\u001b[37m\u001b[0m \u001b[1m23s\u001b[0m 53ms/step - accuracy: 0.9949 - loss: 0.0188 - val_accuracy: 0.5345 - val_loss: 2.0395\n",
      "Epoch 17/50\n",
      "\u001b[1m438/438\u001b[0m \u001b[32m━━━━━━━━━━━━━━━━━━━━\u001b[0m\u001b[37m\u001b[0m \u001b[1m24s\u001b[0m 55ms/step - accuracy: 0.9967 - loss: 0.0150 - val_accuracy: 0.5385 - val_loss: 2.1385\n",
      "Epoch 18/50\n",
      "\u001b[1m438/438\u001b[0m \u001b[32m━━━━━━━━━━━━━━━━━━━━\u001b[0m\u001b[37m\u001b[0m \u001b[1m41s\u001b[0m 55ms/step - accuracy: 0.9984 - loss: 0.0101 - val_accuracy: 0.5250 - val_loss: 2.3837\n",
      "Epoch 19/50\n",
      "\u001b[1m438/438\u001b[0m \u001b[32m━━━━━━━━━━━━━━━━━━━━\u001b[0m\u001b[37m\u001b[0m \u001b[1m23s\u001b[0m 53ms/step - accuracy: 0.9976 - loss: 0.0116 - val_accuracy: 0.5090 - val_loss: 2.3702\n",
      "Epoch 20/50\n",
      "\u001b[1m438/438\u001b[0m \u001b[32m━━━━━━━━━━━━━━━━━━━━\u001b[0m\u001b[37m\u001b[0m \u001b[1m22s\u001b[0m 49ms/step - accuracy: 0.9984 - loss: 0.0091 - val_accuracy: 0.5005 - val_loss: 2.7100\n",
      "Epoch 21/50\n",
      "\u001b[1m438/438\u001b[0m \u001b[32m━━━━━━━━━━━━━━━━━━━━\u001b[0m\u001b[37m\u001b[0m \u001b[1m22s\u001b[0m 50ms/step - accuracy: 0.9981 - loss: 0.0087 - val_accuracy: 0.5090 - val_loss: 2.8250\n",
      "Epoch 22/50\n",
      "\u001b[1m438/438\u001b[0m \u001b[32m━━━━━━━━━━━━━━━━━━━━\u001b[0m\u001b[37m\u001b[0m \u001b[1m25s\u001b[0m 57ms/step - accuracy: 0.9989 - loss: 0.0056 - val_accuracy: 0.4980 - val_loss: 2.9174\n",
      "Epoch 23/50\n",
      "\u001b[1m438/438\u001b[0m \u001b[32m━━━━━━━━━━━━━━━━━━━━\u001b[0m\u001b[37m\u001b[0m \u001b[1m54s\u001b[0m 121ms/step - accuracy: 0.9996 - loss: 0.0047 - val_accuracy: 0.5100 - val_loss: 2.4994\n",
      "Epoch 24/50\n",
      "\u001b[1m438/438\u001b[0m \u001b[32m━━━━━━━━━━━━━━━━━━━━\u001b[0m\u001b[37m\u001b[0m \u001b[1m40s\u001b[0m 90ms/step - accuracy: 0.9995 - loss: 0.0048 - val_accuracy: 0.5220 - val_loss: 2.6773\n",
      "Epoch 25/50\n",
      "\u001b[1m438/438\u001b[0m \u001b[32m━━━━━━━━━━━━━━━━━━━━\u001b[0m\u001b[37m\u001b[0m \u001b[1m28s\u001b[0m 64ms/step - accuracy: 0.9966 - loss: 0.0092 - val_accuracy: 0.5060 - val_loss: 2.9500\n",
      "Epoch 26/50\n",
      "\u001b[1m438/438\u001b[0m \u001b[32m━━━━━━━━━━━━━━━━━━━━\u001b[0m\u001b[37m\u001b[0m \u001b[1m39s\u001b[0m 60ms/step - accuracy: 0.9997 - loss: 0.0028 - val_accuracy: 0.5105 - val_loss: 2.8055\n",
      "Epoch 27/50\n",
      "\u001b[1m438/438\u001b[0m \u001b[32m━━━━━━━━━━━━━━━━━━━━\u001b[0m\u001b[37m\u001b[0m \u001b[1m21s\u001b[0m 48ms/step - accuracy: 1.0000 - loss: 0.0021 - val_accuracy: 0.5115 - val_loss: 3.2328\n",
      "Epoch 28/50\n",
      "\u001b[1m438/438\u001b[0m \u001b[32m━━━━━━━━━━━━━━━━━━━━\u001b[0m\u001b[37m\u001b[0m \u001b[1m22s\u001b[0m 48ms/step - accuracy: 0.9993 - loss: 0.0031 - val_accuracy: 0.5355 - val_loss: 2.5970\n",
      "Epoch 29/50\n",
      "\u001b[1m438/438\u001b[0m \u001b[32m━━━━━━━━━━━━━━━━━━━━\u001b[0m\u001b[37m\u001b[0m \u001b[1m22s\u001b[0m 49ms/step - accuracy: 0.9966 - loss: 0.0113 - val_accuracy: 0.5315 - val_loss: 2.8269\n",
      "Epoch 30/50\n",
      "\u001b[1m438/438\u001b[0m \u001b[32m━━━━━━━━━━━━━━━━━━━━\u001b[0m\u001b[37m\u001b[0m \u001b[1m21s\u001b[0m 47ms/step - accuracy: 0.9996 - loss: 0.0030 - val_accuracy: 0.5170 - val_loss: 2.8833\n",
      "Epoch 31/50\n",
      "\u001b[1m438/438\u001b[0m \u001b[32m━━━━━━━━━━━━━━━━━━━━\u001b[0m\u001b[37m\u001b[0m \u001b[1m23s\u001b[0m 51ms/step - accuracy: 1.0000 - loss: 0.0016 - val_accuracy: 0.5230 - val_loss: 3.0869\n",
      "Epoch 32/50\n",
      "\u001b[1m438/438\u001b[0m \u001b[32m━━━━━━━━━━━━━━━━━━━━\u001b[0m\u001b[37m\u001b[0m \u001b[1m24s\u001b[0m 53ms/step - accuracy: 0.9994 - loss: 0.0039 - val_accuracy: 0.5200 - val_loss: 2.6931\n",
      "Epoch 33/50\n",
      "\u001b[1m438/438\u001b[0m \u001b[32m━━━━━━━━━━━━━━━━━━━━\u001b[0m\u001b[37m\u001b[0m \u001b[1m23s\u001b[0m 52ms/step - accuracy: 0.9996 - loss: 0.0028 - val_accuracy: 0.5260 - val_loss: 3.4819\n",
      "Epoch 34/50\n",
      "\u001b[1m438/438\u001b[0m \u001b[32m━━━━━━━━━━━━━━━━━━━━\u001b[0m\u001b[37m\u001b[0m \u001b[1m25s\u001b[0m 55ms/step - accuracy: 1.0000 - loss: 0.0019 - val_accuracy: 0.5215 - val_loss: 3.0045\n",
      "Epoch 35/50\n",
      "\u001b[1m438/438\u001b[0m \u001b[32m━━━━━━━━━━━━━━━━━━━━\u001b[0m\u001b[37m\u001b[0m \u001b[1m22s\u001b[0m 50ms/step - accuracy: 1.0000 - loss: 8.7603e-04 - val_accuracy: 0.5175 - val_loss: 3.0308\n",
      "Epoch 36/50\n",
      "\u001b[1m438/438\u001b[0m \u001b[32m━━━━━━━━━━━━━━━━━━━━\u001b[0m\u001b[37m\u001b[0m \u001b[1m24s\u001b[0m 54ms/step - accuracy: 1.0000 - loss: 7.9118e-04 - val_accuracy: 0.5155 - val_loss: 3.1574\n",
      "Epoch 37/50\n",
      "\u001b[1m438/438\u001b[0m \u001b[32m━━━━━━━━━━━━━━━━━━━━\u001b[0m\u001b[37m\u001b[0m \u001b[1m26s\u001b[0m 58ms/step - accuracy: 1.0000 - loss: 6.2900e-04 - val_accuracy: 0.5240 - val_loss: 3.2467\n",
      "Epoch 38/50\n",
      "\u001b[1m438/438\u001b[0m \u001b[32m━━━━━━━━━━━━━━━━━━━━\u001b[0m\u001b[37m\u001b[0m \u001b[1m20s\u001b[0m 46ms/step - accuracy: 1.0000 - loss: 8.2449e-04 - val_accuracy: 0.5220 - val_loss: 3.1538\n",
      "Epoch 39/50\n",
      "\u001b[1m438/438\u001b[0m \u001b[32m━━━━━━━━━━━━━━━━━━━━\u001b[0m\u001b[37m\u001b[0m \u001b[1m22s\u001b[0m 50ms/step - accuracy: 0.9999 - loss: 9.6645e-04 - val_accuracy: 0.5515 - val_loss: 3.2403\n",
      "Epoch 40/50\n",
      "\u001b[1m438/438\u001b[0m \u001b[32m━━━━━━━━━━━━━━━━━━━━\u001b[0m\u001b[37m\u001b[0m \u001b[1m22s\u001b[0m 50ms/step - accuracy: 0.9954 - loss: 0.0102 - val_accuracy: 0.5160 - val_loss: 3.2870\n",
      "Epoch 41/50\n",
      "\u001b[1m438/438\u001b[0m \u001b[32m━━━━━━━━━━━━━━━━━━━━\u001b[0m\u001b[37m\u001b[0m \u001b[1m28s\u001b[0m 64ms/step - accuracy: 1.0000 - loss: 6.9473e-04 - val_accuracy: 0.5280 - val_loss: 3.2343\n",
      "Epoch 42/50\n",
      "\u001b[1m438/438\u001b[0m \u001b[32m━━━━━━━━━━━━━━━━━━━━\u001b[0m\u001b[37m\u001b[0m \u001b[1m22s\u001b[0m 49ms/step - accuracy: 0.9983 - loss: 0.0059 - val_accuracy: 0.5410 - val_loss: 3.0321\n",
      "Epoch 43/50\n",
      "\u001b[1m438/438\u001b[0m \u001b[32m━━━━━━━━━━━━━━━━━━━━\u001b[0m\u001b[37m\u001b[0m \u001b[1m22s\u001b[0m 49ms/step - accuracy: 0.9985 - loss: 0.0045 - val_accuracy: 0.5235 - val_loss: 3.5532\n",
      "Epoch 44/50\n",
      "\u001b[1m438/438\u001b[0m \u001b[32m━━━━━━━━━━━━━━━━━━━━\u001b[0m\u001b[37m\u001b[0m \u001b[1m23s\u001b[0m 53ms/step - accuracy: 1.0000 - loss: 6.9566e-04 - val_accuracy: 0.5250 - val_loss: 3.3914\n",
      "Epoch 45/50\n",
      "\u001b[1m438/438\u001b[0m \u001b[32m━━━━━━━━━━━━━━━━━━━━\u001b[0m\u001b[37m\u001b[0m \u001b[1m41s\u001b[0m 53ms/step - accuracy: 1.0000 - loss: 5.0870e-04 - val_accuracy: 0.5245 - val_loss: 3.3628\n",
      "Epoch 46/50\n",
      "\u001b[1m438/438\u001b[0m \u001b[32m━━━━━━━━━━━━━━━━━━━━\u001b[0m\u001b[37m\u001b[0m \u001b[1m22s\u001b[0m 49ms/step - accuracy: 1.0000 - loss: 4.2058e-04 - val_accuracy: 0.5240 - val_loss: 3.3710\n",
      "Epoch 47/50\n",
      "\u001b[1m438/438\u001b[0m \u001b[32m━━━━━━━━━━━━━━━━━━━━\u001b[0m\u001b[37m\u001b[0m \u001b[1m43s\u001b[0m 55ms/step - accuracy: 1.0000 - loss: 3.8834e-04 - val_accuracy: 0.5205 - val_loss: 3.4239\n",
      "Epoch 48/50\n",
      "\u001b[1m438/438\u001b[0m \u001b[32m━━━━━━━━━━━━━━━━━━━━\u001b[0m\u001b[37m\u001b[0m \u001b[1m39s\u001b[0m 47ms/step - accuracy: 1.0000 - loss: 3.4347e-04 - val_accuracy: 0.5220 - val_loss: 3.5117\n",
      "Epoch 49/50\n",
      "\u001b[1m438/438\u001b[0m \u001b[32m━━━━━━━━━━━━━━━━━━━━\u001b[0m\u001b[37m\u001b[0m \u001b[1m21s\u001b[0m 47ms/step - accuracy: 1.0000 - loss: 3.0607e-04 - val_accuracy: 0.5220 - val_loss: 3.4596\n",
      "Epoch 50/50\n",
      "\u001b[1m438/438\u001b[0m \u001b[32m━━━━━━━━━━━━━━━━━━━━\u001b[0m\u001b[37m\u001b[0m \u001b[1m41s\u001b[0m 46ms/step - accuracy: 1.0000 - loss: 2.8401e-04 - val_accuracy: 0.5220 - val_loss: 3.6132\n"
     ]
    }
   ],
   "source": [
    "dropout_xception_dfdc_history = dropout_xception_dfdc_model.fit(\n",
    "    dfdc_train_generator, validation_data=dfdc_val_generator, epochs=NUM_EPOCHS\n",
    ")"
   ]
  },
  {
   "cell_type": "code",
   "execution_count": 37,
   "id": "5395f0e9",
   "metadata": {
    "execution": {
     "iopub.execute_input": "2024-11-05T06:45:42.225787Z",
     "iopub.status.busy": "2024-11-05T06:45:42.224923Z",
     "iopub.status.idle": "2024-11-05T06:45:42.625880Z",
     "shell.execute_reply": "2024-11-05T06:45:42.624819Z"
    },
    "papermill": {
     "duration": 7.115538,
     "end_time": "2024-11-05T06:45:42.631280",
     "exception": false,
     "start_time": "2024-11-05T06:45:35.515742",
     "status": "completed"
    },
    "tags": []
   },
   "outputs": [
    {
     "data": {
      "image/png": "[encoded data removed]",
      "text/plain": [
       "<Figure size 1200x400 with 2 Axes>"
      ]
     },
     "metadata": {},
     "output_type": "display_data"
    }
   ],
   "source": [
    "plot_train_result(\n",
    "    dropout_xception_dfdc_history.history,\n",
    "    title=\"Dropout Xception Model on DFDC Dataset\"\n",
    ")"
   ]
  },
  {
   "cell_type": "code",
   "execution_count": 38,
   "id": "ca2ccea7",
   "metadata": {
    "execution": {
     "iopub.execute_input": "2024-11-05T06:45:56.342651Z",
     "iopub.status.busy": "2024-11-05T06:45:56.341956Z",
     "iopub.status.idle": "2024-11-05T06:45:56.954394Z",
     "shell.execute_reply": "2024-11-05T06:45:56.953373Z"
    },
    "papermill": {
     "duration": 7.367036,
     "end_time": "2024-11-05T06:45:56.956659",
     "exception": false,
     "start_time": "2024-11-05T06:45:49.589623",
     "status": "completed"
    },
    "tags": []
   },
   "outputs": [
    {
     "name": "stdout",
     "output_type": "stream",
     "text": [
      "Model saved at dropout_xception_dfdc_model.keras\n",
      "Training history saved at dropout_xception_dfdc_history.pkl\n"
     ]
    }
   ],
   "source": [
    "save_model_and_history(\n",
    "    dropout_xception_dfdc_model, dropout_xception_dfdc_history, \"dropout_xception_dfdc\"\n",
    ")"
   ]
  }
 ],
 "metadata": {
  "kaggle": {
   "accelerator": "gpu",
   "dataSources": [
    {
     "datasetId": 6006079,
     "sourceId": 9800008,
     "sourceType": "datasetVersion"
    },
    {
     "sourceId": 205168888,
     "sourceType": "kernelVersion"
    }
   ],
   "dockerImageVersionId": 30786,
   "isGpuEnabled": true,
   "isInternetEnabled": true,
   "language": "python",
   "sourceType": "notebook"
  },
  "kernelspec": {
   "display_name": "Python 3",
   "language": "python",
   "name": "python3"
  },
  "language_info": {
   "codemirror_mode": {
    "name": "ipython",
    "version": 3
   },
   "file_extension": ".py",
   "mimetype": "text/x-python",
   "name": "python",
   "nbconvert_exporter": "python",
   "pygments_lexer": "ipython3",
   "version": "3.10.14"
  },
  "papermill": {
   "default_parameters": {},
   "duration": 8554.907906,
   "end_time": "2024-11-05T06:46:07.432776",
   "environment_variables": {},
   "exception": null,
   "input_path": "__notebook__.ipynb",
   "output_path": "__notebook__.ipynb",
   "parameters": {},
   "start_time": "2024-11-05T04:23:32.524870",
   "version": "2.6.0"
  }
 },
 "nbformat": 4,
 "nbformat_minor": 5
}
